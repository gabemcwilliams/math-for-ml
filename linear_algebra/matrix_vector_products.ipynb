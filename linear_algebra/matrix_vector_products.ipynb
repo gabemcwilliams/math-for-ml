{
 "cells": [
  {
   "metadata": {
    "ExecuteTime": {
     "end_time": "2025-04-19T01:08:53.144127Z",
     "start_time": "2025-04-19T01:08:52.439243Z"
    }
   },
   "cell_type": "code",
   "source": [
    "import re\n",
    "import numpy as np\n",
    "import scipy as sp\n",
    "import sympy as sym\n",
    "from IPython.display import display, Math, Latex\n",
    "import math\n",
    "import matplotlib.pyplot as plt"
   ],
   "id": "4d584e7d4a36040d",
   "outputs": [],
   "execution_count": 2
  },
  {
   "metadata": {},
   "cell_type": "markdown",
   "source": [
    "# Multiplying Matrices by Vectors\n",
    "***"
   ],
   "id": "4b0400e68589ce91"
  },
  {
   "metadata": {
    "ExecuteTime": {
     "end_time": "2025-04-19T01:08:53.157467Z",
     "start_time": "2025-04-19T01:08:53.154324Z"
    }
   },
   "cell_type": "code",
   "source": [
    "a = np.array([[1, 0], [-2, 4], [0, 1]])\n",
    "print(a.shape)\n",
    "print(a)"
   ],
   "id": "1cb79d58e1784ea3",
   "outputs": [
    {
     "name": "stdout",
     "output_type": "stream",
     "text": [
      "(3, 2)\n",
      "[[ 1  0]\n",
      " [-2  4]\n",
      " [ 0  1]]\n"
     ]
    }
   ],
   "execution_count": 3
  },
  {
   "metadata": {
    "ExecuteTime": {
     "end_time": "2025-04-19T01:08:53.204769Z",
     "start_time": "2025-04-19T01:08:53.201084Z"
    }
   },
   "cell_type": "code",
   "source": [
    "b = np.array([[5], [-1]])\n",
    "print(b.shape)\n",
    "print(b)"
   ],
   "id": "54a4cdafabcbd0cf",
   "outputs": [
    {
     "name": "stdout",
     "output_type": "stream",
     "text": [
      "(2, 1)\n",
      "[[ 5]\n",
      " [-1]]\n"
     ]
    }
   ],
   "execution_count": 4
  },
  {
   "metadata": {
    "ExecuteTime": {
     "end_time": "2025-04-19T01:08:53.242746Z",
     "start_time": "2025-04-19T01:08:53.238257Z"
    }
   },
   "cell_type": "code",
   "source": "a @ b",
   "id": "e80423a6f6fae86b",
   "outputs": [
    {
     "data": {
      "text/plain": [
       "array([[  5],\n",
       "       [-14],\n",
       "       [ -1]])"
      ]
     },
     "execution_count": 5,
     "metadata": {},
     "output_type": "execute_result"
    }
   ],
   "execution_count": 5
  },
  {
   "metadata": {
    "ExecuteTime": {
     "end_time": "2025-04-19T01:08:53.285565Z",
     "start_time": "2025-04-19T01:08:53.282734Z"
    }
   },
   "cell_type": "code",
   "source": [
    "ab = np.array([\n",
    "    [(a[0][0] * b[0][0]) + (a[0][1] * b[1][0])],\n",
    "    [(a[1][0] * b[0][0]) + (a[1][1] * b[1][0])],\n",
    "    [(a[2][0] * b[0][0]) + (a[2][1] * b[1][0])]\n",
    "])"
   ],
   "id": "3e7a80b3b6fde8c6",
   "outputs": [],
   "execution_count": 6
  },
  {
   "metadata": {
    "ExecuteTime": {
     "end_time": "2025-04-19T01:08:53.648007Z",
     "start_time": "2025-04-19T01:08:53.645011Z"
    }
   },
   "cell_type": "code",
   "source": "ab",
   "id": "1d00a57ef7b11101",
   "outputs": [
    {
     "data": {
      "text/plain": [
       "array([[  5],\n",
       "       [-14],\n",
       "       [ -1]])"
      ]
     },
     "execution_count": 7,
     "metadata": {},
     "output_type": "execute_result"
    }
   ],
   "execution_count": 7
  },
  {
   "metadata": {
    "ExecuteTime": {
     "end_time": "2025-04-19T01:08:54.030600Z",
     "start_time": "2025-04-19T01:08:54.027248Z"
    }
   },
   "cell_type": "code",
   "source": "(a[0][1] * b[1])",
   "id": "7259b98dc175309b",
   "outputs": [
    {
     "data": {
      "text/plain": [
       "array([0])"
      ]
     },
     "execution_count": 8,
     "metadata": {},
     "output_type": "execute_result"
    }
   ],
   "execution_count": 8
  },
  {
   "metadata": {},
   "cell_type": "markdown",
   "source": [
    "# Null Space and Ax=0\n",
    "***\n",
    "Null space is a subspace of a vector space.\n",
    "1. Includes the zero vector.\n",
    "2. Closed under addition\n",
    "3. Closed under scalar multiplication\n"
   ],
   "id": "e2138a73fbef998e"
  },
  {
   "metadata": {
    "ExecuteTime": {
     "end_time": "2025-04-19T01:08:54.247154Z",
     "start_time": "2025-04-19T01:08:54.243014Z"
    }
   },
   "cell_type": "code",
   "source": [
    "display(Math(\n",
    "    r'\\overrightarrow{X} \\space that \\space satisfies \\space A\\overrightarrow{X} = \\overrightarrow{0} \\space is \\space in \\space the \\space null \\space space \\space N(A)'))"
   ],
   "id": "68a9111257c4fd07",
   "outputs": [
    {
     "data": {
      "text/plain": [
       "<IPython.core.display.Math object>"
      ],
      "text/latex": "$\\displaystyle \\overrightarrow{X} \\space that \\space satisfies \\space A\\overrightarrow{X} = \\overrightarrow{0} \\space is \\space in \\space the \\space null \\space space \\space N(A)$"
     },
     "metadata": {},
     "output_type": "display_data"
    }
   ],
   "execution_count": 9
  },
  {
   "metadata": {
    "ExecuteTime": {
     "end_time": "2025-04-19T01:08:54.343294Z",
     "start_time": "2025-04-19T01:08:54.339749Z"
    }
   },
   "cell_type": "code",
   "source": [
    "A = np.array([\n",
    "    [1, -4, 3],\n",
    "    [2, 4, 2],\n",
    "    [-1, -5, 0]\n",
    "])\n",
    "\n",
    "x = np.array([-5, 1, 3])"
   ],
   "id": "aab098e805f1204e",
   "outputs": [],
   "execution_count": 10
  },
  {
   "metadata": {
    "ExecuteTime": {
     "end_time": "2025-04-19T01:08:54.373398Z",
     "start_time": "2025-04-19T01:08:54.371072Z"
    }
   },
   "cell_type": "code",
   "source": "O = A * x",
   "id": "69017fc45cbb5e5b",
   "outputs": [],
   "execution_count": 11
  },
  {
   "metadata": {
    "ExecuteTime": {
     "end_time": "2025-04-19T01:08:54.461950Z",
     "start_time": "2025-04-19T01:08:54.458965Z"
    }
   },
   "cell_type": "code",
   "source": "O.sum()",
   "id": "8d6b442b1ecb045d",
   "outputs": [
    {
     "data": {
      "text/plain": [
       "0"
      ]
     },
     "execution_count": 12,
     "metadata": {},
     "output_type": "execute_result"
    }
   ],
   "execution_count": 12
  },
  {
   "metadata": {
    "ExecuteTime": {
     "end_time": "2025-04-19T01:08:54.530285Z",
     "start_time": "2025-04-19T01:08:54.527650Z"
    }
   },
   "cell_type": "code",
   "source": [
    "A = np.array([\n",
    "    [-3, 1, 9],\n",
    "    [1, 1, 1]\n",
    "])"
   ],
   "id": "3684b3d7d8f2e1d5",
   "outputs": [],
   "execution_count": 13
  },
  {
   "metadata": {
    "ExecuteTime": {
     "end_time": "2025-04-19T01:08:54.567356Z",
     "start_time": "2025-04-19T01:08:54.563557Z"
    }
   },
   "cell_type": "code",
   "source": "(A * np.array([2, -3, 1])).sum()",
   "id": "6b8e46480d6ed58e",
   "outputs": [
    {
     "data": {
      "text/plain": [
       "0"
      ]
     },
     "execution_count": 14,
     "metadata": {},
     "output_type": "execute_result"
    }
   ],
   "execution_count": 14
  },
  {
   "metadata": {
    "ExecuteTime": {
     "end_time": "2025-04-19T01:08:54.632937Z",
     "start_time": "2025-04-19T01:08:54.630452Z"
    }
   },
   "cell_type": "code",
   "source": [
    "A = np.array([\n",
    "    [5, 3, 1, 5],\n",
    "    [-10, -2, 1, -3],\n",
    "    [-5, 1, 2, 4],\n",
    "    [7, 1, -1, -2]\n",
    "])"
   ],
   "id": "c05ef2ec1573d8a3",
   "outputs": [],
   "execution_count": 15
  },
  {
   "metadata": {
    "ExecuteTime": {
     "end_time": "2025-04-19T01:08:54.659854Z",
     "start_time": "2025-04-19T01:08:54.656261Z"
    }
   },
   "cell_type": "code",
   "source": "(A * np.array([-1, 3, -4, 0])).sum()",
   "id": "4ea4b1b968d08da5",
   "outputs": [
    {
     "data": {
      "text/plain": [
       "0"
      ]
     },
     "execution_count": 16,
     "metadata": {},
     "output_type": "execute_result"
    }
   ],
   "execution_count": 16
  },
  {
   "metadata": {},
   "cell_type": "markdown",
   "source": [
    "# Null Space of a Matrix\n",
    "***"
   ],
   "id": "d680c27dd7f30982"
  },
  {
   "metadata": {
    "ExecuteTime": {
     "end_time": "2025-04-19T01:08:54.695597Z",
     "start_time": "2025-04-19T01:08:54.692548Z"
    }
   },
   "cell_type": "code",
   "source": [
    "A = np.array([\n",
    "    [2, 0, -1, 2],\n",
    "    [-4, 0, 2, -4],\n",
    "    [-6, 0, -3, -6],\n",
    "\n",
    "], dtype=np.float64)"
   ],
   "id": "a19cc889dc5e98c2",
   "outputs": [],
   "execution_count": 17
  },
  {
   "metadata": {
    "ExecuteTime": {
     "end_time": "2025-04-19T01:08:54.735221Z",
     "start_time": "2025-04-19T01:08:54.732452Z"
    }
   },
   "cell_type": "code",
   "source": "# Put in RREF",
   "id": "ac5260be810abfb1",
   "outputs": [],
   "execution_count": 18
  },
  {
   "metadata": {
    "ExecuteTime": {
     "end_time": "2025-04-19T01:08:54.762858Z",
     "start_time": "2025-04-19T01:08:54.758737Z"
    }
   },
   "cell_type": "code",
   "source": [
    "# step 1\n",
    "A_1 = A.copy()\n",
    "A_1[0][:] = A_1[0][:] / 2\n",
    "A_1"
   ],
   "id": "48b2d9787c774af2",
   "outputs": [
    {
     "data": {
      "text/plain": [
       "array([[ 1. ,  0. , -0.5,  1. ],\n",
       "       [-4. ,  0. ,  2. , -4. ],\n",
       "       [-6. ,  0. , -3. , -6. ]])"
      ]
     },
     "execution_count": 19,
     "metadata": {},
     "output_type": "execute_result"
    }
   ],
   "execution_count": 19
  },
  {
   "metadata": {
    "ExecuteTime": {
     "end_time": "2025-04-19T01:08:54.818103Z",
     "start_time": "2025-04-19T01:08:54.812480Z"
    }
   },
   "cell_type": "code",
   "source": [
    "# step 2\n",
    "A_2 = A_1.copy()\n",
    "A_2[1][:] = A_2[1][:] * (1 / 4)\n",
    "A_2[1][:] = A_2[1][:] + A_1[0][:]\n",
    "A_2"
   ],
   "id": "43ce55d9e1db63d",
   "outputs": [
    {
     "data": {
      "text/plain": [
       "array([[ 1. ,  0. , -0.5,  1. ],\n",
       "       [ 0. ,  0. ,  0. ,  0. ],\n",
       "       [-6. ,  0. , -3. , -6. ]])"
      ]
     },
     "execution_count": 20,
     "metadata": {},
     "output_type": "execute_result"
    }
   ],
   "execution_count": 20
  },
  {
   "metadata": {
    "ExecuteTime": {
     "end_time": "2025-04-19T01:08:54.952284Z",
     "start_time": "2025-04-19T01:08:54.948028Z"
    }
   },
   "cell_type": "code",
   "source": [
    "# step 3\n",
    "A_3 = A_2.copy()\n",
    "A_3[2][:] = A_3[2][:] * (1 / 6)\n",
    "A_3[2][:] = A_3[2][:] + A_2[0][:]\n",
    "A_3"
   ],
   "id": "94eb3b23a10962ce",
   "outputs": [
    {
     "data": {
      "text/plain": [
       "array([[ 1. ,  0. , -0.5,  1. ],\n",
       "       [ 0. ,  0. ,  0. ,  0. ],\n",
       "       [ 0. ,  0. , -1. ,  0. ]])"
      ]
     },
     "execution_count": 21,
     "metadata": {},
     "output_type": "execute_result"
    }
   ],
   "execution_count": 21
  },
  {
   "metadata": {
    "ExecuteTime": {
     "end_time": "2025-04-19T01:08:55.210290Z",
     "start_time": "2025-04-19T01:08:55.206391Z"
    }
   },
   "cell_type": "code",
   "source": [
    "# step 4\n",
    "A_4 = A_3.copy()\n",
    "A_4[2][:] = A_4[2][:] * (1 / 2)\n",
    "A_4[0][:] = A_4[0][:] - A_4[2][:]\n",
    "A_4[2][:] = abs(A_4[2][:] * -2)\n",
    "A_4"
   ],
   "id": "c5473b78c64e0a00",
   "outputs": [
    {
     "data": {
      "text/plain": [
       "array([[1., 0., 0., 1.],\n",
       "       [0., 0., 0., 0.],\n",
       "       [0., 0., 1., 0.]])"
      ]
     },
     "execution_count": 22,
     "metadata": {},
     "output_type": "execute_result"
    }
   ],
   "execution_count": 22
  },
  {
   "metadata": {
    "ExecuteTime": {
     "end_time": "2025-04-19T01:08:55.352382Z",
     "start_time": "2025-04-19T01:08:55.348386Z"
    }
   },
   "cell_type": "code",
   "source": [
    "# step 5\n",
    "A_5 = A_4.copy()\n",
    "A_5[[2, 1], :] = A_5[[1, 2], :]\n",
    "A_5"
   ],
   "id": "1e5627e97fc9b761",
   "outputs": [
    {
     "data": {
      "text/plain": [
       "array([[1., 0., 0., 1.],\n",
       "       [0., 0., 1., 0.],\n",
       "       [0., 0., 0., 0.]])"
      ]
     },
     "execution_count": 23,
     "metadata": {},
     "output_type": "execute_result"
    }
   ],
   "execution_count": 23
  },
  {
   "metadata": {
    "ExecuteTime": {
     "end_time": "2025-04-19T01:08:55.503166Z",
     "start_time": "2025-04-19T01:08:55.500040Z"
    }
   },
   "cell_type": "code",
   "source": [
    "# Question 1\n",
    "# Find the null space of A\n",
    "\n",
    "A = np.array([\n",
    "    [1, -1, -2],\n",
    "    [0, -1, 4],\n",
    "    [6, -6, -12],\n",
    "])"
   ],
   "id": "ba6a79bd87508c9a",
   "outputs": [],
   "execution_count": 24
  },
  {
   "metadata": {
    "ExecuteTime": {
     "end_time": "2025-04-19T01:08:55.715746Z",
     "start_time": "2025-04-19T01:08:55.711900Z"
    }
   },
   "cell_type": "code",
   "source": [
    "A_1 = A.copy()\n",
    "A_1[2][:] = A_1[2][:] / 6\n",
    "\n",
    "A_1[0][:] = A_1[0][:] - A_1[1][:]\n",
    "A_1[1][:] = A_1[1][:] * -1\n",
    "A_1[2][:] = A_1[2][:] - A_1[0][:]\n",
    "A_1[2][:] = A_1[1][:] + A_1[2][:]\n",
    "# A_1[0][:] = A_1[0][:] - A_1[1][:]\n",
    "# A_1[1][:] = A_1[1][:] * (1/2)\n",
    "A_1"
   ],
   "id": "d720174abc68a995",
   "outputs": [
    {
     "data": {
      "text/plain": [
       "array([[ 1,  0, -6],\n",
       "       [ 0,  1, -4],\n",
       "       [ 0,  0,  0]])"
      ]
     },
     "execution_count": 25,
     "metadata": {},
     "output_type": "execute_result"
    }
   ],
   "execution_count": 25
  },
  {
   "metadata": {},
   "cell_type": "markdown",
   "source": "# Column Space and Ax=b",
   "id": "5ba7cc67fd00d226"
  },
  {
   "metadata": {
    "ExecuteTime": {
     "end_time": "2025-04-19T01:08:55.917418Z",
     "start_time": "2025-04-19T01:08:55.913927Z"
    }
   },
   "cell_type": "code",
   "source": "display(Math(r'The \\space column \\space space \\space and \\space A\\overrightarrow{x} = \\overrightarrow{b}'))",
   "id": "e88077f139d7afff",
   "outputs": [
    {
     "data": {
      "text/plain": [
       "<IPython.core.display.Math object>"
      ],
      "text/latex": "$\\displaystyle The \\space column \\space space \\space and \\space A\\overrightarrow{x} = \\overrightarrow{b}$"
     },
     "metadata": {},
     "output_type": "display_data"
    }
   ],
   "execution_count": 26
  },
  {
   "metadata": {
    "ExecuteTime": {
     "end_time": "2025-04-19T01:08:56.005286Z",
     "start_time": "2025-04-19T01:08:56.000955Z"
    }
   },
   "cell_type": "code",
   "source": [
    "display(Math(r'N(A) is the \\space NULL \\space space \\space of \\space A = A\\overrightarrow{x} = \\overrightarrow{0}'))\n",
    "display(Math(\n",
    "    r'C(A) \\space is \\space the \\space COLUMN \\space space \\space of \\space of A = linear \\space combination \\space of \\space the \\space columns \\space of \\space A'))"
   ],
   "id": "d317008366703fe3",
   "outputs": [
    {
     "data": {
      "text/plain": [
       "<IPython.core.display.Math object>"
      ],
      "text/latex": "$\\displaystyle N(A) is the \\space NULL \\space space \\space of \\space A = A\\overrightarrow{x} = \\overrightarrow{0}$"
     },
     "metadata": {},
     "output_type": "display_data"
    },
    {
     "data": {
      "text/plain": [
       "<IPython.core.display.Math object>"
      ],
      "text/latex": "$\\displaystyle C(A) \\space is \\space the \\space COLUMN \\space space \\space of \\space of A = linear \\space combination \\space of \\space the \\space columns \\space of \\space A$"
     },
     "metadata": {},
     "output_type": "display_data"
    }
   ],
   "execution_count": 27
  },
  {
   "metadata": {
    "ExecuteTime": {
     "end_time": "2025-04-19T01:08:56.117190Z",
     "start_time": "2025-04-19T01:08:56.114166Z"
    }
   },
   "cell_type": "code",
   "source": [
    "A = np.array([\n",
    "    [2, 4],\n",
    "    [3, 6]\n",
    "])"
   ],
   "id": "aeba5f9cc47df39c",
   "outputs": [],
   "execution_count": 28
  },
  {
   "metadata": {
    "ExecuteTime": {
     "end_time": "2025-04-19T01:08:56.162114Z",
     "start_time": "2025-04-19T01:08:56.158172Z"
    }
   },
   "cell_type": "code",
   "source": "print(f'C(A) = span({A[:][0]}, {A[:][1]})')",
   "id": "12bd4b45dd93b57",
   "outputs": [
    {
     "name": "stdout",
     "output_type": "stream",
     "text": [
      "C(A) = span([2 4], [3 6])\n"
     ]
    }
   ],
   "execution_count": 29
  },
  {
   "metadata": {
    "ExecuteTime": {
     "end_time": "2025-04-19T01:08:56.246104Z",
     "start_time": "2025-04-19T01:08:56.242070Z"
    }
   },
   "cell_type": "code",
   "source": [
    "display(Math(\n",
    "    r'if \\space \\overrightarrow{b} \\space \\in \\space C(A), \\space then \\space \\overrightarrow{x} \\space exists \\space as \\space a \\space solution'))"
   ],
   "id": "3eef1a222f3deaa8",
   "outputs": [
    {
     "data": {
      "text/plain": [
       "<IPython.core.display.Math object>"
      ],
      "text/latex": "$\\displaystyle if \\space \\overrightarrow{b} \\space \\in \\space C(A), \\space then \\space \\overrightarrow{x} \\space exists \\space as \\space a \\space solution$"
     },
     "metadata": {},
     "output_type": "display_data"
    }
   ],
   "execution_count": 30
  },
  {
   "metadata": {
    "ExecuteTime": {
     "end_time": "2025-04-19T01:08:56.311407Z",
     "start_time": "2025-04-19T01:08:56.306330Z"
    }
   },
   "cell_type": "code",
   "source": [
    "display(Math(\n",
    "    r'if \\space N(A) \\space = \\space \\overrightarrow{0}, \\space then \\space columns \\space of \\space A \\space are \\space linearly \\space independent'))\n",
    "display(Math(\n",
    "    r'if \\space N(A) \\space = \\space \\overrightarrow{0}, \\space \\overrightarrow{v} \\space then \\space columns \\space of \\space A \\space are \\space linearly \\space dependent'))"
   ],
   "id": "ff8fe563130fd57b",
   "outputs": [
    {
     "data": {
      "text/plain": [
       "<IPython.core.display.Math object>"
      ],
      "text/latex": "$\\displaystyle if \\space N(A) \\space = \\space \\overrightarrow{0}, \\space then \\space columns \\space of \\space A \\space are \\space linearly \\space independent$"
     },
     "metadata": {},
     "output_type": "display_data"
    },
    {
     "data": {
      "text/plain": [
       "<IPython.core.display.Math object>"
      ],
      "text/latex": "$\\displaystyle if \\space N(A) \\space = \\space \\overrightarrow{0}, \\space \\overrightarrow{v} \\space then \\space columns \\space of \\space A \\space are \\space linearly \\space dependent$"
     },
     "metadata": {},
     "output_type": "display_data"
    }
   ],
   "execution_count": 31
  },
  {
   "metadata": {
    "ExecuteTime": {
     "end_time": "2025-04-19T01:08:56.376324Z",
     "start_time": "2025-04-19T01:08:56.373941Z"
    }
   },
   "cell_type": "code",
   "source": [
    "# Example 1\n",
    "\n",
    "A = np.array([\n",
    "    [2, 4],\n",
    "    [3, 6]\n",
    "])\n",
    "\n",
    "vec_b = np.array([6, 9])"
   ],
   "id": "bfd6d7d08178cbd5",
   "outputs": [],
   "execution_count": 32
  },
  {
   "metadata": {
    "ExecuteTime": {
     "end_time": "2025-04-19T01:08:56.423986Z",
     "start_time": "2025-04-19T01:08:56.419881Z"
    }
   },
   "cell_type": "code",
   "source": [
    "# step 1 RREF\n",
    "\n",
    "A_1 = A.copy()\n",
    "A_1[0][:] = A_1[0][:] / 2\n",
    "A_1[1][:] = A_1[1][:] / 3\n",
    "A_1[1][:] = A_1[1][:] - A_1[0][:]\n",
    "A_1"
   ],
   "id": "2cc05b5bee609c46",
   "outputs": [
    {
     "data": {
      "text/plain": [
       "array([[1, 2],\n",
       "       [0, 0]])"
      ]
     },
     "execution_count": 33,
     "metadata": {},
     "output_type": "execute_result"
    }
   ],
   "execution_count": 33
  },
  {
   "metadata": {
    "ExecuteTime": {
     "end_time": "2025-04-19T01:08:56.483634Z",
     "start_time": "2025-04-19T01:08:56.479510Z"
    }
   },
   "cell_type": "code",
   "source": [
    "x_1 = display(Math(r'{x_1}'))\n",
    "x_2 = display(Math(r'{x_2}'))"
   ],
   "id": "7459da83ccf6e3d6",
   "outputs": [
    {
     "data": {
      "text/plain": [
       "<IPython.core.display.Math object>"
      ],
      "text/latex": "$\\displaystyle {x_1}$"
     },
     "metadata": {},
     "output_type": "display_data"
    },
    {
     "data": {
      "text/plain": [
       "<IPython.core.display.Math object>"
      ],
      "text/latex": "$\\displaystyle {x_2}$"
     },
     "metadata": {},
     "output_type": "display_data"
    }
   ],
   "execution_count": 34
  },
  {
   "metadata": {
    "ExecuteTime": {
     "end_time": "2025-04-19T01:08:56.606438Z",
     "start_time": "2025-04-19T01:08:56.603872Z"
    }
   },
   "cell_type": "code",
   "source": "",
   "id": "543c858c1424fab6",
   "outputs": [],
   "execution_count": null
  },
  {
   "metadata": {},
   "cell_type": "markdown",
   "source": [
    "# Dimensionality, Nullity, Rank\n",
    "***"
   ],
   "id": "3287652e827569e5"
  },
  {
   "metadata": {
    "ExecuteTime": {
     "end_time": "2025-04-19T01:08:56.707479Z",
     "start_time": "2025-04-19T01:08:56.703384Z"
    }
   },
   "cell_type": "code",
   "source": [
    "A = np.array([\n",
    "    [2, 0, 4, -2],\n",
    "    [1, 3, -1, 0],\n",
    "    [0, -2, 1, 1]\n",
    "], dtype='float64')\n",
    "A"
   ],
   "id": "a2402e8e5e31de6f",
   "outputs": [
    {
     "data": {
      "text/plain": [
       "array([[ 2.,  0.,  4., -2.],\n",
       "       [ 1.,  3., -1.,  0.],\n",
       "       [ 0., -2.,  1.,  1.]])"
      ]
     },
     "execution_count": 35,
     "metadata": {},
     "output_type": "execute_result"
    }
   ],
   "execution_count": 35
  },
  {
   "metadata": {
    "ExecuteTime": {
     "end_time": "2025-04-19T01:08:56.758762Z",
     "start_time": "2025-04-19T01:08:56.756263Z"
    }
   },
   "cell_type": "code",
   "source": [
    "def format_matrix(A):\n",
    "    rows = [\n",
    "        \" & \".join(str(int(val)) if val == int(val) else str(val) for val in row)\n",
    "        for row in A\n",
    "    ]\n",
    "    body = r\"\\\\ \".join(rows)\n",
    "    return r\"\\begin{bmatrix}\" + body + r\"\\end{bmatrix}\"\n"
   ],
   "id": "6c5e01a1a14a8c1a",
   "outputs": [],
   "execution_count": 36
  },
  {
   "metadata": {
    "ExecuteTime": {
     "end_time": "2025-04-19T01:08:56.929294Z",
     "start_time": "2025-04-19T01:08:56.925795Z"
    }
   },
   "cell_type": "code",
   "source": "display(Math(format_matrix(A)))",
   "id": "8cc1d2363a8a973e",
   "outputs": [
    {
     "data": {
      "text/plain": [
       "<IPython.core.display.Math object>"
      ],
      "text/latex": "$\\displaystyle \\begin{bmatrix}2 & 0 & 4 & -2\\\\ 1 & 3 & -1 & 0\\\\ 0 & -2 & 1 & 1\\end{bmatrix}$"
     },
     "metadata": {},
     "output_type": "display_data"
    }
   ],
   "execution_count": 37
  },
  {
   "metadata": {
    "ExecuteTime": {
     "end_time": "2025-04-19T01:08:57.030998Z",
     "start_time": "2025-04-19T01:08:57.024851Z"
    }
   },
   "cell_type": "code",
   "source": [
    "# Step 1: RREF\n",
    "\n",
    "A_1 = A.copy()\n",
    "A_1[0][:] = A_1[0][:] / 2\n",
    "A_1[[2, 1], :] = A_1[[1, 2], :]\n",
    "A_1[[0, 2], :] = A_1[[2, 0], :]\n",
    "A_1[2][:] = A_1[2][:] - A_1[0][:]\n",
    "A_1[2][:] = (-1 * (A_1[2][:]))\n",
    "A_1[2][:] = A_1[1][:] + A_1[2][:]\n",
    "A_1[[2, 1], :] = A_1[[1, 2], :]\n",
    "A_1[0][:] = A_1[0][:] + A_1[2][:]\n",
    "A_1[2][:] = (-1 / 2) * A_1[2][:]\n",
    "A_1[[2, 1], :] = A_1[[1, 2], :]\n",
    "A_1[0][:] = A_1[0][:] - A_1[1][:]\n",
    "A_1[2][:] = A_1[2][:] - A_1[1][:]\n",
    "A_1[2][:] = (-1 / 2) * A_1[2][:]\n",
    "A_1"
   ],
   "id": "cf84ea7f312a1d4c",
   "outputs": [
    {
     "data": {
      "text/plain": [
       "array([[ 1.  ,  0.  ,  0.5 ,  1.5 ],\n",
       "       [-0.  ,  1.  , -0.5 , -0.5 ],\n",
       "       [-0.  , -0.  ,  0.75, -1.25]])"
      ]
     },
     "execution_count": 38,
     "metadata": {},
     "output_type": "execute_result"
    }
   ],
   "execution_count": 38
  },
  {
   "metadata": {
    "ExecuteTime": {
     "end_time": "2025-04-19T01:08:57.125840Z",
     "start_time": "2025-04-19T01:08:57.122110Z"
    }
   },
   "cell_type": "code",
   "source": [
    " # Question 1\n",
    "\n",
    "M = np.array([\n",
    "    [1, -2, 3, -2, 3],\n",
    "    [-3, 6, -9, 3, -6],\n",
    "    [-5, 9, -7, 3, 0]\n",
    "], dtype='float64')\n",
    "\n",
    "O = np.array([0, 0, 0], dtype='float64')\n",
    "\n",
    "M"
   ],
   "id": "c81d9a83747a2c74",
   "outputs": [
    {
     "data": {
      "text/plain": [
       "array([[ 1., -2.,  3., -2.,  3.],\n",
       "       [-3.,  6., -9.,  3., -6.],\n",
       "       [-5.,  9., -7.,  3.,  0.]])"
      ]
     },
     "execution_count": 39,
     "metadata": {},
     "output_type": "execute_result"
    }
   ],
   "execution_count": 39
  },
  {
   "metadata": {
    "ExecuteTime": {
     "end_time": "2025-04-19T01:08:57.269694Z",
     "start_time": "2025-04-19T01:08:57.266276Z"
    }
   },
   "cell_type": "code",
   "source": [
    "A = np.c_[M, O]\n",
    "A"
   ],
   "id": "23f7caf7bc5685e6",
   "outputs": [
    {
     "data": {
      "text/plain": [
       "array([[ 1., -2.,  3., -2.,  3.,  0.],\n",
       "       [-3.,  6., -9.,  3., -6.,  0.],\n",
       "       [-5.,  9., -7.,  3.,  0.,  0.]])"
      ]
     },
     "execution_count": 40,
     "metadata": {},
     "output_type": "execute_result"
    }
   ],
   "execution_count": 40
  },
  {
   "metadata": {
    "ExecuteTime": {
     "end_time": "2025-04-19T01:08:57.465270Z",
     "start_time": "2025-04-19T01:08:57.460455Z"
    }
   },
   "cell_type": "code",
   "source": [
    "A_1 = A.copy()\n",
    "A_1[1][:] = A_1[1][:] * (-1 / 3)\n",
    "A_1[2][:] = A_1[2][:] * (-1 / 5)\n",
    "A_1[1][:] = A_1[1][:] - A_1[2][:]\n",
    "A_1[2][:] = A_1[2][:] - A_1[0][:]\n",
    "A_1[2][:] = A_1[1][:] + A_1[2][:]\n",
    "A_1[0][:] = A_1[1][:] + A_1[0][:]\n",
    "A_1[1][:] = A_1[1][:] * -1\n",
    "A_1[0][:] = A_1[0][:] + (3 * A_1[1][:])\n",
    "# A_1[2][:] = A_1[2][:] * -1\n",
    "\n",
    "A_1"
   ],
   "id": "2b2a06fe940637d9",
   "outputs": [
    {
     "data": {
      "text/plain": [
       "array([[ 1. , -1.6, -0.2, -1.2, -1. ,  0. ],\n",
       "       [-0. ,  0.2, -1.6,  0.4, -2. , -0. ],\n",
       "       [ 0. ,  0. ,  0. ,  1. , -1. ,  0. ]])"
      ]
     },
     "execution_count": 41,
     "metadata": {},
     "output_type": "execute_result"
    }
   ],
   "execution_count": 41
  },
  {
   "metadata": {
    "ExecuteTime": {
     "end_time": "2025-04-19T01:08:57.829592Z",
     "start_time": "2025-04-19T01:08:57.827179Z"
    }
   },
   "cell_type": "code",
   "source": [
    "A = np.array([\n",
    "    [1, 3, -2, -1, 0],\n",
    "    [2, 5, -4, -7, 3],\n",
    "    [1, 4, -3, 5, 4],\n",
    "    [1, 2, -2, -6, 3]\n",
    "])"
   ],
   "id": "22f4e1144333290e",
   "outputs": [],
   "execution_count": 42
  },
  {
   "metadata": {
    "ExecuteTime": {
     "end_time": "2025-04-19T01:08:57.942342Z",
     "start_time": "2025-04-19T01:08:57.936306Z"
    }
   },
   "cell_type": "code",
   "source": [
    "A_1 = A.copy()\n",
    "A_1[2][:] = A_1[2][:] * 2\n",
    "A_1[3][:] = A_1[3][:] * 2\n",
    "A_1[1][:] = A_1[1][:] - A_1[2][:]\n",
    "A_1[2][:] = A_1[2][:] - A_1[3][:]\n",
    "A_1[3][:] = A_1[2][:] - (2 * A_1[2][:])\n",
    "A_1[1][:] = A_1[1][:] + A_1[2][:]\n",
    "A_1[2][:] = A_1[2][:] + A_1[3][:]\n",
    "A_1[3][:] = (4 * A_1[1][:]) + A_1[3][:]\n",
    "A_1[[3, 2], :] = A_1[[2, 3], :]\n",
    "A_1[2][:] = (A_1[2][:] * (1 / 2))\n",
    "A_1[0][:] = A_1[0][:] - (3 * A_1[1][:])\n",
    "A_1[0][:] = A_1[0][:] + (2 * A_1[2][:])\n",
    "A_1"
   ],
   "id": "884200401b9e698b",
   "outputs": [
    {
     "data": {
      "text/plain": [
       "array([[  1,   0,   0, -18,  -5],\n",
       "       [  0,   1,   0,   5,  -3],\n",
       "       [  0,   0,   1,  -1,  -7],\n",
       "       [  0,   0,   0,   0,   0]])"
      ]
     },
     "execution_count": 43,
     "metadata": {},
     "output_type": "execute_result"
    }
   ],
   "execution_count": 43
  },
  {
   "metadata": {
    "ExecuteTime": {
     "end_time": "2025-04-19T01:08:58.036465Z",
     "start_time": "2025-04-19T01:08:58.034535Z"
    }
   },
   "cell_type": "code",
   "source": "",
   "id": "880aabf47c8fd141",
   "outputs": [],
   "execution_count": null
  }
 ],
 "metadata": {
  "kernelspec": {
   "display_name": "Python 3",
   "language": "python",
   "name": "python3"
  },
  "language_info": {
   "codemirror_mode": {
    "name": "ipython",
    "version": 2
   },
   "file_extension": ".py",
   "mimetype": "text/x-python",
   "name": "python",
   "nbconvert_exporter": "python",
   "pygments_lexer": "ipython2",
   "version": "2.7.6"
  }
 },
 "nbformat": 4,
 "nbformat_minor": 5
}
