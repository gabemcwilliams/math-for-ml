{
 "cells": [
  {
   "metadata": {
    "ExecuteTime": {
     "end_time": "2025-04-19T00:54:29.363822Z",
     "start_time": "2025-04-19T00:54:28.535363Z"
    }
   },
   "cell_type": "code",
   "source": [
    "import re\n",
    "import numpy as np\n",
    "import scipy as sp\n",
    "import sympy as sym\n",
    "from IPython.display import display, Math, Latex\n",
    "import math\n",
    "import matplotlib.pyplot as plt"
   ],
   "id": "4d584e7d4a36040d",
   "outputs": [],
   "execution_count": 1
  },
  {
   "metadata": {},
   "cell_type": "markdown",
   "source": [
    "# Multiplying Matrices by Vectors\n",
    "***"
   ],
   "id": "4b0400e68589ce91"
  },
  {
   "metadata": {
    "ExecuteTime": {
     "end_time": "2025-04-19T00:54:29.655370Z",
     "start_time": "2025-04-19T00:54:29.652503Z"
    }
   },
   "cell_type": "code",
   "source": [
    "a = np.array([[1, 0], [-2, 4], [0, 1]])\n",
    "print(a.shape)\n",
    "print(a)"
   ],
   "id": "1cb79d58e1784ea3",
   "outputs": [
    {
     "name": "stdout",
     "output_type": "stream",
     "text": [
      "(3, 2)\n",
      "[[ 1  0]\n",
      " [-2  4]\n",
      " [ 0  1]]\n"
     ]
    }
   ],
   "execution_count": 2
  },
  {
   "metadata": {
    "ExecuteTime": {
     "end_time": "2025-04-19T00:54:29.671773Z",
     "start_time": "2025-04-19T00:54:29.668638Z"
    }
   },
   "cell_type": "code",
   "source": [
    "b = np.array([[5], [-1]])\n",
    "print(b.shape)\n",
    "print(b)"
   ],
   "id": "54a4cdafabcbd0cf",
   "outputs": [
    {
     "name": "stdout",
     "output_type": "stream",
     "text": [
      "(2, 1)\n",
      "[[ 5]\n",
      " [-1]]\n"
     ]
    }
   ],
   "execution_count": 3
  },
  {
   "metadata": {
    "ExecuteTime": {
     "end_time": "2025-04-19T00:54:29.678987Z",
     "start_time": "2025-04-19T00:54:29.674277Z"
    }
   },
   "cell_type": "code",
   "source": "a @ b",
   "id": "e80423a6f6fae86b",
   "outputs": [
    {
     "data": {
      "text/plain": [
       "array([[  5],\n",
       "       [-14],\n",
       "       [ -1]])"
      ]
     },
     "execution_count": 4,
     "metadata": {},
     "output_type": "execute_result"
    }
   ],
   "execution_count": 4
  },
  {
   "metadata": {
    "ExecuteTime": {
     "end_time": "2025-04-19T00:54:29.987745Z",
     "start_time": "2025-04-19T00:54:29.984585Z"
    }
   },
   "cell_type": "code",
   "source": [
    "ab = np.array([\n",
    "    [(a[0][0] * b[0][0]) + (a[0][1] * b[1][0])],\n",
    "    [(a[1][0] * b[0][0]) + (a[1][1] * b[1][0])],\n",
    "    [(a[2][0] * b[0][0]) + (a[2][1] * b[1][0])]\n",
    "])"
   ],
   "id": "3e7a80b3b6fde8c6",
   "outputs": [],
   "execution_count": 5
  },
  {
   "metadata": {
    "ExecuteTime": {
     "end_time": "2025-04-19T00:54:30.033375Z",
     "start_time": "2025-04-19T00:54:30.030564Z"
    }
   },
   "cell_type": "code",
   "source": "ab",
   "id": "1d00a57ef7b11101",
   "outputs": [
    {
     "data": {
      "text/plain": [
       "array([[  5],\n",
       "       [-14],\n",
       "       [ -1]])"
      ]
     },
     "execution_count": 6,
     "metadata": {},
     "output_type": "execute_result"
    }
   ],
   "execution_count": 6
  },
  {
   "metadata": {
    "ExecuteTime": {
     "end_time": "2025-04-19T00:54:30.069328Z",
     "start_time": "2025-04-19T00:54:30.065785Z"
    }
   },
   "cell_type": "code",
   "source": "(a[0][1] * b[1])",
   "id": "7259b98dc175309b",
   "outputs": [
    {
     "data": {
      "text/plain": [
       "array([0])"
      ]
     },
     "execution_count": 7,
     "metadata": {},
     "output_type": "execute_result"
    }
   ],
   "execution_count": 7
  },
  {
   "metadata": {},
   "cell_type": "markdown",
   "source": [
    "# Null Space and Ax=0\n",
    "***\n",
    "Null space is a subspace of a vector space.\n",
    "1. Includes the zero vector.\n",
    "2. Closed under addition\n",
    "3. Closed under scalar multiplication\n"
   ],
   "id": "e2138a73fbef998e"
  },
  {
   "metadata": {},
   "cell_type": "code",
   "source": [
    "display(Math(\n",
    "    r'\\overrightarrow{X} \\space that \\space satisfies \\space A\\overrightarrow{X} = \\overrightarrow{0} \\space is \\space in \\space the \\space null \\space space \\space N(A)'))"
   ],
   "id": "68a9111257c4fd07",
   "outputs": [
    {
     "data": {
      "text/plain": [
       "<IPython.core.display.Math object>"
      ],
      "text/latex": "$\\displaystyle \\overrightarrow{X} \\space that \\space satisfies \\space A\\overrightarrow{X} = \\overrightarrow{0} \\space is \\space in \\space the \\space null \\space space \\space N(A)$"
     },
     "metadata": {},
     "output_type": "display_data"
    }
   ],
   "execution_count": 8
  },
  {
   "metadata": {
    "ExecuteTime": {
     "end_time": "2025-04-19T00:54:30.159896Z",
     "start_time": "2025-04-19T00:54:30.156971Z"
    }
   },
   "cell_type": "code",
   "source": [
    "A = np.array([\n",
    "    [1, -4, 3],\n",
    "    [2, 4, 2],\n",
    "    [-1, -5, 0]\n",
    "])\n",
    "\n",
    "x = np.array([-5, 1, 3])"
   ],
   "id": "aab098e805f1204e",
   "outputs": [],
   "execution_count": 9
  },
  {
   "metadata": {
    "ExecuteTime": {
     "end_time": "2025-04-19T00:54:30.191509Z",
     "start_time": "2025-04-19T00:54:30.188935Z"
    }
   },
   "cell_type": "code",
   "source": "O = A * x",
   "id": "69017fc45cbb5e5b",
   "outputs": [],
   "execution_count": 10
  },
  {
   "metadata": {
    "ExecuteTime": {
     "end_time": "2025-04-19T00:54:30.210272Z",
     "start_time": "2025-04-19T00:54:30.207838Z"
    }
   },
   "cell_type": "code",
   "source": "O.sum()",
   "id": "8d6b442b1ecb045d",
   "outputs": [
    {
     "data": {
      "text/plain": [
       "0"
      ]
     },
     "execution_count": 11,
     "metadata": {},
     "output_type": "execute_result"
    }
   ],
   "execution_count": 11
  },
  {
   "metadata": {
    "ExecuteTime": {
     "end_time": "2025-04-19T00:54:30.227749Z",
     "start_time": "2025-04-19T00:54:30.224540Z"
    }
   },
   "cell_type": "code",
   "source": [
    "A = np.array([\n",
    "    [-3, 1, 9],\n",
    "    [1, 1, 1]\n",
    "])"
   ],
   "id": "3684b3d7d8f2e1d5",
   "outputs": [],
   "execution_count": 12
  },
  {
   "metadata": {
    "ExecuteTime": {
     "end_time": "2025-04-19T00:54:30.238058Z",
     "start_time": "2025-04-19T00:54:30.234703Z"
    }
   },
   "cell_type": "code",
   "source": "(A * np.array([2, -3, 1])).sum()",
   "id": "6b8e46480d6ed58e",
   "outputs": [
    {
     "data": {
      "text/plain": [
       "0"
      ]
     },
     "execution_count": 13,
     "metadata": {},
     "output_type": "execute_result"
    }
   ],
   "execution_count": 13
  },
  {
   "metadata": {
    "ExecuteTime": {
     "end_time": "2025-04-19T00:54:30.249517Z",
     "start_time": "2025-04-19T00:54:30.247071Z"
    }
   },
   "cell_type": "code",
   "source": [
    "A = np.array([\n",
    "    [5, 3, 1, 5],\n",
    "    [-10, -2, 1, -3],\n",
    "    [-5, 1, 2, 4],\n",
    "    [7, 1, -1, -2]\n",
    "])"
   ],
   "id": "c05ef2ec1573d8a3",
   "outputs": [],
   "execution_count": 14
  },
  {
   "metadata": {
    "ExecuteTime": {
     "end_time": "2025-04-19T00:54:30.257317Z",
     "start_time": "2025-04-19T00:54:30.253521Z"
    }
   },
   "cell_type": "code",
   "source": "(A * np.array([-1, 3, -4, 0])).sum()",
   "id": "4ea4b1b968d08da5",
   "outputs": [
    {
     "data": {
      "text/plain": [
       "0"
      ]
     },
     "execution_count": 15,
     "metadata": {},
     "output_type": "execute_result"
    }
   ],
   "execution_count": 15
  },
  {
   "metadata": {},
   "cell_type": "markdown",
   "source": [
    "# Null Space of a Matrix\n",
    "***"
   ],
   "id": "d680c27dd7f30982"
  },
  {
   "metadata": {
    "ExecuteTime": {
     "end_time": "2025-04-19T00:54:30.265291Z",
     "start_time": "2025-04-19T00:54:30.262163Z"
    }
   },
   "cell_type": "code",
   "source": [
    "A = np.array([\n",
    "    [2, 0, -1, 2],\n",
    "    [-4, 0, 2, -4],\n",
    "    [-6, 0, -3, -6],\n",
    "\n",
    "], dtype=np.float64)"
   ],
   "id": "a19cc889dc5e98c2",
   "outputs": [],
   "execution_count": 16
  },
  {
   "metadata": {
    "ExecuteTime": {
     "end_time": "2025-04-19T00:54:30.278858Z",
     "start_time": "2025-04-19T00:54:30.276295Z"
    }
   },
   "cell_type": "code",
   "source": "# Put in RREF",
   "id": "ac5260be810abfb1",
   "outputs": [],
   "execution_count": 17
  },
  {
   "metadata": {
    "ExecuteTime": {
     "end_time": "2025-04-19T00:54:30.289372Z",
     "start_time": "2025-04-19T00:54:30.286568Z"
    }
   },
   "cell_type": "code",
   "source": [
    "# step 1\n",
    "A_1 = A.copy()\n",
    "A_1[0][:] = A_1[0][:] / 2\n",
    "A_1"
   ],
   "id": "48b2d9787c774af2",
   "outputs": [
    {
     "data": {
      "text/plain": [
       "array([[ 1. ,  0. , -0.5,  1. ],\n",
       "       [-4. ,  0. ,  2. , -4. ],\n",
       "       [-6. ,  0. , -3. , -6. ]])"
      ]
     },
     "execution_count": 18,
     "metadata": {},
     "output_type": "execute_result"
    }
   ],
   "execution_count": 18
  },
  {
   "metadata": {
    "ExecuteTime": {
     "end_time": "2025-04-19T00:54:30.326497Z",
     "start_time": "2025-04-19T00:54:30.323008Z"
    }
   },
   "cell_type": "code",
   "source": [
    "# step 2\n",
    "A_2 = A_1.copy()\n",
    "A_2[1][:] = A_2[1][:] * (1 / 4)\n",
    "A_2[1][:] = A_2[1][:] + A_1[0][:]\n",
    "A_2"
   ],
   "id": "43ce55d9e1db63d",
   "outputs": [
    {
     "data": {
      "text/plain": [
       "array([[ 1. ,  0. , -0.5,  1. ],\n",
       "       [ 0. ,  0. ,  0. ,  0. ],\n",
       "       [-6. ,  0. , -3. , -6. ]])"
      ]
     },
     "execution_count": 19,
     "metadata": {},
     "output_type": "execute_result"
    }
   ],
   "execution_count": 19
  },
  {
   "metadata": {
    "ExecuteTime": {
     "end_time": "2025-04-19T00:54:30.477257Z",
     "start_time": "2025-04-19T00:54:30.473819Z"
    }
   },
   "cell_type": "code",
   "source": [
    "# step 3\n",
    "A_3 = A_2.copy()\n",
    "A_3[2][:] = A_3[2][:] * (1 / 6)\n",
    "A_3[2][:] = A_3[2][:] + A_2[0][:]\n",
    "A_3"
   ],
   "id": "94eb3b23a10962ce",
   "outputs": [
    {
     "data": {
      "text/plain": [
       "array([[ 1. ,  0. , -0.5,  1. ],\n",
       "       [ 0. ,  0. ,  0. ,  0. ],\n",
       "       [ 0. ,  0. , -1. ,  0. ]])"
      ]
     },
     "execution_count": 20,
     "metadata": {},
     "output_type": "execute_result"
    }
   ],
   "execution_count": 20
  },
  {
   "metadata": {
    "ExecuteTime": {
     "end_time": "2025-04-19T00:54:30.536476Z",
     "start_time": "2025-04-19T00:54:30.532762Z"
    }
   },
   "cell_type": "code",
   "source": [
    "# step 4\n",
    "A_4 = A_3.copy()\n",
    "A_4[2][:] = A_4[2][:] * (1 / 2)\n",
    "A_4[0][:] = A_4[0][:] - A_4[2][:]\n",
    "A_4[2][:] = abs(A_4[2][:] * -2)\n",
    "A_4"
   ],
   "id": "c5473b78c64e0a00",
   "outputs": [
    {
     "data": {
      "text/plain": [
       "array([[1., 0., 0., 1.],\n",
       "       [0., 0., 0., 0.],\n",
       "       [0., 0., 1., 0.]])"
      ]
     },
     "execution_count": 21,
     "metadata": {},
     "output_type": "execute_result"
    }
   ],
   "execution_count": 21
  },
  {
   "metadata": {
    "ExecuteTime": {
     "end_time": "2025-04-19T00:54:30.601588Z",
     "start_time": "2025-04-19T00:54:30.598249Z"
    }
   },
   "cell_type": "code",
   "source": [
    "# step 5\n",
    "A_5 = A_4.copy()\n",
    "A_5[[2, 1], :] = A_5[[1, 2], :]\n",
    "A_5"
   ],
   "id": "1e5627e97fc9b761",
   "outputs": [
    {
     "data": {
      "text/plain": [
       "array([[1., 0., 0., 1.],\n",
       "       [0., 0., 1., 0.],\n",
       "       [0., 0., 0., 0.]])"
      ]
     },
     "execution_count": 22,
     "metadata": {},
     "output_type": "execute_result"
    }
   ],
   "execution_count": 22
  },
  {
   "metadata": {
    "ExecuteTime": {
     "end_time": "2025-04-19T00:54:30.666344Z",
     "start_time": "2025-04-19T00:54:30.663689Z"
    }
   },
   "cell_type": "code",
   "source": [
    "# Question 1\n",
    "# Find the null space of A\n",
    "\n",
    "A = np.array([\n",
    "    [1, -1, -2],\n",
    "    [0, -1, 4],\n",
    "    [6, -6, -12],\n",
    "])"
   ],
   "id": "ba6a79bd87508c9a",
   "outputs": [],
   "execution_count": 23
  },
  {
   "metadata": {
    "ExecuteTime": {
     "end_time": "2025-04-19T00:54:30.706659Z",
     "start_time": "2025-04-19T00:54:30.702777Z"
    }
   },
   "cell_type": "code",
   "source": [
    "A_1 = A.copy()\n",
    "A_1[2][:] = A_1[2][:] / 6\n",
    "\n",
    "A_1[0][:] = A_1[0][:] - A_1[1][:]\n",
    "A_1[1][:] = A_1[1][:] * -1\n",
    "A_1[2][:] = A_1[2][:] - A_1[0][:]\n",
    "A_1[2][:] = A_1[1][:] + A_1[2][:]\n",
    "# A_1[0][:] = A_1[0][:] - A_1[1][:]\n",
    "# A_1[1][:] = A_1[1][:] * (1/2)\n",
    "A_1"
   ],
   "id": "d720174abc68a995",
   "outputs": [
    {
     "data": {
      "text/plain": [
       "array([[ 1,  0, -6],\n",
       "       [ 0,  1, -4],\n",
       "       [ 0,  0,  0]])"
      ]
     },
     "execution_count": 24,
     "metadata": {},
     "output_type": "execute_result"
    }
   ],
   "execution_count": 24
  },
  {
   "metadata": {},
   "cell_type": "markdown",
   "source": "# Column Space and Ax=b",
   "id": "5ba7cc67fd00d226"
  },
  {
   "metadata": {
    "ExecuteTime": {
     "end_time": "2025-04-19T00:54:30.806190Z",
     "start_time": "2025-04-19T00:54:30.802013Z"
    }
   },
   "cell_type": "code",
   "source": "display(Math(r'The \\space column \\space space \\space and \\space A\\overrightarrow{x} = \\overrightarrow{b}'))",
   "id": "e88077f139d7afff",
   "outputs": [
    {
     "data": {
      "text/plain": [
       "<IPython.core.display.Math object>"
      ],
      "text/latex": "$\\displaystyle The \\space column \\space space \\space and \\space A\\overrightarrow{x} = \\overrightarrow{b}$"
     },
     "metadata": {},
     "output_type": "display_data"
    }
   ],
   "execution_count": 25
  },
  {
   "metadata": {
    "ExecuteTime": {
     "end_time": "2025-04-19T00:54:30.865079Z",
     "start_time": "2025-04-19T00:54:30.859794Z"
    }
   },
   "cell_type": "code",
   "source": [
    "display(Math(r'N(A) is the \\space NULL \\space space \\space of \\space A = A\\overrightarrow{x} = \\overrightarrow{0}'))\n",
    "display(Math(\n",
    "    r'C(A) \\space is \\space the \\space COLUMN \\space space \\space of \\space of A = linear \\space combination \\space of \\space the \\space columns \\space of \\space A'))"
   ],
   "id": "d317008366703fe3",
   "outputs": [
    {
     "data": {
      "text/plain": [
       "<IPython.core.display.Math object>"
      ],
      "text/latex": "$\\displaystyle N(A) is the \\space NULL \\space space \\space of \\space A = A\\overrightarrow{x} = \\overrightarrow{0}$"
     },
     "metadata": {},
     "output_type": "display_data"
    },
    {
     "data": {
      "text/plain": [
       "<IPython.core.display.Math object>"
      ],
      "text/latex": "$\\displaystyle C(A) \\space is \\space the \\space COLUMN \\space space \\space of \\space of A = linear \\space combination \\space of \\space the \\space columns \\space of \\space A$"
     },
     "metadata": {},
     "output_type": "display_data"
    }
   ],
   "execution_count": 26
  },
  {
   "metadata": {
    "ExecuteTime": {
     "end_time": "2025-04-19T00:54:30.877977Z",
     "start_time": "2025-04-19T00:54:30.875267Z"
    }
   },
   "cell_type": "code",
   "source": [
    "A = np.array([\n",
    "    [2, 4],\n",
    "    [3, 6]\n",
    "])"
   ],
   "id": "aeba5f9cc47df39c",
   "outputs": [],
   "execution_count": 27
  },
  {
   "metadata": {
    "ExecuteTime": {
     "end_time": "2025-04-19T00:54:30.888619Z",
     "start_time": "2025-04-19T00:54:30.886138Z"
    }
   },
   "cell_type": "code",
   "source": "print(f'C(A) = span({A[:][0]}, {A[:][1]})')",
   "id": "12bd4b45dd93b57",
   "outputs": [
    {
     "name": "stdout",
     "output_type": "stream",
     "text": [
      "C(A) = span([2 4], [3 6])\n"
     ]
    }
   ],
   "execution_count": 28
  },
  {
   "metadata": {
    "ExecuteTime": {
     "end_time": "2025-04-19T00:54:30.902518Z",
     "start_time": "2025-04-19T00:54:30.899067Z"
    }
   },
   "cell_type": "code",
   "source": [
    "display(Math(\n",
    "    r'if \\space \\overrightarrow{b} \\space \\in \\space C(A), \\space then \\space \\overrightarrow{x} \\space exists \\space as \\space a \\space solution'))"
   ],
   "id": "3eef1a222f3deaa8",
   "outputs": [
    {
     "data": {
      "text/plain": [
       "<IPython.core.display.Math object>"
      ],
      "text/latex": "$\\displaystyle if \\space \\overrightarrow{b} \\space \\in \\space C(A), \\space then \\space \\overrightarrow{x} \\space exists \\space as \\space a \\space solution$"
     },
     "metadata": {},
     "output_type": "display_data"
    }
   ],
   "execution_count": 29
  },
  {
   "metadata": {
    "ExecuteTime": {
     "end_time": "2025-04-19T00:54:30.936033Z",
     "start_time": "2025-04-19T00:54:30.931191Z"
    }
   },
   "cell_type": "code",
   "source": [
    "display(Math(\n",
    "    r'if \\space N(A) \\space = \\space \\overrightarrow{0}, \\space then \\space columns \\space of \\space A \\space are \\space linearly \\space independent'))\n",
    "display(Math(\n",
    "    r'if \\space N(A) \\space = \\space \\overrightarrow{0}, \\space \\overrightarrow{v} \\space then \\space columns \\space of \\space A \\space are \\space linearly \\space dependent'))"
   ],
   "id": "ff8fe563130fd57b",
   "outputs": [
    {
     "data": {
      "text/plain": [
       "<IPython.core.display.Math object>"
      ],
      "text/latex": "$\\displaystyle if \\space N(A) \\space = \\space \\overrightarrow{0}, \\space then \\space columns \\space of \\space A \\space are \\space linearly \\space independent$"
     },
     "metadata": {},
     "output_type": "display_data"
    },
    {
     "data": {
      "text/plain": [
       "<IPython.core.display.Math object>"
      ],
      "text/latex": "$\\displaystyle if \\space N(A) \\space = \\space \\overrightarrow{0}, \\space \\overrightarrow{v} \\space then \\space columns \\space of \\space A \\space are \\space linearly \\space dependent$"
     },
     "metadata": {},
     "output_type": "display_data"
    }
   ],
   "execution_count": 30
  },
  {
   "metadata": {
    "ExecuteTime": {
     "end_time": "2025-04-19T00:54:30.942102Z",
     "start_time": "2025-04-19T00:54:30.939537Z"
    }
   },
   "cell_type": "code",
   "source": [
    "# Example 1\n",
    "\n",
    "A = np.array([\n",
    "    [2, 4],\n",
    "    [3, 6]\n",
    "])\n",
    "\n",
    "vec_b = np.array([6, 9])"
   ],
   "id": "bfd6d7d08178cbd5",
   "outputs": [],
   "execution_count": 31
  },
  {
   "metadata": {
    "ExecuteTime": {
     "end_time": "2025-04-19T00:54:30.955789Z",
     "start_time": "2025-04-19T00:54:30.952066Z"
    }
   },
   "cell_type": "code",
   "source": [
    "# step 1 RREF\n",
    "\n",
    "A_1 = A.copy()\n",
    "A_1[0][:] = A_1[0][:] / 2\n",
    "A_1[1][:] = A_1[1][:] / 3\n",
    "A_1[1][:] = A_1[1][:] - A_1[0][:]\n",
    "A_1"
   ],
   "id": "2cc05b5bee609c46",
   "outputs": [
    {
     "data": {
      "text/plain": [
       "array([[1, 2],\n",
       "       [0, 0]])"
      ]
     },
     "execution_count": 32,
     "metadata": {},
     "output_type": "execute_result"
    }
   ],
   "execution_count": 32
  },
  {
   "metadata": {
    "ExecuteTime": {
     "end_time": "2025-04-19T00:54:30.987319Z",
     "start_time": "2025-04-19T00:54:30.982109Z"
    }
   },
   "cell_type": "code",
   "source": [
    "x_1 = display(Math(r'{x_1}'))\n",
    "x_2 = display(Math(r'{x_2}'))"
   ],
   "id": "7459da83ccf6e3d6",
   "outputs": [
    {
     "data": {
      "text/plain": [
       "<IPython.core.display.Math object>"
      ],
      "text/latex": "$\\displaystyle {x_1}$"
     },
     "metadata": {},
     "output_type": "display_data"
    },
    {
     "data": {
      "text/plain": [
       "<IPython.core.display.Math object>"
      ],
      "text/latex": "$\\displaystyle {x_2}$"
     },
     "metadata": {},
     "output_type": "display_data"
    }
   ],
   "execution_count": 33
  },
  {
   "metadata": {
    "ExecuteTime": {
     "end_time": "2025-04-19T00:54:31.024472Z",
     "start_time": "2025-04-19T00:54:31.022298Z"
    }
   },
   "cell_type": "code",
   "source": "",
   "id": "543c858c1424fab6",
   "outputs": [],
   "execution_count": null
  },
  {
   "metadata": {
    "ExecuteTime": {
     "end_time": "2025-04-19T00:54:31.267143Z",
     "start_time": "2025-04-19T00:54:31.034902Z"
    }
   },
   "cell_type": "code",
   "source": "display(Math(format_matrix(A)))",
   "id": "8cc1d2363a8a973e",
   "outputs": [
    {
     "ename": "NameError",
     "evalue": "name 'format_matrix' is not defined",
     "output_type": "error",
     "traceback": [
      "\u001B[31m---------------------------------------------------------------------------\u001B[39m",
      "\u001B[31mNameError\u001B[39m                                 Traceback (most recent call last)",
      "\u001B[36mCell\u001B[39m\u001B[36m \u001B[39m\u001B[32mIn[34]\u001B[39m\u001B[32m, line 1\u001B[39m\n\u001B[32m----> \u001B[39m\u001B[32m1\u001B[39m display(Math(\u001B[43mformat_matrix\u001B[49m(A)))\n",
      "\u001B[31mNameError\u001B[39m: name 'format_matrix' is not defined"
     ]
    }
   ],
   "execution_count": 34
  },
  {
   "metadata": {},
   "cell_type": "markdown",
   "source": [
    "# Dimensionality, Nullity, Rank\n",
    "***"
   ],
   "id": "3287652e827569e5"
  },
  {
   "metadata": {},
   "cell_type": "code",
   "source": [
    "A = np.array([\n",
    "    [2, 0, 4, -2],\n",
    "    [1, 3, -1, 0],\n",
    "    [0, -2, 1, 1]\n",
    "], dtype='float64')\n",
    "A"
   ],
   "id": "a2402e8e5e31de6f",
   "outputs": [],
   "execution_count": null
  },
  {
   "metadata": {},
   "cell_type": "code",
   "source": [
    "# Step 1: RREF\n",
    "\n",
    "A_1 = A.copy()\n",
    "A_1[0][:] = A_1[0][:] / 2\n",
    "A_1[[2, 1], :] = A_1[[1, 2], :]\n",
    "A_1[[0, 2], :] = A_1[[2, 0], :]\n",
    "A_1[2][:] = A_1[2][:] - A_1[0][:]\n",
    "A_1[2][:] = (-1 * (A_1[2][:]))\n",
    "A_1[2][:] = A_1[1][:] + A_1[2][:]\n",
    "A_1[[2, 1], :] = A_1[[1, 2], :]\n",
    "A_1[0][:] = A_1[0][:] + A_1[2][:]\n",
    "A_1[2][:] = (-1 / 2) * A_1[2][:]\n",
    "A_1[[2, 1], :] = A_1[[1, 2], :]\n",
    "A_1[0][:] = A_1[0][:] - A_1[1][:]\n",
    "A_1[2][:] = A_1[2][:] - A_1[1][:]\n",
    "A_1[2][:] = (-1 / 2) * A_1[2][:]\n",
    "A_1"
   ],
   "id": "cf84ea7f312a1d4c",
   "outputs": [],
   "execution_count": null
  },
  {
   "metadata": {},
   "cell_type": "code",
   "source": [
    " # Question 1\n",
    "\n",
    "M = np.array([\n",
    "    [1, -2, 3, -2, 3],\n",
    "    [-3, 6, -9, 3, -6],\n",
    "    [-5, 9, -7, 3, 0]\n",
    "], dtype='float64')\n",
    "\n",
    "O = np.array([0, 0, 0], dtype='float64')\n",
    "\n",
    "M"
   ],
   "id": "c81d9a83747a2c74",
   "outputs": [],
   "execution_count": null
  },
  {
   "metadata": {},
   "cell_type": "code",
   "source": [
    "A = np.c_[M, O]\n",
    "A"
   ],
   "id": "23f7caf7bc5685e6",
   "outputs": [],
   "execution_count": null
  },
  {
   "metadata": {},
   "cell_type": "code",
   "source": [
    "A_1 = A.copy()\n",
    "A_1[1][:] = A_1[1][:] * (-1 / 3)\n",
    "A_1[2][:] = A_1[2][:] * (-1 / 5)\n",
    "A_1[1][:] = A_1[1][:] - A_1[2][:]\n",
    "A_1[2][:] = A_1[2][:] - A_1[0][:]\n",
    "A_1[2][:] = A_1[1][:] + A_1[2][:]\n",
    "A_1[0][:] = A_1[1][:] + A_1[0][:]\n",
    "A_1[1][:] = A_1[1][:] * -1\n",
    "A_1[0][:] = A_1[0][:] + (3 * A_1[1][:])\n",
    "# A_1[2][:] = A_1[2][:] * -1\n",
    "\n",
    "A_1"
   ],
   "id": "2b2a06fe940637d9",
   "outputs": [],
   "execution_count": null
  },
  {
   "metadata": {},
   "cell_type": "code",
   "source": [
    "A = np.array([\n",
    "    [1, 3, -2, -1, 0],\n",
    "    [2, 5, -4, -7, 3],\n",
    "    [1, 4, -3, 5, 4],\n",
    "    [1, 2, -2, -6, 3]\n",
    "])"
   ],
   "id": "22f4e1144333290e",
   "outputs": [],
   "execution_count": null
  },
  {
   "metadata": {},
   "cell_type": "code",
   "source": [
    "A_1 = A.copy()\n",
    "A_1[2][:] = A_1[2][:] * 2\n",
    "A_1[3][:] = A_1[3][:] * 2\n",
    "A_1[1][:] = A_1[1][:] - A_1[2][:]\n",
    "A_1[2][:] = A_1[2][:] - A_1[3][:]\n",
    "A_1[3][:] = A_1[2][:] - (2 * A_1[2][:])\n",
    "A_1[1][:] = A_1[1][:] + A_1[2][:]\n",
    "A_1[2][:] = A_1[2][:] + A_1[3][:]\n",
    "A_1[3][:] = (4 * A_1[1][:]) + A_1[3][:]\n",
    "A_1[[3, 2], :] = A_1[[2, 3], :]\n",
    "A_1[2][:] = (A_1[2][:] * (1 / 2))\n",
    "A_1[0][:] = A_1[0][:] - (3 * A_1[1][:])\n",
    "A_1[0][:] = A_1[0][:] + (2 * A_1[2][:])\n",
    "A_1"
   ],
   "id": "884200401b9e698b",
   "outputs": [],
   "execution_count": null
  },
  {
   "metadata": {},
   "cell_type": "code",
   "source": "",
   "id": "880aabf47c8fd141",
   "outputs": [],
   "execution_count": null
  }
 ],
 "metadata": {
  "kernelspec": {
   "display_name": "Python 3",
   "language": "python",
   "name": "python3"
  },
  "language_info": {
   "codemirror_mode": {
    "name": "ipython",
    "version": 2
   },
   "file_extension": ".py",
   "mimetype": "text/x-python",
   "name": "python",
   "nbconvert_exporter": "python",
   "pygments_lexer": "ipython2",
   "version": "2.7.6"
  }
 },
 "nbformat": 4,
 "nbformat_minor": 5
}
