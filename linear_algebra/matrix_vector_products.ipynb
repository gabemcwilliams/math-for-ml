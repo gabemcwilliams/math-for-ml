{
 "cells": [
  {
   "metadata": {},
   "cell_type": "code",
   "source": [
    "import re\n",
    "import numpy as np\n",
    "import scipy as sp\n",
    "import sympy as sym\n",
    "from IPython.display import display, Math, Latex\n",
    "import math\n",
    "import matplotlib.pyplot as plt"
   ],
   "id": "4d584e7d4a36040d",
   "outputs": [],
   "execution_count": null
  },
  {
   "metadata": {},
   "cell_type": "markdown",
   "source": [
    "# Multiplying Matrices by Vectors\n",
    "***"
   ],
   "id": "4b0400e68589ce91"
  },
  {
   "metadata": {},
   "cell_type": "code",
   "source": [
    "a = np.array([[1, 0], [-2, 4], [0, 1]])\n",
    "print(a.shape)\n",
    "print(a)"
   ],
   "id": "1cb79d58e1784ea3",
   "outputs": [],
   "execution_count": null
  },
  {
   "metadata": {},
   "cell_type": "code",
   "source": [
    "b = np.array([[5], [-1]])\n",
    "print(b.shape)\n",
    "print(b)"
   ],
   "id": "54a4cdafabcbd0cf",
   "outputs": [],
   "execution_count": null
  },
  {
   "metadata": {},
   "cell_type": "code",
   "source": "a @ b",
   "id": "e80423a6f6fae86b",
   "outputs": [],
   "execution_count": null
  },
  {
   "metadata": {},
   "cell_type": "code",
   "source": [
    "ab = np.array([\n",
    "    [(a[0][0] * b[0][0]) + (a[0][1] * b[1][0])],\n",
    "    [(a[1][0] * b[0][0]) + (a[1][1] * b[1][0])],\n",
    "    [(a[2][0] * b[0][0]) + (a[2][1] * b[1][0])]\n",
    "])"
   ],
   "id": "3e7a80b3b6fde8c6",
   "outputs": [],
   "execution_count": null
  },
  {
   "metadata": {},
   "cell_type": "code",
   "source": "ab",
   "id": "1d00a57ef7b11101",
   "outputs": [],
   "execution_count": null
  },
  {
   "metadata": {},
   "cell_type": "code",
   "source": "(a[0][1] * b[1])",
   "id": "7259b98dc175309b",
   "outputs": [],
   "execution_count": null
  },
  {
   "metadata": {},
   "cell_type": "markdown",
   "source": [
    "# Null Space and Ax=0\n",
    "***\n",
    "Null space is a subspace of a vector space.\n",
    "1. Includes the zero vector.\n",
    "2. Closed under addition\n",
    "3. Closed under scalar multiplication\n"
   ],
   "id": "e2138a73fbef998e"
  },
  {
   "metadata": {},
   "cell_type": "code",
   "source": [
    "display(Math(\n",
    "    r'\\overrightarrow{X} \\space that \\space satisfies \\space A\\overrightarrow{X} = \\overrightarrow{0} \\space is \\space in \\space the \\space null \\space space \\space N(A)'))"
   ],
   "id": "68a9111257c4fd07",
   "outputs": [],
   "execution_count": null
  },
  {
   "metadata": {},
   "cell_type": "code",
   "source": [
    "A = np.array([\n",
    "    [1, -4, 3],\n",
    "    [2, 4, 2],\n",
    "    [-1, -5, 0]\n",
    "])\n",
    "\n",
    "x = np.array([-5, 1, 3])"
   ],
   "id": "aab098e805f1204e",
   "outputs": [],
   "execution_count": null
  },
  {
   "metadata": {},
   "cell_type": "code",
   "source": "O = A * x",
   "id": "69017fc45cbb5e5b",
   "outputs": [],
   "execution_count": null
  },
  {
   "metadata": {},
   "cell_type": "code",
   "source": "O.sum()",
   "id": "8d6b442b1ecb045d",
   "outputs": [],
   "execution_count": null
  },
  {
   "metadata": {},
   "cell_type": "code",
   "source": [
    "A = np.array([\n",
    "    [-3, 1, 9],\n",
    "    [1, 1, 1]\n",
    "])"
   ],
   "id": "3684b3d7d8f2e1d5",
   "outputs": [],
   "execution_count": null
  },
  {
   "metadata": {},
   "cell_type": "code",
   "source": "(A * np.array([2, -3, 1])).sum()",
   "id": "6b8e46480d6ed58e",
   "outputs": [],
   "execution_count": null
  },
  {
   "metadata": {},
   "cell_type": "code",
   "source": [
    "A = np.array([\n",
    "    [5, 3, 1, 5],\n",
    "    [-10, -2, 1, -3],\n",
    "    [-5, 1, 2, 4],\n",
    "    [7, 1, -1, -2]\n",
    "])"
   ],
   "id": "c05ef2ec1573d8a3",
   "outputs": [],
   "execution_count": null
  },
  {
   "metadata": {},
   "cell_type": "code",
   "source": "(A * np.array([-1, 3, -4, 0])).sum()",
   "id": "4ea4b1b968d08da5",
   "outputs": [],
   "execution_count": null
  },
  {
   "metadata": {},
   "cell_type": "markdown",
   "source": [
    "# Null Space of a Matrix\n",
    "***"
   ],
   "id": "d680c27dd7f30982"
  },
  {
   "metadata": {},
   "cell_type": "code",
   "source": [
    "A = np.array([\n",
    "    [2, 0, -1, 2],\n",
    "    [-4, 0, 2, -4],\n",
    "    [-6, 0, -3, -6],\n",
    "\n",
    "], dtype=np.float64)"
   ],
   "id": "a19cc889dc5e98c2",
   "outputs": [],
   "execution_count": null
  },
  {
   "metadata": {},
   "cell_type": "code",
   "source": "# Put in RREF",
   "id": "ac5260be810abfb1",
   "outputs": [],
   "execution_count": null
  },
  {
   "metadata": {},
   "cell_type": "code",
   "source": [
    "# step 1\n",
    "A_1 = A.copy()\n",
    "A_1[0][:] = A_1[0][:] / 2\n",
    "A_1"
   ],
   "id": "48b2d9787c774af2",
   "outputs": [],
   "execution_count": null
  },
  {
   "metadata": {},
   "cell_type": "code",
   "source": [
    "# step 2\n",
    "A_2 = A_1.copy()\n",
    "A_2[1][:] = A_2[1][:] * (1 / 4)\n",
    "A_2[1][:] = A_2[1][:] + A_1[0][:]\n",
    "A_2"
   ],
   "id": "43ce55d9e1db63d",
   "outputs": [],
   "execution_count": null
  },
  {
   "metadata": {},
   "cell_type": "code",
   "source": [
    "# step 3\n",
    "A_3 = A_2.copy()\n",
    "A_3[2][:] = A_3[2][:] * (1 / 6)\n",
    "A_3[2][:] = A_3[2][:] + A_2[0][:]\n",
    "A_3"
   ],
   "id": "94eb3b23a10962ce",
   "outputs": [],
   "execution_count": null
  },
  {
   "metadata": {},
   "cell_type": "code",
   "source": [
    "# step 4\n",
    "A_4 = A_3.copy()\n",
    "A_4[2][:] = A_4[2][:] * (1 / 2)\n",
    "A_4[0][:] = A_4[0][:] - A_4[2][:]\n",
    "A_4[2][:] = abs(A_4[2][:] * -2)\n",
    "A_4"
   ],
   "id": "c5473b78c64e0a00",
   "outputs": [],
   "execution_count": null
  },
  {
   "metadata": {},
   "cell_type": "code",
   "source": [
    "# step 5\n",
    "A_5 = A_4.copy()\n",
    "A_5[[2, 1], :] = A_5[[1, 2], :]\n",
    "A_5"
   ],
   "id": "1e5627e97fc9b761",
   "outputs": [],
   "execution_count": null
  },
  {
   "metadata": {},
   "cell_type": "code",
   "source": [
    "# Question 1\n",
    "# Find the null space of A\n",
    "\n",
    "A = np.array([\n",
    "    [1, -1, -2],\n",
    "    [0, -1, 4],\n",
    "    [6, -6, -12],\n",
    "])"
   ],
   "id": "ba6a79bd87508c9a",
   "outputs": [],
   "execution_count": null
  },
  {
   "metadata": {},
   "cell_type": "code",
   "source": [
    "A_1 = A.copy()\n",
    "A_1[2][:] = A_1[2][:] / 6\n",
    "\n",
    "A_1[0][:] = A_1[0][:] - A_1[1][:]\n",
    "A_1[1][:] = A_1[1][:] * -1\n",
    "A_1[2][:] = A_1[2][:] - A_1[0][:]\n",
    "A_1[2][:] = A_1[1][:] + A_1[2][:]\n",
    "# A_1[0][:] = A_1[0][:] - A_1[1][:]\n",
    "# A_1[1][:] = A_1[1][:] * (1/2)\n",
    "A_1"
   ],
   "id": "d720174abc68a995",
   "outputs": [],
   "execution_count": null
  },
  {
   "metadata": {},
   "cell_type": "markdown",
   "source": "# Column Space and Ax=b",
   "id": "5ba7cc67fd00d226"
  },
  {
   "metadata": {},
   "cell_type": "code",
   "source": "display(Math(r'The \\space column \\space space \\space and \\space A\\overrightarrow{x} = \\overrightarrow{b}'))",
   "id": "e88077f139d7afff",
   "outputs": [],
   "execution_count": null
  },
  {
   "metadata": {},
   "cell_type": "code",
   "source": [
    "display(Math(r'N(A) is the \\space NULL \\space space \\space of \\space A = A\\overrightarrow{x} = \\overrightarrow{0}'))\n",
    "display(Math(\n",
    "    r'C(A) \\space is \\space the \\space COLUMN \\space space \\space of \\space of A = linear \\space combination \\space of \\space the \\space columns \\space of \\space A'))"
   ],
   "id": "d317008366703fe3",
   "outputs": [],
   "execution_count": null
  },
  {
   "metadata": {},
   "cell_type": "code",
   "source": [
    "A = np.array([\n",
    "    [2, 4],\n",
    "    [3, 6]\n",
    "])"
   ],
   "id": "aeba5f9cc47df39c",
   "outputs": [],
   "execution_count": null
  },
  {
   "metadata": {},
   "cell_type": "code",
   "source": "print(f'C(A) = span({A[:][0]}, {A[:][1]})')",
   "id": "12bd4b45dd93b57",
   "outputs": [],
   "execution_count": null
  },
  {
   "metadata": {},
   "cell_type": "code",
   "source": [
    "display(Math(\n",
    "    r'if \\space \\overrightarrow{b} \\space \\in \\space C(A), \\space then \\space \\overrightarrow{x} \\space exists \\space as \\space a \\space solution'))"
   ],
   "id": "3eef1a222f3deaa8",
   "outputs": [],
   "execution_count": null
  },
  {
   "metadata": {},
   "cell_type": "code",
   "source": [
    "display(Math(\n",
    "    r'if \\space N(A) \\space = \\space \\overrightarrow{0}, \\space then \\space columns \\space of \\space A \\space are \\space linearly \\space independent'))\n",
    "display(Math(\n",
    "    r'if \\space N(A) \\space = \\space \\overrightarrow{0}, \\space \\overrightarrow{v} \\space then \\space columns \\space of \\space A \\space are \\space linearly \\space dependent'))"
   ],
   "id": "ff8fe563130fd57b",
   "outputs": [],
   "execution_count": null
  },
  {
   "metadata": {},
   "cell_type": "code",
   "source": [
    "# Example 1\n",
    "\n",
    "A = np.array([\n",
    "    [2, 4],\n",
    "    [3, 6]\n",
    "])\n",
    "\n",
    "vec_b = np.array([6, 9])"
   ],
   "id": "bfd6d7d08178cbd5",
   "outputs": [],
   "execution_count": null
  },
  {
   "metadata": {},
   "cell_type": "code",
   "source": [
    "# step 1 RREF\n",
    "\n",
    "A_1 = A.copy()\n",
    "A_1[0][:] = A_1[0][:] / 2\n",
    "A_1[1][:] = A_1[1][:] / 3\n",
    "A_1[1][:] = A_1[1][:] - A_1[0][:]\n",
    "A_1"
   ],
   "id": "2cc05b5bee609c46",
   "outputs": [],
   "execution_count": null
  },
  {
   "metadata": {},
   "cell_type": "code",
   "source": [
    "x_1 = display(Math(r'{x_1}'))\n",
    "x_2 = display(Math(r'{x_2}'))"
   ],
   "id": "7459da83ccf6e3d6",
   "outputs": [],
   "execution_count": null
  },
  {
   "metadata": {},
   "cell_type": "code",
   "source": "",
   "id": "543c858c1424fab6",
   "outputs": [],
   "execution_count": null
  },
  {
   "metadata": {},
   "cell_type": "code",
   "source": "display(Math(format_matrix(A)))",
   "id": "8cc1d2363a8a973e",
   "outputs": [],
   "execution_count": null
  },
  {
   "metadata": {},
   "cell_type": "markdown",
   "source": [
    "# Dimensionality, Nullity, Rank\n",
    "***"
   ],
   "id": "3287652e827569e5"
  },
  {
   "metadata": {},
   "cell_type": "code",
   "source": [
    "A = np.array([\n",
    "    [2, 0, 4, -2],\n",
    "    [1, 3, -1, 0],\n",
    "    [0, -2, 1, 1]\n",
    "], dtype='float64')\n",
    "A"
   ],
   "id": "a2402e8e5e31de6f",
   "outputs": [],
   "execution_count": null
  },
  {
   "metadata": {},
   "cell_type": "code",
   "source": [
    "# Step 1: RREF\n",
    "\n",
    "A_1 = A.copy()\n",
    "A_1[0][:] = A_1[0][:] / 2\n",
    "A_1[[2, 1], :] = A_1[[1, 2], :]\n",
    "A_1[[0, 2], :] = A_1[[2, 0], :]\n",
    "A_1[2][:] = A_1[2][:] - A_1[0][:]\n",
    "A_1[2][:] = (-1 * (A_1[2][:]))\n",
    "A_1[2][:] = A_1[1][:] + A_1[2][:]\n",
    "A_1[[2, 1], :] = A_1[[1, 2], :]\n",
    "A_1[0][:] = A_1[0][:] + A_1[2][:]\n",
    "A_1[2][:] = (-1 / 2) * A_1[2][:]\n",
    "A_1[[2, 1], :] = A_1[[1, 2], :]\n",
    "A_1[0][:] = A_1[0][:] - A_1[1][:]\n",
    "A_1[2][:] = A_1[2][:] - A_1[1][:]\n",
    "A_1[2][:] = (-1 / 2) * A_1[2][:]\n",
    "A_1"
   ],
   "id": "cf84ea7f312a1d4c",
   "outputs": [],
   "execution_count": null
  },
  {
   "metadata": {},
   "cell_type": "code",
   "source": [
    " # Question 1\n",
    "\n",
    "M = np.array([\n",
    "    [1, -2, 3, -2, 3],\n",
    "    [-3, 6, -9, 3, -6],\n",
    "    [-5, 9, -7, 3, 0]\n",
    "], dtype='float64')\n",
    "\n",
    "O = np.array([0, 0, 0], dtype='float64')\n",
    "\n",
    "M"
   ],
   "id": "c81d9a83747a2c74",
   "outputs": [],
   "execution_count": null
  },
  {
   "metadata": {},
   "cell_type": "code",
   "source": [
    "A = np.c_[M, O]\n",
    "A"
   ],
   "id": "23f7caf7bc5685e6",
   "outputs": [],
   "execution_count": null
  },
  {
   "metadata": {},
   "cell_type": "code",
   "source": [
    "A_1 = A.copy()\n",
    "A_1[1][:] = A_1[1][:] * (-1 / 3)\n",
    "A_1[2][:] = A_1[2][:] * (-1 / 5)\n",
    "A_1[1][:] = A_1[1][:] - A_1[2][:]\n",
    "A_1[2][:] = A_1[2][:] - A_1[0][:]\n",
    "A_1[2][:] = A_1[1][:] + A_1[2][:]\n",
    "A_1[0][:] = A_1[1][:] + A_1[0][:]\n",
    "A_1[1][:] = A_1[1][:] * -1\n",
    "A_1[0][:] = A_1[0][:] + (3 * A_1[1][:])\n",
    "# A_1[2][:] = A_1[2][:] * -1\n",
    "\n",
    "A_1"
   ],
   "id": "2b2a06fe940637d9",
   "outputs": [],
   "execution_count": null
  },
  {
   "metadata": {},
   "cell_type": "code",
   "source": [
    "A = np.array([\n",
    "    [1, 3, -2, -1, 0],\n",
    "    [2, 5, -4, -7, 3],\n",
    "    [1, 4, -3, 5, 4],\n",
    "    [1, 2, -2, -6, 3]\n",
    "])"
   ],
   "id": "22f4e1144333290e",
   "outputs": [],
   "execution_count": null
  },
  {
   "metadata": {},
   "cell_type": "code",
   "source": [
    "A_1 = A.copy()\n",
    "A_1[2][:] = A_1[2][:] * 2\n",
    "A_1[3][:] = A_1[3][:] * 2\n",
    "A_1[1][:] = A_1[1][:] - A_1[2][:]\n",
    "A_1[2][:] = A_1[2][:] - A_1[3][:]\n",
    "A_1[3][:] = A_1[2][:] - (2 * A_1[2][:])\n",
    "A_1[1][:] = A_1[1][:] + A_1[2][:]\n",
    "A_1[2][:] = A_1[2][:] + A_1[3][:]\n",
    "A_1[3][:] = (4 * A_1[1][:]) + A_1[3][:]\n",
    "A_1[[3, 2], :] = A_1[[2, 3], :]\n",
    "A_1[2][:] = (A_1[2][:] * (1 / 2))\n",
    "A_1[0][:] = A_1[0][:] - (3 * A_1[1][:])\n",
    "A_1[0][:] = A_1[0][:] + (2 * A_1[2][:])\n",
    "A_1"
   ],
   "id": "884200401b9e698b",
   "outputs": [],
   "execution_count": null
  },
  {
   "metadata": {},
   "cell_type": "code",
   "source": "",
   "id": "880aabf47c8fd141",
   "outputs": [],
   "execution_count": null
  }
 ],
 "metadata": {
  "kernelspec": {
   "display_name": "Python 3",
   "language": "python",
   "name": "python3"
  },
  "language_info": {
   "codemirror_mode": {
    "name": "ipython",
    "version": 2
   },
   "file_extension": ".py",
   "mimetype": "text/x-python",
   "name": "python",
   "nbconvert_exporter": "python",
   "pygments_lexer": "ipython2",
   "version": "2.7.6"
  }
 },
 "nbformat": 4,
 "nbformat_minor": 5
}
