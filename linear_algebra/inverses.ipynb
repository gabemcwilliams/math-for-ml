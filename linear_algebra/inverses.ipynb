{
 "cells": [
  {
   "metadata": {
    "ExecuteTime": {
     "end_time": "2025-04-19T00:54:23.430283Z",
     "start_time": "2025-04-19T00:54:22.639672Z"
    }
   },
   "cell_type": "code",
   "source": [
    "import re\n",
    "import numpy as np\n",
    "import scipy as sp\n",
    "import sympy as sym\n",
    "from IPython.display import display, Math, Latex\n",
    "import math\n",
    "import matplotlib.pyplot as plt\n",
    "from fractions import Fraction"
   ],
   "id": "initial_id",
   "outputs": [],
   "execution_count": 1
  },
  {
   "metadata": {},
   "cell_type": "markdown",
   "source": [
    "# Inverse Transformations are Linear\n",
    "***"
   ],
   "id": "ff066c962163934d"
  },
  {
   "metadata": {
    "ExecuteTime": {
     "end_time": "2025-04-19T00:54:23.782718Z",
     "start_time": "2025-04-19T00:54:23.775633Z"
    }
   },
   "cell_type": "code",
   "source": [
    "print('\\n' + '-' * 80 + '\\n')\n",
    "display(Math(r'T(\\overrightarrow{x}) \\space = \\space A\\overrightarrow{x}'))\n",
    "print('\\n' + '-' * 80 + '\\n')\n",
    "display(Math(r'T^{-1}(\\overrightarrow{x}) \\space = \\space A^{-1}\\overrightarrow{x}'))\n",
    "print('\\n' + '-' * 80 + '\\n')"
   ],
   "id": "6a6f2f18309397fd",
   "outputs": [
    {
     "name": "stdout",
     "output_type": "stream",
     "text": [
      "\n",
      "--------------------------------------------------------------------------------\n",
      "\n"
     ]
    },
    {
     "data": {
      "text/plain": [
       "<IPython.core.display.Math object>"
      ],
      "text/latex": "$\\displaystyle T(\\overrightarrow{x}) \\space = \\space A\\overrightarrow{x}$"
     },
     "metadata": {},
     "output_type": "display_data"
    },
    {
     "name": "stdout",
     "output_type": "stream",
     "text": [
      "\n",
      "--------------------------------------------------------------------------------\n",
      "\n"
     ]
    },
    {
     "data": {
      "text/plain": [
       "<IPython.core.display.Math object>"
      ],
      "text/latex": "$\\displaystyle T^{-1}(\\overrightarrow{x}) \\space = \\space A^{-1}\\overrightarrow{x}$"
     },
     "metadata": {},
     "output_type": "display_data"
    },
    {
     "name": "stdout",
     "output_type": "stream",
     "text": [
      "\n",
      "--------------------------------------------------------------------------------\n",
      "\n"
     ]
    }
   ],
   "execution_count": 2
  },
  {
   "metadata": {
    "ExecuteTime": {
     "end_time": "2025-04-19T00:54:23.811504Z",
     "start_time": "2025-04-19T00:54:23.801996Z"
    }
   },
   "cell_type": "code",
   "source": [
    "B = np.array([[-4, 1], [2, -3]])\n",
    "\n",
    "I = np.identity(2)\n",
    "\n",
    "B_inv = np.linalg.inv(B)\n",
    "\n",
    "m = np.c_[B, I]"
   ],
   "id": "37404f0d21f341ba",
   "outputs": [],
   "execution_count": 3
  },
  {
   "metadata": {
    "ExecuteTime": {
     "end_time": "2025-04-19T00:54:23.822774Z",
     "start_time": "2025-04-19T00:54:23.819072Z"
    }
   },
   "cell_type": "code",
   "source": "M = sym.Matrix(m)",
   "id": "4a23055adb395e44",
   "outputs": [],
   "execution_count": 4
  },
  {
   "metadata": {
    "ExecuteTime": {
     "end_time": "2025-04-19T00:54:23.875517Z",
     "start_time": "2025-04-19T00:54:23.870752Z"
    }
   },
   "cell_type": "code",
   "source": "M.rref()[0]",
   "id": "1b3fd0e8b6d764f9",
   "outputs": [
    {
     "data": {
      "text/plain": [
       "Matrix([\n",
       "[1, 0, -0.3, -0.1],\n",
       "[0, 1, -0.2, -0.4]])"
      ],
      "text/latex": "$\\displaystyle \\left[\\begin{matrix}1 & 0 & -0.3 & -0.1\\\\0 & 1 & -0.2 & -0.4\\end{matrix}\\right]$"
     },
     "execution_count": 5,
     "metadata": {},
     "output_type": "execute_result"
    }
   ],
   "execution_count": 5
  },
  {
   "metadata": {
    "ExecuteTime": {
     "end_time": "2025-04-19T00:54:23.891861Z",
     "start_time": "2025-04-19T00:54:23.888060Z"
    }
   },
   "cell_type": "code",
   "source": "B_inv",
   "id": "135e11e1b95ba6ae",
   "outputs": [
    {
     "data": {
      "text/plain": [
       "array([[-0.3, -0.1],\n",
       "       [-0.2, -0.4]])"
      ]
     },
     "execution_count": 6,
     "metadata": {},
     "output_type": "execute_result"
    }
   ],
   "execution_count": 6
  },
  {
   "metadata": {},
   "cell_type": "markdown",
   "source": [
    "# Matrix Inverses, and Invertible and Singular Matrices\n",
    "***"
   ],
   "id": "3ca422a0b697f036"
  },
  {
   "metadata": {
    "ExecuteTime": {
     "end_time": "2025-04-19T00:54:24.252353Z",
     "start_time": "2025-04-19T00:54:24.249880Z"
    }
   },
   "cell_type": "code",
   "source": "m = np.array([[3, 7], [0, -1]])",
   "id": "653918f44c32f5f7",
   "outputs": [],
   "execution_count": 7
  },
  {
   "metadata": {
    "ExecuteTime": {
     "end_time": "2025-04-19T00:54:24.335008Z",
     "start_time": "2025-04-19T00:54:24.332574Z"
    }
   },
   "cell_type": "code",
   "source": "M = sym.Matrix(m)",
   "id": "3d4a67cd2f7112bc",
   "outputs": [],
   "execution_count": 8
  },
  {
   "metadata": {
    "ExecuteTime": {
     "end_time": "2025-04-19T00:54:24.370340Z",
     "start_time": "2025-04-19T00:54:24.366503Z"
    }
   },
   "cell_type": "code",
   "source": "M.inv()",
   "id": "17b82d998c1d1ff3",
   "outputs": [
    {
     "data": {
      "text/plain": [
       "Matrix([\n",
       "[1/3, 7/3],\n",
       "[  0,  -1]])"
      ],
      "text/latex": "$\\displaystyle \\left[\\begin{matrix}\\frac{1}{3} & \\frac{7}{3}\\\\0 & -1\\end{matrix}\\right]$"
     },
     "execution_count": 9,
     "metadata": {},
     "output_type": "execute_result"
    }
   ],
   "execution_count": 9
  },
  {
   "metadata": {},
   "cell_type": "markdown",
   "source": [
    "# Solving Systems of Linear Equations with Matrix Inverses\n",
    "***"
   ],
   "id": "2bae129274a1d38a"
  },
  {
   "metadata": {
    "ExecuteTime": {
     "end_time": "2025-04-19T00:54:24.417964Z",
     "start_time": "2025-04-19T00:54:24.412740Z"
    }
   },
   "cell_type": "code",
   "source": [
    "# Question 1: Question: Use an inverse matrix to find the solution to the system.\n",
    "# 3x + 12y = 51\n",
    "# −2x + 6y = −6\n",
    "\n",
    "\n",
    "# Solution:\n",
    "m = np.array([[3, 12], [-2, 6]])\n",
    "b = np.array([51, -6])\n",
    "\n",
    "# Inverse of matrix\n",
    "M = np.linalg.inv(m)\n",
    "\n",
    "# Solution vector\n",
    "x = np.dot(M, b)\n",
    "\n",
    "x"
   ],
   "id": "887ff1692626d4ed",
   "outputs": [
    {
     "data": {
      "text/plain": [
       "array([9., 2.])"
      ]
     },
     "execution_count": 10,
     "metadata": {},
     "output_type": "execute_result"
    }
   ],
   "execution_count": 10
  },
  {
   "metadata": {},
   "cell_type": "markdown",
   "source": "",
   "id": "b48965118e30b98b"
  }
 ],
 "metadata": {
  "kernelspec": {
   "display_name": "Python 3",
   "language": "python",
   "name": "python3"
  },
  "language_info": {
   "codemirror_mode": {
    "name": "ipython",
    "version": 2
   },
   "file_extension": ".py",
   "mimetype": "text/x-python",
   "name": "python",
   "nbconvert_exporter": "python",
   "pygments_lexer": "ipython2",
   "version": "2.7.6"
  }
 },
 "nbformat": 4,
 "nbformat_minor": 5
}
