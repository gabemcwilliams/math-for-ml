{
 "cells": [
  {
   "cell_type": "code",
   "id": "initial_id",
   "metadata": {
    "collapsed": true,
    "ExecuteTime": {
     "end_time": "2025-04-19T00:54:44.670245Z",
     "start_time": "2025-04-19T00:54:44.009817Z"
    }
   },
   "source": [
    "import re\n",
    "import numpy as np\n",
    "import scipy as sp\n",
    "import sympy as sym\n",
    "from IPython.display import display, Math, Latex\n",
    "import math\n",
    "import matplotlib.pyplot as plt\n",
    "from fractions import Fraction"
   ],
   "outputs": [],
   "execution_count": 1
  },
  {
   "metadata": {},
   "cell_type": "markdown",
   "source": [
    "# Transposes and their Determinants\n",
    "***"
   ],
   "id": "5bb85edbddf488f2"
  },
  {
   "metadata": {
    "ExecuteTime": {
     "end_time": "2025-04-19T00:54:44.932893Z",
     "start_time": "2025-04-19T00:54:44.930496Z"
    }
   },
   "cell_type": "code",
   "source": [
    "a = np.array([\n",
    "    [1, 1, -2],\n",
    "    [2, 3, 1],\n",
    "    [3, -3, 4]\n",
    "])\n",
    "\n",
    "b = np.array([\n",
    "    [4, -6, 1],\n",
    "    [0, -8, 5],\n",
    "    [1, 1, -2]\n",
    "])"
   ],
   "id": "acd288a1b1d9b994",
   "outputs": [],
   "execution_count": 2
  },
  {
   "metadata": {
    "ExecuteTime": {
     "end_time": "2025-04-19T00:54:44.945801Z",
     "start_time": "2025-04-19T00:54:44.941866Z"
    }
   },
   "cell_type": "code",
   "source": [
    "# Question 1: Question: Find (AB)T\n",
    "\n",
    "(a * b).transpose()"
   ],
   "id": "98362ccaa6359db",
   "outputs": [
    {
     "data": {
      "text/plain": [
       "array([[  4,   0,   3],\n",
       "       [ -6, -24,  -3],\n",
       "       [ -2,   5,  -8]])"
      ]
     },
     "execution_count": 3,
     "metadata": {},
     "output_type": "execute_result"
    }
   ],
   "execution_count": 3
  },
  {
   "metadata": {
    "ExecuteTime": {
     "end_time": "2025-04-19T00:54:45.257154Z",
     "start_time": "2025-04-19T00:54:45.254192Z"
    }
   },
   "cell_type": "code",
   "source": "a.transpose().dot(b.transpose())",
   "id": "a0fff97b8de4b945",
   "outputs": [
    {
     "data": {
      "text/plain": [
       "array([[ -5,  -1,  -3],\n",
       "       [-17, -39,  10],\n",
       "       [-10,  12,  -9]])"
      ]
     },
     "execution_count": 4,
     "metadata": {},
     "output_type": "execute_result"
    }
   ],
   "execution_count": 4
  },
  {
   "metadata": {
    "ExecuteTime": {
     "end_time": "2025-04-19T00:54:45.441719Z",
     "start_time": "2025-04-19T00:54:45.438792Z"
    }
   },
   "cell_type": "code",
   "source": "a.transpose() * b.transpose()",
   "id": "2422f85e59bbc54f",
   "outputs": [
    {
     "data": {
      "text/plain": [
       "array([[  4,   0,   3],\n",
       "       [ -6, -24,  -3],\n",
       "       [ -2,   5,  -8]])"
      ]
     },
     "execution_count": 5,
     "metadata": {},
     "output_type": "execute_result"
    }
   ],
   "execution_count": 5
  },
  {
   "metadata": {
    "ExecuteTime": {
     "end_time": "2025-04-19T00:54:45.589266Z",
     "start_time": "2025-04-19T00:54:45.585765Z"
    }
   },
   "cell_type": "code",
   "source": "b.transpose()",
   "id": "381b3eb8c3568dbd",
   "outputs": [
    {
     "data": {
      "text/plain": [
       "array([[ 4,  0,  1],\n",
       "       [-6, -8,  1],\n",
       "       [ 1,  5, -2]])"
      ]
     },
     "execution_count": 6,
     "metadata": {},
     "output_type": "execute_result"
    }
   ],
   "execution_count": 6
  },
  {
   "metadata": {
    "ExecuteTime": {
     "end_time": "2025-04-19T00:54:45.884502Z",
     "start_time": "2025-04-19T00:54:45.881302Z"
    }
   },
   "cell_type": "code",
   "source": [
    "# Question 2: Find the sum of two transposed matrices\n",
    "\n",
    "(a + b).transpose()"
   ],
   "id": "1cf23380ba223a26",
   "outputs": [
    {
     "data": {
      "text/plain": [
       "array([[ 5,  2,  4],\n",
       "       [-5, -5, -2],\n",
       "       [-1,  6,  2]])"
      ]
     },
     "execution_count": 7,
     "metadata": {},
     "output_type": "execute_result"
    }
   ],
   "execution_count": 7
  },
  {
   "metadata": {
    "ExecuteTime": {
     "end_time": "2025-04-19T00:54:46.086923Z",
     "start_time": "2025-04-19T00:54:46.084616Z"
    }
   },
   "cell_type": "code",
   "source": "# Question 3: : Find (A−1)T. ",
   "id": "4cca95179d31d1db",
   "outputs": [],
   "execution_count": 8
  },
  {
   "metadata": {
    "ExecuteTime": {
     "end_time": "2025-04-19T00:54:46.443038Z",
     "start_time": "2025-04-19T00:54:46.438944Z"
    }
   },
   "cell_type": "code",
   "source": "np.linalg.inv(a).transpose()",
   "id": "b53d0826b6aac250",
   "outputs": [
    {
     "data": {
      "text/plain": [
       "array([[ 0.375, -0.125, -0.375],\n",
       "       [ 0.05 ,  0.25 ,  0.15 ],\n",
       "       [ 0.175, -0.125,  0.025]])"
      ]
     },
     "execution_count": 9,
     "metadata": {},
     "output_type": "execute_result"
    }
   ],
   "execution_count": 9
  },
  {
   "metadata": {
    "ExecuteTime": {
     "end_time": "2025-04-19T00:54:46.510663Z",
     "start_time": "2025-04-19T00:54:46.507867Z"
    }
   },
   "cell_type": "code",
   "source": "A = sym.Matrix(a.copy())",
   "id": "20596882835e9c4c",
   "outputs": [],
   "execution_count": 10
  },
  {
   "metadata": {
    "ExecuteTime": {
     "end_time": "2025-04-19T00:54:46.728178Z",
     "start_time": "2025-04-19T00:54:46.725839Z"
    }
   },
   "cell_type": "code",
   "source": "M = A.inv().transpose()",
   "id": "dbcdfdb056ee132c",
   "outputs": [],
   "execution_count": 11
  },
  {
   "metadata": {
    "ExecuteTime": {
     "end_time": "2025-04-19T00:54:46.840929Z",
     "start_time": "2025-04-19T00:54:46.837190Z"
    }
   },
   "cell_type": "code",
   "source": "M",
   "id": "2fabc6599ccf8c13",
   "outputs": [
    {
     "data": {
      "text/plain": [
       "Matrix([\n",
       "[ 3/8, -1/8, -3/8],\n",
       "[1/20,  1/4, 3/20],\n",
       "[7/40, -1/8, 1/40]])"
      ],
      "text/latex": "$\\displaystyle \\left[\\begin{matrix}\\frac{3}{8} & - \\frac{1}{8} & - \\frac{3}{8}\\\\\\frac{1}{20} & \\frac{1}{4} & \\frac{3}{20}\\\\\\frac{7}{40} & - \\frac{1}{8} & \\frac{1}{40}\\end{matrix}\\right]$"
     },
     "execution_count": 12,
     "metadata": {},
     "output_type": "execute_result"
    }
   ],
   "execution_count": 12
  },
  {
   "metadata": {},
   "cell_type": "markdown",
   "source": [
    "# Null and Column Spaces of the Transposed Matrix\n",
    "***"
   ],
   "id": "57e91516a58797dc"
  },
  {
   "metadata": {
    "ExecuteTime": {
     "end_time": "2025-04-19T00:54:46.972505Z",
     "start_time": "2025-04-19T00:54:46.969941Z"
    }
   },
   "cell_type": "code",
   "source": [
    "a = np.array([\n",
    "    [1, -3],\n",
    "    [0, 1],\n",
    "    [4, 0]\n",
    "])\n",
    "\n"
   ],
   "id": "302943fef671a561",
   "outputs": [],
   "execution_count": 13
  },
  {
   "metadata": {
    "ExecuteTime": {
     "end_time": "2025-04-19T00:54:47.000599Z",
     "start_time": "2025-04-19T00:54:46.998233Z"
    }
   },
   "cell_type": "code",
   "source": "M = sym.Matrix(a.copy())",
   "id": "18b80d4292d1498",
   "outputs": [],
   "execution_count": 14
  },
  {
   "metadata": {
    "ExecuteTime": {
     "end_time": "2025-04-19T00:54:47.042742Z",
     "start_time": "2025-04-19T00:54:47.040099Z"
    }
   },
   "cell_type": "code",
   "source": [
    "M_t = M.transpose()\n",
    "\n",
    "Z = sym.zeros(2, 1)"
   ],
   "id": "4c5f0c0e0aa29f37",
   "outputs": [],
   "execution_count": 15
  },
  {
   "metadata": {
    "ExecuteTime": {
     "end_time": "2025-04-19T00:54:47.070347Z",
     "start_time": "2025-04-19T00:54:47.066744Z"
    }
   },
   "cell_type": "code",
   "source": "M_t",
   "id": "d4ed9fd140734a9e",
   "outputs": [
    {
     "data": {
      "text/plain": [
       "Matrix([\n",
       "[ 1, 0, 4],\n",
       "[-3, 1, 0]])"
      ],
      "text/latex": "$\\displaystyle \\left[\\begin{matrix}1 & 0 & 4\\\\-3 & 1 & 0\\end{matrix}\\right]$"
     },
     "execution_count": 16,
     "metadata": {},
     "output_type": "execute_result"
    }
   ],
   "execution_count": 16
  },
  {
   "metadata": {
    "ExecuteTime": {
     "end_time": "2025-04-19T00:54:47.083957Z",
     "start_time": "2025-04-19T00:54:47.080415Z"
    }
   },
   "cell_type": "code",
   "source": "Z",
   "id": "71ae6c0729b846e3",
   "outputs": [
    {
     "data": {
      "text/plain": [
       "Matrix([\n",
       "[0],\n",
       "[0]])"
      ],
      "text/latex": "$\\displaystyle \\left[\\begin{matrix}0\\\\0\\end{matrix}\\right]$"
     },
     "execution_count": 17,
     "metadata": {},
     "output_type": "execute_result"
    }
   ],
   "execution_count": 17
  },
  {
   "metadata": {
    "ExecuteTime": {
     "end_time": "2025-04-19T00:54:47.095010Z",
     "start_time": "2025-04-19T00:54:47.091454Z"
    }
   },
   "cell_type": "code",
   "source": [
    "result = M_t.row_join(Z)\n",
    "\n",
    "result"
   ],
   "id": "7eb153e9173b4e2b",
   "outputs": [
    {
     "data": {
      "text/plain": [
       "Matrix([\n",
       "[ 1, 0, 4, 0],\n",
       "[-3, 1, 0, 0]])"
      ],
      "text/latex": "$\\displaystyle \\left[\\begin{matrix}1 & 0 & 4 & 0\\\\-3 & 1 & 0 & 0\\end{matrix}\\right]$"
     },
     "execution_count": 18,
     "metadata": {},
     "output_type": "execute_result"
    }
   ],
   "execution_count": 18
  },
  {
   "metadata": {
    "ExecuteTime": {
     "end_time": "2025-04-19T00:54:47.107944Z",
     "start_time": "2025-04-19T00:54:47.105632Z"
    }
   },
   "cell_type": "code",
   "source": "R = result.rref()[0]",
   "id": "a2128cc0b57621b5",
   "outputs": [],
   "execution_count": 19
  },
  {
   "metadata": {
    "ExecuteTime": {
     "end_time": "2025-04-19T00:54:47.119110Z",
     "start_time": "2025-04-19T00:54:47.115916Z"
    }
   },
   "cell_type": "code",
   "source": "R",
   "id": "2e95049a6ae8f62e",
   "outputs": [
    {
     "data": {
      "text/plain": [
       "Matrix([\n",
       "[1, 0,  4, 0],\n",
       "[0, 1, 12, 0]])"
      ],
      "text/latex": "$\\displaystyle \\left[\\begin{matrix}1 & 0 & 4 & 0\\\\0 & 1 & 12 & 0\\end{matrix}\\right]$"
     },
     "execution_count": 20,
     "metadata": {},
     "output_type": "execute_result"
    }
   ],
   "execution_count": 20
  },
  {
   "metadata": {
    "ExecuteTime": {
     "end_time": "2025-04-19T00:54:47.129912Z",
     "start_time": "2025-04-19T00:54:47.127371Z"
    }
   },
   "cell_type": "code",
   "source": "# Find the null space and the nullity of A",
   "id": "8faf7431f3ddaa45",
   "outputs": [],
   "execution_count": 21
  },
  {
   "metadata": {
    "ExecuteTime": {
     "end_time": "2025-04-19T00:54:47.140314Z",
     "start_time": "2025-04-19T00:54:47.137299Z"
    }
   },
   "cell_type": "code",
   "source": [
    "A = sym.Matrix(np.array([\n",
    "    [1, -2, 2, 3, -1],\n",
    "    [-3, 6, -1, 1, -7],\n",
    "    [2, -4, 5, 8, -4]\n",
    "]))"
   ],
   "id": "6a375a71e01b21f6",
   "outputs": [],
   "execution_count": 22
  },
  {
   "metadata": {
    "ExecuteTime": {
     "end_time": "2025-04-19T00:54:47.151017Z",
     "start_time": "2025-04-19T00:54:47.148087Z"
    }
   },
   "cell_type": "code",
   "source": "A",
   "id": "a958edd3b7cedce7",
   "outputs": [
    {
     "data": {
      "text/plain": [
       "Matrix([\n",
       "[ 1, -2,  2, 3, -1],\n",
       "[-3,  6, -1, 1, -7],\n",
       "[ 2, -4,  5, 8, -4]])"
      ],
      "text/latex": "$\\displaystyle \\left[\\begin{matrix}1 & -2 & 2 & 3 & -1\\\\-3 & 6 & -1 & 1 & -7\\\\2 & -4 & 5 & 8 & -4\\end{matrix}\\right]$"
     },
     "execution_count": 23,
     "metadata": {},
     "output_type": "execute_result"
    }
   ],
   "execution_count": 23
  },
  {
   "metadata": {
    "ExecuteTime": {
     "end_time": "2025-04-19T00:54:47.164033Z",
     "start_time": "2025-04-19T00:54:47.159844Z"
    }
   },
   "cell_type": "code",
   "source": [
    "# Find RREF of A\n",
    "rref = A.rref()[0]\n",
    "rref"
   ],
   "id": "cc7e5c885cb83c7c",
   "outputs": [
    {
     "data": {
      "text/plain": [
       "Matrix([\n",
       "[1, -2, 0, -1,  3],\n",
       "[0,  0, 1,  2, -2],\n",
       "[0,  0, 0,  0,  0]])"
      ],
      "text/latex": "$\\displaystyle \\left[\\begin{matrix}1 & -2 & 0 & -1 & 3\\\\0 & 0 & 1 & 2 & -2\\\\0 & 0 & 0 & 0 & 0\\end{matrix}\\right]$"
     },
     "execution_count": 24,
     "metadata": {},
     "output_type": "execute_result"
    }
   ],
   "execution_count": 24
  },
  {
   "metadata": {
    "ExecuteTime": {
     "end_time": "2025-04-19T00:54:47.174652Z",
     "start_time": "2025-04-19T00:54:47.171039Z"
    }
   },
   "cell_type": "code",
   "source": [
    "# Create an Augmented Matrix A\n",
    "A_aug = rref.row_join(sym.zeros(3, 1))\n",
    "A_aug"
   ],
   "id": "5ed70eb2ed30f2d4",
   "outputs": [
    {
     "data": {
      "text/plain": [
       "Matrix([\n",
       "[1, -2, 0, -1,  3, 0],\n",
       "[0,  0, 1,  2, -2, 0],\n",
       "[0,  0, 0,  0,  0, 0]])"
      ],
      "text/latex": "$\\displaystyle \\left[\\begin{matrix}1 & -2 & 0 & -1 & 3 & 0\\\\0 & 0 & 1 & 2 & -2 & 0\\\\0 & 0 & 0 & 0 & 0 & 0\\end{matrix}\\right]$"
     },
     "execution_count": 25,
     "metadata": {},
     "output_type": "execute_result"
    }
   ],
   "execution_count": 25
  },
  {
   "metadata": {
    "ExecuteTime": {
     "end_time": "2025-04-19T00:54:47.180672Z",
     "start_time": "2025-04-19T00:54:47.178159Z"
    }
   },
   "cell_type": "code",
   "source": [
    "# each column of the augmented matrix represents a pivot column (ie. x_1, x_2, x_3)\n",
    "\n",
    "# In the matrix A_aug, column 1, and 3 are the pivot columns and the remaining columns are free variables\n",
    "\n",
    "# We want to solve Ax = 0 for the leading variables\n",
    "\n",
    "# EQ1: x_1 - 2x_2 + 0x_3 + -1x_4 + 3x_5 = 0\n",
    "# EQ2: x_3 + 2x_4 - -2x_5 = 0"
   ],
   "id": "a9160818940f5ce0",
   "outputs": [],
   "execution_count": 26
  },
  {
   "metadata": {
    "ExecuteTime": {
     "end_time": "2025-04-19T00:54:47.187350Z",
     "start_time": "2025-04-19T00:54:47.185507Z"
    }
   },
   "cell_type": "code",
   "source": [
    "# EQ1: x_1 = 2x_2 + x_4 - 3x_5\n",
    "# EQ2: x_3 = 2x_4 - 2x_5"
   ],
   "id": "cdd1db4fa6ff71cc",
   "outputs": [],
   "execution_count": 27
  },
  {
   "metadata": {
    "ExecuteTime": {
     "end_time": "2025-04-19T00:54:47.198666Z",
     "start_time": "2025-04-19T00:54:47.196697Z"
    }
   },
   "cell_type": "code",
   "source": [
    "\n",
    "#          [[ x_1 ],           [[  (0x_1)    +    2x_2     +     0x_3    +      1x_4     +  -3x_5    ],   () => pivot column\n",
    "#          [ x_2 ],             [   0x_1     +   (1x_2)    +     0x_3    +      0x_4     +   0x_5    ],   () => pivot column\n",
    "#   x =    [ x_3 ],      =      [   0x_1     +    0x_2     +     0x_3    +     -2x_4     +   2x_5    ],\n",
    "#          [ x_4 ],             [   0x_1     +    0x_2     +     0x_3    +      1x_4     +   0x_5    ],\n",
    "#          [ x_5 ]]             [   0x_1     +    0x_2     +     0x_3    +      0_x4     +   0x_5    ]]   "
   ],
   "id": "e04628a983af17d1",
   "outputs": [],
   "execution_count": 28
  },
  {
   "metadata": {
    "ExecuteTime": {
     "end_time": "2025-04-19T00:54:47.208279Z",
     "start_time": "2025-04-19T00:54:47.206312Z"
    }
   },
   "cell_type": "code",
   "source": [
    "\n",
    "#         [[ x_1 ],            [[  2x_2   ]      [  1x_4  ]          [  -3x_5   ],   () => pivot column\n",
    "#          [ x_2 ],             [ (1x_2)  ]      [  0x_4  ]          [   0x_5   ],   () => pivot column\n",
    "#   x =    [ x_3 ],      =      [  0x_2   ]  +   [ -2x_4  ]   +      [   2x_5   ],\n",
    "#          [ x_4 ],             [  0x_2   ]      [  1x_4  ]          [   0x_5   ],\n",
    "#          [ x_5 ]]             [  0x_2   ]      [  0_x4  ]          [   0x_5   ]]   \n"
   ],
   "id": "a2f56f2b921e1ab0",
   "outputs": [],
   "execution_count": 29
  },
  {
   "metadata": {
    "ExecuteTime": {
     "end_time": "2025-04-19T00:54:47.214529Z",
     "start_time": "2025-04-19T00:54:47.212285Z"
    }
   },
   "cell_type": "code",
   "source": [
    "\n",
    "#         [[ x_1 ],                [[ 2 ]           [ 1 ]              [ -3 ],  \n",
    "#          [ x_2 ],                 [ 1 ]           [ 0 ]              [ 0 ],  \n",
    "#   x =    [ x_3 ],      =   x_2    [ 0 ]  +  x_4   [ -2 ]   +   x_5   [ 2 ],\n",
    "#          [ x_4 ],                 [ 0 ]           [ 1 ]              [ 0 ],\n",
    "#          [ x_5 ]]                 [ 0 ]           [ 0 ]              [ 0 ]]   \n"
   ],
   "id": "5fb34fd8013ca8fa",
   "outputs": [],
   "execution_count": 30
  },
  {
   "metadata": {
    "ExecuteTime": {
     "end_time": "2025-04-19T00:54:47.221543Z",
     "start_time": "2025-04-19T00:54:47.218906Z"
    }
   },
   "cell_type": "code",
   "source": [
    "#                      [[ 2 ]       [ 1 ]         [ -3 ],  \n",
    "#                       [ 1 ]       [ 0 ]         [ 0 ],  \n",
    "#   null(A) = span of   [ 0 ]  +    [ -2 ]   +    [ 2 ],\n",
    "#                       [ 0 ]       [ 1 ]         [ 0 ],\n",
    "#                       [ 0 ]       [ 0 ]         [ 0 ]]  "
   ],
   "id": "54db1111b6124707",
   "outputs": [],
   "execution_count": 31
  },
  {
   "metadata": {
    "ExecuteTime": {
     "end_time": "2025-04-19T00:54:47.233686Z",
     "start_time": "2025-04-19T00:54:47.231031Z"
    }
   },
   "cell_type": "code",
   "source": "# Nullity(A) = 3",
   "id": "fa38e16765e144cc",
   "outputs": [],
   "execution_count": 32
  },
  {
   "metadata": {},
   "cell_type": "markdown",
   "source": [
    "# Product of Matrix and its Transpose\n",
    "***"
   ],
   "id": "67e28918b443ddd7"
  },
  {
   "metadata": {
    "ExecuteTime": {
     "end_time": "2025-04-19T00:54:47.244660Z",
     "start_time": "2025-04-19T00:54:47.242234Z"
    }
   },
   "cell_type": "code",
   "source": [
    "a = np.array([\n",
    "    [2, 1],\n",
    "    [0, -3],\n",
    "    [1, 0]\n",
    "])"
   ],
   "id": "33b6590ca2b2de03",
   "outputs": [],
   "execution_count": 33
  },
  {
   "metadata": {
    "ExecuteTime": {
     "end_time": "2025-04-19T00:54:47.252326Z",
     "start_time": "2025-04-19T00:54:47.248665Z"
    }
   },
   "cell_type": "code",
   "source": [
    "A = sym.Matrix(a.copy())\n",
    "print(A.shape)\n",
    "A"
   ],
   "id": "1a0d09901baec7d7",
   "outputs": [
    {
     "name": "stdout",
     "output_type": "stream",
     "text": [
      "(3, 2)\n"
     ]
    },
    {
     "data": {
      "text/plain": [
       "Matrix([\n",
       "[2,  1],\n",
       "[0, -3],\n",
       "[1,  0]])"
      ],
      "text/latex": "$\\displaystyle \\left[\\begin{matrix}2 & 1\\\\0 & -3\\\\1 & 0\\end{matrix}\\right]$"
     },
     "execution_count": 34,
     "metadata": {},
     "output_type": "execute_result"
    }
   ],
   "execution_count": 34
  },
  {
   "metadata": {
    "ExecuteTime": {
     "end_time": "2025-04-19T00:54:47.265522Z",
     "start_time": "2025-04-19T00:54:47.261845Z"
    }
   },
   "cell_type": "code",
   "source": [
    "At = A.transpose()\n",
    "at = a.transpose()\n",
    "print(At.shape)\n",
    "At"
   ],
   "id": "e0f398f19078c5ae",
   "outputs": [
    {
     "name": "stdout",
     "output_type": "stream",
     "text": [
      "(2, 3)\n"
     ]
    },
    {
     "data": {
      "text/plain": [
       "Matrix([\n",
       "[2,  0, 1],\n",
       "[1, -3, 0]])"
      ],
      "text/latex": "$\\displaystyle \\left[\\begin{matrix}2 & 0 & 1\\\\1 & -3 & 0\\end{matrix}\\right]$"
     },
     "execution_count": 35,
     "metadata": {},
     "output_type": "execute_result"
    }
   ],
   "execution_count": 35
  },
  {
   "metadata": {
    "ExecuteTime": {
     "end_time": "2025-04-19T00:54:47.280376Z",
     "start_time": "2025-04-19T00:54:47.276696Z"
    }
   },
   "cell_type": "code",
   "source": "at.dot(a)",
   "id": "d053592575dea5b6",
   "outputs": [
    {
     "data": {
      "text/plain": [
       "array([[ 5,  2],\n",
       "       [ 2, 10]])"
      ]
     },
     "execution_count": 36,
     "metadata": {},
     "output_type": "execute_result"
    }
   ],
   "execution_count": 36
  },
  {
   "metadata": {
    "ExecuteTime": {
     "end_time": "2025-04-19T00:54:47.316321Z",
     "start_time": "2025-04-19T00:54:47.312429Z"
    }
   },
   "cell_type": "code",
   "source": [
    "# Topic: The product of a matrix and its transpose\n",
    "# Question: Is AT A invertible?\n",
    "\n",
    "a = np.array([\n",
    "    [-6, 3],\n",
    "    [4, -2]\n",
    "])\n",
    "\n",
    "at = np.transpose(a)\n",
    "\n",
    "R = sym.Matrix(at.dot(a)).rref()[0]\n",
    "\n",
    "# If R is the identity matrix, then AT(A) is invertible.\n",
    "R"
   ],
   "id": "fb8566633661bab2",
   "outputs": [
    {
     "data": {
      "text/plain": [
       "Matrix([\n",
       "[1, -1/2],\n",
       "[0,    0]])"
      ],
      "text/latex": "$\\displaystyle \\left[\\begin{matrix}1 & - \\frac{1}{2}\\\\0 & 0\\end{matrix}\\right]$"
     },
     "execution_count": 37,
     "metadata": {},
     "output_type": "execute_result"
    }
   ],
   "execution_count": 37
  },
  {
   "metadata": {
    "ExecuteTime": {
     "end_time": "2025-04-19T00:54:47.377923Z",
     "start_time": "2025-04-19T00:54:47.373690Z"
    }
   },
   "cell_type": "code",
   "source": [
    "# Topic: The product of a matrix and its transpose\n",
    "# Question: Is AT A invertible?\n",
    "\n",
    "a = np.array([\n",
    "    [1, 0, 1],\n",
    "    [0, -2, 1],\n",
    "    [-2, 3, -2]\n",
    "])\n",
    "\n",
    "at = np.transpose(a)\n",
    "\n",
    "R = sym.Matrix(at.dot(a)).rref()[0]\n",
    "\n",
    "# If R is the identity matrix, then AT(A) is invertible.\n",
    "R"
   ],
   "id": "d03fef0a79a408b0",
   "outputs": [
    {
     "data": {
      "text/plain": [
       "Matrix([\n",
       "[1, 0, 0],\n",
       "[0, 1, 0],\n",
       "[0, 0, 1]])"
      ],
      "text/latex": "$\\displaystyle \\left[\\begin{matrix}1 & 0 & 0\\\\0 & 1 & 0\\\\0 & 0 & 1\\end{matrix}\\right]$"
     },
     "execution_count": 38,
     "metadata": {},
     "output_type": "execute_result"
    }
   ],
   "execution_count": 38
  },
  {
   "metadata": {},
   "cell_type": "markdown",
   "source": [
    "# A=LU Factorization\n",
    "***"
   ],
   "id": "9374f7809fb2c04a"
  },
  {
   "metadata": {
    "ExecuteTime": {
     "end_time": "2025-04-19T00:54:47.389076Z",
     "start_time": "2025-04-19T00:54:47.385456Z"
    }
   },
   "cell_type": "code",
   "source": [
    "a = np.array([\n",
    "    [2, 1],\n",
    "    [8, 1]\n",
    "], dtype='float')\n",
    "a"
   ],
   "id": "4322f27acbc5e299",
   "outputs": [
    {
     "data": {
      "text/plain": [
       "array([[2., 1.],\n",
       "       [8., 1.]])"
      ]
     },
     "execution_count": 39,
     "metadata": {},
     "output_type": "execute_result"
    }
   ],
   "execution_count": 39
  },
  {
   "metadata": {
    "ExecuteTime": {
     "end_time": "2025-04-19T00:54:47.423999Z",
     "start_time": "2025-04-19T00:54:47.421208Z"
    }
   },
   "cell_type": "code",
   "source": [
    "e2_1 = np.array([\n",
    "    [1, 0],\n",
    "    [(-16 / 2), 1]\n",
    "], dtype='float')"
   ],
   "id": "2184f3063fbbec7",
   "outputs": [],
   "execution_count": 40
  },
  {
   "metadata": {
    "ExecuteTime": {
     "end_time": "2025-04-19T00:54:47.509142Z",
     "start_time": "2025-04-19T00:54:47.505867Z"
    }
   },
   "cell_type": "code",
   "source": [
    "a_1 = a.dot(e2_1)\n",
    "a_1"
   ],
   "id": "1584129318c9b775",
   "outputs": [
    {
     "data": {
      "text/plain": [
       "array([[-6.,  1.],\n",
       "       [ 0.,  1.]])"
      ]
     },
     "execution_count": 41,
     "metadata": {},
     "output_type": "execute_result"
    }
   ],
   "execution_count": 41
  },
  {
   "metadata": {
    "ExecuteTime": {
     "end_time": "2025-04-19T00:54:47.546722Z",
     "start_time": "2025-04-19T00:54:47.542693Z"
    }
   },
   "cell_type": "code",
   "source": "np.linalg.inv(a_1)",
   "id": "2c1d9b4650d96a76",
   "outputs": [
    {
     "data": {
      "text/plain": [
       "array([[-0.16666667,  0.16666667],\n",
       "       [ 0.        ,  1.        ]])"
      ]
     },
     "execution_count": 42,
     "metadata": {},
     "output_type": "execute_result"
    }
   ],
   "execution_count": 42
  },
  {
   "metadata": {
    "ExecuteTime": {
     "end_time": "2025-04-19T00:54:47.729298Z",
     "start_time": "2025-04-19T00:54:47.725869Z"
    }
   },
   "cell_type": "code",
   "source": [
    "# Question: Rewrite A as L(U)\n",
    "\n",
    "a = np.array([\n",
    "    [3, 6],\n",
    "    [-6, 10]\n",
    "], dtype='float')\n",
    "\n",
    "e2_1 = np.array([\n",
    "    [1, 0],\n",
    "    [2, 1]\n",
    "])\n",
    "\n",
    "u = np.linalg.inv(e2_1)\n",
    "u"
   ],
   "id": "8fc1209ca3d20eca",
   "outputs": [
    {
     "data": {
      "text/plain": [
       "array([[ 1.,  0.],\n",
       "       [-2.,  1.]])"
      ]
     },
     "execution_count": 43,
     "metadata": {},
     "output_type": "execute_result"
    }
   ],
   "execution_count": 43
  }
 ],
 "metadata": {
  "kernelspec": {
   "display_name": "Python 3",
   "language": "python",
   "name": "python3"
  },
  "language_info": {
   "codemirror_mode": {
    "name": "ipython",
    "version": 2
   },
   "file_extension": ".py",
   "mimetype": "text/x-python",
   "name": "python",
   "nbconvert_exporter": "python",
   "pygments_lexer": "ipython2",
   "version": "2.7.6"
  }
 },
 "nbformat": 4,
 "nbformat_minor": 5
}
