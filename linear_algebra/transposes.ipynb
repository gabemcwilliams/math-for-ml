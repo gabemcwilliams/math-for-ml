{
 "cells": [
  {
   "cell_type": "code",
   "id": "initial_id",
   "metadata": {
    "collapsed": true
   },
   "source": [
    "import re\n",
    "import numpy as np\n",
    "import scipy as sp\n",
    "import sympy as sym\n",
    "from IPython.display import display, Math, Latex\n",
    "import math\n",
    "import matplotlib.pyplot as plt\n",
    "from fractions import Fraction"
   ],
   "outputs": [],
   "execution_count": null
  },
  {
   "metadata": {},
   "cell_type": "markdown",
   "source": [
    "# Transposes and their Determinants\n",
    "***"
   ],
   "id": "5bb85edbddf488f2"
  },
  {
   "metadata": {},
   "cell_type": "code",
   "source": [
    "a = np.array([\n",
    "    [1, 1, -2],\n",
    "    [2, 3, 1],\n",
    "    [3, -3, 4]\n",
    "])\n",
    "\n",
    "b = np.array([\n",
    "    [4, -6, 1],\n",
    "    [0, -8, 5],\n",
    "    [1, 1, -2]\n",
    "])"
   ],
   "id": "acd288a1b1d9b994",
   "outputs": [],
   "execution_count": null
  },
  {
   "metadata": {},
   "cell_type": "code",
   "source": [
    "# Question 1: Question: Find (AB)T\n",
    "\n",
    "(a * b).transpose()"
   ],
   "id": "98362ccaa6359db",
   "outputs": [],
   "execution_count": null
  },
  {
   "metadata": {},
   "cell_type": "code",
   "source": "a.transpose().dot(b.transpose())",
   "id": "a0fff97b8de4b945",
   "outputs": [],
   "execution_count": null
  },
  {
   "metadata": {},
   "cell_type": "code",
   "source": "a.transpose() * b.transpose()",
   "id": "2422f85e59bbc54f",
   "outputs": [],
   "execution_count": null
  },
  {
   "metadata": {},
   "cell_type": "code",
   "source": "b.transpose()",
   "id": "381b3eb8c3568dbd",
   "outputs": [],
   "execution_count": null
  },
  {
   "metadata": {},
   "cell_type": "code",
   "source": [
    "# Question 2: Find the sum of two transposed matrices\n",
    "\n",
    "(a + b).transpose()"
   ],
   "id": "1cf23380ba223a26",
   "outputs": [],
   "execution_count": null
  },
  {
   "metadata": {},
   "cell_type": "code",
   "source": "# Question 3: : Find (A−1)T. ",
   "id": "4cca95179d31d1db",
   "outputs": [],
   "execution_count": null
  },
  {
   "metadata": {},
   "cell_type": "code",
   "source": "np.linalg.inv(a).transpose()",
   "id": "b53d0826b6aac250",
   "outputs": [],
   "execution_count": null
  },
  {
   "metadata": {},
   "cell_type": "code",
   "source": "A = sym.Matrix(a.copy())",
   "id": "20596882835e9c4c",
   "outputs": [],
   "execution_count": null
  },
  {
   "metadata": {},
   "cell_type": "code",
   "source": "M = A.inv().transpose()",
   "id": "dbcdfdb056ee132c",
   "outputs": [],
   "execution_count": null
  },
  {
   "metadata": {},
   "cell_type": "code",
   "source": "M",
   "id": "2fabc6599ccf8c13",
   "outputs": [],
   "execution_count": null
  },
  {
   "metadata": {},
   "cell_type": "markdown",
   "source": [
    "# Null and Column Spaces of the Transposed Matrix\n",
    "***"
   ],
   "id": "57e91516a58797dc"
  },
  {
   "metadata": {},
   "cell_type": "code",
   "source": [
    "a = np.array([\n",
    "    [1, -3],\n",
    "    [0, 1],\n",
    "    [4, 0]\n",
    "])\n",
    "\n"
   ],
   "id": "302943fef671a561",
   "outputs": [],
   "execution_count": null
  },
  {
   "metadata": {},
   "cell_type": "code",
   "source": "M = sym.Matrix(a.copy())",
   "id": "18b80d4292d1498",
   "outputs": [],
   "execution_count": null
  },
  {
   "metadata": {},
   "cell_type": "code",
   "source": [
    "M_t = M.transpose()\n",
    "\n",
    "Z = sym.zeros(2, 1)"
   ],
   "id": "4c5f0c0e0aa29f37",
   "outputs": [],
   "execution_count": null
  },
  {
   "metadata": {},
   "cell_type": "code",
   "source": "M_t",
   "id": "d4ed9fd140734a9e",
   "outputs": [],
   "execution_count": null
  },
  {
   "metadata": {},
   "cell_type": "code",
   "source": "Z",
   "id": "71ae6c0729b846e3",
   "outputs": [],
   "execution_count": null
  },
  {
   "metadata": {},
   "cell_type": "code",
   "source": [
    "result = M_t.row_join(Z)\n",
    "\n",
    "result"
   ],
   "id": "7eb153e9173b4e2b",
   "outputs": [],
   "execution_count": null
  },
  {
   "metadata": {},
   "cell_type": "code",
   "source": "R = result.rref()[0]",
   "id": "a2128cc0b57621b5",
   "outputs": [],
   "execution_count": null
  },
  {
   "metadata": {},
   "cell_type": "code",
   "source": "R",
   "id": "2e95049a6ae8f62e",
   "outputs": [],
   "execution_count": null
  },
  {
   "metadata": {},
   "cell_type": "code",
   "source": "# Find the null space and the nullity of A",
   "id": "8faf7431f3ddaa45",
   "outputs": [],
   "execution_count": null
  },
  {
   "metadata": {},
   "cell_type": "code",
   "source": [
    "A = sym.Matrix(np.array([\n",
    "    [1, -2, 2, 3, -1],\n",
    "    [-3, 6, -1, 1, -7],\n",
    "    [2, -4, 5, 8, -4]\n",
    "]))"
   ],
   "id": "6a375a71e01b21f6",
   "outputs": [],
   "execution_count": null
  },
  {
   "metadata": {},
   "cell_type": "code",
   "source": "A",
   "id": "a958edd3b7cedce7",
   "outputs": [],
   "execution_count": null
  },
  {
   "metadata": {},
   "cell_type": "code",
   "source": [
    "# Find RREF of A\n",
    "rref = A.rref()[0]\n",
    "rref"
   ],
   "id": "cc7e5c885cb83c7c",
   "outputs": [],
   "execution_count": null
  },
  {
   "metadata": {},
   "cell_type": "code",
   "source": [
    "# Create an Augmented Matrix A\n",
    "A_aug = rref.row_join(sym.zeros(3, 1))\n",
    "A_aug"
   ],
   "id": "5ed70eb2ed30f2d4",
   "outputs": [],
   "execution_count": null
  },
  {
   "metadata": {},
   "cell_type": "code",
   "source": [
    "# each column of the augmented matrix represents a pivot column (ie. x_1, x_2, x_3)\n",
    "\n",
    "# In the matrix A_aug, column 1, and 3 are the pivot columns and the remaining columns are free variables\n",
    "\n",
    "# We want to solve Ax = 0 for the leading variables\n",
    "\n",
    "# EQ1: x_1 - 2x_2 + 0x_3 + -1x_4 + 3x_5 = 0\n",
    "# EQ2: x_3 + 2x_4 - -2x_5 = 0"
   ],
   "id": "a9160818940f5ce0",
   "outputs": [],
   "execution_count": null
  },
  {
   "metadata": {},
   "cell_type": "code",
   "source": [
    "# EQ1: x_1 = 2x_2 + x_4 - 3x_5\n",
    "# EQ2: x_3 = 2x_4 - 2x_5"
   ],
   "id": "cdd1db4fa6ff71cc",
   "outputs": [],
   "execution_count": null
  },
  {
   "metadata": {},
   "cell_type": "code",
   "source": [
    "\n",
    "#          [[ x_1 ],           [[  (0x_1)    +    2x_2     +     0x_3    +      1x_4     +  -3x_5    ],   () => pivot column\n",
    "#          [ x_2 ],             [   0x_1     +   (1x_2)    +     0x_3    +      0x_4     +   0x_5    ],   () => pivot column\n",
    "#   x =    [ x_3 ],      =      [   0x_1     +    0x_2     +     0x_3    +     -2x_4     +   2x_5    ],\n",
    "#          [ x_4 ],             [   0x_1     +    0x_2     +     0x_3    +      1x_4     +   0x_5    ],\n",
    "#          [ x_5 ]]             [   0x_1     +    0x_2     +     0x_3    +      0_x4     +   0x_5    ]]   "
   ],
   "id": "e04628a983af17d1",
   "outputs": [],
   "execution_count": null
  },
  {
   "metadata": {},
   "cell_type": "code",
   "source": [
    "\n",
    "#         [[ x_1 ],            [[  2x_2   ]      [  1x_4  ]          [  -3x_5   ],   () => pivot column\n",
    "#          [ x_2 ],             [ (1x_2)  ]      [  0x_4  ]          [   0x_5   ],   () => pivot column\n",
    "#   x =    [ x_3 ],      =      [  0x_2   ]  +   [ -2x_4  ]   +      [   2x_5   ],\n",
    "#          [ x_4 ],             [  0x_2   ]      [  1x_4  ]          [   0x_5   ],\n",
    "#          [ x_5 ]]             [  0x_2   ]      [  0_x4  ]          [   0x_5   ]]   \n"
   ],
   "id": "a2f56f2b921e1ab0",
   "outputs": [],
   "execution_count": null
  },
  {
   "metadata": {},
   "cell_type": "code",
   "source": [
    "\n",
    "#         [[ x_1 ],                [[ 2 ]           [ 1 ]              [ -3 ],  \n",
    "#          [ x_2 ],                 [ 1 ]           [ 0 ]              [ 0 ],  \n",
    "#   x =    [ x_3 ],      =   x_2    [ 0 ]  +  x_4   [ -2 ]   +   x_5   [ 2 ],\n",
    "#          [ x_4 ],                 [ 0 ]           [ 1 ]              [ 0 ],\n",
    "#          [ x_5 ]]                 [ 0 ]           [ 0 ]              [ 0 ]]   \n"
   ],
   "id": "5fb34fd8013ca8fa",
   "outputs": [],
   "execution_count": null
  },
  {
   "metadata": {},
   "cell_type": "code",
   "source": [
    "#                      [[ 2 ]       [ 1 ]         [ -3 ],  \n",
    "#                       [ 1 ]       [ 0 ]         [ 0 ],  \n",
    "#   null(A) = span of   [ 0 ]  +    [ -2 ]   +    [ 2 ],\n",
    "#                       [ 0 ]       [ 1 ]         [ 0 ],\n",
    "#                       [ 0 ]       [ 0 ]         [ 0 ]]  "
   ],
   "id": "54db1111b6124707",
   "outputs": [],
   "execution_count": null
  },
  {
   "metadata": {},
   "cell_type": "code",
   "source": "# Nullity(A) = 3",
   "id": "fa38e16765e144cc",
   "outputs": [],
   "execution_count": null
  },
  {
   "metadata": {},
   "cell_type": "markdown",
   "source": [
    "# Product of Matrix and its Transpose\n",
    "***"
   ],
   "id": "67e28918b443ddd7"
  },
  {
   "metadata": {},
   "cell_type": "code",
   "source": [
    "a = np.array([\n",
    "    [2, 1],\n",
    "    [0, -3],\n",
    "    [1, 0]\n",
    "])"
   ],
   "id": "33b6590ca2b2de03",
   "outputs": [],
   "execution_count": null
  },
  {
   "metadata": {},
   "cell_type": "code",
   "source": [
    "A = sym.Matrix(a.copy())\n",
    "print(A.shape)\n",
    "A"
   ],
   "id": "1a0d09901baec7d7",
   "outputs": [],
   "execution_count": null
  },
  {
   "metadata": {},
   "cell_type": "code",
   "source": [
    "At = A.transpose()\n",
    "at = a.transpose()\n",
    "print(At.shape)\n",
    "At"
   ],
   "id": "e0f398f19078c5ae",
   "outputs": [],
   "execution_count": null
  },
  {
   "metadata": {},
   "cell_type": "code",
   "source": "at.dot(a)",
   "id": "d053592575dea5b6",
   "outputs": [],
   "execution_count": null
  },
  {
   "metadata": {},
   "cell_type": "code",
   "source": [
    "# Topic: The product of a matrix and its transpose\n",
    "# Question: Is AT A invertible?\n",
    "\n",
    "a = np.array([\n",
    "    [-6, 3],\n",
    "    [4, -2]\n",
    "])\n",
    "\n",
    "at = np.transpose(a)\n",
    "\n",
    "R = sym.Matrix(at.dot(a)).rref()[0]\n",
    "\n",
    "# If R is the identity matrix, then AT(A) is invertible.\n",
    "R"
   ],
   "id": "fb8566633661bab2",
   "outputs": [],
   "execution_count": null
  },
  {
   "metadata": {},
   "cell_type": "code",
   "source": [
    "# Topic: The product of a matrix and its transpose\n",
    "# Question: Is AT A invertible?\n",
    "\n",
    "a = np.array([\n",
    "    [1, 0, 1],\n",
    "    [0, -2, 1],\n",
    "    [-2, 3, -2]\n",
    "])\n",
    "\n",
    "at = np.transpose(a)\n",
    "\n",
    "R = sym.Matrix(at.dot(a)).rref()[0]\n",
    "\n",
    "# If R is the identity matrix, then AT(A) is invertible.\n",
    "R"
   ],
   "id": "d03fef0a79a408b0",
   "outputs": [],
   "execution_count": null
  },
  {
   "metadata": {},
   "cell_type": "markdown",
   "source": [
    "# A=LU Factorization\n",
    "***"
   ],
   "id": "9374f7809fb2c04a"
  },
  {
   "metadata": {},
   "cell_type": "code",
   "source": [
    "a = np.array([\n",
    "    [2, 1],\n",
    "    [8, 1]\n",
    "], dtype='float')\n",
    "a"
   ],
   "id": "4322f27acbc5e299",
   "outputs": [],
   "execution_count": null
  },
  {
   "metadata": {},
   "cell_type": "code",
   "source": [
    "e2_1 = np.array([\n",
    "    [1, 0],\n",
    "    [(-16 / 2), 1]\n",
    "], dtype='float')"
   ],
   "id": "2184f3063fbbec7",
   "outputs": [],
   "execution_count": null
  },
  {
   "metadata": {},
   "cell_type": "code",
   "source": [
    "a_1 = a.dot(e2_1)\n",
    "a_1"
   ],
   "id": "1584129318c9b775",
   "outputs": [],
   "execution_count": null
  },
  {
   "metadata": {},
   "cell_type": "code",
   "source": "np.linalg.inv(a_1)",
   "id": "2c1d9b4650d96a76",
   "outputs": [],
   "execution_count": null
  },
  {
   "metadata": {},
   "cell_type": "code",
   "source": [
    "# Question: Rewrite A as L(U)\n",
    "\n",
    "a = np.array([\n",
    "    [3, 6],\n",
    "    [-6, 10]\n",
    "], dtype='float')\n",
    "\n",
    "e2_1 = np.array([\n",
    "    [1, 0],\n",
    "    [2, 1]\n",
    "])\n",
    "\n",
    "u = np.linalg.inv(e2_1)\n",
    "u"
   ],
   "id": "8fc1209ca3d20eca",
   "outputs": [],
   "execution_count": null
  }
 ],
 "metadata": {
  "kernelspec": {
   "display_name": "Python 3",
   "language": "python",
   "name": "python3"
  },
  "language_info": {
   "codemirror_mode": {
    "name": "ipython",
    "version": 2
   },
   "file_extension": ".py",
   "mimetype": "text/x-python",
   "name": "python",
   "nbconvert_exporter": "python",
   "pygments_lexer": "ipython2",
   "version": "2.7.6"
  }
 },
 "nbformat": 4,
 "nbformat_minor": 5
}
