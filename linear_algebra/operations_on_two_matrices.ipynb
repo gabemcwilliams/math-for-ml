{
 "cells": [
  {
   "cell_type": "code",
   "id": "initial_id",
   "metadata": {
    "collapsed": true,
    "ExecuteTime": {
     "end_time": "2025-04-19T00:54:32.287130Z",
     "start_time": "2025-04-19T00:54:31.179424Z"
    }
   },
   "source": [
    "import numpy as np\n",
    "import scipy as sp\n",
    "import sympy as sym\n",
    "import matplotlib.pyplot as plt\n",
    "import pandas as pd\n",
    "import re"
   ],
   "outputs": [],
   "execution_count": 1
  },
  {
   "metadata": {},
   "cell_type": "markdown",
   "source": "# Matrix Addition and Subtraction",
   "id": "11151d2c5b0617ab"
  },
  {
   "metadata": {
    "ExecuteTime": {
     "end_time": "2025-04-19T00:54:32.636719Z",
     "start_time": "2025-04-19T00:54:32.633398Z"
    }
   },
   "cell_type": "code",
   "source": [
    "a = np.array([\n",
    "    [8, 2],\n",
    "    [7, 9]\n",
    "])\n",
    "\n",
    "b = np.array([\n",
    "    [2, 3],\n",
    "    [3, 1]\n",
    "])\n",
    "\n",
    "c = np.array([\n",
    "    [5, 7],\n",
    "    [-5, 9]\n",
    "])\n",
    "\n",
    "d = np.array([\n",
    "    [2, 0],\n",
    "    [6, -4]\n",
    "])"
   ],
   "id": "5a77a29f6c7280a9",
   "outputs": [],
   "execution_count": 2
  },
  {
   "metadata": {
    "ExecuteTime": {
     "end_time": "2025-04-19T00:54:32.665918Z",
     "start_time": "2025-04-19T00:54:32.663477Z"
    }
   },
   "cell_type": "code",
   "source": "x = a - b",
   "id": "7ff17468911f378e",
   "outputs": [],
   "execution_count": 3
  },
  {
   "metadata": {
    "ExecuteTime": {
     "end_time": "2025-04-19T00:54:32.678748Z",
     "start_time": "2025-04-19T00:54:32.674484Z"
    }
   },
   "cell_type": "code",
   "source": "x",
   "id": "61d556f76552b419",
   "outputs": [
    {
     "data": {
      "text/plain": [
       "array([[ 6, -1],\n",
       "       [ 4,  8]])"
      ]
     },
     "execution_count": 4,
     "metadata": {},
     "output_type": "execute_result"
    }
   ],
   "execution_count": 4
  },
  {
   "metadata": {
    "ExecuteTime": {
     "end_time": "2025-04-19T00:54:32.710972Z",
     "start_time": "2025-04-19T00:54:32.708118Z"
    }
   },
   "cell_type": "code",
   "source": "x - (c + d)",
   "id": "156e59ec2b7c7c13",
   "outputs": [
    {
     "data": {
      "text/plain": [
       "array([[-1, -8],\n",
       "       [ 3,  3]])"
      ]
     },
     "execution_count": 5,
     "metadata": {},
     "output_type": "execute_result"
    }
   ],
   "execution_count": 5
  },
  {
   "metadata": {},
   "cell_type": "markdown",
   "source": "# Scalar Multiplication",
   "id": "3d9c8b985a3ba333"
  },
  {
   "metadata": {
    "ExecuteTime": {
     "end_time": "2025-04-19T00:54:32.820597Z",
     "start_time": "2025-04-19T00:54:32.818749Z"
    }
   },
   "cell_type": "code",
   "source": [
    "a = np.array([\n",
    "    [5, 2, 1],\n",
    "    [-2, 4, 7]\n",
    "])"
   ],
   "id": "96d787a3f9a09d7c",
   "outputs": [],
   "execution_count": 6
  },
  {
   "metadata": {
    "ExecuteTime": {
     "end_time": "2025-04-19T00:54:32.852993Z",
     "start_time": "2025-04-19T00:54:32.850023Z"
    }
   },
   "cell_type": "code",
   "source": "4 * a",
   "id": "f42e01314c64b958",
   "outputs": [
    {
     "data": {
      "text/plain": [
       "array([[20,  8,  4],\n",
       "       [-8, 16, 28]])"
      ]
     },
     "execution_count": 7,
     "metadata": {},
     "output_type": "execute_result"
    }
   ],
   "execution_count": 7
  },
  {
   "metadata": {
    "ExecuteTime": {
     "end_time": "2025-04-19T00:54:32.888184Z",
     "start_time": "2025-04-19T00:54:32.885580Z"
    }
   },
   "cell_type": "code",
   "source": [
    "a = np.array([\n",
    "    [7, 1],\n",
    "    [8, 3]\n",
    "])\n",
    "\n",
    "b = np.array([\n",
    "    [0, -5],\n",
    "    [-2, 3]\n",
    "])"
   ],
   "id": "487b8f26682d80d4",
   "outputs": [],
   "execution_count": 8
  },
  {
   "metadata": {
    "ExecuteTime": {
     "end_time": "2025-04-19T00:54:32.920312Z",
     "start_time": "2025-04-19T00:54:32.918349Z"
    }
   },
   "cell_type": "code",
   "source": "x = -4 * b",
   "id": "49a0785848882d5b",
   "outputs": [],
   "execution_count": 9
  },
  {
   "metadata": {
    "ExecuteTime": {
     "end_time": "2025-04-19T00:54:32.955942Z",
     "start_time": "2025-04-19T00:54:32.952311Z"
    }
   },
   "cell_type": "code",
   "source": "x - 3 * a",
   "id": "6c851ae6fe1c406f",
   "outputs": [
    {
     "data": {
      "text/plain": [
       "array([[-21,  17],\n",
       "       [-16, -21]])"
      ]
     },
     "execution_count": 10,
     "metadata": {},
     "output_type": "execute_result"
    }
   ],
   "execution_count": 10
  },
  {
   "metadata": {
    "ExecuteTime": {
     "end_time": "2025-04-19T00:54:33.004457Z",
     "start_time": "2025-04-19T00:54:33.001981Z"
    }
   },
   "cell_type": "code",
   "source": [
    "a = np.array([\n",
    "    [4, -2, 0],\n",
    "    [-8, 10, -5]\n",
    "])\n",
    "\n",
    "b = np.array([\n",
    "    [-1, 0, -3],\n",
    "    [5, -5, 0]\n",
    "])"
   ],
   "id": "3efbf40cc094704c",
   "outputs": [],
   "execution_count": 11
  },
  {
   "metadata": {
    "ExecuteTime": {
     "end_time": "2025-04-19T00:54:33.103763Z",
     "start_time": "2025-04-19T00:54:33.099972Z"
    }
   },
   "cell_type": "code",
   "source": "(-1 / 2) * a + (3 * b)",
   "id": "6a389687b7f4e217",
   "outputs": [
    {
     "data": {
      "text/plain": [
       "array([[ -5. ,   1. ,  -9. ],\n",
       "       [ 19. , -20. ,   2.5]])"
      ]
     },
     "execution_count": 12,
     "metadata": {},
     "output_type": "execute_result"
    }
   ],
   "execution_count": 12
  },
  {
   "metadata": {},
   "cell_type": "markdown",
   "source": "# Zero Matrices",
   "id": "a82e1f90c8299810"
  },
  {
   "metadata": {
    "ExecuteTime": {
     "end_time": "2025-04-19T00:54:33.224032Z",
     "start_time": "2025-04-19T00:54:33.222038Z"
    }
   },
   "cell_type": "code",
   "source": "O_2x2 = np.zeros([2, 2])",
   "id": "f2a27f12731ed73",
   "outputs": [],
   "execution_count": 13
  },
  {
   "metadata": {
    "ExecuteTime": {
     "end_time": "2025-04-19T00:54:33.260862Z",
     "start_time": "2025-04-19T00:54:33.257215Z"
    }
   },
   "cell_type": "code",
   "source": "O_2x2",
   "id": "7cd2b66feabdb935",
   "outputs": [
    {
     "data": {
      "text/plain": [
       "array([[0., 0.],\n",
       "       [0., 0.]])"
      ]
     },
     "execution_count": 14,
     "metadata": {},
     "output_type": "execute_result"
    }
   ],
   "execution_count": 14
  },
  {
   "metadata": {
    "ExecuteTime": {
     "end_time": "2025-04-19T00:54:33.299648Z",
     "start_time": "2025-04-19T00:54:33.296474Z"
    }
   },
   "cell_type": "code",
   "source": "b",
   "id": "ff7f0af805bd36b7",
   "outputs": [
    {
     "data": {
      "text/plain": [
       "array([[-1,  0, -3],\n",
       "       [ 5, -5,  0]])"
      ]
     },
     "execution_count": 15,
     "metadata": {},
     "output_type": "execute_result"
    }
   ],
   "execution_count": 15
  },
  {
   "metadata": {
    "ExecuteTime": {
     "end_time": "2025-04-19T00:54:33.356308Z",
     "start_time": "2025-04-19T00:54:33.352642Z"
    }
   },
   "cell_type": "code",
   "source": [
    "# opposite matrix of b\n",
    "-1 * b"
   ],
   "id": "52967d4f174dd1cd",
   "outputs": [
    {
     "data": {
      "text/plain": [
       "array([[ 1,  0,  3],\n",
       "       [-5,  5,  0]])"
      ]
     },
     "execution_count": 16,
     "metadata": {},
     "output_type": "execute_result"
    }
   ],
   "execution_count": 16
  },
  {
   "metadata": {
    "ExecuteTime": {
     "end_time": "2025-04-19T00:54:33.417484Z",
     "start_time": "2025-04-19T00:54:33.414175Z"
    }
   },
   "cell_type": "code",
   "source": "b + (-1 * b)",
   "id": "deaea414cd99c824",
   "outputs": [
    {
     "data": {
      "text/plain": [
       "array([[0, 0, 0],\n",
       "       [0, 0, 0]])"
      ]
     },
     "execution_count": 17,
     "metadata": {},
     "output_type": "execute_result"
    }
   ],
   "execution_count": 17
  },
  {
   "metadata": {},
   "cell_type": "markdown",
   "source": "# Matrix Multiplication",
   "id": "daeadb308b41c912"
  },
  {
   "metadata": {
    "ExecuteTime": {
     "end_time": "2025-04-19T00:54:33.534004Z",
     "start_time": "2025-04-19T00:54:33.531036Z"
    }
   },
   "cell_type": "code",
   "source": "a",
   "id": "d92cc4256c6363ce",
   "outputs": [
    {
     "data": {
      "text/plain": [
       "array([[ 4, -2,  0],\n",
       "       [-8, 10, -5]])"
      ]
     },
     "execution_count": 18,
     "metadata": {},
     "output_type": "execute_result"
    }
   ],
   "execution_count": 18
  },
  {
   "metadata": {
    "ExecuteTime": {
     "end_time": "2025-04-19T00:54:33.681341Z",
     "start_time": "2025-04-19T00:54:33.677635Z"
    }
   },
   "cell_type": "code",
   "source": "b",
   "id": "b3d2a2726900086d",
   "outputs": [
    {
     "data": {
      "text/plain": [
       "array([[-1,  0, -3],\n",
       "       [ 5, -5,  0]])"
      ]
     },
     "execution_count": 19,
     "metadata": {},
     "output_type": "execute_result"
    }
   ],
   "execution_count": 19
  },
  {
   "metadata": {
    "ExecuteTime": {
     "end_time": "2025-04-19T00:54:33.745277Z",
     "start_time": "2025-04-19T00:54:33.742267Z"
    }
   },
   "cell_type": "code",
   "source": "a * b",
   "id": "f8b8335e374da724",
   "outputs": [
    {
     "data": {
      "text/plain": [
       "array([[ -4,   0,   0],\n",
       "       [-40, -50,   0]])"
      ]
     },
     "execution_count": 20,
     "metadata": {},
     "output_type": "execute_result"
    }
   ],
   "execution_count": 20
  },
  {
   "metadata": {
    "ExecuteTime": {
     "end_time": "2025-04-19T00:54:33.808166Z",
     "start_time": "2025-04-19T00:54:33.805569Z"
    }
   },
   "cell_type": "code",
   "source": [
    "c = np.array([\n",
    "    [2, 3],\n",
    "    [-1, 0]\n",
    "])\n",
    "\n",
    "d = np.array([\n",
    "    [0, 1],\n",
    "    [0, -1]\n",
    "])"
   ],
   "id": "903ccd95d554f207",
   "outputs": [],
   "execution_count": 21
  },
  {
   "metadata": {
    "ExecuteTime": {
     "end_time": "2025-04-19T00:54:33.842561Z",
     "start_time": "2025-04-19T00:54:33.840250Z"
    }
   },
   "cell_type": "code",
   "source": [
    "print(c)\n",
    "print(d)"
   ],
   "id": "f3b595e35cae4cf9",
   "outputs": [
    {
     "name": "stdout",
     "output_type": "stream",
     "text": [
      "[[ 2  3]\n",
      " [-1  0]]\n",
      "[[ 0  1]\n",
      " [ 0 -1]]\n"
     ]
    }
   ],
   "execution_count": 22
  },
  {
   "metadata": {
    "ExecuteTime": {
     "end_time": "2025-04-19T00:54:33.853102Z",
     "start_time": "2025-04-19T00:54:33.851243Z"
    }
   },
   "cell_type": "code",
   "source": "x_0_0 = (c[0][0] * d[0][0]) + (c[0][1] * d[1][0])",
   "id": "8a50594208dbf697",
   "outputs": [],
   "execution_count": 23
  },
  {
   "metadata": {
    "ExecuteTime": {
     "end_time": "2025-04-19T00:54:33.862192Z",
     "start_time": "2025-04-19T00:54:33.859518Z"
    }
   },
   "cell_type": "code",
   "source": "x_0_1 = (c[0][0] * d[0][1]) + (c[0][1] * d[1][1])",
   "id": "903b22e55aae2fa4",
   "outputs": [],
   "execution_count": 24
  },
  {
   "metadata": {
    "ExecuteTime": {
     "end_time": "2025-04-19T00:54:33.870243Z",
     "start_time": "2025-04-19T00:54:33.868246Z"
    }
   },
   "cell_type": "code",
   "source": "x_1_0 = (c[1][0] * d[0][0]) + (c[1][1] * d[1][0])",
   "id": "4a167c6e6ce3dd9a",
   "outputs": [],
   "execution_count": 25
  },
  {
   "metadata": {
    "ExecuteTime": {
     "end_time": "2025-04-19T00:54:33.874756Z",
     "start_time": "2025-04-19T00:54:33.872248Z"
    }
   },
   "cell_type": "code",
   "source": "x_1_1 = (c[1][0] * d[0][1]) + (c[1][1] * d[1][1])",
   "id": "9b310ba9fb3ac0c1",
   "outputs": [],
   "execution_count": 26
  },
  {
   "metadata": {
    "ExecuteTime": {
     "end_time": "2025-04-19T00:54:33.881460Z",
     "start_time": "2025-04-19T00:54:33.879155Z"
    }
   },
   "cell_type": "code",
   "source": [
    "x = np.array([\n",
    "    [x_0_0, x_0_1],\n",
    "    [x_1_0, x_1_1]\n",
    "])"
   ],
   "id": "86d5e16d179d1d18",
   "outputs": [],
   "execution_count": 27
  },
  {
   "metadata": {
    "ExecuteTime": {
     "end_time": "2025-04-19T00:54:33.888833Z",
     "start_time": "2025-04-19T00:54:33.885740Z"
    }
   },
   "cell_type": "code",
   "source": "x",
   "id": "293a3fa1ce146e3e",
   "outputs": [
    {
     "data": {
      "text/plain": [
       "array([[ 0, -1],\n",
       "       [ 0, -1]])"
      ]
     },
     "execution_count": 28,
     "metadata": {},
     "output_type": "execute_result"
    }
   ],
   "execution_count": 28
  },
  {
   "metadata": {
    "ExecuteTime": {
     "end_time": "2025-04-19T00:54:33.970424Z",
     "start_time": "2025-04-19T00:54:33.967268Z"
    }
   },
   "cell_type": "code",
   "source": "c.dot(d)",
   "id": "d5236a285327a1c0",
   "outputs": [
    {
     "data": {
      "text/plain": [
       "array([[ 0, -1],\n",
       "       [ 0, -1]])"
      ]
     },
     "execution_count": 29,
     "metadata": {},
     "output_type": "execute_result"
    }
   ],
   "execution_count": 29
  },
  {
   "metadata": {
    "ExecuteTime": {
     "end_time": "2025-04-19T00:54:34.026227Z",
     "start_time": "2025-04-19T00:54:34.024270Z"
    }
   },
   "cell_type": "code",
   "source": [
    "# 4R x 2C * 2R x 6C = 4R x 6C\n",
    "\n",
    "# matrix multiplication is not commutative\n",
    "# A * B != B * A\n",
    "\n",
    "# matrix multiplication is associative \n",
    "# (A * B) * C = A * (B * C)\n",
    "\n",
    "# matrix multiplication is distributive\n",
    "# A * (B + C) = A * B + A * C\n",
    "# but \n",
    "# (A + B) * C = A * C + B * C\n"
   ],
   "id": "886d6cc7de329fe8",
   "outputs": [],
   "execution_count": 30
  },
  {
   "metadata": {
    "ExecuteTime": {
     "end_time": "2025-04-19T00:54:34.103304Z",
     "start_time": "2025-04-19T00:54:34.100572Z"
    }
   },
   "cell_type": "code",
   "source": [
    "# 3 x 2\n",
    "a = np.array([\n",
    "    [2, 0],\n",
    "    [1, 0],\n",
    "    [1, 4]\n",
    "])\n",
    "\n",
    "# 2 x 2\n",
    "b = np.array([\n",
    "    [1, 0],\n",
    "    [-1, 3]\n",
    "])"
   ],
   "id": "5a731b73fb66d739",
   "outputs": [],
   "execution_count": 31
  },
  {
   "metadata": {
    "ExecuteTime": {
     "end_time": "2025-04-19T00:54:34.125754Z",
     "start_time": "2025-04-19T00:54:34.122551Z"
    }
   },
   "cell_type": "code",
   "source": [
    "# 3 x 2\n",
    "a.dot(b)"
   ],
   "id": "c3933de2bf0ba205",
   "outputs": [
    {
     "data": {
      "text/plain": [
       "array([[ 2,  0],\n",
       "       [ 1,  0],\n",
       "       [-3, 12]])"
      ]
     },
     "execution_count": 32,
     "metadata": {},
     "output_type": "execute_result"
    }
   ],
   "execution_count": 32
  },
  {
   "metadata": {
    "ExecuteTime": {
     "end_time": "2025-04-19T00:54:34.160633Z",
     "start_time": "2025-04-19T00:54:34.158149Z"
    }
   },
   "cell_type": "code",
   "source": [
    "a = np.array([\n",
    "    [5, 2],\n",
    "    [0, -2]\n",
    "])\n",
    "\n",
    "b = np.array([\n",
    "    [9, 1],\n",
    "    [6, -1]\n",
    "])"
   ],
   "id": "f1b468949aebe3f",
   "outputs": [],
   "execution_count": 33
  },
  {
   "metadata": {
    "ExecuteTime": {
     "end_time": "2025-04-19T00:54:34.193944Z",
     "start_time": "2025-04-19T00:54:34.190432Z"
    }
   },
   "cell_type": "code",
   "source": [
    "x_0_0 = (a[0][0] * b[0][0]) + (a[0][1] * b[1][0])\n",
    "x_0_1 = (a[0][0] * b[0][1]) + (a[0][1] * b[1][1])\n",
    "\n",
    "x_1_0 = (a[1][0] * b[0][0]) + (a[1][1] * b[1][0])\n",
    "x_1_1 = (a[1][0] * b[0][1]) + (a[1][1] * b[1][1])"
   ],
   "id": "dd53a5bee1a344bf",
   "outputs": [],
   "execution_count": 34
  },
  {
   "metadata": {
    "ExecuteTime": {
     "end_time": "2025-04-19T00:54:34.202563Z",
     "start_time": "2025-04-19T00:54:34.200236Z"
    }
   },
   "cell_type": "code",
   "source": [
    "x = np.array([\n",
    "    [x_0_0, x_0_1],\n",
    "    [x_1_0, x_1_1]\n",
    "])"
   ],
   "id": "f637bdebc42feb02",
   "outputs": [],
   "execution_count": 35
  },
  {
   "metadata": {
    "ExecuteTime": {
     "end_time": "2025-04-19T00:54:34.216068Z",
     "start_time": "2025-04-19T00:54:34.212514Z"
    }
   },
   "cell_type": "code",
   "source": "x",
   "id": "237075a4798c63bc",
   "outputs": [
    {
     "data": {
      "text/plain": [
       "array([[ 57,   3],\n",
       "       [-12,   2]])"
      ]
     },
     "execution_count": 36,
     "metadata": {},
     "output_type": "execute_result"
    }
   ],
   "execution_count": 36
  },
  {
   "metadata": {
    "ExecuteTime": {
     "end_time": "2025-04-19T00:54:34.270715Z",
     "start_time": "2025-04-19T00:54:34.267726Z"
    }
   },
   "cell_type": "code",
   "source": "a.dot(b)",
   "id": "f460d3c38471387f",
   "outputs": [
    {
     "data": {
      "text/plain": [
       "array([[ 57,   3],\n",
       "       [-12,   2]])"
      ]
     },
     "execution_count": 37,
     "metadata": {},
     "output_type": "execute_result"
    }
   ],
   "execution_count": 37
  },
  {
   "metadata": {
    "ExecuteTime": {
     "end_time": "2025-04-19T00:54:34.427776Z",
     "start_time": "2025-04-19T00:54:34.425171Z"
    }
   },
   "cell_type": "code",
   "source": [
    "a = np.array([\n",
    "    [7, 2, -4],\n",
    "    [-5, 10, 3]\n",
    "])\n",
    "\n",
    "b = np.array([\n",
    "    [7, 1],\n",
    "    [7, 2],\n",
    "    [-2, 6]\n",
    "])"
   ],
   "id": "d3e90dd187d2301d",
   "outputs": [],
   "execution_count": 38
  },
  {
   "metadata": {
    "ExecuteTime": {
     "end_time": "2025-04-19T00:54:34.459858Z",
     "start_time": "2025-04-19T00:54:34.456166Z"
    }
   },
   "cell_type": "code",
   "source": "a.dot(b)",
   "id": "18f44a3627d45d3",
   "outputs": [
    {
     "data": {
      "text/plain": [
       "array([[ 71, -13],\n",
       "       [ 29,  33]])"
      ]
     },
     "execution_count": 39,
     "metadata": {},
     "output_type": "execute_result"
    }
   ],
   "execution_count": 39
  },
  {
   "metadata": {
    "ExecuteTime": {
     "end_time": "2025-04-19T00:54:34.518619Z",
     "start_time": "2025-04-19T00:54:34.515826Z"
    }
   },
   "cell_type": "code",
   "source": [
    "a = np.array([\n",
    "    [3, -1],\n",
    "    [1, 4]\n",
    "])\n",
    "\n",
    "b = np.array([\n",
    "    [5, 2],\n",
    "    [-2, 3]\n",
    "])\n",
    "\n",
    "c = np.array([\n",
    "    [2, 0],\n",
    "    [6, 2]\n",
    "])"
   ],
   "id": "d91718aa0c24ecd8",
   "outputs": [],
   "execution_count": 40
  },
  {
   "metadata": {
    "ExecuteTime": {
     "end_time": "2025-04-19T00:54:34.719684Z",
     "start_time": "2025-04-19T00:54:34.715675Z"
    }
   },
   "cell_type": "code",
   "source": "a.dot(b) + a.dot(c)",
   "id": "f99ed27a4046d25d",
   "outputs": [
    {
     "data": {
      "text/plain": [
       "array([[17,  1],\n",
       "       [23, 22]])"
      ]
     },
     "execution_count": 41,
     "metadata": {},
     "output_type": "execute_result"
    }
   ],
   "execution_count": 41
  },
  {
   "metadata": {},
   "cell_type": "markdown",
   "source": [
    "# Identity Matrix\n",
    "A matrix that can be multiplied by the original matrix to give the original matrix.\n",
    "\n",
    "An identity matrix is a square matrix with 1s on the diagonal and 0s everywhere else."
   ],
   "id": "57aa4da384b783c"
  },
  {
   "metadata": {
    "ExecuteTime": {
     "end_time": "2025-04-19T00:54:34.801902Z",
     "start_time": "2025-04-19T00:54:34.798262Z"
    }
   },
   "cell_type": "code",
   "source": "I = np.identity(3, dtype=int)",
   "id": "bae8c85db34cada6",
   "outputs": [],
   "execution_count": 42
  },
  {
   "metadata": {
    "ExecuteTime": {
     "end_time": "2025-04-19T00:54:34.864825Z",
     "start_time": "2025-04-19T00:54:34.861139Z"
    }
   },
   "cell_type": "code",
   "source": "I",
   "id": "8cb81dcf8312f6a2",
   "outputs": [
    {
     "data": {
      "text/plain": [
       "array([[1, 0, 0],\n",
       "       [0, 1, 0],\n",
       "       [0, 0, 1]])"
      ]
     },
     "execution_count": 43,
     "metadata": {},
     "output_type": "execute_result"
    }
   ],
   "execution_count": 43
  },
  {
   "metadata": {
    "ExecuteTime": {
     "end_time": "2025-04-19T00:54:34.933757Z",
     "start_time": "2025-04-19T00:54:34.930697Z"
    }
   },
   "cell_type": "code",
   "source": [
    "I = np.array([\n",
    "    [1, 0, 0],\n",
    "    [0, 1, 0],\n",
    "    [0, 0, 1]\n",
    "])"
   ],
   "id": "9588e5f1ed5097bb",
   "outputs": [],
   "execution_count": 44
  },
  {
   "metadata": {
    "ExecuteTime": {
     "end_time": "2025-04-19T00:54:34.968497Z",
     "start_time": "2025-04-19T00:54:34.965205Z"
    }
   },
   "cell_type": "code",
   "source": "I",
   "id": "98d4c66e01b594e1",
   "outputs": [
    {
     "data": {
      "text/plain": [
       "array([[1, 0, 0],\n",
       "       [0, 1, 0],\n",
       "       [0, 0, 1]])"
      ]
     },
     "execution_count": 45,
     "metadata": {},
     "output_type": "execute_result"
    }
   ],
   "execution_count": 45
  },
  {
   "metadata": {
    "ExecuteTime": {
     "end_time": "2025-04-19T00:54:35.004877Z",
     "start_time": "2025-04-19T00:54:35.002543Z"
    }
   },
   "cell_type": "code",
   "source": "from fractions import Fraction",
   "id": "85001a90af8505ad",
   "outputs": [],
   "execution_count": 46
  },
  {
   "metadata": {
    "ExecuteTime": {
     "end_time": "2025-04-19T00:54:35.044469Z",
     "start_time": "2025-04-19T00:54:35.040108Z"
    }
   },
   "cell_type": "code",
   "source": "Fraction(.25)",
   "id": "e1ab5894773e7c72",
   "outputs": [
    {
     "data": {
      "text/plain": [
       "Fraction(1, 4)"
      ]
     },
     "execution_count": 47,
     "metadata": {},
     "output_type": "execute_result"
    }
   ],
   "execution_count": 47
  },
  {
   "metadata": {
    "ExecuteTime": {
     "end_time": "2025-04-19T00:54:35.060762Z",
     "start_time": "2025-04-19T00:54:35.057215Z"
    }
   },
   "cell_type": "code",
   "source": [
    "a = np.array([\n",
    "    [3, 55, 2],\n",
    "    [1, 2, 3],\n",
    "    [4, 5, 6]\n",
    "])"
   ],
   "id": "a9a48926fc30f8fe",
   "outputs": [],
   "execution_count": 48
  },
  {
   "metadata": {
    "ExecuteTime": {
     "end_time": "2025-04-19T00:54:35.075631Z",
     "start_time": "2025-04-19T00:54:35.071812Z"
    }
   },
   "cell_type": "code",
   "source": "a.dot(I)",
   "id": "ee6e84551bf98f82",
   "outputs": [
    {
     "data": {
      "text/plain": [
       "array([[ 3, 55,  2],\n",
       "       [ 1,  2,  3],\n",
       "       [ 4,  5,  6]])"
      ]
     },
     "execution_count": 49,
     "metadata": {},
     "output_type": "execute_result"
    }
   ],
   "execution_count": 49
  },
  {
   "metadata": {
    "ExecuteTime": {
     "end_time": "2025-04-19T00:54:35.116707Z",
     "start_time": "2025-04-19T00:54:35.114056Z"
    }
   },
   "cell_type": "code",
   "source": "# the identity matrix shape comes from the row size of the original matrix in a square formation (ie. 3 x 5 matrix would be 3 x 3 identity matrix)",
   "id": "88f63259f74a21c5",
   "outputs": [],
   "execution_count": 50
  },
  {
   "metadata": {},
   "cell_type": "markdown",
   "source": [
    "# Elimination Matrix\n",
    "AI = A\n",
    "\n",
    "IA = A\n",
    "\n",
    "\n",
    "A(-1)A = I\n",
    "\n",
    "AA(-1) = I\n",
    "\n",
    "EA = I =>  Elimination Matrix\n"
   ],
   "id": "6858c72ad6889dc9"
  },
  {
   "metadata": {
    "ExecuteTime": {
     "end_time": "2025-04-19T00:54:35.261021Z",
     "start_time": "2025-04-19T00:54:35.257917Z"
    }
   },
   "cell_type": "code",
   "source": [
    "a = np.array([\n",
    "    [2, 4],\n",
    "    [0, -3]\n",
    "])"
   ],
   "id": "b8f1355855a85219",
   "outputs": [],
   "execution_count": 51
  },
  {
   "metadata": {
    "ExecuteTime": {
     "end_time": "2025-04-19T00:54:35.297045Z",
     "start_time": "2025-04-19T00:54:35.293445Z"
    }
   },
   "cell_type": "code",
   "source": "a.astype(int)",
   "id": "e45fc8946b88e091",
   "outputs": [
    {
     "data": {
      "text/plain": [
       "array([[ 2,  4],\n",
       "       [ 0, -3]])"
      ]
     },
     "execution_count": 52,
     "metadata": {},
     "output_type": "execute_result"
    }
   ],
   "execution_count": 52
  },
  {
   "metadata": {
    "ExecuteTime": {
     "end_time": "2025-04-19T00:54:35.330406Z",
     "start_time": "2025-04-19T00:54:35.328433Z"
    }
   },
   "cell_type": "code",
   "source": "b = a.copy()",
   "id": "e7d8e6aaffa7355b",
   "outputs": [],
   "execution_count": 53
  },
  {
   "metadata": {
    "ExecuteTime": {
     "end_time": "2025-04-19T00:54:35.370048Z",
     "start_time": "2025-04-19T00:54:35.366443Z"
    }
   },
   "cell_type": "code",
   "source": "a",
   "id": "616d97f8b2599e8a",
   "outputs": [
    {
     "data": {
      "text/plain": [
       "array([[ 2,  4],\n",
       "       [ 0, -3]])"
      ]
     },
     "execution_count": 54,
     "metadata": {},
     "output_type": "execute_result"
    }
   ],
   "execution_count": 54
  },
  {
   "metadata": {
    "ExecuteTime": {
     "end_time": "2025-04-19T00:54:35.405256Z",
     "start_time": "2025-04-19T00:54:35.402343Z"
    }
   },
   "cell_type": "code",
   "source": "b[0][:] * .5",
   "id": "88d6e7a063a5370f",
   "outputs": [
    {
     "data": {
      "text/plain": [
       "array([1., 2.])"
      ]
     },
     "execution_count": 55,
     "metadata": {},
     "output_type": "execute_result"
    }
   ],
   "execution_count": 55
  },
  {
   "metadata": {
    "ExecuteTime": {
     "end_time": "2025-04-19T00:54:35.441799Z",
     "start_time": "2025-04-19T00:54:35.439267Z"
    }
   },
   "cell_type": "code",
   "source": "b[0][:] = b[0][:] * .5",
   "id": "f17d45c1aa772586",
   "outputs": [],
   "execution_count": 56
  },
  {
   "metadata": {
    "ExecuteTime": {
     "end_time": "2025-04-19T00:54:35.455223Z",
     "start_time": "2025-04-19T00:54:35.452014Z"
    }
   },
   "cell_type": "code",
   "source": "b",
   "id": "aa3b59f74bdbc744",
   "outputs": [
    {
     "data": {
      "text/plain": [
       "array([[ 1,  2],\n",
       "       [ 0, -3]])"
      ]
     },
     "execution_count": 57,
     "metadata": {},
     "output_type": "execute_result"
    }
   ],
   "execution_count": 57
  },
  {
   "metadata": {
    "ExecuteTime": {
     "end_time": "2025-04-19T00:54:35.489214Z",
     "start_time": "2025-04-19T00:54:35.486321Z"
    }
   },
   "cell_type": "code",
   "source": "(b[1][:] * -1) - b[0][:]",
   "id": "61ad19f2d00250bc",
   "outputs": [
    {
     "data": {
      "text/plain": [
       "array([-1,  1])"
      ]
     },
     "execution_count": 58,
     "metadata": {},
     "output_type": "execute_result"
    }
   ],
   "execution_count": 58
  },
  {
   "metadata": {
    "ExecuteTime": {
     "end_time": "2025-04-19T00:54:35.524294Z",
     "start_time": "2025-04-19T00:54:35.520615Z"
    }
   },
   "cell_type": "code",
   "source": "(-1 * b[0][:]) + (b[1][:])",
   "id": "d19961237f40c311",
   "outputs": [
    {
     "data": {
      "text/plain": [
       "array([-1, -5])"
      ]
     },
     "execution_count": 59,
     "metadata": {},
     "output_type": "execute_result"
    }
   ],
   "execution_count": 59
  },
  {
   "metadata": {
    "ExecuteTime": {
     "end_time": "2025-04-19T00:54:35.536496Z",
     "start_time": "2025-04-19T00:54:35.534083Z"
    }
   },
   "cell_type": "code",
   "source": "b[1][:] = b[1][:] * (-1 / 3)",
   "id": "1d2871209de8f4d3",
   "outputs": [],
   "execution_count": 60
  },
  {
   "metadata": {
    "ExecuteTime": {
     "end_time": "2025-04-19T00:54:35.547102Z",
     "start_time": "2025-04-19T00:54:35.544597Z"
    }
   },
   "cell_type": "code",
   "source": "b",
   "id": "6af3005494d892a",
   "outputs": [
    {
     "data": {
      "text/plain": [
       "array([[1, 2],\n",
       "       [0, 1]])"
      ]
     },
     "execution_count": 61,
     "metadata": {},
     "output_type": "execute_result"
    }
   ],
   "execution_count": 61
  },
  {
   "metadata": {
    "ExecuteTime": {
     "end_time": "2025-04-19T00:54:35.581799Z",
     "start_time": "2025-04-19T00:54:35.579378Z"
    }
   },
   "cell_type": "code",
   "source": "b[0][:] = b[0][:] - (2 * b[1][:])",
   "id": "6516cf62b530cd4e",
   "outputs": [],
   "execution_count": 62
  },
  {
   "metadata": {
    "ExecuteTime": {
     "end_time": "2025-04-19T00:54:35.615475Z",
     "start_time": "2025-04-19T00:54:35.612328Z"
    }
   },
   "cell_type": "code",
   "source": "b",
   "id": "4a287732f2931cec",
   "outputs": [
    {
     "data": {
      "text/plain": [
       "array([[1, 0],\n",
       "       [0, 1]])"
      ]
     },
     "execution_count": 63,
     "metadata": {},
     "output_type": "execute_result"
    }
   ],
   "execution_count": 63
  },
  {
   "metadata": {
    "ExecuteTime": {
     "end_time": "2025-04-19T00:54:35.744167Z",
     "start_time": "2025-04-19T00:54:35.742034Z"
    }
   },
   "cell_type": "code",
   "source": "",
   "id": "1f308abfe400c0d0",
   "outputs": [],
   "execution_count": null
  }
 ],
 "metadata": {
  "kernelspec": {
   "display_name": "Python 3",
   "language": "python",
   "name": "python3"
  },
  "language_info": {
   "codemirror_mode": {
    "name": "ipython",
    "version": 2
   },
   "file_extension": ".py",
   "mimetype": "text/x-python",
   "name": "python",
   "nbconvert_exporter": "python",
   "pygments_lexer": "ipython2",
   "version": "2.7.6"
  }
 },
 "nbformat": 4,
 "nbformat_minor": 5
}
