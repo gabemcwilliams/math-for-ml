{
 "cells": [
  {
   "cell_type": "code",
   "id": "initial_id",
   "metadata": {
    "collapsed": true
   },
   "source": [
    "import numpy as np\n",
    "import scipy as sp\n",
    "import sympy as sym\n",
    "import matplotlib.pyplot as plt\n",
    "import pandas as pd\n",
    "import re"
   ],
   "outputs": [],
   "execution_count": null
  },
  {
   "metadata": {},
   "cell_type": "markdown",
   "source": "# Matrix Addition and Subtraction",
   "id": "11151d2c5b0617ab"
  },
  {
   "metadata": {},
   "cell_type": "code",
   "source": [
    "a = np.array([\n",
    "    [8, 2],\n",
    "    [7, 9]\n",
    "])\n",
    "\n",
    "b = np.array([\n",
    "    [2, 3],\n",
    "    [3, 1]\n",
    "])\n",
    "\n",
    "c = np.array([\n",
    "    [5, 7],\n",
    "    [-5, 9]\n",
    "])\n",
    "\n",
    "d = np.array([\n",
    "    [2, 0],\n",
    "    [6, -4]\n",
    "])"
   ],
   "id": "5a77a29f6c7280a9",
   "outputs": [],
   "execution_count": null
  },
  {
   "metadata": {},
   "cell_type": "code",
   "source": "x = a - b",
   "id": "7ff17468911f378e",
   "outputs": [],
   "execution_count": null
  },
  {
   "metadata": {},
   "cell_type": "code",
   "source": "x",
   "id": "61d556f76552b419",
   "outputs": [],
   "execution_count": null
  },
  {
   "metadata": {},
   "cell_type": "code",
   "source": "x - (c + d)",
   "id": "156e59ec2b7c7c13",
   "outputs": [],
   "execution_count": null
  },
  {
   "metadata": {},
   "cell_type": "markdown",
   "source": "# Scalar Multiplication",
   "id": "3d9c8b985a3ba333"
  },
  {
   "metadata": {},
   "cell_type": "code",
   "source": [
    "a = np.array([\n",
    "    [5, 2, 1],\n",
    "    [-2, 4, 7]\n",
    "])"
   ],
   "id": "96d787a3f9a09d7c",
   "outputs": [],
   "execution_count": null
  },
  {
   "metadata": {},
   "cell_type": "code",
   "source": "4 * a",
   "id": "f42e01314c64b958",
   "outputs": [],
   "execution_count": null
  },
  {
   "metadata": {},
   "cell_type": "code",
   "source": [
    "a = np.array([\n",
    "    [7, 1],\n",
    "    [8, 3]\n",
    "])\n",
    "\n",
    "b = np.array([\n",
    "    [0, -5],\n",
    "    [-2, 3]\n",
    "])"
   ],
   "id": "487b8f26682d80d4",
   "outputs": [],
   "execution_count": null
  },
  {
   "metadata": {},
   "cell_type": "code",
   "source": "x = -4 * b",
   "id": "49a0785848882d5b",
   "outputs": [],
   "execution_count": null
  },
  {
   "metadata": {},
   "cell_type": "code",
   "source": "x - 3 * a",
   "id": "6c851ae6fe1c406f",
   "outputs": [],
   "execution_count": null
  },
  {
   "metadata": {},
   "cell_type": "code",
   "source": [
    "a = np.array([\n",
    "    [4, -2, 0],\n",
    "    [-8, 10, -5]\n",
    "])\n",
    "\n",
    "b = np.array([\n",
    "    [-1, 0, -3],\n",
    "    [5, -5, 0]\n",
    "])"
   ],
   "id": "3efbf40cc094704c",
   "outputs": [],
   "execution_count": null
  },
  {
   "metadata": {},
   "cell_type": "code",
   "source": "(-1 / 2) * a + (3 * b)",
   "id": "6a389687b7f4e217",
   "outputs": [],
   "execution_count": null
  },
  {
   "metadata": {},
   "cell_type": "markdown",
   "source": "# Zero Matrices",
   "id": "a82e1f90c8299810"
  },
  {
   "metadata": {},
   "cell_type": "code",
   "source": "O_2x2 = np.zeros([2, 2])",
   "id": "f2a27f12731ed73",
   "outputs": [],
   "execution_count": null
  },
  {
   "metadata": {},
   "cell_type": "code",
   "source": "O_2x2",
   "id": "7cd2b66feabdb935",
   "outputs": [],
   "execution_count": null
  },
  {
   "metadata": {},
   "cell_type": "code",
   "source": "b",
   "id": "ff7f0af805bd36b7",
   "outputs": [],
   "execution_count": null
  },
  {
   "metadata": {},
   "cell_type": "code",
   "source": [
    "# opposite matrix of b\n",
    "-1 * b"
   ],
   "id": "52967d4f174dd1cd",
   "outputs": [],
   "execution_count": null
  },
  {
   "metadata": {},
   "cell_type": "code",
   "source": "b + (-1 * b)",
   "id": "deaea414cd99c824",
   "outputs": [],
   "execution_count": null
  },
  {
   "metadata": {},
   "cell_type": "markdown",
   "source": "# Matrix Multiplication",
   "id": "daeadb308b41c912"
  },
  {
   "metadata": {},
   "cell_type": "code",
   "source": "a",
   "id": "d92cc4256c6363ce",
   "outputs": [],
   "execution_count": null
  },
  {
   "metadata": {},
   "cell_type": "code",
   "source": "b",
   "id": "b3d2a2726900086d",
   "outputs": [],
   "execution_count": null
  },
  {
   "metadata": {},
   "cell_type": "code",
   "source": "a * b",
   "id": "f8b8335e374da724",
   "outputs": [],
   "execution_count": null
  },
  {
   "metadata": {},
   "cell_type": "code",
   "source": [
    "c = np.array([\n",
    "    [2, 3],\n",
    "    [-1, 0]\n",
    "])\n",
    "\n",
    "d = np.array([\n",
    "    [0, 1],\n",
    "    [0, -1]\n",
    "])"
   ],
   "id": "903ccd95d554f207",
   "outputs": [],
   "execution_count": null
  },
  {
   "metadata": {},
   "cell_type": "code",
   "source": [
    "print(c)\n",
    "print(d)"
   ],
   "id": "f3b595e35cae4cf9",
   "outputs": [],
   "execution_count": null
  },
  {
   "metadata": {},
   "cell_type": "code",
   "source": "x_0_0 = (c[0][0] * d[0][0]) + (c[0][1] * d[1][0])",
   "id": "8a50594208dbf697",
   "outputs": [],
   "execution_count": null
  },
  {
   "metadata": {},
   "cell_type": "code",
   "source": "x_0_1 = (c[0][0] * d[0][1]) + (c[0][1] * d[1][1])",
   "id": "903b22e55aae2fa4",
   "outputs": [],
   "execution_count": null
  },
  {
   "metadata": {},
   "cell_type": "code",
   "source": "x_1_0 = (c[1][0] * d[0][0]) + (c[1][1] * d[1][0])",
   "id": "4a167c6e6ce3dd9a",
   "outputs": [],
   "execution_count": null
  },
  {
   "metadata": {},
   "cell_type": "code",
   "source": "x_1_1 = (c[1][0] * d[0][1]) + (c[1][1] * d[1][1])",
   "id": "9b310ba9fb3ac0c1",
   "outputs": [],
   "execution_count": null
  },
  {
   "metadata": {},
   "cell_type": "code",
   "source": [
    "x = np.array([\n",
    "    [x_0_0, x_0_1],\n",
    "    [x_1_0, x_1_1]\n",
    "])"
   ],
   "id": "86d5e16d179d1d18",
   "outputs": [],
   "execution_count": null
  },
  {
   "metadata": {},
   "cell_type": "code",
   "source": "x",
   "id": "293a3fa1ce146e3e",
   "outputs": [],
   "execution_count": null
  },
  {
   "metadata": {},
   "cell_type": "code",
   "source": "c.dot(d)",
   "id": "d5236a285327a1c0",
   "outputs": [],
   "execution_count": null
  },
  {
   "metadata": {},
   "cell_type": "code",
   "source": [
    "# 4R x 2C * 2R x 6C = 4R x 6C\n",
    "\n",
    "# matrix multiplication is not commutative\n",
    "# A * B != B * A\n",
    "\n",
    "# matrix multiplication is associative \n",
    "# (A * B) * C = A * (B * C)\n",
    "\n",
    "# matrix multiplication is distributive\n",
    "# A * (B + C) = A * B + A * C\n",
    "# but \n",
    "# (A + B) * C = A * C + B * C\n"
   ],
   "id": "886d6cc7de329fe8",
   "outputs": [],
   "execution_count": null
  },
  {
   "metadata": {},
   "cell_type": "code",
   "source": [
    "# 3 x 2\n",
    "a = np.array([\n",
    "    [2, 0],\n",
    "    [1, 0],\n",
    "    [1, 4]\n",
    "])\n",
    "\n",
    "# 2 x 2\n",
    "b = np.array([\n",
    "    [1, 0],\n",
    "    [-1, 3]\n",
    "])"
   ],
   "id": "5a731b73fb66d739",
   "outputs": [],
   "execution_count": null
  },
  {
   "metadata": {},
   "cell_type": "code",
   "source": [
    "# 3 x 2\n",
    "a.dot(b)"
   ],
   "id": "c3933de2bf0ba205",
   "outputs": [],
   "execution_count": null
  },
  {
   "metadata": {},
   "cell_type": "code",
   "source": [
    "a = np.array([\n",
    "    [5, 2],\n",
    "    [0, -2]\n",
    "])\n",
    "\n",
    "b = np.array([\n",
    "    [9, 1],\n",
    "    [6, -1]\n",
    "])"
   ],
   "id": "f1b468949aebe3f",
   "outputs": [],
   "execution_count": null
  },
  {
   "metadata": {},
   "cell_type": "code",
   "source": [
    "x_0_0 = (a[0][0] * b[0][0]) + (a[0][1] * b[1][0])\n",
    "x_0_1 = (a[0][0] * b[0][1]) + (a[0][1] * b[1][1])\n",
    "\n",
    "x_1_0 = (a[1][0] * b[0][0]) + (a[1][1] * b[1][0])\n",
    "x_1_1 = (a[1][0] * b[0][1]) + (a[1][1] * b[1][1])"
   ],
   "id": "dd53a5bee1a344bf",
   "outputs": [],
   "execution_count": null
  },
  {
   "metadata": {},
   "cell_type": "code",
   "source": [
    "x = np.array([\n",
    "    [x_0_0, x_0_1],\n",
    "    [x_1_0, x_1_1]\n",
    "])"
   ],
   "id": "f637bdebc42feb02",
   "outputs": [],
   "execution_count": null
  },
  {
   "metadata": {},
   "cell_type": "code",
   "source": "x",
   "id": "237075a4798c63bc",
   "outputs": [],
   "execution_count": null
  },
  {
   "metadata": {},
   "cell_type": "code",
   "source": "a.dot(b)",
   "id": "f460d3c38471387f",
   "outputs": [],
   "execution_count": null
  },
  {
   "metadata": {},
   "cell_type": "code",
   "source": [
    "a = np.array([\n",
    "    [7, 2, -4],\n",
    "    [-5, 10, 3]\n",
    "])\n",
    "\n",
    "b = np.array([\n",
    "    [7, 1],\n",
    "    [7, 2],\n",
    "    [-2, 6]\n",
    "])"
   ],
   "id": "d3e90dd187d2301d",
   "outputs": [],
   "execution_count": null
  },
  {
   "metadata": {},
   "cell_type": "code",
   "source": "a.dot(b)",
   "id": "18f44a3627d45d3",
   "outputs": [],
   "execution_count": null
  },
  {
   "metadata": {},
   "cell_type": "code",
   "source": [
    "a = np.array([\n",
    "    [3, -1],\n",
    "    [1, 4]\n",
    "])\n",
    "\n",
    "b = np.array([\n",
    "    [5, 2],\n",
    "    [-2, 3]\n",
    "])\n",
    "\n",
    "c = np.array([\n",
    "    [2, 0],\n",
    "    [6, 2]\n",
    "])"
   ],
   "id": "d91718aa0c24ecd8",
   "outputs": [],
   "execution_count": null
  },
  {
   "metadata": {},
   "cell_type": "code",
   "source": "a.dot(b) + a.dot(c)",
   "id": "f99ed27a4046d25d",
   "outputs": [],
   "execution_count": null
  },
  {
   "metadata": {},
   "cell_type": "markdown",
   "source": [
    "# Identity Matrix\n",
    "A matrix that can be multiplied by the original matrix to give the original matrix.\n",
    "\n",
    "An identity matrix is a square matrix with 1s on the diagonal and 0s everywhere else."
   ],
   "id": "57aa4da384b783c"
  },
  {
   "metadata": {},
   "cell_type": "code",
   "source": "I = np.identity(3, dtype=int)",
   "id": "bae8c85db34cada6",
   "outputs": [],
   "execution_count": null
  },
  {
   "metadata": {},
   "cell_type": "code",
   "source": "I",
   "id": "8cb81dcf8312f6a2",
   "outputs": [],
   "execution_count": null
  },
  {
   "metadata": {},
   "cell_type": "code",
   "source": [
    "I = np.array([\n",
    "    [1, 0, 0],\n",
    "    [0, 1, 0],\n",
    "    [0, 0, 1]\n",
    "])"
   ],
   "id": "9588e5f1ed5097bb",
   "outputs": [],
   "execution_count": null
  },
  {
   "metadata": {},
   "cell_type": "code",
   "source": "I",
   "id": "98d4c66e01b594e1",
   "outputs": [],
   "execution_count": null
  },
  {
   "metadata": {},
   "cell_type": "code",
   "source": "from fractions import Fraction",
   "id": "85001a90af8505ad",
   "outputs": [],
   "execution_count": null
  },
  {
   "metadata": {},
   "cell_type": "code",
   "source": "Fraction(.25)",
   "id": "e1ab5894773e7c72",
   "outputs": [],
   "execution_count": null
  },
  {
   "metadata": {},
   "cell_type": "code",
   "source": [
    "a = np.array([\n",
    "    [3, 55, 2],\n",
    "    [1, 2, 3],\n",
    "    [4, 5, 6]\n",
    "])"
   ],
   "id": "a9a48926fc30f8fe",
   "outputs": [],
   "execution_count": null
  },
  {
   "metadata": {},
   "cell_type": "code",
   "source": "a.dot(I)",
   "id": "ee6e84551bf98f82",
   "outputs": [],
   "execution_count": null
  },
  {
   "metadata": {},
   "cell_type": "code",
   "source": "# the identity matrix shape comes from the row size of the original matrix in a square formation (ie. 3 x 5 matrix would be 3 x 3 identity matrix)",
   "id": "88f63259f74a21c5",
   "outputs": [],
   "execution_count": null
  },
  {
   "metadata": {},
   "cell_type": "markdown",
   "source": [
    "# Elimination Matrix\n",
    "AI = A\n",
    "\n",
    "IA = A\n",
    "\n",
    "\n",
    "A(-1)A = I\n",
    "\n",
    "AA(-1) = I\n",
    "\n",
    "EA = I =>  Elimination Matrix\n"
   ],
   "id": "6858c72ad6889dc9"
  },
  {
   "metadata": {},
   "cell_type": "code",
   "source": [
    "a = np.array([\n",
    "    [2, 4],\n",
    "    [0, -3]\n",
    "])"
   ],
   "id": "b8f1355855a85219",
   "outputs": [],
   "execution_count": null
  },
  {
   "metadata": {},
   "cell_type": "code",
   "source": "a.astype(int)",
   "id": "e45fc8946b88e091",
   "outputs": [],
   "execution_count": null
  },
  {
   "metadata": {},
   "cell_type": "code",
   "source": "b = a.copy()",
   "id": "e7d8e6aaffa7355b",
   "outputs": [],
   "execution_count": null
  },
  {
   "metadata": {},
   "cell_type": "code",
   "source": "a",
   "id": "616d97f8b2599e8a",
   "outputs": [],
   "execution_count": null
  },
  {
   "metadata": {},
   "cell_type": "code",
   "source": "b[0][:] * .5",
   "id": "88d6e7a063a5370f",
   "outputs": [],
   "execution_count": null
  },
  {
   "metadata": {},
   "cell_type": "code",
   "source": "b[0][:] = b[0][:] * .5",
   "id": "f17d45c1aa772586",
   "outputs": [],
   "execution_count": null
  },
  {
   "metadata": {},
   "cell_type": "code",
   "source": "b",
   "id": "aa3b59f74bdbc744",
   "outputs": [],
   "execution_count": null
  },
  {
   "metadata": {},
   "cell_type": "code",
   "source": "(b[1][:] * -1) - b[0][:]",
   "id": "61ad19f2d00250bc",
   "outputs": [],
   "execution_count": null
  },
  {
   "metadata": {},
   "cell_type": "code",
   "source": "(-1 * b[0][:]) + (b[1][:])",
   "id": "d19961237f40c311",
   "outputs": [],
   "execution_count": null
  },
  {
   "metadata": {},
   "cell_type": "code",
   "source": "b[1][:] = b[1][:] * (-1 / 3)",
   "id": "1d2871209de8f4d3",
   "outputs": [],
   "execution_count": null
  },
  {
   "metadata": {},
   "cell_type": "code",
   "source": "b",
   "id": "6af3005494d892a",
   "outputs": [],
   "execution_count": null
  },
  {
   "metadata": {},
   "cell_type": "code",
   "source": "b[0][:] = b[0][:] - (2 * b[1][:])",
   "id": "6516cf62b530cd4e",
   "outputs": [],
   "execution_count": null
  },
  {
   "metadata": {},
   "cell_type": "code",
   "source": "b",
   "id": "4a287732f2931cec",
   "outputs": [],
   "execution_count": null
  },
  {
   "metadata": {},
   "cell_type": "code",
   "source": "",
   "id": "1f308abfe400c0d0",
   "outputs": [],
   "execution_count": null
  }
 ],
 "metadata": {
  "kernelspec": {
   "display_name": "Python 3",
   "language": "python",
   "name": "python3"
  },
  "language_info": {
   "codemirror_mode": {
    "name": "ipython",
    "version": 2
   },
   "file_extension": ".py",
   "mimetype": "text/x-python",
   "name": "python",
   "nbconvert_exporter": "python",
   "pygments_lexer": "ipython2",
   "version": "2.7.6"
  }
 },
 "nbformat": 4,
 "nbformat_minor": 5
}
