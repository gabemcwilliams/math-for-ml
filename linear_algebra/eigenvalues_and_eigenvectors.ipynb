{
 "cells": [
  {
   "cell_type": "code",
   "id": "initial_id",
   "metadata": {
    "collapsed": true,
    "ExecuteTime": {
     "end_time": "2025-04-19T00:54:19.405301Z",
     "start_time": "2025-04-19T00:54:17.475015Z"
    }
   },
   "source": [
    "import re\n",
    "import numpy as np\n",
    "import scipy as sp\n",
    "import sympy as sym\n",
    "from IPython.display import display, Math, Latex\n",
    "import math\n",
    "import matplotlib.pyplot as plt\n",
    "from fractions import Fraction"
   ],
   "outputs": [],
   "execution_count": 1
  },
  {
   "metadata": {},
   "cell_type": "markdown",
   "source": [
    "# Eigenvalues, Eigenvectors, Eigenspaces\n",
    "***"
   ],
   "id": "71ecbe35621f4143"
  },
  {
   "metadata": {
    "ExecuteTime": {
     "end_time": "2025-04-19T00:54:19.758422Z",
     "start_time": "2025-04-19T00:54:19.750881Z"
    }
   },
   "cell_type": "code",
   "source": [
    "display(Math(fr'T ( \\overrightarrow{{v}} ) \\space = \\space A \\overrightarrow{{v}}'))\n",
    "display(Math(fr'T ( \\overrightarrow{{v}} ) = \\lambda \\overrightarrow{{v}}'))"
   ],
   "id": "f0931d2906c82785",
   "outputs": [
    {
     "data": {
      "text/plain": [
       "<IPython.core.display.Math object>"
      ],
      "text/latex": "$\\displaystyle T ( \\overrightarrow{v} ) \\space = \\space A \\overrightarrow{v}$"
     },
     "metadata": {},
     "output_type": "display_data"
    },
    {
     "data": {
      "text/plain": [
       "<IPython.core.display.Math object>"
      ],
      "text/latex": "$\\displaystyle T ( \\overrightarrow{v} ) = \\lambda \\overrightarrow{v}$"
     },
     "metadata": {},
     "output_type": "display_data"
    }
   ],
   "execution_count": 2
  },
  {
   "metadata": {
    "ExecuteTime": {
     "end_time": "2025-04-19T00:54:19.804156Z",
     "start_time": "2025-04-19T00:54:19.792056Z"
    }
   },
   "cell_type": "code",
   "source": [
    "display(Math(fr'A \\overrightarrow{{v}} \\space = \\space \\lambda \\overrightarrow{{v}}'))\n",
    "display(\n",
    "    Math(fr'\\overrightarrow{{O}} \\space = \\space \\lambda \\overrightarrow{{v}} \\space - \\space A \\overrightarrow{{v}}'))\n",
    "display(Math(\n",
    "    fr'\\overrightarrow{{O}} \\space = \\space \\lambda I_{{n}} \\overrightarrow{{v}} \\space - \\space A \\overrightarrow{{v}}'))\n",
    "display(Math(\n",
    "    fr'\\overrightarrow{{O}} \\space = \\space \\frac{{ ( \\lambda I_{{n}} \\overrightarrow{{v}} \\space - \\space A) \\space \\overrightarrow{{v}}}} {{B}}'))\n",
    "display(Math(fr'B \\overrightarrow{{v}} \\space = \\space \\overrightarrow{{O}}'))\n",
    "display(Math(fr'| B | = O'))\n",
    "display(Math(fr'| \\lambda I_{{n}} \\space - \\space A  | \\space = O'))"
   ],
   "id": "9767ac84e2fd5ca",
   "outputs": [
    {
     "data": {
      "text/plain": [
       "<IPython.core.display.Math object>"
      ],
      "text/latex": "$\\displaystyle A \\overrightarrow{v} \\space = \\space \\lambda \\overrightarrow{v}$"
     },
     "metadata": {},
     "output_type": "display_data"
    },
    {
     "data": {
      "text/plain": [
       "<IPython.core.display.Math object>"
      ],
      "text/latex": "$\\displaystyle \\overrightarrow{O} \\space = \\space \\lambda \\overrightarrow{v} \\space - \\space A \\overrightarrow{v}$"
     },
     "metadata": {},
     "output_type": "display_data"
    },
    {
     "data": {
      "text/plain": [
       "<IPython.core.display.Math object>"
      ],
      "text/latex": "$\\displaystyle \\overrightarrow{O} \\space = \\space \\lambda I_{n} \\overrightarrow{v} \\space - \\space A \\overrightarrow{v}$"
     },
     "metadata": {},
     "output_type": "display_data"
    },
    {
     "data": {
      "text/plain": [
       "<IPython.core.display.Math object>"
      ],
      "text/latex": "$\\displaystyle \\overrightarrow{O} \\space = \\space \\frac{ ( \\lambda I_{n} \\overrightarrow{v} \\space - \\space A) \\space \\overrightarrow{v}} {B}$"
     },
     "metadata": {},
     "output_type": "display_data"
    },
    {
     "data": {
      "text/plain": [
       "<IPython.core.display.Math object>"
      ],
      "text/latex": "$\\displaystyle B \\overrightarrow{v} \\space = \\space \\overrightarrow{O}$"
     },
     "metadata": {},
     "output_type": "display_data"
    },
    {
     "data": {
      "text/plain": [
       "<IPython.core.display.Math object>"
      ],
      "text/latex": "$\\displaystyle | B | = O$"
     },
     "metadata": {},
     "output_type": "display_data"
    },
    {
     "data": {
      "text/plain": [
       "<IPython.core.display.Math object>"
      ],
      "text/latex": "$\\displaystyle | \\lambda I_{n} \\space - \\space A  | \\space = O$"
     },
     "metadata": {},
     "output_type": "display_data"
    }
   ],
   "execution_count": 3
  },
  {
   "metadata": {
    "ExecuteTime": {
     "end_time": "2025-04-19T00:54:19.825521Z",
     "start_time": "2025-04-19T00:54:19.822274Z"
    }
   },
   "cell_type": "code",
   "source": [
    "# Question 1\n",
    "\n",
    "a = np.array([\n",
    "    [-3, 0],\n",
    "    [1, 4]\n",
    "])\n",
    "\n",
    "A = sym.Matrix(a)\n",
    "\n"
   ],
   "id": "96a0183144231e79",
   "outputs": [],
   "execution_count": 4
  },
  {
   "metadata": {
    "ExecuteTime": {
     "end_time": "2025-04-19T00:54:19.840294Z",
     "start_time": "2025-04-19T00:54:19.836235Z"
    }
   },
   "cell_type": "code",
   "source": "A",
   "id": "e60c6d322c8ad7f1",
   "outputs": [
    {
     "data": {
      "text/plain": [
       "Matrix([\n",
       "[-3, 0],\n",
       "[ 1, 4]])"
      ],
      "text/latex": "$\\displaystyle \\left[\\begin{matrix}-3 & 0\\\\1 & 4\\end{matrix}\\right]$"
     },
     "execution_count": 5,
     "metadata": {},
     "output_type": "execute_result"
    }
   ],
   "execution_count": 5
  },
  {
   "metadata": {
    "ExecuteTime": {
     "end_time": "2025-04-19T00:54:19.853666Z",
     "start_time": "2025-04-19T00:54:19.848977Z"
    }
   },
   "cell_type": "code",
   "source": "A.eigenvects()[0][0]",
   "id": "bd1f477ab15db2f1",
   "outputs": [
    {
     "data": {
      "text/plain": [
       "-3"
      ],
      "text/latex": "$\\displaystyle -3$"
     },
     "execution_count": 6,
     "metadata": {},
     "output_type": "execute_result"
    }
   ],
   "execution_count": 6
  },
  {
   "metadata": {
    "ExecuteTime": {
     "end_time": "2025-04-19T00:54:19.866917Z",
     "start_time": "2025-04-19T00:54:19.862184Z"
    }
   },
   "cell_type": "code",
   "source": "A.eigenvects()[1][0]",
   "id": "d69a0fb9ba0e4fbf",
   "outputs": [
    {
     "data": {
      "text/plain": [
       "4"
      ],
      "text/latex": "$\\displaystyle 4$"
     },
     "execution_count": 7,
     "metadata": {},
     "output_type": "execute_result"
    }
   ],
   "execution_count": 7
  },
  {
   "metadata": {
    "ExecuteTime": {
     "end_time": "2025-04-19T00:54:19.881108Z",
     "start_time": "2025-04-19T00:54:19.877050Z"
    }
   },
   "cell_type": "code",
   "source": [
    "import sympy as sym\n",
    "import numpy as np\n",
    "\n",
    "# Define the transformation matrix A\n",
    "a = np.array([\n",
    "    [-3, 0],\n",
    "    [1, 4]\n",
    "])\n",
    "\n",
    "A = sym.Matrix(a)\n",
    "A"
   ],
   "id": "bbb376105cf6db4a",
   "outputs": [
    {
     "data": {
      "text/plain": [
       "Matrix([\n",
       "[-3, 0],\n",
       "[ 1, 4]])"
      ],
      "text/latex": "$\\displaystyle \\left[\\begin{matrix}-3 & 0\\\\1 & 4\\end{matrix}\\right]$"
     },
     "execution_count": 8,
     "metadata": {},
     "output_type": "execute_result"
    }
   ],
   "execution_count": 8
  },
  {
   "metadata": {
    "ExecuteTime": {
     "end_time": "2025-04-19T00:54:19.895383Z",
     "start_time": "2025-04-19T00:54:19.892019Z"
    }
   },
   "cell_type": "code",
   "source": "A.eigenvals()",
   "id": "16745394431a60e0",
   "outputs": [
    {
     "data": {
      "text/plain": [
       "{-3: 1, 4: 1}"
      ]
     },
     "execution_count": 9,
     "metadata": {},
     "output_type": "execute_result"
    }
   ],
   "execution_count": 9
  },
  {
   "metadata": {
    "ExecuteTime": {
     "end_time": "2025-04-19T00:54:19.906868Z",
     "start_time": "2025-04-19T00:54:19.905061Z"
    }
   },
   "cell_type": "code",
   "source": "",
   "id": "d9168506f247aa65",
   "outputs": [],
   "execution_count": null
  }
 ],
 "metadata": {
  "kernelspec": {
   "display_name": "Python 3",
   "language": "python",
   "name": "python3"
  },
  "language_info": {
   "codemirror_mode": {
    "name": "ipython",
    "version": 2
   },
   "file_extension": ".py",
   "mimetype": "text/x-python",
   "name": "python",
   "nbconvert_exporter": "python",
   "pygments_lexer": "ipython2",
   "version": "2.7.6"
  }
 },
 "nbformat": 4,
 "nbformat_minor": 5
}
