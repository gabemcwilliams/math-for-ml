{
 "cells": [
  {
   "metadata": {},
   "cell_type": "markdown",
   "source": [
    "# Matrices as Vectors\n",
    "## Import Modules"
   ],
   "id": "6577a7219c1291af"
  },
  {
   "metadata": {},
   "cell_type": "code",
   "source": [
    "import math\n",
    "import numpy as np\n",
    "import scipy as sp\n",
    "import sympy as sym\n",
    "import matplotlib.pyplot as plt\n",
    "import pandas as pd\n",
    "import re\n",
    "from IPython.display import display, Math, Latex"
   ],
   "id": "d9a1f3508c95066d",
   "outputs": [],
   "execution_count": null
  },
  {
   "metadata": {},
   "cell_type": "markdown",
   "source": "# Vectors",
   "id": "a14351c62623c0fd"
  },
  {
   "metadata": {},
   "cell_type": "markdown",
   "source": [
    "<ul>A vector has two pieces of information contained within:\n",
    "\n",
    "***\n",
    "><li>A magnitude</li>\n",
    "><li>A direction</li>"
   ],
   "id": "d41bc016aec89191"
  },
  {
   "metadata": {},
   "cell_type": "code",
   "source": [
    "fig = plt.figure()\n",
    "fig.patch.set_facecolor('white')\n",
    "V = np.array([[3, 4]])\n",
    "origin = np.array([[0, 0], [0, 0]])  # origin point\n",
    "\n",
    "plt.quiver(*origin, V[:, 0], V[:, 1], color=['r', 'b', 'g'], scale=10)\n",
    "\n",
    "plt.axhline(0, color='red')  # x = 0\n",
    "plt.axvline(0, color='red')  # y = 0\n",
    "\n",
    "plt.xticks(np.arange(1, 10, 1))\n",
    "plt.yticks(np.arange(1, 10, 1))\n",
    "\n",
    "plt.grid(visible=True)\n",
    "# plt.show()"
   ],
   "id": "4829257b933ac91",
   "outputs": [],
   "execution_count": null
  },
  {
   "metadata": {},
   "cell_type": "code",
   "source": [
    "k = np.array([\n",
    "    [1, 0, 0, 3],\n",
    "    [-2, 1, 1, 4]\n",
    "])"
   ],
   "id": "4ce70f84a9ea1694",
   "outputs": [],
   "execution_count": null
  },
  {
   "metadata": {},
   "cell_type": "code",
   "source": "k",
   "id": "bf7dbe972196fe32",
   "outputs": [],
   "execution_count": null
  },
  {
   "metadata": {},
   "cell_type": "code",
   "source": [
    "# row vectors\n",
    "for index, row in enumerate(k):\n",
    "    display(Math(f'k_{index + 1} = {row[0], row[1], row[2], row[3]}'))"
   ],
   "id": "920b32d8baf54e4b",
   "outputs": [],
   "execution_count": null
  },
  {
   "metadata": {},
   "cell_type": "code",
   "source": [
    "# column vectors\n",
    "for index, col in enumerate(k.T):\n",
    "    display(Math(f'k_{index + 1} = {col[0], col[1]}'))"
   ],
   "id": "5f0465d52c90598d",
   "outputs": [],
   "execution_count": null
  },
  {
   "metadata": {},
   "cell_type": "markdown",
   "source": "# Vector Operations",
   "id": "5065c160b60a73eb"
  },
  {
   "metadata": {},
   "cell_type": "code",
   "source": "",
   "id": "27cc419cd3d2bbc5",
   "outputs": [],
   "execution_count": null
  },
  {
   "metadata": {},
   "cell_type": "code",
   "source": [
    "v_1 = np.array([-1, 2])\n",
    "v_2 = np.array([3, 4])"
   ],
   "id": "56b7db0a5a458842",
   "outputs": [],
   "execution_count": null
  },
  {
   "metadata": {},
   "cell_type": "code",
   "source": "v_1 + v_2",
   "id": "db40b63c1045587b",
   "outputs": [],
   "execution_count": null
  },
  {
   "metadata": {},
   "cell_type": "code",
   "source": "v_1 - v_2",
   "id": "49df8940ca9397e4",
   "outputs": [],
   "execution_count": null
  },
  {
   "metadata": {},
   "cell_type": "markdown",
   "source": "## Adding Vectors",
   "id": "d8da742f7dfe54ad"
  },
  {
   "metadata": {},
   "cell_type": "code",
   "source": [
    "# Create a single vector\n",
    "v_1 = np.array([-1, 2])\n",
    "v_2 = np.array([3, 4])\n",
    "\n",
    "# Create the plot\n",
    "fig, ax = plt.subplots()\n",
    "\n",
    "# Add the vector V to the plot\n",
    "ax.quiver(0, 0, v_1[0], v_1[1], angles='xy', scale_units='xy', scale=1, color='r')\n",
    "ax.quiver(v_1[0], v_1[1], v_2[0], v_2[1], angles='xy', scale_units='xy', scale=1, color='b')\n",
    "\n",
    "# Set the x-limits and y-limits of the plot\n",
    "ax.set_xlim([-10, 10])\n",
    "ax.set_ylim([-10, 10])\n",
    "\n",
    "# Show the plot along with the grid\n",
    "plt.grid()\n",
    "# plt.show()"
   ],
   "id": "5f7d634c5b564628",
   "outputs": [],
   "execution_count": null
  },
  {
   "metadata": {},
   "cell_type": "markdown",
   "source": "## Subtracting Vectors",
   "id": "90b2f37540a03d7c"
  },
  {
   "metadata": {},
   "cell_type": "code",
   "source": [
    "# Create a single vector\n",
    "v_1 = np.array([-1, 2])\n",
    "v_2 = np.array([3, 4])\n",
    "\n",
    "# Create the plot\n",
    "fig, ax = plt.subplots()\n",
    "\n",
    "# Add the vector V to the plot\n",
    "ax.quiver(0, 0, v_1[0], v_1[1], angles='xy', scale_units='xy', scale=1, color='r')\n",
    "ax.quiver(v_1[0], v_1[1], -v_2[0], -v_2[1], angles='xy', scale_units='xy', scale=1, color='b')\n",
    "\n",
    "# Set the x-limits and y-limits of the plot\n",
    "ax.set_xlim([-10, 10])\n",
    "ax.set_ylim([-10, 10])\n",
    "\n",
    "# Show the plot along with the grid\n",
    "plt.grid()\n",
    "# plt.show()"
   ],
   "id": "8869c2246a002a3e",
   "outputs": [],
   "execution_count": null
  },
  {
   "metadata": {},
   "cell_type": "markdown",
   "source": [
    "### Question 1\n",
    "***\n"
   ],
   "id": "aac10b1976fc0b76"
  },
  {
   "metadata": {},
   "cell_type": "code",
   "source": [
    "a = np.array([-2, 3])\n",
    "b = np.array([4, -1])"
   ],
   "id": "d9d547177acd47b5",
   "outputs": [],
   "execution_count": null
  },
  {
   "metadata": {},
   "cell_type": "code",
   "source": "a + b",
   "id": "7a48ae67365cb34a",
   "outputs": [],
   "execution_count": null
  },
  {
   "metadata": {},
   "cell_type": "markdown",
   "source": [
    "### Question 2\n",
    "***\n",
    "\n"
   ],
   "id": "954614a36e77c3c9"
  },
  {
   "metadata": {},
   "cell_type": "code",
   "source": [
    "a = np.array([-2, 3])\n",
    "b = np.array([4, -1])"
   ],
   "id": "833f680774853617",
   "outputs": [],
   "execution_count": null
  },
  {
   "metadata": {},
   "cell_type": "code",
   "source": "a - b",
   "id": "a5b34a15892e9419",
   "outputs": [],
   "execution_count": null
  },
  {
   "metadata": {},
   "cell_type": "markdown",
   "source": [
    "### Question 3\n",
    "***\n"
   ],
   "id": "4e2cf1af252d21d6"
  },
  {
   "metadata": {},
   "cell_type": "code",
   "source": [
    "a = np.array([-2, 3])\n",
    "b = np.array([4, -1])\n",
    "c = np.array([-1, 1])\n",
    "d = np.array([3, -2])"
   ],
   "id": "1729760bfffa219e",
   "outputs": [],
   "execution_count": null
  },
  {
   "metadata": {},
   "cell_type": "code",
   "source": "(2 * c) + (3 * a) - d + (4 * b)",
   "id": "2e52d04ce72c5bb7",
   "outputs": [],
   "execution_count": null
  },
  {
   "metadata": {},
   "cell_type": "markdown",
   "source": [
    "# Unit Vectors\n",
    "***\n",
    "\n",
    "unit vectors are vectors that have a magnitude of 1"
   ],
   "id": "3e86079f0cb5e507"
  },
  {
   "metadata": {},
   "cell_type": "code",
   "source": [
    "i_j_hat = Math(r'\\hat{i} and \\hat{j}')\n",
    "print(f\"Working with Unit Vectors.\\nSpecifically {display(i_j_hat)}\")"
   ],
   "id": "6706bcfc3ddcba90",
   "outputs": [],
   "execution_count": null
  },
  {
   "metadata": {},
   "cell_type": "markdown",
   "source": "vector u = (1/abso(v)) * v",
   "id": "231879d716db6ecb"
  },
  {
   "metadata": {},
   "cell_type": "code",
   "source": [
    "v = np.array([\n",
    "    5, 9])"
   ],
   "id": "c9cb76e8b488f443",
   "outputs": [],
   "execution_count": null
  },
  {
   "metadata": {},
   "cell_type": "code",
   "source": "v_hat = v / np.linalg.norm(v)",
   "id": "2719a480b5ebc484",
   "outputs": [],
   "execution_count": null
  },
  {
   "metadata": {},
   "cell_type": "code",
   "source": "v_hat",
   "id": "3f03d916397fe8a7",
   "outputs": [],
   "execution_count": null
  },
  {
   "metadata": {},
   "cell_type": "code",
   "source": "",
   "id": "3c76cf2e2a5fc8fc",
   "outputs": [],
   "execution_count": null
  },
  {
   "metadata": {},
   "cell_type": "code",
   "source": "np.sqrt(v_hat[0] ** 2 + v_hat[1] ** 2)",
   "id": "cf6debc3c09464f0",
   "outputs": [],
   "execution_count": null
  },
  {
   "metadata": {},
   "cell_type": "markdown",
   "source": [
    "# Linear Independence\n",
    "***\n",
    "\n",
    "## 2-D Linear Independence"
   ],
   "id": "a3416d3aa69e690e"
  },
  {
   "metadata": {},
   "cell_type": "code",
   "source": [
    "c1 = np.array([\n",
    "    -3, 5\n",
    "])"
   ],
   "id": "84416f5bab955800",
   "outputs": [],
   "execution_count": null
  },
  {
   "metadata": {},
   "cell_type": "code",
   "source": [
    "c2 = np.array([\n",
    "    9, -15\n",
    "])"
   ],
   "id": "aa6e84c0de1ee42c",
   "outputs": [],
   "execution_count": null
  },
  {
   "metadata": {},
   "cell_type": "code",
   "source": [
    "b = np.array([\n",
    "    0, 0\n",
    "])"
   ],
   "id": "f9fd5e750ad866d5",
   "outputs": [],
   "execution_count": null
  },
  {
   "metadata": {},
   "cell_type": "code",
   "source": "d = np.c_[c1, c2, b]",
   "id": "a28073b9ae06372c",
   "outputs": [],
   "execution_count": null
  },
  {
   "metadata": {},
   "cell_type": "code",
   "source": "d",
   "id": "edc9e05b00606246",
   "outputs": [],
   "execution_count": null
  },
  {
   "metadata": {},
   "cell_type": "code",
   "source": [
    "# step 1\n",
    "d[0][:] = (-1 / 3) * d[0][:]"
   ],
   "id": "817af37aa83545d2",
   "outputs": [],
   "execution_count": null
  },
  {
   "metadata": {},
   "cell_type": "code",
   "source": "d",
   "id": "7f20300d2b09e505",
   "outputs": [],
   "execution_count": null
  },
  {
   "metadata": {},
   "cell_type": "code",
   "source": [
    "# step 2\n",
    "d[1][:] = (-1 / 5) * d[1][:]"
   ],
   "id": "1979953df9fb7141",
   "outputs": [],
   "execution_count": null
  },
  {
   "metadata": {},
   "cell_type": "code",
   "source": "d",
   "id": "f8fb9e304834942",
   "outputs": [],
   "execution_count": null
  },
  {
   "metadata": {},
   "cell_type": "code",
   "source": [
    "# step 3\n",
    "d[1][:] = d[0][:] + d[1][:]"
   ],
   "id": "aff4d00200c19c9",
   "outputs": [],
   "execution_count": null
  },
  {
   "metadata": {},
   "cell_type": "code",
   "source": "d",
   "id": "4429a20d4e33ab07",
   "outputs": [],
   "execution_count": null
  },
  {
   "metadata": {},
   "cell_type": "code",
   "source": "# since the last row shows infinite possibilities, the vectors are linearly dependent",
   "id": "bdd6fbe8307580be",
   "outputs": [],
   "execution_count": null
  },
  {
   "metadata": {},
   "cell_type": "markdown",
   "source": "## 3-D Linear Independence",
   "id": "eaff61b5ff671b68"
  },
  {
   "metadata": {},
   "cell_type": "code",
   "source": [
    "c1 = np.array([\n",
    "    1, 2, 3\n",
    "])"
   ],
   "id": "3b71a2b74d76d37b",
   "outputs": [],
   "execution_count": null
  },
  {
   "metadata": {},
   "cell_type": "code",
   "source": [
    "c2 = np.array([\n",
    "    0, 1, 4\n",
    "])"
   ],
   "id": "5174ca902a616f5c",
   "outputs": [],
   "execution_count": null
  },
  {
   "metadata": {},
   "cell_type": "code",
   "source": [
    "c3 = np.array([\n",
    "    2, -3, 0\n",
    "])"
   ],
   "id": "1f8a589127316617",
   "outputs": [],
   "execution_count": null
  },
  {
   "metadata": {},
   "cell_type": "code",
   "source": [
    "b = np.array([\n",
    "    0, 0, 0\n",
    "])"
   ],
   "id": "2a73e274c7372f50",
   "outputs": [],
   "execution_count": null
  },
  {
   "metadata": {},
   "cell_type": "code",
   "source": "d = np.c_[c1, c2, c3, b]",
   "id": "f7d52e099e5e093b",
   "outputs": [],
   "execution_count": null
  },
  {
   "metadata": {},
   "cell_type": "code",
   "source": "d",
   "id": "bde1fd9ea44b56ea",
   "outputs": [],
   "execution_count": null
  },
  {
   "metadata": {},
   "cell_type": "code",
   "source": [
    "# step 1\n",
    "d[1][:] = 2 * d[0][:] - d[1][:]"
   ],
   "id": "78cc11c67f3672fa",
   "outputs": [],
   "execution_count": null
  },
  {
   "metadata": {},
   "cell_type": "code",
   "source": "d",
   "id": "b6dfe5bff4de0fe",
   "outputs": [],
   "execution_count": null
  },
  {
   "metadata": {},
   "cell_type": "code",
   "source": [
    "# step 2\n",
    "d[2][:] = 3 * d[0][:] - d[2][:]"
   ],
   "id": "f8d27d5c613a636",
   "outputs": [],
   "execution_count": null
  },
  {
   "metadata": {},
   "cell_type": "code",
   "source": "d",
   "id": "120777db8880d94f",
   "outputs": [],
   "execution_count": null
  },
  {
   "metadata": {},
   "cell_type": "code",
   "source": [
    "# step 3\n",
    "d[1][:] = -1 * d[1][:]"
   ],
   "id": "c6f8244cf5e04976",
   "outputs": [],
   "execution_count": null
  },
  {
   "metadata": {},
   "cell_type": "code",
   "source": "d",
   "id": "d1b305f9dbdfce70",
   "outputs": [],
   "execution_count": null
  },
  {
   "metadata": {},
   "cell_type": "code",
   "source": [
    "# step 4\n",
    "d[2][:] = (4 * d[1][:] + d[2][:])"
   ],
   "id": "b39173f73515492a",
   "outputs": [],
   "execution_count": null
  },
  {
   "metadata": {},
   "cell_type": "code",
   "source": "d",
   "id": "a247a896db6d4b77",
   "outputs": [],
   "execution_count": null
  },
  {
   "metadata": {},
   "cell_type": "code",
   "source": [
    "# step 5\n",
    "d[2][:] = (-1 / 22) * d[2][:]"
   ],
   "id": "4ea21a453e6cc410",
   "outputs": [],
   "execution_count": null
  },
  {
   "metadata": {},
   "cell_type": "code",
   "source": "d",
   "id": "cdc60fb2177c814e",
   "outputs": [],
   "execution_count": null
  },
  {
   "metadata": {},
   "cell_type": "code",
   "source": [
    "# step 6\n",
    "d[0][:] = d[0][:] + (-2 * d[2][:])"
   ],
   "id": "1d65323aa9f0def8",
   "outputs": [],
   "execution_count": null
  },
  {
   "metadata": {},
   "cell_type": "code",
   "source": "d",
   "id": "ce7316b99ca8761e",
   "outputs": [],
   "execution_count": null
  },
  {
   "metadata": {},
   "cell_type": "markdown",
   "source": [
    "# Linear Subspaces\n",
    "***\n",
    "\n",
    "- lines that go through the origin are linear subspaces\n",
    "\n",
    "- lines that do not go through the origin are called affine subspaces"
   ],
   "id": "d13d7f98e487bb5f"
  },
  {
   "metadata": {},
   "cell_type": "code",
   "source": "",
   "id": "99464c5514d0fbd",
   "outputs": [],
   "execution_count": null
  },
  {
   "metadata": {},
   "cell_type": "code",
   "source": "",
   "id": "8504840f0b3a68a2",
   "outputs": [],
   "execution_count": null
  },
  {
   "metadata": {},
   "cell_type": "code",
   "source": "",
   "id": "4ae01a01df737661",
   "outputs": [],
   "execution_count": null
  },
  {
   "metadata": {},
   "cell_type": "code",
   "source": "",
   "id": "42b9bd682fdf986",
   "outputs": [],
   "execution_count": null
  },
  {
   "metadata": {},
   "cell_type": "code",
   "source": "",
   "id": "6f8610c70b9f50c3",
   "outputs": [],
   "execution_count": null
  }
 ],
 "metadata": {
  "kernelspec": {
   "display_name": "Python 3",
   "language": "python",
   "name": "python3"
  },
  "language_info": {
   "codemirror_mode": {
    "name": "ipython",
    "version": 2
   },
   "file_extension": ".py",
   "mimetype": "text/x-python",
   "name": "python",
   "nbconvert_exporter": "python",
   "pygments_lexer": "ipython2",
   "version": "2.7.6"
  }
 },
 "nbformat": 4,
 "nbformat_minor": 5
}
