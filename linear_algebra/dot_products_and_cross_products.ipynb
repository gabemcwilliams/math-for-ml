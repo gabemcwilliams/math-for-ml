{
 "cells": [
  {
   "cell_type": "code",
   "id": "initial_id",
   "metadata": {},
   "source": [
    "import re\n",
    "import numpy as np\n",
    "import scipy as sp\n",
    "import sympy as sym\n",
    "from IPython.display import display, Math, Latex\n",
    "import math\n",
    "import matplotlib.pyplot as plt"
   ],
   "outputs": [],
   "execution_count": null
  },
  {
   "cell_type": "markdown",
   "id": "cec45ed07c76531e",
   "metadata": {},
   "source": [
    "# Dot Products\n",
    "***"
   ]
  },
  {
   "cell_type": "code",
   "id": "2a4dea6f7367532d",
   "metadata": {},
   "source": [
    "# 1 one-dimensional array multiplication\n",
    "a = np.array([1, 2, 3])\n",
    "b = np.array([4, 5, 6])\n",
    "a * b"
   ],
   "outputs": [],
   "execution_count": null
  },
  {
   "cell_type": "code",
   "id": "16cf54346be42f34",
   "metadata": {},
   "source": [
    "# dot product => a * b = (a_1 * b_1) + (a_2 * b_2) + (a_3 * b_3)\n",
    "# multiply a row vector by a column vector\n",
    "# a.T * b\n",
    "np.dot(a, b)"
   ],
   "outputs": [],
   "execution_count": null
  },
  {
   "cell_type": "code",
   "id": "da876c29452cb21a",
   "metadata": {},
   "source": [
    "a * b"
   ],
   "outputs": [],
   "execution_count": null
  },
  {
   "cell_type": "code",
   "id": "1816a11fe898b434",
   "metadata": {},
   "source": [
    "(a.T[0] * b[0]) + (a.T[1] * b[1]) + (a.T[2] * b[2])"
   ],
   "outputs": [],
   "execution_count": null
  },
  {
   "cell_type": "markdown",
   "id": "209628ffa3fe362b",
   "metadata": {},
   "source": [
    "## Examples"
   ]
  },
  {
   "cell_type": "code",
   "id": "a2feea64dac45a1e",
   "metadata": {},
   "source": [
    "# question 1\n",
    "x = np.array([5, -1])\n",
    "y = np.array([3, 2])"
   ],
   "outputs": [],
   "execution_count": null
  },
  {
   "cell_type": "code",
   "id": "a55e4c53a4766454",
   "metadata": {},
   "source": [
    "dot_product = (x.T[0] * y[0]) + (x.T[1] * y[1])"
   ],
   "outputs": [],
   "execution_count": null
  },
  {
   "cell_type": "code",
   "id": "b8d1eb91b466a3a1",
   "metadata": {},
   "source": [
    "dot_product"
   ],
   "outputs": [],
   "execution_count": null
  },
  {
   "cell_type": "code",
   "id": "aa8e3aff4271b3fc",
   "metadata": {},
   "source": [
    "x.dot(y)"
   ],
   "outputs": [],
   "execution_count": null
  },
  {
   "cell_type": "code",
   "id": "31ab0c6e99cefcd9",
   "metadata": {},
   "source": [
    "# question 2\n",
    "x = np.array([-4, 0, 12])\n",
    "y = np.array([9, -12, 8])"
   ],
   "outputs": [],
   "execution_count": null
  },
  {
   "cell_type": "code",
   "id": "b9488761b5a1bb8e",
   "metadata": {},
   "source": [
    "x.dot(y)"
   ],
   "outputs": [],
   "execution_count": null
  },
  {
   "cell_type": "code",
   "id": "6f43726a38b2df6d",
   "metadata": {},
   "source": [
    "# question 3\n",
    "x = np.array([-4, -2, 7])\n",
    "y = np.array([6, -1, -10])\n",
    "z = np.array([3, -2, 0])"
   ],
   "outputs": [],
   "execution_count": null
  },
  {
   "cell_type": "code",
   "id": "d371a86ebca5e4d4",
   "metadata": {},
   "source": [
    "(3 * x).dot((-2 * y) - z)"
   ],
   "outputs": [],
   "execution_count": null
  },
  {
   "cell_type": "markdown",
   "id": "f26567b3c0d14819",
   "metadata": {},
   "source": [
    "# Cauchy-Schwarz Inequality\n",
    "***\n",
    "\n",
    "Another method to prove if two different vectors are linearly dependent\n"
   ]
  },
  {
   "cell_type": "code",
   "id": "ff03b23766053ef",
   "metadata": {},
   "source": [
    "display(Math(\n",
    "    r'\\\\| \\overrightarrow{\\rm a} \\cdot \\overrightarrow{\\rm b}| \\text {  } \\leq \\text {  } || \\overrightarrow{\\rm a} || \\text {  } || \\overrightarrow{\\rm b} ||\\\\'))"
   ],
   "outputs": [],
   "execution_count": null
  },
  {
   "cell_type": "code",
   "id": "547dd41692774333",
   "metadata": {},
   "source": [
    "# length of a vector i \n",
    "display(Math(r'\\\\|| \\overrightarrow{\\rm i} || = \\sqrt{ i[0]^{2} + i[1]^{2} ... i[n]^{2} }'))"
   ],
   "outputs": [],
   "execution_count": null
  },
  {
   "cell_type": "code",
   "id": "3b41290769b85c93",
   "metadata": {},
   "source": [
    "def cauchy_schwarz_inequality(vec_a: np.array, vec_b: np.array) -> None:\n",
    "    print(f\"\\nvec_a = {vec_a}\")\n",
    "    print(f\"vec_b = {vec_b}\")\n",
    "    print(\"\\n\" + \"-\" * 100 + \"\\n\")\n",
    "\n",
    "    abs_dot_prod = np.abs(vec_a.dot(vec_b))\n",
    "    print(f\"The dot product is {abs_dot_prod}\")\n",
    "    print(\"\\n\" + \"-\" * 100 + \"\\n\")\n",
    "\n",
    "    sqrt_length_a = math.sqrt(vec_a[0] ** 2 + vec_a[1] ** 2)\n",
    "    sqrt_length_b = math.sqrt(vec_b[0] ** 2 + vec_b[1] ** 2)\n",
    "    len_prod = int(round(sqrt_length_a * sqrt_length_b, 0))\n",
    "    print(f\"The sqrt_length_a of (vec_a[0] ** 2 + vec_a[1] ** 2) is {int(round(sqrt_length_a, 0))}\")\n",
    "    print(f\"The sqrt_length_b of (vec_b[0] ** 2 + vec_b[1] ** 2) is {int(round(sqrt_length_b, 0))}\")\n",
    "    print(f\"\\nThe product of the lengths is {len_prod}\")\n",
    "    print(\"\\n\" + \"-\" * 100 + \"\\n\")\n",
    "\n",
    "    if abs_dot_prod < len_prod:\n",
    "        print(f\"The vectors are linearly independent: abs_dot_prod: {abs_dot_prod} < len_prod: {len_prod}\\n\")\n",
    "    elif abs_dot_prod == len_prod:\n",
    "        print(f\"The vectors are linearly dependent: abs_dot_prod: {abs_dot_prod} < len_prod: {len_prod}\\n\")\n",
    "    else:\n",
    "        print(f\"Something went wrong: abs_dot_prod: {abs_dot_prod} < len_prod: {len_prod}\\n\")"
   ],
   "outputs": [],
   "execution_count": null
  },
  {
   "cell_type": "code",
   "id": "98440cf8b1b4b94b",
   "metadata": {},
   "source": [
    "a = np.array([6, 5])\n",
    "b = np.array([4, 0])"
   ],
   "outputs": [],
   "execution_count": null
  },
  {
   "cell_type": "code",
   "id": "ed6881abce0bfc61",
   "metadata": {},
   "source": [
    "cauchy_schwarz_inequality(a, b)"
   ],
   "outputs": [],
   "execution_count": null
  },
  {
   "cell_type": "code",
   "id": "616ae15a6f239eec",
   "metadata": {},
   "source": [
    "a.dot(b)"
   ],
   "outputs": [],
   "execution_count": null
  },
  {
   "cell_type": "markdown",
   "id": "e5e285ff19f6de19",
   "metadata": {},
   "source": [
    "# Vector Triangle Inequality"
   ]
  },
  {
   "cell_type": "code",
   "id": "f68eb78d17be7526",
   "metadata": {},
   "source": [
    "a = np.array([-1, -6])\n",
    "b = np.array([-4, -24])"
   ],
   "outputs": [],
   "execution_count": null
  },
  {
   "cell_type": "code",
   "id": "e398f4de62804c61",
   "metadata": {},
   "source": [
    "display(Math(\n",
    "    r'\\\\|| \\overrightarrow{\\rm a} \\text { + } \\overrightarrow{\\rm b}|| \\text {  } \\leq \\text {  } || \\overrightarrow{\\rm a} || \\text { + } || \\overrightarrow{\\rm b} ||\\\\'\n",
    "))"
   ],
   "outputs": [],
   "execution_count": null
  },
  {
   "cell_type": "code",
   "id": "43260db0ce541326",
   "metadata": {},
   "source": [
    "def vector_triangle_inequality(vec_a: np.array, vec_b: np.array) -> None:\n",
    "    # left side of equation\n",
    "    left_side = abs(round(math.sqrt(sum((vec_a[i] + vec_b[i]) ** 2 for i in range(vec_a.shape[0]))), 2))\n",
    "\n",
    "    # print(f\"\\nleft_side = {left_side}\")\n",
    "    # right side of equation\n",
    "    a_sum = sum(vec_a[i] ** 2 for i in range(vec_a.shape[0]))\n",
    "    b_sum = sum(vec_b[i] ** 2 for i in range(vec_b.shape[0]))\n",
    "    right_side = round(math.sqrt(a_sum) + math.sqrt(b_sum), 2)\n",
    "    # print(f\"\\nright_side = {right_side}\")\n",
    "\n",
    "    if left_side < right_side:\n",
    "        print(f\"The vectors are linearly [INDEPENDENT]: left_side: {left_side} < right_side: {right_side}\")\n",
    "    elif left_side == right_side:\n",
    "        print(f\"The vectors are linearly [DEPENDENT]: left_side: {left_side} == right_side: {right_side}\")\n",
    "    else:\n",
    "        print(f\"Something went wrong: left_side: {left_side} > right_side: {right_side}\")\n"
   ],
   "outputs": [],
   "execution_count": null
  },
  {
   "cell_type": "code",
   "id": "e704fb9587832399",
   "metadata": {},
   "source": [
    "vector_triangle_inequality(a, b)"
   ],
   "outputs": [],
   "execution_count": null
  },
  {
   "cell_type": "code",
   "id": "d31ac3466c81dfcd",
   "metadata": {},
   "source": [
    "vector_triangle_inequality(\n",
    "    np.array([5, -3]),\n",
    "    np.array([0, 6])\n",
    ")"
   ],
   "outputs": [],
   "execution_count": null
  },
  {
   "cell_type": "code",
   "id": "b03aca46a79da540",
   "metadata": {},
   "source": [
    "vector_triangle_inequality(\n",
    "    np.array([-8, -3]),\n",
    "    np.array([2, 8])\n",
    ")"
   ],
   "outputs": [],
   "execution_count": null
  },
  {
   "cell_type": "code",
   "id": "63044212b6dc4a12",
   "metadata": {},
   "source": [
    "vector_triangle_inequality(\n",
    "    np.array([-9, -8]),\n",
    "    np.array([-5, 6])\n",
    ")"
   ],
   "outputs": [],
   "execution_count": null
  },
  {
   "cell_type": "markdown",
   "id": "62ad33d9a25ad66f",
   "metadata": {},
   "source": [
    "# Angle between vectors"
   ]
  },
  {
   "cell_type": "code",
   "id": "a849d67e330e6f3b",
   "metadata": {},
   "source": [
    "display(Math(\n",
    "    r'\\||\\overrightarrow{\\rm u}|| \\cdot ||\\overrightarrow{\\rm v}|| = ||\\overrightarrow{\\rm u}||||\\overrightarrow{\\rm v}||\\cos\\theta \\\\'))"
   ],
   "outputs": [],
   "execution_count": null
  },
  {
   "cell_type": "code",
   "id": "bfc382708bf86cee",
   "metadata": {},
   "source": [
    "u = np.array([2, -1])\n",
    "v = np.array([-1, 4])"
   ],
   "outputs": [],
   "execution_count": null
  },
  {
   "cell_type": "code",
   "id": "6c342e5be80de675",
   "metadata": {},
   "source": [
    "def angle_between_vectors(vec_u: np.array, vec_v: np):\n",
    "    # left side of equation\n",
    "    left_side = vec_u.dot(vec_v)\n",
    "    print(f\"left_side = {left_side}\")\n",
    "    print(\"-\" * 100)\n",
    "\n",
    "    # right side of equation\n",
    "    u_sum = sum(vec_u[i] ** 2 for i in range(vec_u.shape[0]))\n",
    "    print(f\"u_sum = {u_sum}\")\n",
    "    v_sum = sum(vec_v[i] ** 2 for i in range(vec_v.shape[0]))\n",
    "    print(f\"v_sum = {v_sum}\")\n",
    "    right_side = u_sum * v_sum\n",
    "    print(f\"right_side = {right_side}\")\n",
    "    print(\"-\" * 100)\n",
    "\n",
    "    # solve for theta\n",
    "    theta = round(math.acos(left_side / math.sqrt(right_side)), 2)\n",
    "    print(f\"theta in degrees = {round(math.degrees(theta), 2)}\")\n",
    "    print(f\"theta in radians = {theta}\")\n",
    "    print(\"-\" * 100)\n",
    "\n",
    "    if theta == 0:\n",
    "        print(f\"The vectors are [ORTHOGONAL]\")\n",
    "    elif theta == 90:\n",
    "        print(f\"The vectors are [PERPENDICULAR]\")\n",
    "    elif theta < 90:\n",
    "        print(f\"The vectors are [ACUTE]\")\n",
    "    elif theta > 90:\n",
    "        print(f\"The vectors are [OBTUSE]\")\n",
    "    else:\n",
    "        print(f\"Something went wrong: theta = {theta}\")\n"
   ],
   "outputs": [],
   "execution_count": null
  },
  {
   "cell_type": "code",
   "id": "fd79b9437d7a4d23",
   "metadata": {},
   "source": [
    "angle_between_vectors(u, v)"
   ],
   "outputs": [],
   "execution_count": null
  },
  {
   "cell_type": "code",
   "id": "b221ca4bd50b9500",
   "metadata": {},
   "source": [
    "a = np.array([2, 0, -1])\n",
    "b = np.array([-1, 4, 2])"
   ],
   "outputs": [],
   "execution_count": null
  },
  {
   "cell_type": "code",
   "id": "68514c032510b815",
   "metadata": {},
   "source": [
    "angle_between_vectors(a, b)"
   ],
   "outputs": [],
   "execution_count": null
  },
  {
   "cell_type": "code",
   "id": "3f28c739fb8b5c28",
   "metadata": {},
   "source": [
    "angle_between_vectors(\n",
    "    np.array([1, -3, 1]),\n",
    "    np.array([0, 6, -2])\n",
    ")"
   ],
   "outputs": [],
   "execution_count": null
  },
  {
   "cell_type": "markdown",
   "id": "9678c96b31ec0916",
   "metadata": {},
   "source": [
    "# Equation of a Plane"
   ]
  },
  {
   "cell_type": "code",
   "id": "93cf40da24178aaa",
   "metadata": {},
   "source": [
    "display(Math(r'Ax + By + Cz = D'))\n",
    "print(f\"or\")\n",
    "display(Math(r'a(x - x_0) + b(y - y_0) + c(z - z_)'))"
   ],
   "outputs": [],
   "execution_count": null
  },
  {
   "cell_type": "code",
   "id": "bdf9a9496f6d8400",
   "metadata": {},
   "source": [
    "class EquationOfPlane:\n",
    "    def __init__(self, normal_vector: np.array, pass_point: np.array) -> None:\n",
    "\n",
    "        print(f\"normal_vector = {normal_vector}\")\n",
    "        print(f\"pass_point = {pass_point}\")\n",
    "\n",
    "        self.a = normal_vector[0]\n",
    "        self.b = normal_vector[1]\n",
    "        self.c = normal_vector[2]\n",
    "\n",
    "        self.x_0 = pass_point[0]\n",
    "        self.y_0 = pass_point[1]\n",
    "        self.z_0 = pass_point[2]\n",
    "\n",
    "    def right_side(self):\n",
    "        equation = 0\n",
    "        return equation\n",
    "\n",
    "    def left_side(self):\n",
    "        equation = f\"{self.a}(x - {self.x_0}) + {self.b}(y - {self.y_0}) + {self.c}(z - {self.z_0})\"\n",
    "        return equation\n",
    "\n",
    "    def left_and_right(self):\n",
    "        print(f\"equation:\\n {self.left_side()} = {self.right_side()}\")\n",
    "\n",
    "    @staticmethod\n",
    "    def a_var(current_int: int, scalar_int: int) -> str:\n",
    "        constant_int = current_int * scalar_int\n",
    "        if constant_int == 0:\n",
    "            return \"0\"\n",
    "        elif constant_int == 1:\n",
    "            return \"a\"\n",
    "        return f\"{constant_int}a\"\n",
    "\n",
    "    @staticmethod\n",
    "    def b_var(current_int: int, scalar_int: int) -> str:\n",
    "        constant_int = current_int * scalar_int\n",
    "        if constant_int == 0:\n",
    "            return \"0\"\n",
    "        elif constant_int == 1:\n",
    "            return \"b\"\n",
    "        return f\"{constant_int}b\"\n",
    "\n",
    "    @staticmethod\n",
    "    def c_var(current_int: int, scalar_int: int) -> str:\n",
    "        constant_int = current_int * scalar_int\n",
    "        if constant_int == 0:\n",
    "            return \"0\"\n",
    "        elif constant_int == 1:\n",
    "            return \"c\"\n",
    "        return f\"{constant_int}c\"\n"
   ],
   "outputs": [],
   "execution_count": null
  },
  {
   "cell_type": "code",
   "id": "455361d0f3cdff3d",
   "metadata": {},
   "source": [
    "plane_equation = EquationOfPlane(\n",
    "    normal_vector=np.array([-3, 2, 5]),\n",
    "    pass_point=np.array([1, 0, -2])\n",
    ")"
   ],
   "outputs": [],
   "execution_count": null
  },
  {
   "cell_type": "code",
   "id": "2f4d3bba11316086",
   "metadata": {},
   "source": [
    "plane_equation.left_and_right()"
   ],
   "outputs": [],
   "execution_count": null
  },
  {
   "cell_type": "code",
   "id": "a2c6ea8c555d8a76",
   "metadata": {},
   "source": [
    "string = \"-3(x - 1) + 2(y - 0) + 5(z - -2) = 0\""
   ],
   "outputs": [],
   "execution_count": null
  },
  {
   "cell_type": "code",
   "id": "fec6eb5404922a1c",
   "metadata": {},
   "source": "",
   "outputs": [],
   "execution_count": null
  },
  {
   "cell_type": "code",
   "id": "328d4e810430f6a6",
   "metadata": {},
   "source": [
    "plane_equation = EquationOfPlane(\n",
    "    pass_point=np.array([-5, 3, -3]),\n",
    "    normal_vector=np.array([-4, -3, 9])\n",
    ")"
   ],
   "outputs": [],
   "execution_count": null
  },
  {
   "cell_type": "code",
   "id": "dd314638d1367a4e",
   "metadata": {},
   "source": [
    "plane_equation.left_and_right()"
   ],
   "outputs": [],
   "execution_count": null
  },
  {
   "cell_type": "markdown",
   "id": "65c6390c4a6ce0f2",
   "metadata": {},
   "source": [
    "# Cross Product\n",
    "***\n",
    "\n",
    "The line that points orthogonal to the two vectors is the cross product of the two vectors."
   ]
  },
  {
   "cell_type": "code",
   "id": "37034e2b6e3e3a85",
   "metadata": {},
   "source": [
    "m = np.array([\n",
    "    [\"i\", \"j\", \"k\"],\n",
    "    [\"a_1\", \"a_2\", \"a_3\"],\n",
    "    [\"b_1\", \"b_2\", \"b_3\"],\n",
    "])\n",
    "M = sym.Matrix(m)"
   ],
   "outputs": [],
   "execution_count": null
  },
  {
   "cell_type": "code",
   "id": "d10f92cbe196febb",
   "metadata": {},
   "source": [
    "i_m = np.array([[m[1][1], m[1][2]], [m[2][1], m[2][2]]])\n",
    "i_M = sym.Matrix(i_m)\n",
    "display(Math(r'= i' + sym.latex(i_M)))"
   ],
   "outputs": [],
   "execution_count": null
  },
  {
   "cell_type": "code",
   "id": "a0b7f7c897b3f435",
   "metadata": {},
   "source": [
    "j_m = np.array([[m[1][0], m[1][2]], [m[2][0], m[2][2]]])\n",
    "j_M = sym.Matrix(j_m)\n",
    "display(Math(r'= j' + sym.latex(j_M)))\n"
   ],
   "outputs": [],
   "execution_count": null
  },
  {
   "cell_type": "code",
   "id": "8aa19d68a0854be2",
   "metadata": {},
   "source": [
    "k_m = np.array([[m[1][0], m[1][1]], [m[2][0], m[2][1]]])\n",
    "k_M = sym.Matrix(k_m)\n",
    "display(Math(r'= k' + sym.latex(k_M)))"
   ],
   "outputs": [],
   "execution_count": null
  },
  {
   "cell_type": "code",
   "id": "a8ab60f77b42ff1b",
   "metadata": {},
   "source": [
    "display(Math(r'\\overrightarrow{\\rm a} \\times \\overrightarrow{\\rm b} =  ' + sym.latex(M)))"
   ],
   "outputs": [],
   "execution_count": null
  },
  {
   "cell_type": "code",
   "id": "57ffaf52f161af61",
   "metadata": {},
   "source": [
    "display(Math(r'\\overrightarrow{\\rm a} \\times \\overrightarrow{\\rm b} =  ' + r\"\\space\\space\\space  i\" + sym.latex(\n",
    "    i_M) + r\"\\space\\space\\space - \\space j\" + sym.latex(j_M) + r\"\\space\\space\\space + k\" + sym.latex(k_M)))"
   ],
   "outputs": [],
   "execution_count": null
  },
  {
   "cell_type": "code",
   "id": "9b0e87bf17a54712",
   "metadata": {},
   "source": [
    "display(Math(\n",
    "    r'\\overrightarrow{\\rm a} \\times \\overrightarrow{\\rm b} = i(a_2b_3 - a_3b_2) - j(a_1b_3 - a_3b_1) + k(a_1b_2 - a_2b_1)'))"
   ],
   "outputs": [],
   "execution_count": null
  },
  {
   "metadata": {},
   "cell_type": "code",
   "source": [
    "a = np.array([1, -1, 1])\n",
    "b = np.array([-2, 1, 2])"
   ],
   "id": "b4905ccc5f22844b",
   "outputs": [],
   "execution_count": null
  },
  {
   "metadata": {},
   "cell_type": "code",
   "source": [
    "v = np.array([3, 4])\n",
    "w = np.array([6, 8])\n",
    "\n",
    "cross_product = np.cross(v, w, axis=0)\n",
    "dot_product = v.dot(w)\n",
    "\n",
    "print(f\"The cross product of {v} and {w} is {cross_product}\")\n",
    "print(f\"The dot product of {v} and {w} is {dot_product}\")"
   ],
   "id": "a870f215ed7ca361",
   "outputs": [],
   "execution_count": null
  }
 ],
 "metadata": {
  "kernelspec": {
   "display_name": "Python 3 (ipykernel)",
   "language": "python",
   "name": "python3"
  },
  "language_info": {
   "codemirror_mode": {
    "name": "ipython",
    "version": 3
   },
   "file_extension": ".py",
   "mimetype": "text/x-python",
   "name": "python",
   "nbconvert_exporter": "python",
   "pygments_lexer": "ipython3",
   "version": "3.11.0"
  }
 },
 "nbformat": 4,
 "nbformat_minor": 5
}
