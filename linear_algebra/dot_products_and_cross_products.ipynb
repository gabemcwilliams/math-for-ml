{
 "cells": [
  {
   "cell_type": "code",
   "id": "initial_id",
   "metadata": {
    "ExecuteTime": {
     "end_time": "2025-04-19T00:54:19.403852Z",
     "start_time": "2025-04-19T00:54:17.476014Z"
    }
   },
   "source": [
    "import re\n",
    "import numpy as np\n",
    "import scipy as sp\n",
    "import sympy as sym\n",
    "from IPython.display import display, Math, Latex\n",
    "import math\n",
    "import matplotlib.pyplot as plt"
   ],
   "outputs": [],
   "execution_count": 1
  },
  {
   "cell_type": "markdown",
   "id": "cec45ed07c76531e",
   "metadata": {},
   "source": [
    "# Dot Products\n",
    "***"
   ]
  },
  {
   "cell_type": "code",
   "id": "2a4dea6f7367532d",
   "metadata": {
    "ExecuteTime": {
     "end_time": "2025-04-19T00:54:19.752459Z",
     "start_time": "2025-04-19T00:54:19.747254Z"
    }
   },
   "source": [
    "# 1 one-dimensional array multiplication\n",
    "a = np.array([1, 2, 3])\n",
    "b = np.array([4, 5, 6])\n",
    "a * b"
   ],
   "outputs": [
    {
     "data": {
      "text/plain": [
       "array([ 4, 10, 18])"
      ]
     },
     "execution_count": 2,
     "metadata": {},
     "output_type": "execute_result"
    }
   ],
   "execution_count": 2
  },
  {
   "cell_type": "code",
   "id": "16cf54346be42f34",
   "metadata": {
    "ExecuteTime": {
     "end_time": "2025-04-19T00:54:19.781397Z",
     "start_time": "2025-04-19T00:54:19.778027Z"
    }
   },
   "source": [
    "# dot product => a * b = (a_1 * b_1) + (a_2 * b_2) + (a_3 * b_3)\n",
    "# multiply a row vector by a column vector\n",
    "# a.T * b\n",
    "np.dot(a, b)"
   ],
   "outputs": [
    {
     "data": {
      "text/plain": [
       "32"
      ]
     },
     "execution_count": 3,
     "metadata": {},
     "output_type": "execute_result"
    }
   ],
   "execution_count": 3
  },
  {
   "cell_type": "code",
   "id": "da876c29452cb21a",
   "metadata": {
    "ExecuteTime": {
     "end_time": "2025-04-19T00:54:19.809629Z",
     "start_time": "2025-04-19T00:54:19.806162Z"
    }
   },
   "source": [
    "a * b"
   ],
   "outputs": [
    {
     "data": {
      "text/plain": [
       "array([ 4, 10, 18])"
      ]
     },
     "execution_count": 4,
     "metadata": {},
     "output_type": "execute_result"
    }
   ],
   "execution_count": 4
  },
  {
   "cell_type": "code",
   "id": "1816a11fe898b434",
   "metadata": {
    "ExecuteTime": {
     "end_time": "2025-04-19T00:54:19.828467Z",
     "start_time": "2025-04-19T00:54:19.824278Z"
    }
   },
   "source": [
    "(a.T[0] * b[0]) + (a.T[1] * b[1]) + (a.T[2] * b[2])"
   ],
   "outputs": [
    {
     "data": {
      "text/plain": [
       "32"
      ]
     },
     "execution_count": 5,
     "metadata": {},
     "output_type": "execute_result"
    }
   ],
   "execution_count": 5
  },
  {
   "cell_type": "markdown",
   "id": "209628ffa3fe362b",
   "metadata": {},
   "source": [
    "## Examples"
   ]
  },
  {
   "cell_type": "code",
   "id": "a2feea64dac45a1e",
   "metadata": {
    "ExecuteTime": {
     "end_time": "2025-04-19T00:54:19.842473Z",
     "start_time": "2025-04-19T00:54:19.839247Z"
    }
   },
   "source": [
    "# question 1\n",
    "x = np.array([5, -1])\n",
    "y = np.array([3, 2])"
   ],
   "outputs": [],
   "execution_count": 6
  },
  {
   "cell_type": "code",
   "id": "a55e4c53a4766454",
   "metadata": {
    "ExecuteTime": {
     "end_time": "2025-04-19T00:54:19.854170Z",
     "start_time": "2025-04-19T00:54:19.851483Z"
    }
   },
   "source": [
    "dot_product = (x.T[0] * y[0]) + (x.T[1] * y[1])"
   ],
   "outputs": [],
   "execution_count": 7
  },
  {
   "cell_type": "code",
   "id": "b8d1eb91b466a3a1",
   "metadata": {
    "ExecuteTime": {
     "end_time": "2025-04-19T00:54:19.865749Z",
     "start_time": "2025-04-19T00:54:19.862184Z"
    }
   },
   "source": [
    "dot_product"
   ],
   "outputs": [
    {
     "data": {
      "text/plain": [
       "13"
      ]
     },
     "execution_count": 8,
     "metadata": {},
     "output_type": "execute_result"
    }
   ],
   "execution_count": 8
  },
  {
   "cell_type": "code",
   "id": "aa8e3aff4271b3fc",
   "metadata": {
    "ExecuteTime": {
     "end_time": "2025-04-19T00:54:19.879355Z",
     "start_time": "2025-04-19T00:54:19.876049Z"
    }
   },
   "source": [
    "x.dot(y)"
   ],
   "outputs": [
    {
     "data": {
      "text/plain": [
       "13"
      ]
     },
     "execution_count": 9,
     "metadata": {},
     "output_type": "execute_result"
    }
   ],
   "execution_count": 9
  },
  {
   "cell_type": "code",
   "id": "31ab0c6e99cefcd9",
   "metadata": {
    "ExecuteTime": {
     "end_time": "2025-04-19T00:54:19.894548Z",
     "start_time": "2025-04-19T00:54:19.891519Z"
    }
   },
   "source": [
    "# question 2\n",
    "x = np.array([-4, 0, 12])\n",
    "y = np.array([9, -12, 8])"
   ],
   "outputs": [],
   "execution_count": 10
  },
  {
   "cell_type": "code",
   "id": "b9488761b5a1bb8e",
   "metadata": {
    "ExecuteTime": {
     "end_time": "2025-04-19T00:54:19.908065Z",
     "start_time": "2025-04-19T00:54:19.904056Z"
    }
   },
   "source": [
    "x.dot(y)"
   ],
   "outputs": [
    {
     "data": {
      "text/plain": [
       "60"
      ]
     },
     "execution_count": 11,
     "metadata": {},
     "output_type": "execute_result"
    }
   ],
   "execution_count": 11
  },
  {
   "cell_type": "code",
   "id": "6f43726a38b2df6d",
   "metadata": {
    "ExecuteTime": {
     "end_time": "2025-04-19T00:54:19.919983Z",
     "start_time": "2025-04-19T00:54:19.917165Z"
    }
   },
   "source": [
    "# question 3\n",
    "x = np.array([-4, -2, 7])\n",
    "y = np.array([6, -1, -10])\n",
    "z = np.array([3, -2, 0])"
   ],
   "outputs": [],
   "execution_count": 12
  },
  {
   "cell_type": "code",
   "id": "d371a86ebca5e4d4",
   "metadata": {
    "ExecuteTime": {
     "end_time": "2025-04-19T00:54:19.930901Z",
     "start_time": "2025-04-19T00:54:19.926600Z"
    }
   },
   "source": [
    "(3 * x).dot((-2 * y) - z)"
   ],
   "outputs": [
    {
     "data": {
      "text/plain": [
       "576"
      ]
     },
     "execution_count": 13,
     "metadata": {},
     "output_type": "execute_result"
    }
   ],
   "execution_count": 13
  },
  {
   "cell_type": "markdown",
   "id": "f26567b3c0d14819",
   "metadata": {},
   "source": [
    "# Cauchy-Schwarz Inequality\n",
    "***\n",
    "\n",
    "Another method to prove if two different vectors are linearly dependent\n"
   ]
  },
  {
   "cell_type": "code",
   "id": "ff03b23766053ef",
   "metadata": {
    "ExecuteTime": {
     "end_time": "2025-04-19T00:54:19.948251Z",
     "start_time": "2025-04-19T00:54:19.943401Z"
    }
   },
   "source": [
    "display(Math(\n",
    "    r'\\\\| \\overrightarrow{\\rm a} \\cdot \\overrightarrow{\\rm b}| \\text {  } \\leq \\text {  } || \\overrightarrow{\\rm a} || \\text {  } || \\overrightarrow{\\rm b} ||\\\\'))"
   ],
   "outputs": [
    {
     "data": {
      "text/plain": [
       "<IPython.core.display.Math object>"
      ],
      "text/latex": "$\\displaystyle \\\\| \\overrightarrow{\\rm a} \\cdot \\overrightarrow{\\rm b}| \\text {  } \\leq \\text {  } || \\overrightarrow{\\rm a} || \\text {  } || \\overrightarrow{\\rm b} ||\\\\$"
     },
     "metadata": {},
     "output_type": "display_data"
    }
   ],
   "execution_count": 14
  },
  {
   "cell_type": "code",
   "id": "547dd41692774333",
   "metadata": {
    "ExecuteTime": {
     "end_time": "2025-04-19T00:54:19.969007Z",
     "start_time": "2025-04-19T00:54:19.963893Z"
    }
   },
   "source": [
    "# length of a vector i \n",
    "display(Math(r'\\\\|| \\overrightarrow{\\rm i} || = \\sqrt{ i[0]^{2} + i[1]^{2} ... i[n]^{2} }'))"
   ],
   "outputs": [
    {
     "data": {
      "text/plain": [
       "<IPython.core.display.Math object>"
      ],
      "text/latex": "$\\displaystyle \\\\|| \\overrightarrow{\\rm i} || = \\sqrt{ i[0]^{2} + i[1]^{2} ... i[n]^{2} }$"
     },
     "metadata": {},
     "output_type": "display_data"
    }
   ],
   "execution_count": 15
  },
  {
   "cell_type": "code",
   "id": "3b41290769b85c93",
   "metadata": {
    "ExecuteTime": {
     "end_time": "2025-04-19T00:54:19.979947Z",
     "start_time": "2025-04-19T00:54:19.976564Z"
    }
   },
   "source": [
    "def cauchy_schwarz_inequality(vec_a: np.array, vec_b: np.array) -> None:\n",
    "    print(f\"\\nvec_a = {vec_a}\")\n",
    "    print(f\"vec_b = {vec_b}\")\n",
    "    print(\"\\n\" + \"-\" * 100 + \"\\n\")\n",
    "\n",
    "    abs_dot_prod = np.abs(vec_a.dot(vec_b))\n",
    "    print(f\"The dot product is {abs_dot_prod}\")\n",
    "    print(\"\\n\" + \"-\" * 100 + \"\\n\")\n",
    "\n",
    "    sqrt_length_a = math.sqrt(vec_a[0] ** 2 + vec_a[1] ** 2)\n",
    "    sqrt_length_b = math.sqrt(vec_b[0] ** 2 + vec_b[1] ** 2)\n",
    "    len_prod = int(round(sqrt_length_a * sqrt_length_b, 0))\n",
    "    print(f\"The sqrt_length_a of (vec_a[0] ** 2 + vec_a[1] ** 2) is {int(round(sqrt_length_a, 0))}\")\n",
    "    print(f\"The sqrt_length_b of (vec_b[0] ** 2 + vec_b[1] ** 2) is {int(round(sqrt_length_b, 0))}\")\n",
    "    print(f\"\\nThe product of the lengths is {len_prod}\")\n",
    "    print(\"\\n\" + \"-\" * 100 + \"\\n\")\n",
    "\n",
    "    if abs_dot_prod < len_prod:\n",
    "        print(f\"The vectors are linearly independent: abs_dot_prod: {abs_dot_prod} < len_prod: {len_prod}\\n\")\n",
    "    elif abs_dot_prod == len_prod:\n",
    "        print(f\"The vectors are linearly dependent: abs_dot_prod: {abs_dot_prod} < len_prod: {len_prod}\\n\")\n",
    "    else:\n",
    "        print(f\"Something went wrong: abs_dot_prod: {abs_dot_prod} < len_prod: {len_prod}\\n\")"
   ],
   "outputs": [],
   "execution_count": 16
  },
  {
   "cell_type": "code",
   "id": "98440cf8b1b4b94b",
   "metadata": {
    "ExecuteTime": {
     "end_time": "2025-04-19T00:54:20.030116Z",
     "start_time": "2025-04-19T00:54:20.027051Z"
    }
   },
   "source": [
    "a = np.array([6, 5])\n",
    "b = np.array([4, 0])"
   ],
   "outputs": [],
   "execution_count": 17
  },
  {
   "cell_type": "code",
   "id": "ed6881abce0bfc61",
   "metadata": {
    "ExecuteTime": {
     "end_time": "2025-04-19T00:54:20.074311Z",
     "start_time": "2025-04-19T00:54:20.071197Z"
    }
   },
   "source": [
    "cauchy_schwarz_inequality(a, b)"
   ],
   "outputs": [
    {
     "name": "stdout",
     "output_type": "stream",
     "text": [
      "\n",
      "vec_a = [6 5]\n",
      "vec_b = [4 0]\n",
      "\n",
      "----------------------------------------------------------------------------------------------------\n",
      "\n",
      "The dot product is 24\n",
      "\n",
      "----------------------------------------------------------------------------------------------------\n",
      "\n",
      "The sqrt_length_a of (vec_a[0] ** 2 + vec_a[1] ** 2) is 8\n",
      "The sqrt_length_b of (vec_b[0] ** 2 + vec_b[1] ** 2) is 4\n",
      "\n",
      "The product of the lengths is 31\n",
      "\n",
      "----------------------------------------------------------------------------------------------------\n",
      "\n",
      "The vectors are linearly independent: abs_dot_prod: 24 < len_prod: 31\n",
      "\n"
     ]
    }
   ],
   "execution_count": 18
  },
  {
   "cell_type": "code",
   "id": "616ae15a6f239eec",
   "metadata": {
    "ExecuteTime": {
     "end_time": "2025-04-19T00:54:20.111519Z",
     "start_time": "2025-04-19T00:54:20.108521Z"
    }
   },
   "source": [
    "a.dot(b)"
   ],
   "outputs": [
    {
     "data": {
      "text/plain": [
       "24"
      ]
     },
     "execution_count": 19,
     "metadata": {},
     "output_type": "execute_result"
    }
   ],
   "execution_count": 19
  },
  {
   "cell_type": "markdown",
   "id": "e5e285ff19f6de19",
   "metadata": {},
   "source": [
    "# Vector Triangle Inequality"
   ]
  },
  {
   "cell_type": "code",
   "id": "f68eb78d17be7526",
   "metadata": {
    "ExecuteTime": {
     "end_time": "2025-04-19T00:54:20.123105Z",
     "start_time": "2025-04-19T00:54:20.120572Z"
    }
   },
   "source": [
    "a = np.array([-1, -6])\n",
    "b = np.array([-4, -24])"
   ],
   "outputs": [],
   "execution_count": 20
  },
  {
   "cell_type": "code",
   "id": "e398f4de62804c61",
   "metadata": {
    "ExecuteTime": {
     "end_time": "2025-04-19T00:54:20.135443Z",
     "start_time": "2025-04-19T00:54:20.131162Z"
    }
   },
   "source": [
    "display(Math(\n",
    "    r'\\\\|| \\overrightarrow{\\rm a} \\text { + } \\overrightarrow{\\rm b}|| \\text {  } \\leq \\text {  } || \\overrightarrow{\\rm a} || \\text { + } || \\overrightarrow{\\rm b} ||\\\\'\n",
    "))"
   ],
   "outputs": [
    {
     "data": {
      "text/plain": [
       "<IPython.core.display.Math object>"
      ],
      "text/latex": "$\\displaystyle \\\\|| \\overrightarrow{\\rm a} \\text { + } \\overrightarrow{\\rm b}|| \\text {  } \\leq \\text {  } || \\overrightarrow{\\rm a} || \\text { + } || \\overrightarrow{\\rm b} ||\\\\$"
     },
     "metadata": {},
     "output_type": "display_data"
    }
   ],
   "execution_count": 21
  },
  {
   "cell_type": "code",
   "id": "43260db0ce541326",
   "metadata": {
    "ExecuteTime": {
     "end_time": "2025-04-19T00:54:20.146116Z",
     "start_time": "2025-04-19T00:54:20.142356Z"
    }
   },
   "source": [
    "def vector_triangle_inequality(vec_a: np.array, vec_b: np.array) -> None:\n",
    "    # left side of equation\n",
    "    left_side = abs(round(math.sqrt(sum((vec_a[i] + vec_b[i]) ** 2 for i in range(vec_a.shape[0]))), 2))\n",
    "\n",
    "    # print(f\"\\nleft_side = {left_side}\")\n",
    "    # right side of equation\n",
    "    a_sum = sum(vec_a[i] ** 2 for i in range(vec_a.shape[0]))\n",
    "    b_sum = sum(vec_b[i] ** 2 for i in range(vec_b.shape[0]))\n",
    "    right_side = round(math.sqrt(a_sum) + math.sqrt(b_sum), 2)\n",
    "    # print(f\"\\nright_side = {right_side}\")\n",
    "\n",
    "    if left_side < right_side:\n",
    "        print(f\"The vectors are linearly [INDEPENDENT]: left_side: {left_side} < right_side: {right_side}\")\n",
    "    elif left_side == right_side:\n",
    "        print(f\"The vectors are linearly [DEPENDENT]: left_side: {left_side} == right_side: {right_side}\")\n",
    "    else:\n",
    "        print(f\"Something went wrong: left_side: {left_side} > right_side: {right_side}\")\n"
   ],
   "outputs": [],
   "execution_count": 22
  },
  {
   "cell_type": "code",
   "id": "e704fb9587832399",
   "metadata": {
    "ExecuteTime": {
     "end_time": "2025-04-19T00:54:20.156432Z",
     "start_time": "2025-04-19T00:54:20.153672Z"
    }
   },
   "source": [
    "vector_triangle_inequality(a, b)"
   ],
   "outputs": [
    {
     "name": "stdout",
     "output_type": "stream",
     "text": [
      "The vectors are linearly [DEPENDENT]: left_side: 30.41 == right_side: 30.41\n"
     ]
    }
   ],
   "execution_count": 23
  },
  {
   "cell_type": "code",
   "id": "d31ac3466c81dfcd",
   "metadata": {
    "ExecuteTime": {
     "end_time": "2025-04-19T00:54:20.167170Z",
     "start_time": "2025-04-19T00:54:20.164387Z"
    }
   },
   "source": [
    "vector_triangle_inequality(\n",
    "    np.array([5, -3]),\n",
    "    np.array([0, 6])\n",
    ")"
   ],
   "outputs": [
    {
     "name": "stdout",
     "output_type": "stream",
     "text": [
      "The vectors are linearly [INDEPENDENT]: left_side: 5.83 < right_side: 11.83\n"
     ]
    }
   ],
   "execution_count": 24
  },
  {
   "cell_type": "code",
   "id": "b03aca46a79da540",
   "metadata": {
    "ExecuteTime": {
     "end_time": "2025-04-19T00:54:20.174504Z",
     "start_time": "2025-04-19T00:54:20.172176Z"
    }
   },
   "source": [
    "vector_triangle_inequality(\n",
    "    np.array([-8, -3]),\n",
    "    np.array([2, 8])\n",
    ")"
   ],
   "outputs": [
    {
     "name": "stdout",
     "output_type": "stream",
     "text": [
      "The vectors are linearly [INDEPENDENT]: left_side: 7.81 < right_side: 16.79\n"
     ]
    }
   ],
   "execution_count": 25
  },
  {
   "cell_type": "code",
   "id": "63044212b6dc4a12",
   "metadata": {
    "ExecuteTime": {
     "end_time": "2025-04-19T00:54:20.182439Z",
     "start_time": "2025-04-19T00:54:20.180089Z"
    }
   },
   "source": [
    "vector_triangle_inequality(\n",
    "    np.array([-9, -8]),\n",
    "    np.array([-5, 6])\n",
    ")"
   ],
   "outputs": [
    {
     "name": "stdout",
     "output_type": "stream",
     "text": [
      "The vectors are linearly [INDEPENDENT]: left_side: 14.14 < right_side: 19.85\n"
     ]
    }
   ],
   "execution_count": 26
  },
  {
   "cell_type": "markdown",
   "id": "62ad33d9a25ad66f",
   "metadata": {},
   "source": [
    "# Angle between vectors"
   ]
  },
  {
   "cell_type": "code",
   "id": "a849d67e330e6f3b",
   "metadata": {
    "ExecuteTime": {
     "end_time": "2025-04-19T00:54:20.196378Z",
     "start_time": "2025-04-19T00:54:20.192274Z"
    }
   },
   "source": [
    "display(Math(\n",
    "    r'\\||\\overrightarrow{\\rm u}|| \\cdot ||\\overrightarrow{\\rm v}|| = ||\\overrightarrow{\\rm u}||||\\overrightarrow{\\rm v}||\\cos\\theta \\\\'))"
   ],
   "outputs": [
    {
     "data": {
      "text/plain": [
       "<IPython.core.display.Math object>"
      ],
      "text/latex": "$\\displaystyle \\||\\overrightarrow{\\rm u}|| \\cdot ||\\overrightarrow{\\rm v}|| = ||\\overrightarrow{\\rm u}||||\\overrightarrow{\\rm v}||\\cos\\theta \\\\$"
     },
     "metadata": {},
     "output_type": "display_data"
    }
   ],
   "execution_count": 27
  },
  {
   "cell_type": "code",
   "id": "bfc382708bf86cee",
   "metadata": {
    "ExecuteTime": {
     "end_time": "2025-04-19T00:54:20.205994Z",
     "start_time": "2025-04-19T00:54:20.203536Z"
    }
   },
   "source": [
    "u = np.array([2, -1])\n",
    "v = np.array([-1, 4])"
   ],
   "outputs": [],
   "execution_count": 28
  },
  {
   "cell_type": "code",
   "id": "6c342e5be80de675",
   "metadata": {
    "ExecuteTime": {
     "end_time": "2025-04-19T00:54:20.216892Z",
     "start_time": "2025-04-19T00:54:20.212329Z"
    }
   },
   "source": [
    "def angle_between_vectors(vec_u: np.array, vec_v: np):\n",
    "    # left side of equation\n",
    "    left_side = vec_u.dot(vec_v)\n",
    "    print(f\"left_side = {left_side}\")\n",
    "    print(\"-\" * 100)\n",
    "\n",
    "    # right side of equation\n",
    "    u_sum = sum(vec_u[i] ** 2 for i in range(vec_u.shape[0]))\n",
    "    print(f\"u_sum = {u_sum}\")\n",
    "    v_sum = sum(vec_v[i] ** 2 for i in range(vec_v.shape[0]))\n",
    "    print(f\"v_sum = {v_sum}\")\n",
    "    right_side = u_sum * v_sum\n",
    "    print(f\"right_side = {right_side}\")\n",
    "    print(\"-\" * 100)\n",
    "\n",
    "    # solve for theta\n",
    "    theta = round(math.acos(left_side / math.sqrt(right_side)), 2)\n",
    "    print(f\"theta in degrees = {round(math.degrees(theta), 2)}\")\n",
    "    print(f\"theta in radians = {theta}\")\n",
    "    print(\"-\" * 100)\n",
    "\n",
    "    if theta == 0:\n",
    "        print(f\"The vectors are [ORTHOGONAL]\")\n",
    "    elif theta == 90:\n",
    "        print(f\"The vectors are [PERPENDICULAR]\")\n",
    "    elif theta < 90:\n",
    "        print(f\"The vectors are [ACUTE]\")\n",
    "    elif theta > 90:\n",
    "        print(f\"The vectors are [OBTUSE]\")\n",
    "    else:\n",
    "        print(f\"Something went wrong: theta = {theta}\")\n"
   ],
   "outputs": [],
   "execution_count": 29
  },
  {
   "cell_type": "code",
   "id": "fd79b9437d7a4d23",
   "metadata": {
    "ExecuteTime": {
     "end_time": "2025-04-19T00:54:20.268146Z",
     "start_time": "2025-04-19T00:54:20.265327Z"
    }
   },
   "source": [
    "angle_between_vectors(u, v)"
   ],
   "outputs": [
    {
     "name": "stdout",
     "output_type": "stream",
     "text": [
      "left_side = -6\n",
      "----------------------------------------------------------------------------------------------------\n",
      "u_sum = 5\n",
      "v_sum = 17\n",
      "right_side = 85\n",
      "----------------------------------------------------------------------------------------------------\n",
      "theta in degrees = 130.63\n",
      "theta in radians = 2.28\n",
      "----------------------------------------------------------------------------------------------------\n",
      "The vectors are [ACUTE]\n"
     ]
    }
   ],
   "execution_count": 30
  },
  {
   "cell_type": "code",
   "id": "b221ca4bd50b9500",
   "metadata": {
    "ExecuteTime": {
     "end_time": "2025-04-19T00:54:20.399964Z",
     "start_time": "2025-04-19T00:54:20.396435Z"
    }
   },
   "source": [
    "a = np.array([2, 0, -1])\n",
    "b = np.array([-1, 4, 2])"
   ],
   "outputs": [],
   "execution_count": 31
  },
  {
   "cell_type": "code",
   "id": "68514c032510b815",
   "metadata": {
    "ExecuteTime": {
     "end_time": "2025-04-19T00:54:20.433720Z",
     "start_time": "2025-04-19T00:54:20.430624Z"
    }
   },
   "source": [
    "angle_between_vectors(a, b)"
   ],
   "outputs": [
    {
     "name": "stdout",
     "output_type": "stream",
     "text": [
      "left_side = -4\n",
      "----------------------------------------------------------------------------------------------------\n",
      "u_sum = 5\n",
      "v_sum = 21\n",
      "right_side = 105\n",
      "----------------------------------------------------------------------------------------------------\n",
      "theta in degrees = 112.87\n",
      "theta in radians = 1.97\n",
      "----------------------------------------------------------------------------------------------------\n",
      "The vectors are [ACUTE]\n"
     ]
    }
   ],
   "execution_count": 32
  },
  {
   "cell_type": "code",
   "id": "3f28c739fb8b5c28",
   "metadata": {
    "ExecuteTime": {
     "end_time": "2025-04-19T00:54:20.445897Z",
     "start_time": "2025-04-19T00:54:20.443411Z"
    }
   },
   "source": [
    "angle_between_vectors(\n",
    "    np.array([1, -3, 1]),\n",
    "    np.array([0, 6, -2])\n",
    ")"
   ],
   "outputs": [
    {
     "name": "stdout",
     "output_type": "stream",
     "text": [
      "left_side = -20\n",
      "----------------------------------------------------------------------------------------------------\n",
      "u_sum = 11\n",
      "v_sum = 40\n",
      "right_side = 440\n",
      "----------------------------------------------------------------------------------------------------\n",
      "theta in degrees = 162.72\n",
      "theta in radians = 2.84\n",
      "----------------------------------------------------------------------------------------------------\n",
      "The vectors are [ACUTE]\n"
     ]
    }
   ],
   "execution_count": 33
  },
  {
   "cell_type": "markdown",
   "id": "9678c96b31ec0916",
   "metadata": {},
   "source": [
    "# Equation of a Plane"
   ]
  },
  {
   "cell_type": "code",
   "id": "93cf40da24178aaa",
   "metadata": {
    "ExecuteTime": {
     "end_time": "2025-04-19T00:54:20.456930Z",
     "start_time": "2025-04-19T00:54:20.451404Z"
    }
   },
   "source": [
    "display(Math(r'Ax + By + Cz = D'))\n",
    "print(f\"or\")\n",
    "display(Math(r'a(x - x_0) + b(y - y_0) + c(z - z_)'))"
   ],
   "outputs": [
    {
     "data": {
      "text/plain": [
       "<IPython.core.display.Math object>"
      ],
      "text/latex": "$\\displaystyle Ax + By + Cz = D$"
     },
     "metadata": {},
     "output_type": "display_data"
    },
    {
     "name": "stdout",
     "output_type": "stream",
     "text": [
      "or\n"
     ]
    },
    {
     "data": {
      "text/plain": [
       "<IPython.core.display.Math object>"
      ],
      "text/latex": "$\\displaystyle a(x - x_0) + b(y - y_0) + c(z - z_)$"
     },
     "metadata": {},
     "output_type": "display_data"
    }
   ],
   "execution_count": 34
  },
  {
   "cell_type": "code",
   "id": "bdf9a9496f6d8400",
   "metadata": {
    "ExecuteTime": {
     "end_time": "2025-04-19T00:54:20.472521Z",
     "start_time": "2025-04-19T00:54:20.467466Z"
    }
   },
   "source": [
    "class EquationOfPlane:\n",
    "    def __init__(self, normal_vector: np.array, pass_point: np.array) -> None:\n",
    "\n",
    "        print(f\"normal_vector = {normal_vector}\")\n",
    "        print(f\"pass_point = {pass_point}\")\n",
    "\n",
    "        self.a = normal_vector[0]\n",
    "        self.b = normal_vector[1]\n",
    "        self.c = normal_vector[2]\n",
    "\n",
    "        self.x_0 = pass_point[0]\n",
    "        self.y_0 = pass_point[1]\n",
    "        self.z_0 = pass_point[2]\n",
    "\n",
    "    def right_side(self):\n",
    "        equation = 0\n",
    "        return equation\n",
    "\n",
    "    def left_side(self):\n",
    "        equation = f\"{self.a}(x - {self.x_0}) + {self.b}(y - {self.y_0}) + {self.c}(z - {self.z_0})\"\n",
    "        return equation\n",
    "\n",
    "    def left_and_right(self):\n",
    "        print(f\"equation:\\n {self.left_side()} = {self.right_side()}\")\n",
    "\n",
    "    @staticmethod\n",
    "    def a_var(current_int: int, scalar_int: int) -> str:\n",
    "        constant_int = current_int * scalar_int\n",
    "        if constant_int == 0:\n",
    "            return \"0\"\n",
    "        elif constant_int == 1:\n",
    "            return \"a\"\n",
    "        return f\"{constant_int}a\"\n",
    "\n",
    "    @staticmethod\n",
    "    def b_var(current_int: int, scalar_int: int) -> str:\n",
    "        constant_int = current_int * scalar_int\n",
    "        if constant_int == 0:\n",
    "            return \"0\"\n",
    "        elif constant_int == 1:\n",
    "            return \"b\"\n",
    "        return f\"{constant_int}b\"\n",
    "\n",
    "    @staticmethod\n",
    "    def c_var(current_int: int, scalar_int: int) -> str:\n",
    "        constant_int = current_int * scalar_int\n",
    "        if constant_int == 0:\n",
    "            return \"0\"\n",
    "        elif constant_int == 1:\n",
    "            return \"c\"\n",
    "        return f\"{constant_int}c\"\n"
   ],
   "outputs": [],
   "execution_count": 35
  },
  {
   "cell_type": "code",
   "id": "455361d0f3cdff3d",
   "metadata": {
    "ExecuteTime": {
     "end_time": "2025-04-19T00:54:20.483948Z",
     "start_time": "2025-04-19T00:54:20.481011Z"
    }
   },
   "source": [
    "plane_equation = EquationOfPlane(\n",
    "    normal_vector=np.array([-3, 2, 5]),\n",
    "    pass_point=np.array([1, 0, -2])\n",
    ")"
   ],
   "outputs": [
    {
     "name": "stdout",
     "output_type": "stream",
     "text": [
      "normal_vector = [-3  2  5]\n",
      "pass_point = [ 1  0 -2]\n"
     ]
    }
   ],
   "execution_count": 36
  },
  {
   "cell_type": "code",
   "id": "2f4d3bba11316086",
   "metadata": {
    "ExecuteTime": {
     "end_time": "2025-04-19T00:54:20.495467Z",
     "start_time": "2025-04-19T00:54:20.492606Z"
    }
   },
   "source": [
    "plane_equation.left_and_right()"
   ],
   "outputs": [
    {
     "name": "stdout",
     "output_type": "stream",
     "text": [
      "equation:\n",
      " -3(x - 1) + 2(y - 0) + 5(z - -2) = 0\n"
     ]
    }
   ],
   "execution_count": 37
  },
  {
   "cell_type": "code",
   "id": "a2c6ea8c555d8a76",
   "metadata": {
    "ExecuteTime": {
     "end_time": "2025-04-19T00:54:20.511090Z",
     "start_time": "2025-04-19T00:54:20.507934Z"
    }
   },
   "source": [
    "string = \"-3(x - 1) + 2(y - 0) + 5(z - -2) = 0\""
   ],
   "outputs": [],
   "execution_count": 38
  },
  {
   "cell_type": "code",
   "id": "fec6eb5404922a1c",
   "metadata": {
    "ExecuteTime": {
     "end_time": "2025-04-19T00:54:20.519974Z",
     "start_time": "2025-04-19T00:54:20.518564Z"
    }
   },
   "source": "",
   "outputs": [],
   "execution_count": null
  },
  {
   "cell_type": "code",
   "id": "328d4e810430f6a6",
   "metadata": {
    "ExecuteTime": {
     "end_time": "2025-04-19T00:54:20.529362Z",
     "start_time": "2025-04-19T00:54:20.526484Z"
    }
   },
   "source": [
    "plane_equation = EquationOfPlane(\n",
    "    pass_point=np.array([-5, 3, -3]),\n",
    "    normal_vector=np.array([-4, -3, 9])\n",
    ")"
   ],
   "outputs": [
    {
     "name": "stdout",
     "output_type": "stream",
     "text": [
      "normal_vector = [-4 -3  9]\n",
      "pass_point = [-5  3 -3]\n"
     ]
    }
   ],
   "execution_count": 39
  },
  {
   "cell_type": "code",
   "id": "dd314638d1367a4e",
   "metadata": {
    "ExecuteTime": {
     "end_time": "2025-04-19T00:54:20.551546Z",
     "start_time": "2025-04-19T00:54:20.549201Z"
    }
   },
   "source": [
    "plane_equation.left_and_right()"
   ],
   "outputs": [
    {
     "name": "stdout",
     "output_type": "stream",
     "text": [
      "equation:\n",
      " -4(x - -5) + -3(y - 3) + 9(z - -3) = 0\n"
     ]
    }
   ],
   "execution_count": 40
  },
  {
   "cell_type": "markdown",
   "id": "65c6390c4a6ce0f2",
   "metadata": {},
   "source": [
    "# Cross Product\n",
    "***\n",
    "\n",
    "The line that points orthogonal to the two vectors is the cross product of the two vectors."
   ]
  },
  {
   "cell_type": "code",
   "id": "37034e2b6e3e3a85",
   "metadata": {
    "ExecuteTime": {
     "end_time": "2025-04-19T00:54:20.570357Z",
     "start_time": "2025-04-19T00:54:20.565123Z"
    }
   },
   "source": [
    "m = np.array([\n",
    "    [\"i\", \"j\", \"k\"],\n",
    "    [\"a_1\", \"a_2\", \"a_3\"],\n",
    "    [\"b_1\", \"b_2\", \"b_3\"],\n",
    "])\n",
    "M = sym.Matrix(m)"
   ],
   "outputs": [],
   "execution_count": 41
  },
  {
   "cell_type": "code",
   "id": "d10f92cbe196febb",
   "metadata": {
    "ExecuteTime": {
     "end_time": "2025-04-19T00:54:20.580885Z",
     "start_time": "2025-04-19T00:54:20.573863Z"
    }
   },
   "source": [
    "i_m = np.array([[m[1][1], m[1][2]], [m[2][1], m[2][2]]])\n",
    "i_M = sym.Matrix(i_m)\n",
    "display(Math(r'= i' + sym.latex(i_M)))"
   ],
   "outputs": [
    {
     "data": {
      "text/plain": [
       "<IPython.core.display.Math object>"
      ],
      "text/latex": "$\\displaystyle = i\\left[\\begin{matrix}a_{2} & a_{3}\\\\b_{2} & b_{3}\\end{matrix}\\right]$"
     },
     "metadata": {},
     "output_type": "display_data"
    }
   ],
   "execution_count": 42
  },
  {
   "cell_type": "code",
   "id": "a0b7f7c897b3f435",
   "metadata": {
    "ExecuteTime": {
     "end_time": "2025-04-19T00:54:20.597739Z",
     "start_time": "2025-04-19T00:54:20.592217Z"
    }
   },
   "source": [
    "j_m = np.array([[m[1][0], m[1][2]], [m[2][0], m[2][2]]])\n",
    "j_M = sym.Matrix(j_m)\n",
    "display(Math(r'= j' + sym.latex(j_M)))\n"
   ],
   "outputs": [
    {
     "data": {
      "text/plain": [
       "<IPython.core.display.Math object>"
      ],
      "text/latex": "$\\displaystyle = j\\left[\\begin{matrix}a_{1} & a_{3}\\\\b_{1} & b_{3}\\end{matrix}\\right]$"
     },
     "metadata": {},
     "output_type": "display_data"
    }
   ],
   "execution_count": 43
  },
  {
   "cell_type": "code",
   "id": "8aa19d68a0854be2",
   "metadata": {
    "ExecuteTime": {
     "end_time": "2025-04-19T00:54:20.613855Z",
     "start_time": "2025-04-19T00:54:20.605740Z"
    }
   },
   "source": [
    "k_m = np.array([[m[1][0], m[1][1]], [m[2][0], m[2][1]]])\n",
    "k_M = sym.Matrix(k_m)\n",
    "display(Math(r'= k' + sym.latex(k_M)))"
   ],
   "outputs": [
    {
     "data": {
      "text/plain": [
       "<IPython.core.display.Math object>"
      ],
      "text/latex": "$\\displaystyle = k\\left[\\begin{matrix}a_{1} & a_{2}\\\\b_{1} & b_{2}\\end{matrix}\\right]$"
     },
     "metadata": {},
     "output_type": "display_data"
    }
   ],
   "execution_count": 44
  },
  {
   "cell_type": "code",
   "id": "a8ab60f77b42ff1b",
   "metadata": {
    "ExecuteTime": {
     "end_time": "2025-04-19T00:54:20.637297Z",
     "start_time": "2025-04-19T00:54:20.632518Z"
    }
   },
   "source": [
    "display(Math(r'\\overrightarrow{\\rm a} \\times \\overrightarrow{\\rm b} =  ' + sym.latex(M)))"
   ],
   "outputs": [
    {
     "data": {
      "text/plain": [
       "<IPython.core.display.Math object>"
      ],
      "text/latex": "$\\displaystyle \\overrightarrow{\\rm a} \\times \\overrightarrow{\\rm b} =  \\left[\\begin{matrix}i & j & k\\\\a_{1} & a_{2} & a_{3}\\\\b_{1} & b_{2} & b_{3}\\end{matrix}\\right]$"
     },
     "metadata": {},
     "output_type": "display_data"
    }
   ],
   "execution_count": 45
  },
  {
   "cell_type": "code",
   "id": "57ffaf52f161af61",
   "metadata": {
    "ExecuteTime": {
     "end_time": "2025-04-19T00:54:20.680323Z",
     "start_time": "2025-04-19T00:54:20.673999Z"
    }
   },
   "source": [
    "display(Math(r'\\overrightarrow{\\rm a} \\times \\overrightarrow{\\rm b} =  ' + r\"\\space\\space\\space  i\" + sym.latex(\n",
    "    i_M) + r\"\\space\\space\\space - \\space j\" + sym.latex(j_M) + r\"\\space\\space\\space + k\" + sym.latex(k_M)))"
   ],
   "outputs": [
    {
     "data": {
      "text/plain": [
       "<IPython.core.display.Math object>"
      ],
      "text/latex": "$\\displaystyle \\overrightarrow{\\rm a} \\times \\overrightarrow{\\rm b} =  \\space\\space\\space  i\\left[\\begin{matrix}a_{2} & a_{3}\\\\b_{2} & b_{3}\\end{matrix}\\right]\\space\\space\\space - \\space j\\left[\\begin{matrix}a_{1} & a_{3}\\\\b_{1} & b_{3}\\end{matrix}\\right]\\space\\space\\space + k\\left[\\begin{matrix}a_{1} & a_{2}\\\\b_{1} & b_{2}\\end{matrix}\\right]$"
     },
     "metadata": {},
     "output_type": "display_data"
    }
   ],
   "execution_count": 46
  },
  {
   "cell_type": "code",
   "id": "9b0e87bf17a54712",
   "metadata": {
    "ExecuteTime": {
     "end_time": "2025-04-19T00:54:20.731706Z",
     "start_time": "2025-04-19T00:54:20.726184Z"
    }
   },
   "source": [
    "display(Math(\n",
    "    r'\\overrightarrow{\\rm a} \\times \\overrightarrow{\\rm b} = i(a_2b_3 - a_3b_2) - j(a_1b_3 - a_3b_1) + k(a_1b_2 - a_2b_1)'))"
   ],
   "outputs": [
    {
     "data": {
      "text/plain": [
       "<IPython.core.display.Math object>"
      ],
      "text/latex": "$\\displaystyle \\overrightarrow{\\rm a} \\times \\overrightarrow{\\rm b} = i(a_2b_3 - a_3b_2) - j(a_1b_3 - a_3b_1) + k(a_1b_2 - a_2b_1)$"
     },
     "metadata": {},
     "output_type": "display_data"
    }
   ],
   "execution_count": 47
  },
  {
   "metadata": {
    "ExecuteTime": {
     "end_time": "2025-04-19T00:54:20.747585Z",
     "start_time": "2025-04-19T00:54:20.745009Z"
    }
   },
   "cell_type": "code",
   "source": [
    "a = np.array([1, -1, 1])\n",
    "b = np.array([-2, 1, 2])"
   ],
   "id": "b4905ccc5f22844b",
   "outputs": [],
   "execution_count": 48
  },
  {
   "metadata": {
    "ExecuteTime": {
     "end_time": "2025-04-19T00:54:20.759098Z",
     "start_time": "2025-04-19T00:54:20.755740Z"
    }
   },
   "cell_type": "code",
   "source": [
    "v = np.array([3, 4])\n",
    "w = np.array([6, 8])\n",
    "\n",
    "cross_product = np.cross(v, w, axis=0)\n",
    "dot_product = v.dot(w)\n",
    "\n",
    "print(f\"The cross product of {v} and {w} is {cross_product}\")\n",
    "print(f\"The dot product of {v} and {w} is {dot_product}\")"
   ],
   "id": "a870f215ed7ca361",
   "outputs": [
    {
     "name": "stdout",
     "output_type": "stream",
     "text": [
      "The cross product of [3 4] and [6 8] is 0\n",
      "The dot product of [3 4] and [6 8] is 50\n"
     ]
    }
   ],
   "execution_count": 49
  }
 ],
 "metadata": {
  "kernelspec": {
   "display_name": "Python 3 (ipykernel)",
   "language": "python",
   "name": "python3"
  },
  "language_info": {
   "codemirror_mode": {
    "name": "ipython",
    "version": 3
   },
   "file_extension": ".py",
   "mimetype": "text/x-python",
   "name": "python",
   "nbconvert_exporter": "python",
   "pygments_lexer": "ipython3",
   "version": "3.11.0"
  }
 },
 "nbformat": 4,
 "nbformat_minor": 5
}
