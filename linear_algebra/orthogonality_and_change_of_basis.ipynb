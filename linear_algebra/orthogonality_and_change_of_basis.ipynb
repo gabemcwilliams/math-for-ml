{
 "cells": [
  {
   "cell_type": "code",
   "id": "initial_id",
   "metadata": {
    "collapsed": true,
    "jupyter": {
     "outputs_hidden": true
    },
    "ExecuteTime": {
     "end_time": "2025-04-19T00:54:34.801902Z",
     "start_time": "2025-04-19T00:54:34.015365Z"
    }
   },
   "source": [
    "import re\n",
    "import numpy as np\n",
    "import scipy as sp\n",
    "import sympy as sym\n",
    "from IPython.display import display, Math, Latex\n",
    "import math\n",
    "import matplotlib.pyplot as plt\n",
    "from fractions import Fraction"
   ],
   "outputs": [],
   "execution_count": 1
  },
  {
   "cell_type": "markdown",
   "id": "36acbb0b911ac04e",
   "metadata": {},
   "source": [
    "# Orthogonal Complements\n",
    "***"
   ]
  },
  {
   "cell_type": "code",
   "id": "12523ffa16c7071",
   "metadata": {
    "ExecuteTime": {
     "end_time": "2025-04-19T00:54:35.135743Z",
     "start_time": "2025-04-19T00:54:35.131397Z"
    }
   },
   "source": [
    "# Question: Find the orthogonal complement of W, W⊥.\n",
    "\n",
    "w_basis = np.array([\n",
    "    [-1, 2],\n",
    "    [0, 0],\n",
    "    [-2, 3],\n",
    "    [4, -5]\n",
    "])\n",
    "\n",
    "w_basis"
   ],
   "outputs": [
    {
     "data": {
      "text/plain": [
       "array([[-1,  2],\n",
       "       [ 0,  0],\n",
       "       [-2,  3],\n",
       "       [ 4, -5]])"
      ]
     },
     "execution_count": 2,
     "metadata": {},
     "output_type": "execute_result"
    }
   ],
   "execution_count": 2
  },
  {
   "cell_type": "code",
   "id": "8a1083a8e26d3419",
   "metadata": {
    "ExecuteTime": {
     "end_time": "2025-04-19T00:54:35.608175Z",
     "start_time": "2025-04-19T00:54:35.603153Z"
    }
   },
   "source": [
    "# Solution:\n",
    "\n",
    "w_orthogonal = sym.Matrix(w_basis.transpose()).nullspace()\n",
    "print(\"\\n\")\n",
    "display(Math(fr'W_{{ \\bot }} \\space = \\space {sym.latex(w_orthogonal)}'))\n",
    "\n",
    "print(\"\\n\")"
   ],
   "outputs": [
    {
     "name": "stdout",
     "output_type": "stream",
     "text": [
      "\n",
      "\n"
     ]
    },
    {
     "data": {
      "text/plain": [
       "<IPython.core.display.Math object>"
      ],
      "text/latex": "$\\displaystyle W_{ \\bot } \\space = \\space \\left[ \\left[\\begin{matrix}0\\\\1\\\\0\\\\0\\end{matrix}\\right], \\  \\left[\\begin{matrix}-2\\\\0\\\\3\\\\1\\end{matrix}\\right]\\right]$"
     },
     "metadata": {},
     "output_type": "display_data"
    },
    {
     "name": "stdout",
     "output_type": "stream",
     "text": [
      "\n",
      "\n"
     ]
    }
   ],
   "execution_count": 3
  },
  {
   "cell_type": "code",
   "id": "927c80b966ff57e0",
   "metadata": {
    "ExecuteTime": {
     "end_time": "2025-04-19T00:54:35.645307Z",
     "start_time": "2025-04-19T00:54:35.641136Z"
    }
   },
   "source": [
    "# Question: Rewrite the orthogonal complement of V, V⊥, if V is a vector set in ℝ3\n",
    "\n",
    "w_basis = np.array([\n",
    "    [-2, 1],\n",
    "    [1, 0],\n",
    "    [0, 1]])\n",
    "\n",
    "w_basis"
   ],
   "outputs": [
    {
     "data": {
      "text/plain": [
       "array([[-2,  1],\n",
       "       [ 1,  0],\n",
       "       [ 0,  1]])"
      ]
     },
     "execution_count": 4,
     "metadata": {},
     "output_type": "execute_result"
    }
   ],
   "execution_count": 4
  },
  {
   "cell_type": "code",
   "id": "c1ce197086a02fa3",
   "metadata": {
    "ExecuteTime": {
     "end_time": "2025-04-19T00:54:35.689843Z",
     "start_time": "2025-04-19T00:54:35.684016Z"
    }
   },
   "source": [
    "# Solution:\n",
    "\n",
    "w_orthogonal = sym.Matrix(w_basis.transpose()).nullspace()\n",
    "print(\"\\n\")\n",
    "display(Math(r'W_{\\bot} = ' + sym.latex(w_orthogonal)))\n",
    "\n",
    "print(\"\\n\")"
   ],
   "outputs": [
    {
     "name": "stdout",
     "output_type": "stream",
     "text": [
      "\n",
      "\n"
     ]
    },
    {
     "data": {
      "text/plain": [
       "<IPython.core.display.Math object>"
      ],
      "text/latex": "$\\displaystyle W_{\\bot} = \\left[ \\left[\\begin{matrix}-1\\\\-2\\\\1\\end{matrix}\\right]\\right]$"
     },
     "metadata": {},
     "output_type": "display_data"
    },
    {
     "name": "stdout",
     "output_type": "stream",
     "text": [
      "\n",
      "\n"
     ]
    }
   ],
   "execution_count": 5
  },
  {
   "cell_type": "code",
   "id": "981c5e9a6799f8c0",
   "metadata": {
    "ExecuteTime": {
     "end_time": "2025-04-19T00:54:35.735792Z",
     "start_time": "2025-04-19T00:54:35.732165Z"
    }
   },
   "source": [
    "# Question 3: \n",
    "\n",
    "w_basis = np.array([\n",
    "    [1, 0, 1],\n",
    "    [-2, 4, 3],\n",
    "    [3, -8, -5],\n",
    "    [5, 8, -1]\n",
    "])\n",
    "\n",
    "w_basis"
   ],
   "outputs": [
    {
     "data": {
      "text/plain": [
       "array([[ 1,  0,  1],\n",
       "       [-2,  4,  3],\n",
       "       [ 3, -8, -5],\n",
       "       [ 5,  8, -1]])"
      ]
     },
     "execution_count": 6,
     "metadata": {},
     "output_type": "execute_result"
    }
   ],
   "execution_count": 6
  },
  {
   "cell_type": "code",
   "id": "7e228d94e0b74f28",
   "metadata": {
    "ExecuteTime": {
     "end_time": "2025-04-19T00:54:35.776526Z",
     "start_time": "2025-04-19T00:54:35.772286Z"
    }
   },
   "source": [
    "# Solution:\n",
    "\n",
    "w_orthogonal = sym.Matrix(w_basis.transpose()).nullspace()\n",
    "print(\"\\n\")\n",
    "display(Math(r'W_{\\bot} = ' + sym.latex(w_orthogonal)))\n",
    "\n",
    "print(\"\\n\")"
   ],
   "outputs": [
    {
     "name": "stdout",
     "output_type": "stream",
     "text": [
      "\n",
      "\n"
     ]
    },
    {
     "data": {
      "text/plain": [
       "<IPython.core.display.Math object>"
      ],
      "text/latex": "$\\displaystyle W_{\\bot} = \\left[ \\left[\\begin{matrix}-1\\\\14\\\\8\\\\1\\end{matrix}\\right]\\right]$"
     },
     "metadata": {},
     "output_type": "display_data"
    },
    {
     "name": "stdout",
     "output_type": "stream",
     "text": [
      "\n",
      "\n"
     ]
    }
   ],
   "execution_count": 7
  },
  {
   "cell_type": "markdown",
   "id": "9d3b6ca93bc6b08d",
   "metadata": {},
   "source": [
    "# Orthogonal Compliments of the Fundamental Subspaces\n",
    "***"
   ]
  },
  {
   "cell_type": "code",
   "id": "9269c8a2d11558d4",
   "metadata": {
    "ExecuteTime": {
     "end_time": "2025-04-19T00:54:35.825651Z",
     "start_time": "2025-04-19T00:54:35.821459Z"
    }
   },
   "source": [
    "def find_four_fundamental_subspaces(a: np.ndarray) -> None:\n",
    "    A = sym.Matrix(a)\n",
    "    rref_a = A.rref()[0]\n",
    "    col_space = len(A.columnspace())\n",
    "    row_space = len(A.transpose().columnspace())\n",
    "    nullspace_a = A.nullspace()\n",
    "    left_nullspace_a = A.transpose().nullspace()\n",
    "\n",
    "    print(\"\\n\" + \"-\" * 80 + \"\\n\")\n",
    "\n",
    "    display(Math(\n",
    "        fr\"The \\space RREF \\space of \\space A \\space is:\"))\n",
    "\n",
    "    print(\"\\n\")\n",
    "\n",
    "    display(Math(sym.latex(rref_a)))\n",
    "\n",
    "    print(\"\\n\" + \"-\" * 80 + \"\\n\")\n",
    "\n",
    "    display(Math(\n",
    "        fr\"The \\space dimension \\space of \\space the \\space column \\space space \\space of \\space A \\space is: \\space {col_space}\"))\n",
    "\n",
    "    display(Math(\n",
    "        fr\"The \\space dimension \\space of \\space the \\space null \\space space \\space of \\space A \\space is \\space (n \\space - \\space r):  \\space{len(nullspace_a)}\"))\n",
    "\n",
    "    display(Math(\n",
    "        fr\"The \\space dimension \\space of \\space the \\space column \\space space \\space of \\space A^t \\space is: \\space {row_space}\"))\n",
    "\n",
    "    display(Math(\n",
    "        fr\"The \\space dimension \\space of \\space the \\space left \\space null \\space space \\space of \\space A^t \\space is \\space (m \\space - \\space r): \\space {len(left_nullspace_a)}\"))\n",
    "\n",
    "    print(\"\\n\" + \"-\" * 80 + \"\\n\")\n"
   ],
   "outputs": [],
   "execution_count": 8
  },
  {
   "cell_type": "code",
   "id": "8c44e15278df9b7b",
   "metadata": {
    "ExecuteTime": {
     "end_time": "2025-04-19T00:54:35.867642Z",
     "start_time": "2025-04-19T00:54:35.857200Z"
    }
   },
   "source": [
    "# Question 1:\n",
    "\n",
    "find_four_fundamental_subspaces(np.array([\n",
    "    [-1, 3, 5, -1],\n",
    "    [2, 0, 2, -4],\n",
    "    [-3, -5, 9, 0]\n",
    "]))"
   ],
   "outputs": [
    {
     "name": "stdout",
     "output_type": "stream",
     "text": [
      "\n",
      "--------------------------------------------------------------------------------\n",
      "\n"
     ]
    },
    {
     "data": {
      "text/plain": [
       "<IPython.core.display.Math object>"
      ],
      "text/latex": "$\\displaystyle The \\space RREF \\space of \\space A \\space is:$"
     },
     "metadata": {},
     "output_type": "display_data"
    },
    {
     "name": "stdout",
     "output_type": "stream",
     "text": [
      "\n",
      "\n"
     ]
    },
    {
     "data": {
      "text/plain": [
       "<IPython.core.display.Math object>"
      ],
      "text/latex": "$\\displaystyle \\left[\\begin{matrix}1 & 0 & 0 & - \\frac{3}{2}\\\\0 & 1 & 0 & 0\\\\0 & 0 & 1 & - \\frac{1}{2}\\end{matrix}\\right]$"
     },
     "metadata": {},
     "output_type": "display_data"
    },
    {
     "name": "stdout",
     "output_type": "stream",
     "text": [
      "\n",
      "--------------------------------------------------------------------------------\n",
      "\n"
     ]
    },
    {
     "data": {
      "text/plain": [
       "<IPython.core.display.Math object>"
      ],
      "text/latex": "$\\displaystyle The \\space dimension \\space of \\space the \\space column \\space space \\space of \\space A \\space is: \\space 3$"
     },
     "metadata": {},
     "output_type": "display_data"
    },
    {
     "data": {
      "text/plain": [
       "<IPython.core.display.Math object>"
      ],
      "text/latex": "$\\displaystyle The \\space dimension \\space of \\space the \\space null \\space space \\space of \\space A \\space is \\space (n \\space - \\space r):  \\space1$"
     },
     "metadata": {},
     "output_type": "display_data"
    },
    {
     "data": {
      "text/plain": [
       "<IPython.core.display.Math object>"
      ],
      "text/latex": "$\\displaystyle The \\space dimension \\space of \\space the \\space column \\space space \\space of \\space A^t \\space is: \\space 3$"
     },
     "metadata": {},
     "output_type": "display_data"
    },
    {
     "data": {
      "text/plain": [
       "<IPython.core.display.Math object>"
      ],
      "text/latex": "$\\displaystyle The \\space dimension \\space of \\space the \\space left \\space null \\space space \\space of \\space A^t \\space is \\space (m \\space - \\space r): \\space 0$"
     },
     "metadata": {},
     "output_type": "display_data"
    },
    {
     "name": "stdout",
     "output_type": "stream",
     "text": [
      "\n",
      "--------------------------------------------------------------------------------\n",
      "\n"
     ]
    }
   ],
   "execution_count": 9
  },
  {
   "cell_type": "code",
   "id": "f23444017d3496e3",
   "metadata": {
    "ExecuteTime": {
     "end_time": "2025-04-19T00:54:35.885382Z",
     "start_time": "2025-04-19T00:54:35.875579Z"
    }
   },
   "source": [
    "# Question 2:\n",
    "\n",
    "find_four_fundamental_subspaces(np.array([\n",
    "    [1, -2, 3],\n",
    "    [2, -3, 5],\n",
    "    [1, -1, 2]\n",
    "]))"
   ],
   "outputs": [
    {
     "name": "stdout",
     "output_type": "stream",
     "text": [
      "\n",
      "--------------------------------------------------------------------------------\n",
      "\n"
     ]
    },
    {
     "data": {
      "text/plain": [
       "<IPython.core.display.Math object>"
      ],
      "text/latex": "$\\displaystyle The \\space RREF \\space of \\space A \\space is:$"
     },
     "metadata": {},
     "output_type": "display_data"
    },
    {
     "name": "stdout",
     "output_type": "stream",
     "text": [
      "\n",
      "\n"
     ]
    },
    {
     "data": {
      "text/plain": [
       "<IPython.core.display.Math object>"
      ],
      "text/latex": "$\\displaystyle \\left[\\begin{matrix}1 & 0 & 1\\\\0 & 1 & -1\\\\0 & 0 & 0\\end{matrix}\\right]$"
     },
     "metadata": {},
     "output_type": "display_data"
    },
    {
     "name": "stdout",
     "output_type": "stream",
     "text": [
      "\n",
      "--------------------------------------------------------------------------------\n",
      "\n"
     ]
    },
    {
     "data": {
      "text/plain": [
       "<IPython.core.display.Math object>"
      ],
      "text/latex": "$\\displaystyle The \\space dimension \\space of \\space the \\space column \\space space \\space of \\space A \\space is: \\space 2$"
     },
     "metadata": {},
     "output_type": "display_data"
    },
    {
     "data": {
      "text/plain": [
       "<IPython.core.display.Math object>"
      ],
      "text/latex": "$\\displaystyle The \\space dimension \\space of \\space the \\space null \\space space \\space of \\space A \\space is \\space (n \\space - \\space r):  \\space1$"
     },
     "metadata": {},
     "output_type": "display_data"
    },
    {
     "data": {
      "text/plain": [
       "<IPython.core.display.Math object>"
      ],
      "text/latex": "$\\displaystyle The \\space dimension \\space of \\space the \\space column \\space space \\space of \\space A^t \\space is: \\space 2$"
     },
     "metadata": {},
     "output_type": "display_data"
    },
    {
     "data": {
      "text/plain": [
       "<IPython.core.display.Math object>"
      ],
      "text/latex": "$\\displaystyle The \\space dimension \\space of \\space the \\space left \\space null \\space space \\space of \\space A^t \\space is \\space (m \\space - \\space r): \\space 1$"
     },
     "metadata": {},
     "output_type": "display_data"
    },
    {
     "name": "stdout",
     "output_type": "stream",
     "text": [
      "\n",
      "--------------------------------------------------------------------------------\n",
      "\n"
     ]
    }
   ],
   "execution_count": 10
  },
  {
   "cell_type": "code",
   "id": "582167e0e1b6b10",
   "metadata": {
    "ExecuteTime": {
     "end_time": "2025-04-19T00:54:35.907128Z",
     "start_time": "2025-04-19T00:54:35.897515Z"
    }
   },
   "source": [
    "# Question 3:\n",
    "\n",
    "find_four_fundamental_subspaces(np.array([\n",
    "    [2, -3, 6, -5, -6],\n",
    "    [4, -5, 12, -11, -14],\n",
    "    [2, -2, 6, -6, -8]\n",
    "]))"
   ],
   "outputs": [
    {
     "name": "stdout",
     "output_type": "stream",
     "text": [
      "\n",
      "--------------------------------------------------------------------------------\n",
      "\n"
     ]
    },
    {
     "data": {
      "text/plain": [
       "<IPython.core.display.Math object>"
      ],
      "text/latex": "$\\displaystyle The \\space RREF \\space of \\space A \\space is:$"
     },
     "metadata": {},
     "output_type": "display_data"
    },
    {
     "name": "stdout",
     "output_type": "stream",
     "text": [
      "\n",
      "\n"
     ]
    },
    {
     "data": {
      "text/plain": [
       "<IPython.core.display.Math object>"
      ],
      "text/latex": "$\\displaystyle \\left[\\begin{matrix}1 & 0 & 3 & -4 & -6\\\\0 & 1 & 0 & -1 & -2\\\\0 & 0 & 0 & 0 & 0\\end{matrix}\\right]$"
     },
     "metadata": {},
     "output_type": "display_data"
    },
    {
     "name": "stdout",
     "output_type": "stream",
     "text": [
      "\n",
      "--------------------------------------------------------------------------------\n",
      "\n"
     ]
    },
    {
     "data": {
      "text/plain": [
       "<IPython.core.display.Math object>"
      ],
      "text/latex": "$\\displaystyle The \\space dimension \\space of \\space the \\space column \\space space \\space of \\space A \\space is: \\space 2$"
     },
     "metadata": {},
     "output_type": "display_data"
    },
    {
     "data": {
      "text/plain": [
       "<IPython.core.display.Math object>"
      ],
      "text/latex": "$\\displaystyle The \\space dimension \\space of \\space the \\space null \\space space \\space of \\space A \\space is \\space (n \\space - \\space r):  \\space3$"
     },
     "metadata": {},
     "output_type": "display_data"
    },
    {
     "data": {
      "text/plain": [
       "<IPython.core.display.Math object>"
      ],
      "text/latex": "$\\displaystyle The \\space dimension \\space of \\space the \\space column \\space space \\space of \\space A^t \\space is: \\space 2$"
     },
     "metadata": {},
     "output_type": "display_data"
    },
    {
     "data": {
      "text/plain": [
       "<IPython.core.display.Math object>"
      ],
      "text/latex": "$\\displaystyle The \\space dimension \\space of \\space the \\space left \\space null \\space space \\space of \\space A^t \\space is \\space (m \\space - \\space r): \\space 1$"
     },
     "metadata": {},
     "output_type": "display_data"
    },
    {
     "name": "stdout",
     "output_type": "stream",
     "text": [
      "\n",
      "--------------------------------------------------------------------------------\n",
      "\n"
     ]
    }
   ],
   "execution_count": 11
  },
  {
   "cell_type": "markdown",
   "id": "ffb780781274b95e",
   "metadata": {},
   "source": [
    "# Projection onto the Subspace\n",
    "***"
   ]
  },
  {
   "cell_type": "code",
   "id": "aa7f276b74f0113a",
   "metadata": {
    "ExecuteTime": {
     "end_time": "2025-04-19T00:54:35.962557Z",
     "start_time": "2025-04-19T00:54:35.957218Z"
    }
   },
   "source": [
    "display(Math(r'v \\space in \\mathbb{R}^n'))\n",
    "display(Math(r'proj_v\\overrightarrow{x} \\space = \\space A(A^T A)^{-1} A^T \\overrightarrow{x}'))"
   ],
   "outputs": [
    {
     "data": {
      "text/plain": [
       "<IPython.core.display.Math object>"
      ],
      "text/latex": "$\\displaystyle v \\space in \\mathbb{R}^n$"
     },
     "metadata": {},
     "output_type": "display_data"
    },
    {
     "data": {
      "text/plain": [
       "<IPython.core.display.Math object>"
      ],
      "text/latex": "$\\displaystyle proj_v\\overrightarrow{x} \\space = \\space A(A^T A)^{-1} A^T \\overrightarrow{x}$"
     },
     "metadata": {},
     "output_type": "display_data"
    }
   ],
   "execution_count": 12
  },
  {
   "cell_type": "code",
   "id": "216298cf653bb8ed",
   "metadata": {
    "ExecuteTime": {
     "end_time": "2025-04-19T00:54:36.004127Z",
     "start_time": "2025-04-19T00:54:35.998889Z"
    }
   },
   "source": [
    "def projection_onto_subspace(v_span: np.ndarray,\n",
    "                             vec_x: np.ndarray | None = None,\n",
    "                             return_values: bool = False) -> sym.Matrix:\n",
    "    A = sym.Matrix(v_span.transpose())\n",
    "    A_t = A.transpose()\n",
    "    A_t_A = A_t * A\n",
    "    A_t_A_inv = A_t_A.inv()\n",
    "\n",
    "    projection_matrix = A * A_t_A_inv\n",
    "\n",
    "    print(\"\\n\")\n",
    "    display(Math(\n",
    "        r\"Matrix \\space A \\space is:\"))\n",
    "    print(\"\\n\")\n",
    "\n",
    "    display(Math(sym.latex(A)))\n",
    "\n",
    "    print(\"\\n\")\n",
    "    display(Math(\n",
    "        r\"Matrix \\space A^t \\space is:\"))\n",
    "    print(\"\\n\")\n",
    "\n",
    "    display(Math(sym.latex(A_t)))\n",
    "\n",
    "    # print(\"\\n\" + \"-\"*80 + \"\\n\")\n",
    "\n",
    "    print(\"\\n\")\n",
    "    display(Math(\n",
    "        r\"Matrix \\space A^t A \\space is:\"))\n",
    "    print(\"\\n\")\n",
    "\n",
    "    display(Math(sym.latex(A_t_A)))\n",
    "\n",
    "    print(\"\\n\")\n",
    "    display(Math(\n",
    "        r\"Matrix \\space ( A^t A )^{-1} \\space is:\"))\n",
    "    print(\"\\n\")\n",
    "\n",
    "    display(Math(sym.latex(A_t_A_inv)))\n",
    "\n",
    "    print(\"\\n\")\n",
    "    display(Math(\n",
    "        r\"Projection Matrix \\space Proj_L \\overrightarrow{x} \\space is:\"))\n",
    "    print(\"\\n\")\n",
    "\n",
    "    display(Math(sym.latex(projection_matrix)))\n",
    "\n",
    "    projection = None\n",
    "\n",
    "    if vec_x is not None:\n",
    "        projection = projection_matrix * vec_x\n",
    "\n",
    "        print(\"\\n\")\n",
    "        display(Math(\n",
    "            r\"Projection \\space of \\space \\overrightarrow{x} \\space on \\space the \\space subspace \\space Proj_L \\overrightarrow{x} \\space is:\"))\n",
    "\n",
    "        print(\"\\n\")\n",
    "        display(Math(sym.latex(projection)))\n",
    "\n",
    "    if return_values:\n",
    "        return {\n",
    "            'A': A,\n",
    "            'A_t': A_t,\n",
    "            'A_t_A': A_t_A,\n",
    "            'A_t_A_inv': A_t_A_inv,\n",
    "            'projection_matrix': projection_matrix,\n",
    "            'projection': projection,\n",
    "\n",
    "        }\n",
    "\n",
    "\n",
    "\n"
   ],
   "outputs": [],
   "execution_count": 13
  },
  {
   "cell_type": "code",
   "id": "13d06734072e29cf",
   "metadata": {
    "ExecuteTime": {
     "end_time": "2025-04-19T00:54:36.027079Z",
     "start_time": "2025-04-19T00:54:36.013256Z"
    }
   },
   "source": [
    "# Question 1:\n",
    "\n",
    "projection_onto_subspace(\n",
    "    v_span=np.array([\n",
    "        [2, 1, 1],\n",
    "        [1, 0, -1]\n",
    "    ]))"
   ],
   "outputs": [
    {
     "name": "stdout",
     "output_type": "stream",
     "text": [
      "\n",
      "\n"
     ]
    },
    {
     "data": {
      "text/plain": [
       "<IPython.core.display.Math object>"
      ],
      "text/latex": "$\\displaystyle Matrix \\space A \\space is:$"
     },
     "metadata": {},
     "output_type": "display_data"
    },
    {
     "name": "stdout",
     "output_type": "stream",
     "text": [
      "\n",
      "\n"
     ]
    },
    {
     "data": {
      "text/plain": [
       "<IPython.core.display.Math object>"
      ],
      "text/latex": "$\\displaystyle \\left[\\begin{matrix}2 & 1\\\\1 & 0\\\\1 & -1\\end{matrix}\\right]$"
     },
     "metadata": {},
     "output_type": "display_data"
    },
    {
     "name": "stdout",
     "output_type": "stream",
     "text": [
      "\n",
      "\n"
     ]
    },
    {
     "data": {
      "text/plain": [
       "<IPython.core.display.Math object>"
      ],
      "text/latex": "$\\displaystyle Matrix \\space A^t \\space is:$"
     },
     "metadata": {},
     "output_type": "display_data"
    },
    {
     "name": "stdout",
     "output_type": "stream",
     "text": [
      "\n",
      "\n"
     ]
    },
    {
     "data": {
      "text/plain": [
       "<IPython.core.display.Math object>"
      ],
      "text/latex": "$\\displaystyle \\left[\\begin{matrix}2 & 1 & 1\\\\1 & 0 & -1\\end{matrix}\\right]$"
     },
     "metadata": {},
     "output_type": "display_data"
    },
    {
     "name": "stdout",
     "output_type": "stream",
     "text": [
      "\n",
      "\n"
     ]
    },
    {
     "data": {
      "text/plain": [
       "<IPython.core.display.Math object>"
      ],
      "text/latex": "$\\displaystyle Matrix \\space A^t A \\space is:$"
     },
     "metadata": {},
     "output_type": "display_data"
    },
    {
     "name": "stdout",
     "output_type": "stream",
     "text": [
      "\n",
      "\n"
     ]
    },
    {
     "data": {
      "text/plain": [
       "<IPython.core.display.Math object>"
      ],
      "text/latex": "$\\displaystyle \\left[\\begin{matrix}6 & 1\\\\1 & 2\\end{matrix}\\right]$"
     },
     "metadata": {},
     "output_type": "display_data"
    },
    {
     "name": "stdout",
     "output_type": "stream",
     "text": [
      "\n",
      "\n"
     ]
    },
    {
     "data": {
      "text/plain": [
       "<IPython.core.display.Math object>"
      ],
      "text/latex": "$\\displaystyle Matrix \\space ( A^t A )^{-1} \\space is:$"
     },
     "metadata": {},
     "output_type": "display_data"
    },
    {
     "name": "stdout",
     "output_type": "stream",
     "text": [
      "\n",
      "\n"
     ]
    },
    {
     "data": {
      "text/plain": [
       "<IPython.core.display.Math object>"
      ],
      "text/latex": "$\\displaystyle \\left[\\begin{matrix}\\frac{2}{11} & - \\frac{1}{11}\\\\- \\frac{1}{11} & \\frac{6}{11}\\end{matrix}\\right]$"
     },
     "metadata": {},
     "output_type": "display_data"
    },
    {
     "name": "stdout",
     "output_type": "stream",
     "text": [
      "\n",
      "\n"
     ]
    },
    {
     "data": {
      "text/plain": [
       "<IPython.core.display.Math object>"
      ],
      "text/latex": "$\\displaystyle Projection Matrix \\space Proj_L \\overrightarrow{x} \\space is:$"
     },
     "metadata": {},
     "output_type": "display_data"
    },
    {
     "name": "stdout",
     "output_type": "stream",
     "text": [
      "\n",
      "\n"
     ]
    },
    {
     "data": {
      "text/plain": [
       "<IPython.core.display.Math object>"
      ],
      "text/latex": "$\\displaystyle \\left[\\begin{matrix}\\frac{3}{11} & \\frac{4}{11}\\\\\\frac{2}{11} & - \\frac{1}{11}\\\\\\frac{3}{11} & - \\frac{7}{11}\\end{matrix}\\right]$"
     },
     "metadata": {},
     "output_type": "display_data"
    }
   ],
   "execution_count": 14
  },
  {
   "cell_type": "code",
   "id": "434c33eb25c6c6e4",
   "metadata": {
    "ExecuteTime": {
     "end_time": "2025-04-19T00:54:36.061366Z",
     "start_time": "2025-04-19T00:54:36.045491Z"
    }
   },
   "source": [
    "# Question 2:\n",
    "\n",
    "proj = projection_onto_subspace(np.array([\n",
    "    [-2, 0, -2],\n",
    "    [0, 4, 2]\n",
    "]))\n",
    "\n",
    "\n"
   ],
   "outputs": [
    {
     "name": "stdout",
     "output_type": "stream",
     "text": [
      "\n",
      "\n"
     ]
    },
    {
     "data": {
      "text/plain": [
       "<IPython.core.display.Math object>"
      ],
      "text/latex": "$\\displaystyle Matrix \\space A \\space is:$"
     },
     "metadata": {},
     "output_type": "display_data"
    },
    {
     "name": "stdout",
     "output_type": "stream",
     "text": [
      "\n",
      "\n"
     ]
    },
    {
     "data": {
      "text/plain": [
       "<IPython.core.display.Math object>"
      ],
      "text/latex": "$\\displaystyle \\left[\\begin{matrix}-2 & 0\\\\0 & 4\\\\-2 & 2\\end{matrix}\\right]$"
     },
     "metadata": {},
     "output_type": "display_data"
    },
    {
     "name": "stdout",
     "output_type": "stream",
     "text": [
      "\n",
      "\n"
     ]
    },
    {
     "data": {
      "text/plain": [
       "<IPython.core.display.Math object>"
      ],
      "text/latex": "$\\displaystyle Matrix \\space A^t \\space is:$"
     },
     "metadata": {},
     "output_type": "display_data"
    },
    {
     "name": "stdout",
     "output_type": "stream",
     "text": [
      "\n",
      "\n"
     ]
    },
    {
     "data": {
      "text/plain": [
       "<IPython.core.display.Math object>"
      ],
      "text/latex": "$\\displaystyle \\left[\\begin{matrix}-2 & 0 & -2\\\\0 & 4 & 2\\end{matrix}\\right]$"
     },
     "metadata": {},
     "output_type": "display_data"
    },
    {
     "name": "stdout",
     "output_type": "stream",
     "text": [
      "\n",
      "\n"
     ]
    },
    {
     "data": {
      "text/plain": [
       "<IPython.core.display.Math object>"
      ],
      "text/latex": "$\\displaystyle Matrix \\space A^t A \\space is:$"
     },
     "metadata": {},
     "output_type": "display_data"
    },
    {
     "name": "stdout",
     "output_type": "stream",
     "text": [
      "\n",
      "\n"
     ]
    },
    {
     "data": {
      "text/plain": [
       "<IPython.core.display.Math object>"
      ],
      "text/latex": "$\\displaystyle \\left[\\begin{matrix}8 & -4\\\\-4 & 20\\end{matrix}\\right]$"
     },
     "metadata": {},
     "output_type": "display_data"
    },
    {
     "name": "stdout",
     "output_type": "stream",
     "text": [
      "\n",
      "\n"
     ]
    },
    {
     "data": {
      "text/plain": [
       "<IPython.core.display.Math object>"
      ],
      "text/latex": "$\\displaystyle Matrix \\space ( A^t A )^{-1} \\space is:$"
     },
     "metadata": {},
     "output_type": "display_data"
    },
    {
     "name": "stdout",
     "output_type": "stream",
     "text": [
      "\n",
      "\n"
     ]
    },
    {
     "data": {
      "text/plain": [
       "<IPython.core.display.Math object>"
      ],
      "text/latex": "$\\displaystyle \\left[\\begin{matrix}\\frac{5}{36} & \\frac{1}{36}\\\\\\frac{1}{36} & \\frac{1}{18}\\end{matrix}\\right]$"
     },
     "metadata": {},
     "output_type": "display_data"
    },
    {
     "name": "stdout",
     "output_type": "stream",
     "text": [
      "\n",
      "\n"
     ]
    },
    {
     "data": {
      "text/plain": [
       "<IPython.core.display.Math object>"
      ],
      "text/latex": "$\\displaystyle Projection Matrix \\space Proj_L \\overrightarrow{x} \\space is:$"
     },
     "metadata": {},
     "output_type": "display_data"
    },
    {
     "name": "stdout",
     "output_type": "stream",
     "text": [
      "\n",
      "\n"
     ]
    },
    {
     "data": {
      "text/plain": [
       "<IPython.core.display.Math object>"
      ],
      "text/latex": "$\\displaystyle \\left[\\begin{matrix}- \\frac{5}{18} & - \\frac{1}{18}\\\\\\frac{1}{9} & \\frac{2}{9}\\\\- \\frac{2}{9} & \\frac{1}{18}\\end{matrix}\\right]$"
     },
     "metadata": {},
     "output_type": "display_data"
    }
   ],
   "execution_count": 15
  },
  {
   "cell_type": "markdown",
   "id": "9da0b931b973d4ed",
   "metadata": {},
   "source": [
    "# Least Squares Solution\n",
    "***"
   ]
  },
  {
   "cell_type": "code",
   "id": "222be7dad7304060",
   "metadata": {
    "ExecuteTime": {
     "end_time": "2025-04-19T00:54:36.084423Z",
     "start_time": "2025-04-19T00:54:36.078879Z"
    }
   },
   "source": [
    "display(Math(r'\\overrightarrow{x^*} \\space = \\space Proj_{C(A)} \\overrightarrow{b}'))\n",
    "display(Math(r'A^TA \\overrightarrow{x^*} \\space = \\space A^T\\overrightarrow{b}'))"
   ],
   "outputs": [
    {
     "data": {
      "text/plain": [
       "<IPython.core.display.Math object>"
      ],
      "text/latex": "$\\displaystyle \\overrightarrow{x^*} \\space = \\space Proj_{C(A)} \\overrightarrow{b}$"
     },
     "metadata": {},
     "output_type": "display_data"
    },
    {
     "data": {
      "text/plain": [
       "<IPython.core.display.Math object>"
      ],
      "text/latex": "$\\displaystyle A^TA \\overrightarrow{x^*} \\space = \\space A^T\\overrightarrow{b}$"
     },
     "metadata": {},
     "output_type": "display_data"
    }
   ],
   "execution_count": 16
  },
  {
   "cell_type": "code",
   "id": "fa2e3df33089fb37",
   "metadata": {
    "ExecuteTime": {
     "end_time": "2025-04-19T00:54:36.098627Z",
     "start_time": "2025-04-19T00:54:36.094624Z"
    }
   },
   "source": [
    "def least_squares_solution(A: sym.Matrix, b: sym.Matrix) -> None:\n",
    "    A_t = A.transpose()\n",
    "    A_t_A = A_t * A\n",
    "    A_t_b = A_t * b\n",
    "\n",
    "    A_t_A_aug = A_t_A.row_join(A_t_b)\n",
    "    A_t_A_aug_rref = A_t_A_aug.rref()[0]\n",
    "\n",
    "    x_star = A_t_A_aug_rref[:, -1]\n",
    "\n",
    "    print(\"\\n\")\n",
    "\n",
    "    display(Math(r\"Matrix \\space A^T \\space is:\"))\n",
    "    print(\"\\n\")\n",
    "    display(Math(sym.latex(A_t)))\n",
    "    print(\"\\n\")\n",
    "\n",
    "    display(Math(r\"Matrix \\space A^T A \\space is:\"))\n",
    "    print(\"\\n\")\n",
    "    display(Math(sym.latex(A_t_A)))\n",
    "    print(\"\\n\")\n",
    "\n",
    "    display(Math(r\"Matrix \\space A^T \\overrightarrow{b} \\space \\space is:\"))\n",
    "    print(\"\\n\")\n",
    "    display(Math(sym.latex(A_t_b)))\n",
    "    print(\"\\n\")\n",
    "\n",
    "    display(Math(r\"Augmented \\space Matrix \\space A^T A \\space with \\space \\overrightarrow{b} \\space is:\"))\n",
    "    print(\"\\n\")\n",
    "    display(Math(sym.latex(A_t_A_aug)))\n",
    "    print(\"\\n\")\n",
    "\n",
    "    display(Math(\n",
    "        r\"Reduced \\space Row \\space Echelon \\space Form \\space (RREF) \\space of \\space the \\space augmented \\space matrix \\space is:\"))\n",
    "    print(\"\\n\")\n",
    "    display(Math(sym.latex(A_t_A_aug_rref)))\n",
    "    print(\"\\n\")\n",
    "\n",
    "    print(\"\\n\" + \"-\" * 80 + \"\\n\")\n",
    "    display(Math(r\"Least \\space Squares \\space Solution \\space \\overrightarrow{x^*} \\space is:\"))\n",
    "    print(\"\\n\")\n",
    "    display(Math(sym.latex(x_star)))\n",
    "    print(\"\\n\" + \"-\" * 80 + \"\\n\")\n",
    "\n",
    "    print(\"\\n\")"
   ],
   "outputs": [],
   "execution_count": 17
  },
  {
   "cell_type": "code",
   "id": "8af97a54e98dcbad",
   "metadata": {
    "ExecuteTime": {
     "end_time": "2025-04-19T00:54:36.125073Z",
     "start_time": "2025-04-19T00:54:36.106049Z"
    }
   },
   "source": [
    "least_squares_solution(\n",
    "    A=sym.Matrix([\n",
    "        [-2, 1],\n",
    "        [-1, 1],\n",
    "        [1, 2]\n",
    "    ]),\n",
    "    b=sym.Matrix([\n",
    "        [1],\n",
    "        [0],\n",
    "        [3]\n",
    "    ]))"
   ],
   "outputs": [
    {
     "name": "stdout",
     "output_type": "stream",
     "text": [
      "\n",
      "\n"
     ]
    },
    {
     "data": {
      "text/plain": [
       "<IPython.core.display.Math object>"
      ],
      "text/latex": "$\\displaystyle Matrix \\space A^T \\space is:$"
     },
     "metadata": {},
     "output_type": "display_data"
    },
    {
     "name": "stdout",
     "output_type": "stream",
     "text": [
      "\n",
      "\n"
     ]
    },
    {
     "data": {
      "text/plain": [
       "<IPython.core.display.Math object>"
      ],
      "text/latex": "$\\displaystyle \\left[\\begin{matrix}-2 & -1 & 1\\\\1 & 1 & 2\\end{matrix}\\right]$"
     },
     "metadata": {},
     "output_type": "display_data"
    },
    {
     "name": "stdout",
     "output_type": "stream",
     "text": [
      "\n",
      "\n"
     ]
    },
    {
     "data": {
      "text/plain": [
       "<IPython.core.display.Math object>"
      ],
      "text/latex": "$\\displaystyle Matrix \\space A^T A \\space is:$"
     },
     "metadata": {},
     "output_type": "display_data"
    },
    {
     "name": "stdout",
     "output_type": "stream",
     "text": [
      "\n",
      "\n"
     ]
    },
    {
     "data": {
      "text/plain": [
       "<IPython.core.display.Math object>"
      ],
      "text/latex": "$\\displaystyle \\left[\\begin{matrix}6 & -1\\\\-1 & 6\\end{matrix}\\right]$"
     },
     "metadata": {},
     "output_type": "display_data"
    },
    {
     "name": "stdout",
     "output_type": "stream",
     "text": [
      "\n",
      "\n"
     ]
    },
    {
     "data": {
      "text/plain": [
       "<IPython.core.display.Math object>"
      ],
      "text/latex": "$\\displaystyle Matrix \\space A^T \\overrightarrow{b} \\space \\space is:$"
     },
     "metadata": {},
     "output_type": "display_data"
    },
    {
     "name": "stdout",
     "output_type": "stream",
     "text": [
      "\n",
      "\n"
     ]
    },
    {
     "data": {
      "text/plain": [
       "<IPython.core.display.Math object>"
      ],
      "text/latex": "$\\displaystyle \\left[\\begin{matrix}1\\\\7\\end{matrix}\\right]$"
     },
     "metadata": {},
     "output_type": "display_data"
    },
    {
     "name": "stdout",
     "output_type": "stream",
     "text": [
      "\n",
      "\n"
     ]
    },
    {
     "data": {
      "text/plain": [
       "<IPython.core.display.Math object>"
      ],
      "text/latex": "$\\displaystyle Augmented \\space Matrix \\space A^T A \\space with \\space \\overrightarrow{b} \\space is:$"
     },
     "metadata": {},
     "output_type": "display_data"
    },
    {
     "name": "stdout",
     "output_type": "stream",
     "text": [
      "\n",
      "\n"
     ]
    },
    {
     "data": {
      "text/plain": [
       "<IPython.core.display.Math object>"
      ],
      "text/latex": "$\\displaystyle \\left[\\begin{matrix}6 & -1 & 1\\\\-1 & 6 & 7\\end{matrix}\\right]$"
     },
     "metadata": {},
     "output_type": "display_data"
    },
    {
     "name": "stdout",
     "output_type": "stream",
     "text": [
      "\n",
      "\n"
     ]
    },
    {
     "data": {
      "text/plain": [
       "<IPython.core.display.Math object>"
      ],
      "text/latex": "$\\displaystyle Reduced \\space Row \\space Echelon \\space Form \\space (RREF) \\space of \\space the \\space augmented \\space matrix \\space is:$"
     },
     "metadata": {},
     "output_type": "display_data"
    },
    {
     "name": "stdout",
     "output_type": "stream",
     "text": [
      "\n",
      "\n"
     ]
    },
    {
     "data": {
      "text/plain": [
       "<IPython.core.display.Math object>"
      ],
      "text/latex": "$\\displaystyle \\left[\\begin{matrix}1 & 0 & \\frac{13}{35}\\\\0 & 1 & \\frac{43}{35}\\end{matrix}\\right]$"
     },
     "metadata": {},
     "output_type": "display_data"
    },
    {
     "name": "stdout",
     "output_type": "stream",
     "text": [
      "\n",
      "\n",
      "\n",
      "--------------------------------------------------------------------------------\n",
      "\n"
     ]
    },
    {
     "data": {
      "text/plain": [
       "<IPython.core.display.Math object>"
      ],
      "text/latex": "$\\displaystyle Least \\space Squares \\space Solution \\space \\overrightarrow{x^*} \\space is:$"
     },
     "metadata": {},
     "output_type": "display_data"
    },
    {
     "name": "stdout",
     "output_type": "stream",
     "text": [
      "\n",
      "\n"
     ]
    },
    {
     "data": {
      "text/plain": [
       "<IPython.core.display.Math object>"
      ],
      "text/latex": "$\\displaystyle \\left[\\begin{matrix}\\frac{13}{35}\\\\\\frac{43}{35}\\end{matrix}\\right]$"
     },
     "metadata": {},
     "output_type": "display_data"
    },
    {
     "name": "stdout",
     "output_type": "stream",
     "text": [
      "\n",
      "--------------------------------------------------------------------------------\n",
      "\n",
      "\n",
      "\n"
     ]
    }
   ],
   "execution_count": 18
  },
  {
   "cell_type": "code",
   "id": "7647adc876a81c06",
   "metadata": {
    "ExecuteTime": {
     "end_time": "2025-04-19T00:54:36.167222Z",
     "start_time": "2025-04-19T00:54:36.149101Z"
    }
   },
   "source": [
    "least_squares_solution(\n",
    "    sym.Matrix([\n",
    "        [1, -2],\n",
    "        [3, 1],\n",
    "        [-1, -2]\n",
    "    ]),\n",
    "    sym.Matrix([\n",
    "        [5],\n",
    "        [-6],\n",
    "        [-2]\n",
    "    ])\n",
    ")"
   ],
   "outputs": [
    {
     "name": "stdout",
     "output_type": "stream",
     "text": [
      "\n",
      "\n"
     ]
    },
    {
     "data": {
      "text/plain": [
       "<IPython.core.display.Math object>"
      ],
      "text/latex": "$\\displaystyle Matrix \\space A^T \\space is:$"
     },
     "metadata": {},
     "output_type": "display_data"
    },
    {
     "name": "stdout",
     "output_type": "stream",
     "text": [
      "\n",
      "\n"
     ]
    },
    {
     "data": {
      "text/plain": [
       "<IPython.core.display.Math object>"
      ],
      "text/latex": "$\\displaystyle \\left[\\begin{matrix}1 & 3 & -1\\\\-2 & 1 & -2\\end{matrix}\\right]$"
     },
     "metadata": {},
     "output_type": "display_data"
    },
    {
     "name": "stdout",
     "output_type": "stream",
     "text": [
      "\n",
      "\n"
     ]
    },
    {
     "data": {
      "text/plain": [
       "<IPython.core.display.Math object>"
      ],
      "text/latex": "$\\displaystyle Matrix \\space A^T A \\space is:$"
     },
     "metadata": {},
     "output_type": "display_data"
    },
    {
     "name": "stdout",
     "output_type": "stream",
     "text": [
      "\n",
      "\n"
     ]
    },
    {
     "data": {
      "text/plain": [
       "<IPython.core.display.Math object>"
      ],
      "text/latex": "$\\displaystyle \\left[\\begin{matrix}11 & 3\\\\3 & 9\\end{matrix}\\right]$"
     },
     "metadata": {},
     "output_type": "display_data"
    },
    {
     "name": "stdout",
     "output_type": "stream",
     "text": [
      "\n",
      "\n"
     ]
    },
    {
     "data": {
      "text/plain": [
       "<IPython.core.display.Math object>"
      ],
      "text/latex": "$\\displaystyle Matrix \\space A^T \\overrightarrow{b} \\space \\space is:$"
     },
     "metadata": {},
     "output_type": "display_data"
    },
    {
     "name": "stdout",
     "output_type": "stream",
     "text": [
      "\n",
      "\n"
     ]
    },
    {
     "data": {
      "text/plain": [
       "<IPython.core.display.Math object>"
      ],
      "text/latex": "$\\displaystyle \\left[\\begin{matrix}-11\\\\-12\\end{matrix}\\right]$"
     },
     "metadata": {},
     "output_type": "display_data"
    },
    {
     "name": "stdout",
     "output_type": "stream",
     "text": [
      "\n",
      "\n"
     ]
    },
    {
     "data": {
      "text/plain": [
       "<IPython.core.display.Math object>"
      ],
      "text/latex": "$\\displaystyle Augmented \\space Matrix \\space A^T A \\space with \\space \\overrightarrow{b} \\space is:$"
     },
     "metadata": {},
     "output_type": "display_data"
    },
    {
     "name": "stdout",
     "output_type": "stream",
     "text": [
      "\n",
      "\n"
     ]
    },
    {
     "data": {
      "text/plain": [
       "<IPython.core.display.Math object>"
      ],
      "text/latex": "$\\displaystyle \\left[\\begin{matrix}11 & 3 & -11\\\\3 & 9 & -12\\end{matrix}\\right]$"
     },
     "metadata": {},
     "output_type": "display_data"
    },
    {
     "name": "stdout",
     "output_type": "stream",
     "text": [
      "\n",
      "\n"
     ]
    },
    {
     "data": {
      "text/plain": [
       "<IPython.core.display.Math object>"
      ],
      "text/latex": "$\\displaystyle Reduced \\space Row \\space Echelon \\space Form \\space (RREF) \\space of \\space the \\space augmented \\space matrix \\space is:$"
     },
     "metadata": {},
     "output_type": "display_data"
    },
    {
     "name": "stdout",
     "output_type": "stream",
     "text": [
      "\n",
      "\n"
     ]
    },
    {
     "data": {
      "text/plain": [
       "<IPython.core.display.Math object>"
      ],
      "text/latex": "$\\displaystyle \\left[\\begin{matrix}1 & 0 & - \\frac{7}{10}\\\\0 & 1 & - \\frac{11}{10}\\end{matrix}\\right]$"
     },
     "metadata": {},
     "output_type": "display_data"
    },
    {
     "name": "stdout",
     "output_type": "stream",
     "text": [
      "\n",
      "\n",
      "\n",
      "--------------------------------------------------------------------------------\n",
      "\n"
     ]
    },
    {
     "data": {
      "text/plain": [
       "<IPython.core.display.Math object>"
      ],
      "text/latex": "$\\displaystyle Least \\space Squares \\space Solution \\space \\overrightarrow{x^*} \\space is:$"
     },
     "metadata": {},
     "output_type": "display_data"
    },
    {
     "name": "stdout",
     "output_type": "stream",
     "text": [
      "\n",
      "\n"
     ]
    },
    {
     "data": {
      "text/plain": [
       "<IPython.core.display.Math object>"
      ],
      "text/latex": "$\\displaystyle \\left[\\begin{matrix}- \\frac{7}{10}\\\\- \\frac{11}{10}\\end{matrix}\\right]$"
     },
     "metadata": {},
     "output_type": "display_data"
    },
    {
     "name": "stdout",
     "output_type": "stream",
     "text": [
      "\n",
      "--------------------------------------------------------------------------------\n",
      "\n",
      "\n",
      "\n"
     ]
    }
   ],
   "execution_count": 19
  },
  {
   "cell_type": "code",
   "id": "db269906b86f0c7",
   "metadata": {
    "ExecuteTime": {
     "end_time": "2025-04-19T00:54:36.206671Z",
     "start_time": "2025-04-19T00:54:36.185413Z"
    }
   },
   "source": [
    "# Question 2: \n",
    "\n",
    "least_squares_solution(\n",
    "    A=sym.Matrix([\n",
    "        [3, -2],\n",
    "        [1, -5],\n",
    "        [1, 1]\n",
    "    ]),\n",
    "    b=sym.Matrix([\n",
    "        [-6],\n",
    "        [-5],\n",
    "        [4]\n",
    "    ])\n",
    ")"
   ],
   "outputs": [
    {
     "name": "stdout",
     "output_type": "stream",
     "text": [
      "\n",
      "\n"
     ]
    },
    {
     "data": {
      "text/plain": [
       "<IPython.core.display.Math object>"
      ],
      "text/latex": "$\\displaystyle Matrix \\space A^T \\space is:$"
     },
     "metadata": {},
     "output_type": "display_data"
    },
    {
     "name": "stdout",
     "output_type": "stream",
     "text": [
      "\n",
      "\n"
     ]
    },
    {
     "data": {
      "text/plain": [
       "<IPython.core.display.Math object>"
      ],
      "text/latex": "$\\displaystyle \\left[\\begin{matrix}3 & 1 & 1\\\\-2 & -5 & 1\\end{matrix}\\right]$"
     },
     "metadata": {},
     "output_type": "display_data"
    },
    {
     "name": "stdout",
     "output_type": "stream",
     "text": [
      "\n",
      "\n"
     ]
    },
    {
     "data": {
      "text/plain": [
       "<IPython.core.display.Math object>"
      ],
      "text/latex": "$\\displaystyle Matrix \\space A^T A \\space is:$"
     },
     "metadata": {},
     "output_type": "display_data"
    },
    {
     "name": "stdout",
     "output_type": "stream",
     "text": [
      "\n",
      "\n"
     ]
    },
    {
     "data": {
      "text/plain": [
       "<IPython.core.display.Math object>"
      ],
      "text/latex": "$\\displaystyle \\left[\\begin{matrix}11 & -10\\\\-10 & 30\\end{matrix}\\right]$"
     },
     "metadata": {},
     "output_type": "display_data"
    },
    {
     "name": "stdout",
     "output_type": "stream",
     "text": [
      "\n",
      "\n"
     ]
    },
    {
     "data": {
      "text/plain": [
       "<IPython.core.display.Math object>"
      ],
      "text/latex": "$\\displaystyle Matrix \\space A^T \\overrightarrow{b} \\space \\space is:$"
     },
     "metadata": {},
     "output_type": "display_data"
    },
    {
     "name": "stdout",
     "output_type": "stream",
     "text": [
      "\n",
      "\n"
     ]
    },
    {
     "data": {
      "text/plain": [
       "<IPython.core.display.Math object>"
      ],
      "text/latex": "$\\displaystyle \\left[\\begin{matrix}-19\\\\41\\end{matrix}\\right]$"
     },
     "metadata": {},
     "output_type": "display_data"
    },
    {
     "name": "stdout",
     "output_type": "stream",
     "text": [
      "\n",
      "\n"
     ]
    },
    {
     "data": {
      "text/plain": [
       "<IPython.core.display.Math object>"
      ],
      "text/latex": "$\\displaystyle Augmented \\space Matrix \\space A^T A \\space with \\space \\overrightarrow{b} \\space is:$"
     },
     "metadata": {},
     "output_type": "display_data"
    },
    {
     "name": "stdout",
     "output_type": "stream",
     "text": [
      "\n",
      "\n"
     ]
    },
    {
     "data": {
      "text/plain": [
       "<IPython.core.display.Math object>"
      ],
      "text/latex": "$\\displaystyle \\left[\\begin{matrix}11 & -10 & -19\\\\-10 & 30 & 41\\end{matrix}\\right]$"
     },
     "metadata": {},
     "output_type": "display_data"
    },
    {
     "name": "stdout",
     "output_type": "stream",
     "text": [
      "\n",
      "\n"
     ]
    },
    {
     "data": {
      "text/plain": [
       "<IPython.core.display.Math object>"
      ],
      "text/latex": "$\\displaystyle Reduced \\space Row \\space Echelon \\space Form \\space (RREF) \\space of \\space the \\space augmented \\space matrix \\space is:$"
     },
     "metadata": {},
     "output_type": "display_data"
    },
    {
     "name": "stdout",
     "output_type": "stream",
     "text": [
      "\n",
      "\n"
     ]
    },
    {
     "data": {
      "text/plain": [
       "<IPython.core.display.Math object>"
      ],
      "text/latex": "$\\displaystyle \\left[\\begin{matrix}1 & 0 & - \\frac{16}{23}\\\\0 & 1 & \\frac{261}{230}\\end{matrix}\\right]$"
     },
     "metadata": {},
     "output_type": "display_data"
    },
    {
     "name": "stdout",
     "output_type": "stream",
     "text": [
      "\n",
      "\n",
      "\n",
      "--------------------------------------------------------------------------------\n",
      "\n"
     ]
    },
    {
     "data": {
      "text/plain": [
       "<IPython.core.display.Math object>"
      ],
      "text/latex": "$\\displaystyle Least \\space Squares \\space Solution \\space \\overrightarrow{x^*} \\space is:$"
     },
     "metadata": {},
     "output_type": "display_data"
    },
    {
     "name": "stdout",
     "output_type": "stream",
     "text": [
      "\n",
      "\n"
     ]
    },
    {
     "data": {
      "text/plain": [
       "<IPython.core.display.Math object>"
      ],
      "text/latex": "$\\displaystyle \\left[\\begin{matrix}- \\frac{16}{23}\\\\\\frac{261}{230}\\end{matrix}\\right]$"
     },
     "metadata": {},
     "output_type": "display_data"
    },
    {
     "name": "stdout",
     "output_type": "stream",
     "text": [
      "\n",
      "--------------------------------------------------------------------------------\n",
      "\n",
      "\n",
      "\n"
     ]
    }
   ],
   "execution_count": 20
  },
  {
   "cell_type": "markdown",
   "id": "34b1b1fbd898e938",
   "metadata": {},
   "source": [
    "# Coordinates in a New Basis\n",
    "***"
   ]
  },
  {
   "cell_type": "code",
   "id": "6f159d68a41a3402",
   "metadata": {
    "ExecuteTime": {
     "end_time": "2025-04-19T00:54:36.229571Z",
     "start_time": "2025-04-19T00:54:36.225497Z"
    }
   },
   "source": [
    "display(Math(r'A[ \\space \\overrightarrow{v} \\space ]_{\\space B \\space} = \\overrightarrow{x}'))"
   ],
   "outputs": [
    {
     "data": {
      "text/plain": [
       "<IPython.core.display.Math object>"
      ],
      "text/latex": "$\\displaystyle A[ \\space \\overrightarrow{v} \\space ]_{\\space B \\space} = \\overrightarrow{x}$"
     },
     "metadata": {},
     "output_type": "display_data"
    }
   ],
   "execution_count": 21
  },
  {
   "cell_type": "code",
   "id": "961d46ff690ebf6c",
   "metadata": {
    "ExecuteTime": {
     "end_time": "2025-04-19T00:54:36.246280Z",
     "start_time": "2025-04-19T00:54:36.241193Z"
    }
   },
   "source": [
    "def find_coordinates_in_new_basis(vec_list: list, x: sym.Matrix) -> sym.Matrix:\n",
    "    def row_join_vectors(vec_list: list) -> sym.Matrix:\n",
    "        A = sym.Matrix()\n",
    "        for m in range(len(vec_list)):\n",
    "            A = A.row_join(vec_list[m])\n",
    "\n",
    "        return A\n",
    "\n",
    "    def find_x_B(A: sym.Matrix, x: sym.Matrix) -> sym.Matrix:\n",
    "        A_x = A.row_join(x)\n",
    "        A_X_rref = A_x.rref()[0]\n",
    "        x_B = A_X_rref[:, -1]\n",
    "\n",
    "        return x_B\n",
    "\n",
    "    A = row_join_vectors(vec_list)\n",
    "\n",
    "    x_B = find_x_B(A, x)\n",
    "\n",
    "    print(\"\\n\" + \"-\" * 80 + \"\\n\")\n",
    "    print(\"\\n\")\n",
    "    display(Math(r\"Matrix \\space A \\space is:\"))\n",
    "    print(\"\\n\")\n",
    "    display(Math(sym.latex(A)))\n",
    "    print(\"\\n\")\n",
    "\n",
    "    display(Math(r\"Vector \\space \\overrightarrow{x} \\space is:\"))\n",
    "    print(\"\\n\")\n",
    "    if len(vec_list[0]) > 2:\n",
    "        display(Math(fr'\\overrightarrow{{x}} = {x[0]}i + {x[1]}j + {x[2]}k'))\n",
    "    elif len(vec_list[0]) == 2:\n",
    "        display(Math(fr'\\overrightarrow{{x}} = {x[0]}i + {x[1]}j'))\n",
    "    else:\n",
    "        display(Math(fr'\\overrightarrow{{x}} = {x[0]}'))\n",
    "    print(\"\\n\")\n",
    "    display(Math(r\"OR\"))\n",
    "    print(\"\\n\")\n",
    "    display(Math(sym.latex(x)))\n",
    "    print(\"\\n\")\n",
    "\n",
    "    display(Math(\n",
    "        r\"Coordinates \\space \\overrightarrow{x} \\space in \\space the \\space new \\space basis \\space B \\space are:\"))\n",
    "    print(\"\\n\")\n",
    "    display(Math(sym.latex(x_B)))\n",
    "    print(\"\\n\" + \"-\" * 80 + \"\\n\")\n",
    "\n"
   ],
   "outputs": [],
   "execution_count": 22
  },
  {
   "cell_type": "code",
   "id": "8abb9c53621f5862",
   "metadata": {
    "ExecuteTime": {
     "end_time": "2025-04-19T00:54:36.278190Z",
     "start_time": "2025-04-19T00:54:36.266087Z"
    }
   },
   "source": [
    "find_coordinates_in_new_basis(vec_list=[\n",
    "    sym.Matrix([2, 2, 3]),\n",
    "    sym.Matrix([-6, 0, 2]),\n",
    "    sym.Matrix([2, -2, -5])\n",
    "], x=sym.Matrix([-2, 0, 1]))"
   ],
   "outputs": [
    {
     "name": "stdout",
     "output_type": "stream",
     "text": [
      "\n",
      "--------------------------------------------------------------------------------\n",
      "\n",
      "\n",
      "\n"
     ]
    },
    {
     "data": {
      "text/plain": [
       "<IPython.core.display.Math object>"
      ],
      "text/latex": "$\\displaystyle Matrix \\space A \\space is:$"
     },
     "metadata": {},
     "output_type": "display_data"
    },
    {
     "name": "stdout",
     "output_type": "stream",
     "text": [
      "\n",
      "\n"
     ]
    },
    {
     "data": {
      "text/plain": [
       "<IPython.core.display.Math object>"
      ],
      "text/latex": "$\\displaystyle \\left[\\begin{matrix}2 & -6 & 2\\\\2 & 0 & -2\\\\3 & 2 & -5\\end{matrix}\\right]$"
     },
     "metadata": {},
     "output_type": "display_data"
    },
    {
     "name": "stdout",
     "output_type": "stream",
     "text": [
      "\n",
      "\n"
     ]
    },
    {
     "data": {
      "text/plain": [
       "<IPython.core.display.Math object>"
      ],
      "text/latex": "$\\displaystyle Vector \\space \\overrightarrow{x} \\space is:$"
     },
     "metadata": {},
     "output_type": "display_data"
    },
    {
     "name": "stdout",
     "output_type": "stream",
     "text": [
      "\n",
      "\n"
     ]
    },
    {
     "data": {
      "text/plain": [
       "<IPython.core.display.Math object>"
      ],
      "text/latex": "$\\displaystyle \\overrightarrow{x} = -2i + 0j + 1k$"
     },
     "metadata": {},
     "output_type": "display_data"
    },
    {
     "name": "stdout",
     "output_type": "stream",
     "text": [
      "\n",
      "\n"
     ]
    },
    {
     "data": {
      "text/plain": [
       "<IPython.core.display.Math object>"
      ],
      "text/latex": "$\\displaystyle OR$"
     },
     "metadata": {},
     "output_type": "display_data"
    },
    {
     "name": "stdout",
     "output_type": "stream",
     "text": [
      "\n",
      "\n"
     ]
    },
    {
     "data": {
      "text/plain": [
       "<IPython.core.display.Math object>"
      ],
      "text/latex": "$\\displaystyle \\left[\\begin{matrix}-2\\\\0\\\\1\\end{matrix}\\right]$"
     },
     "metadata": {},
     "output_type": "display_data"
    },
    {
     "name": "stdout",
     "output_type": "stream",
     "text": [
      "\n",
      "\n"
     ]
    },
    {
     "data": {
      "text/plain": [
       "<IPython.core.display.Math object>"
      ],
      "text/latex": "$\\displaystyle Coordinates \\space \\overrightarrow{x} \\space in \\space the \\space new \\space basis \\space B \\space are:$"
     },
     "metadata": {},
     "output_type": "display_data"
    },
    {
     "name": "stdout",
     "output_type": "stream",
     "text": [
      "\n",
      "\n"
     ]
    },
    {
     "data": {
      "text/plain": [
       "<IPython.core.display.Math object>"
      ],
      "text/latex": "$\\displaystyle \\left[\\begin{matrix}- \\frac{1}{2}\\\\0\\\\- \\frac{1}{2}\\end{matrix}\\right]$"
     },
     "metadata": {},
     "output_type": "display_data"
    },
    {
     "name": "stdout",
     "output_type": "stream",
     "text": [
      "\n",
      "--------------------------------------------------------------------------------\n",
      "\n"
     ]
    }
   ],
   "execution_count": 23
  },
  {
   "cell_type": "code",
   "id": "d2b3d50721072a2e",
   "metadata": {
    "ExecuteTime": {
     "end_time": "2025-04-19T00:54:36.315918Z",
     "start_time": "2025-04-19T00:54:36.303418Z"
    }
   },
   "source": [
    "find_coordinates_in_new_basis(vec_list=[\n",
    "    sym.Matrix([1, -4]),\n",
    "    sym.Matrix([-3, 2])\n",
    "],\n",
    "    x=sym.Matrix([-1, -6]))"
   ],
   "outputs": [
    {
     "name": "stdout",
     "output_type": "stream",
     "text": [
      "\n",
      "--------------------------------------------------------------------------------\n",
      "\n",
      "\n",
      "\n"
     ]
    },
    {
     "data": {
      "text/plain": [
       "<IPython.core.display.Math object>"
      ],
      "text/latex": "$\\displaystyle Matrix \\space A \\space is:$"
     },
     "metadata": {},
     "output_type": "display_data"
    },
    {
     "name": "stdout",
     "output_type": "stream",
     "text": [
      "\n",
      "\n"
     ]
    },
    {
     "data": {
      "text/plain": [
       "<IPython.core.display.Math object>"
      ],
      "text/latex": "$\\displaystyle \\left[\\begin{matrix}1 & -3\\\\-4 & 2\\end{matrix}\\right]$"
     },
     "metadata": {},
     "output_type": "display_data"
    },
    {
     "name": "stdout",
     "output_type": "stream",
     "text": [
      "\n",
      "\n"
     ]
    },
    {
     "data": {
      "text/plain": [
       "<IPython.core.display.Math object>"
      ],
      "text/latex": "$\\displaystyle Vector \\space \\overrightarrow{x} \\space is:$"
     },
     "metadata": {},
     "output_type": "display_data"
    },
    {
     "name": "stdout",
     "output_type": "stream",
     "text": [
      "\n",
      "\n"
     ]
    },
    {
     "data": {
      "text/plain": [
       "<IPython.core.display.Math object>"
      ],
      "text/latex": "$\\displaystyle \\overrightarrow{x} = -1i + -6j$"
     },
     "metadata": {},
     "output_type": "display_data"
    },
    {
     "name": "stdout",
     "output_type": "stream",
     "text": [
      "\n",
      "\n"
     ]
    },
    {
     "data": {
      "text/plain": [
       "<IPython.core.display.Math object>"
      ],
      "text/latex": "$\\displaystyle OR$"
     },
     "metadata": {},
     "output_type": "display_data"
    },
    {
     "name": "stdout",
     "output_type": "stream",
     "text": [
      "\n",
      "\n"
     ]
    },
    {
     "data": {
      "text/plain": [
       "<IPython.core.display.Math object>"
      ],
      "text/latex": "$\\displaystyle \\left[\\begin{matrix}-1\\\\-6\\end{matrix}\\right]$"
     },
     "metadata": {},
     "output_type": "display_data"
    },
    {
     "name": "stdout",
     "output_type": "stream",
     "text": [
      "\n",
      "\n"
     ]
    },
    {
     "data": {
      "text/plain": [
       "<IPython.core.display.Math object>"
      ],
      "text/latex": "$\\displaystyle Coordinates \\space \\overrightarrow{x} \\space in \\space the \\space new \\space basis \\space B \\space are:$"
     },
     "metadata": {},
     "output_type": "display_data"
    },
    {
     "name": "stdout",
     "output_type": "stream",
     "text": [
      "\n",
      "\n"
     ]
    },
    {
     "data": {
      "text/plain": [
       "<IPython.core.display.Math object>"
      ],
      "text/latex": "$\\displaystyle \\left[\\begin{matrix}2\\\\1\\end{matrix}\\right]$"
     },
     "metadata": {},
     "output_type": "display_data"
    },
    {
     "name": "stdout",
     "output_type": "stream",
     "text": [
      "\n",
      "--------------------------------------------------------------------------------\n",
      "\n"
     ]
    }
   ],
   "execution_count": 24
  },
  {
   "cell_type": "code",
   "id": "1772d703ddbc547d",
   "metadata": {
    "ExecuteTime": {
     "end_time": "2025-04-19T00:54:36.342024Z",
     "start_time": "2025-04-19T00:54:36.328817Z"
    }
   },
   "source": [
    "\n",
    "find_coordinates_in_new_basis(vec_list=[\n",
    "    sym.Matrix([1, -5]),\n",
    "    sym.Matrix([-2, 0]),\n",
    "\n",
    "],\n",
    "    x=sym.Matrix([3, -5]))"
   ],
   "outputs": [
    {
     "name": "stdout",
     "output_type": "stream",
     "text": [
      "\n",
      "--------------------------------------------------------------------------------\n",
      "\n",
      "\n",
      "\n"
     ]
    },
    {
     "data": {
      "text/plain": [
       "<IPython.core.display.Math object>"
      ],
      "text/latex": "$\\displaystyle Matrix \\space A \\space is:$"
     },
     "metadata": {},
     "output_type": "display_data"
    },
    {
     "name": "stdout",
     "output_type": "stream",
     "text": [
      "\n",
      "\n"
     ]
    },
    {
     "data": {
      "text/plain": [
       "<IPython.core.display.Math object>"
      ],
      "text/latex": "$\\displaystyle \\left[\\begin{matrix}1 & -2\\\\-5 & 0\\end{matrix}\\right]$"
     },
     "metadata": {},
     "output_type": "display_data"
    },
    {
     "name": "stdout",
     "output_type": "stream",
     "text": [
      "\n",
      "\n"
     ]
    },
    {
     "data": {
      "text/plain": [
       "<IPython.core.display.Math object>"
      ],
      "text/latex": "$\\displaystyle Vector \\space \\overrightarrow{x} \\space is:$"
     },
     "metadata": {},
     "output_type": "display_data"
    },
    {
     "name": "stdout",
     "output_type": "stream",
     "text": [
      "\n",
      "\n"
     ]
    },
    {
     "data": {
      "text/plain": [
       "<IPython.core.display.Math object>"
      ],
      "text/latex": "$\\displaystyle \\overrightarrow{x} = 3i + -5j$"
     },
     "metadata": {},
     "output_type": "display_data"
    },
    {
     "name": "stdout",
     "output_type": "stream",
     "text": [
      "\n",
      "\n"
     ]
    },
    {
     "data": {
      "text/plain": [
       "<IPython.core.display.Math object>"
      ],
      "text/latex": "$\\displaystyle OR$"
     },
     "metadata": {},
     "output_type": "display_data"
    },
    {
     "name": "stdout",
     "output_type": "stream",
     "text": [
      "\n",
      "\n"
     ]
    },
    {
     "data": {
      "text/plain": [
       "<IPython.core.display.Math object>"
      ],
      "text/latex": "$\\displaystyle \\left[\\begin{matrix}3\\\\-5\\end{matrix}\\right]$"
     },
     "metadata": {},
     "output_type": "display_data"
    },
    {
     "name": "stdout",
     "output_type": "stream",
     "text": [
      "\n",
      "\n"
     ]
    },
    {
     "data": {
      "text/plain": [
       "<IPython.core.display.Math object>"
      ],
      "text/latex": "$\\displaystyle Coordinates \\space \\overrightarrow{x} \\space in \\space the \\space new \\space basis \\space B \\space are:$"
     },
     "metadata": {},
     "output_type": "display_data"
    },
    {
     "name": "stdout",
     "output_type": "stream",
     "text": [
      "\n",
      "\n"
     ]
    },
    {
     "data": {
      "text/plain": [
       "<IPython.core.display.Math object>"
      ],
      "text/latex": "$\\displaystyle \\left[\\begin{matrix}1\\\\-1\\end{matrix}\\right]$"
     },
     "metadata": {},
     "output_type": "display_data"
    },
    {
     "name": "stdout",
     "output_type": "stream",
     "text": [
      "\n",
      "--------------------------------------------------------------------------------\n",
      "\n"
     ]
    }
   ],
   "execution_count": 25
  },
  {
   "cell_type": "markdown",
   "id": "312b7a2be854af0d",
   "metadata": {},
   "source": [
    "# Transformation Matrix for a Basis\n",
    "***"
   ]
  },
  {
   "cell_type": "code",
   "id": "7408ba26152210bc",
   "metadata": {
    "ExecuteTime": {
     "end_time": "2025-04-19T00:54:36.359666Z",
     "start_time": "2025-04-19T00:54:36.351548Z"
    }
   },
   "source": [
    "print(\"\\n\" + \"-\" * 80 + \"\\n\")\n",
    "display(Math(fr'T(\\overrightarrow{{x}}) \\space = \\space A \\overrightarrow{{x}}'))\n",
    "print(\"\\n\")\n",
    "display(Math(\n",
    "    fr'[ \\space T ( \\space \\overrightarrow{{x}}\\space ) \\space ] = \\space M [ \\space \\overrightarrow{{x}} \\space ]_B'))\n",
    "print(\"\\n\")\n",
    "display(Math(fr'C \\space [ \\space \\overrightarrow{{x}} \\space ]_B = \\overrightarrow{{x}}'))\n",
    "print(\"\\n\")\n",
    "display(Math(fr'M \\space = \\space C^{{-1}} A C'))\n",
    "print(\"\\n\" + \"-\" * 80 + \"\\n\")"
   ],
   "outputs": [
    {
     "name": "stdout",
     "output_type": "stream",
     "text": [
      "\n",
      "--------------------------------------------------------------------------------\n",
      "\n"
     ]
    },
    {
     "data": {
      "text/plain": [
       "<IPython.core.display.Math object>"
      ],
      "text/latex": "$\\displaystyle T(\\overrightarrow{x}) \\space = \\space A \\overrightarrow{x}$"
     },
     "metadata": {},
     "output_type": "display_data"
    },
    {
     "name": "stdout",
     "output_type": "stream",
     "text": [
      "\n",
      "\n"
     ]
    },
    {
     "data": {
      "text/plain": [
       "<IPython.core.display.Math object>"
      ],
      "text/latex": "$\\displaystyle [ \\space T ( \\space \\overrightarrow{x}\\space ) \\space ] = \\space M [ \\space \\overrightarrow{x} \\space ]_B$"
     },
     "metadata": {},
     "output_type": "display_data"
    },
    {
     "name": "stdout",
     "output_type": "stream",
     "text": [
      "\n",
      "\n"
     ]
    },
    {
     "data": {
      "text/plain": [
       "<IPython.core.display.Math object>"
      ],
      "text/latex": "$\\displaystyle C \\space [ \\space \\overrightarrow{x} \\space ]_B = \\overrightarrow{x}$"
     },
     "metadata": {},
     "output_type": "display_data"
    },
    {
     "name": "stdout",
     "output_type": "stream",
     "text": [
      "\n",
      "\n"
     ]
    },
    {
     "data": {
      "text/plain": [
       "<IPython.core.display.Math object>"
      ],
      "text/latex": "$\\displaystyle M \\space = \\space C^{-1} A C$"
     },
     "metadata": {},
     "output_type": "display_data"
    },
    {
     "name": "stdout",
     "output_type": "stream",
     "text": [
      "\n",
      "--------------------------------------------------------------------------------\n",
      "\n"
     ]
    }
   ],
   "execution_count": 26
  },
  {
   "metadata": {
    "ExecuteTime": {
     "end_time": "2025-04-19T00:54:36.373198Z",
     "start_time": "2025-04-19T00:54:36.368183Z"
    }
   },
   "cell_type": "code",
   "source": [
    "\n",
    "\n",
    "def transformation_matrix_for_basis(T_x: sym.Matrix, B_span: list[sym.Matrix], x_B: sym.Matrix) -> None:\n",
    "    def row_join_vectors(vec_list: list[sym.Matrix]) -> sym.Matrix:\n",
    "        c = sym.Matrix()\n",
    "\n",
    "        for m in range(len(vec_list)):\n",
    "            c = c.row_join(vec_list[m])\n",
    "\n",
    "        return c\n",
    "\n",
    "    print(\"\\n\" + \"-\" * 80 + \"\\n\")\n",
    "    print(\"\\n\")\n",
    "\n",
    "    display(Math(r\"Vectpr \\space x+B \\space is:\"))\n",
    "    print(\"\\n\")\n",
    "    display(Math(sym.latex(x_B)))\n",
    "    print(\"\\n\")\n",
    "\n",
    "    display(Math(r\"Matrix \\space T_x \\space is:\"))\n",
    "    print(\"\\n\")\n",
    "    display(Math(sym.latex(T_x)))\n",
    "    print(\"\\n\")\n",
    "\n",
    "    C = row_join_vectors(B_span)\n",
    "\n",
    "    display(Math(r\"Matrix \\space C \\space is:\"))\n",
    "    print(\"\\n\")\n",
    "    display(Math(sym.latex(C)))\n",
    "    print(\"\\n\")\n",
    "\n",
    "    C_inv = C.inv()\n",
    "\n",
    "    display(Math(r\"Matrix \\space C^{-1} \\space is:\"))\n",
    "    print(\"\\n\")\n",
    "    display(Math(sym.latex(C_inv)))\n",
    "    print(\"\\n\")\n",
    "\n",
    "    C_T_x = T_x * C\n",
    "\n",
    "    display(Math(r\"Matrix \\space C \\times T_x \\space is:\"))\n",
    "    print(\"\\n\")\n",
    "    display(Math(sym.latex(C_T_x)))\n",
    "    print(\"\\n\")\n",
    "\n",
    "    C_inv_C_T_x = C_inv * C_T_x\n",
    "\n",
    "    display(Math(r\"Matrix \\space C^{-1} \\times C \\times T_x \\space is:\"))\n",
    "    print(\"\\n\")\n",
    "    display(Math(sym.latex(C_inv_C_T_x)))\n",
    "    print(\"\\n\")\n",
    "\n",
    "    T_x_B = C_inv_C_T_x * x_B.transpose()\n",
    "\n",
    "    display(Math(\n",
    "        r\"Coordinates \\space \\overrightarrow{x} \\space in \\space the \\space new \\space basis \\space B \\space are:\"))\n",
    "    print(\"\\n\")\n",
    "    display(Math(sym.latex(T_x_B)))\n",
    "    print(\"\\n\")\n",
    "\n",
    "    print(\"\\n\" + \"-\" * 80 + \"\\n\")"
   ],
   "id": "cc73f4dcce41ae54",
   "outputs": [],
   "execution_count": 27
  },
  {
   "cell_type": "code",
   "id": "38fd3f8156d839e4",
   "metadata": {
    "ExecuteTime": {
     "end_time": "2025-04-19T00:54:36.398995Z",
     "start_time": "2025-04-19T00:54:36.381161Z"
    }
   },
   "source": [
    "transformation_matrix_for_basis(\n",
    "    T_x=sym.Matrix([\n",
    "        [-2, -2, 1],\n",
    "        [1, 0, -2],\n",
    "        [0, 1, 0]\n",
    "    ]),\n",
    "\n",
    "    B_span=[\n",
    "        sym.Matrix([1, -1, 1]),\n",
    "        sym.Matrix([0, 1, -1]),\n",
    "        sym.Matrix([2, 1, -2])\n",
    "    ],\n",
    "\n",
    "    x_B=sym.Matrix([\n",
    "        [5, 4, -2]\n",
    "    ]))"
   ],
   "outputs": [
    {
     "name": "stdout",
     "output_type": "stream",
     "text": [
      "\n",
      "--------------------------------------------------------------------------------\n",
      "\n",
      "\n",
      "\n"
     ]
    },
    {
     "data": {
      "text/plain": [
       "<IPython.core.display.Math object>"
      ],
      "text/latex": "$\\displaystyle Vectpr \\space x+B \\space is:$"
     },
     "metadata": {},
     "output_type": "display_data"
    },
    {
     "name": "stdout",
     "output_type": "stream",
     "text": [
      "\n",
      "\n"
     ]
    },
    {
     "data": {
      "text/plain": [
       "<IPython.core.display.Math object>"
      ],
      "text/latex": "$\\displaystyle \\left[\\begin{matrix}5 & 4 & -2\\end{matrix}\\right]$"
     },
     "metadata": {},
     "output_type": "display_data"
    },
    {
     "name": "stdout",
     "output_type": "stream",
     "text": [
      "\n",
      "\n"
     ]
    },
    {
     "data": {
      "text/plain": [
       "<IPython.core.display.Math object>"
      ],
      "text/latex": "$\\displaystyle Matrix \\space T_x \\space is:$"
     },
     "metadata": {},
     "output_type": "display_data"
    },
    {
     "name": "stdout",
     "output_type": "stream",
     "text": [
      "\n",
      "\n"
     ]
    },
    {
     "data": {
      "text/plain": [
       "<IPython.core.display.Math object>"
      ],
      "text/latex": "$\\displaystyle \\left[\\begin{matrix}-2 & -2 & 1\\\\1 & 0 & -2\\\\0 & 1 & 0\\end{matrix}\\right]$"
     },
     "metadata": {},
     "output_type": "display_data"
    },
    {
     "name": "stdout",
     "output_type": "stream",
     "text": [
      "\n",
      "\n"
     ]
    },
    {
     "data": {
      "text/plain": [
       "<IPython.core.display.Math object>"
      ],
      "text/latex": "$\\displaystyle Matrix \\space C \\space is:$"
     },
     "metadata": {},
     "output_type": "display_data"
    },
    {
     "name": "stdout",
     "output_type": "stream",
     "text": [
      "\n",
      "\n"
     ]
    },
    {
     "data": {
      "text/plain": [
       "<IPython.core.display.Math object>"
      ],
      "text/latex": "$\\displaystyle \\left[\\begin{matrix}1 & 0 & 2\\\\-1 & 1 & 1\\\\1 & -1 & -2\\end{matrix}\\right]$"
     },
     "metadata": {},
     "output_type": "display_data"
    },
    {
     "name": "stdout",
     "output_type": "stream",
     "text": [
      "\n",
      "\n"
     ]
    },
    {
     "data": {
      "text/plain": [
       "<IPython.core.display.Math object>"
      ],
      "text/latex": "$\\displaystyle Matrix \\space C^{-1} \\space is:$"
     },
     "metadata": {},
     "output_type": "display_data"
    },
    {
     "name": "stdout",
     "output_type": "stream",
     "text": [
      "\n",
      "\n"
     ]
    },
    {
     "data": {
      "text/plain": [
       "<IPython.core.display.Math object>"
      ],
      "text/latex": "$\\displaystyle \\left[\\begin{matrix}1 & 2 & 2\\\\1 & 4 & 3\\\\0 & -1 & -1\\end{matrix}\\right]$"
     },
     "metadata": {},
     "output_type": "display_data"
    },
    {
     "name": "stdout",
     "output_type": "stream",
     "text": [
      "\n",
      "\n"
     ]
    },
    {
     "data": {
      "text/plain": [
       "<IPython.core.display.Math object>"
      ],
      "text/latex": "$\\displaystyle Matrix \\space C \\times T_x \\space is:$"
     },
     "metadata": {},
     "output_type": "display_data"
    },
    {
     "name": "stdout",
     "output_type": "stream",
     "text": [
      "\n",
      "\n"
     ]
    },
    {
     "data": {
      "text/plain": [
       "<IPython.core.display.Math object>"
      ],
      "text/latex": "$\\displaystyle \\left[\\begin{matrix}1 & -3 & -8\\\\-1 & 2 & 6\\\\-1 & 1 & 1\\end{matrix}\\right]$"
     },
     "metadata": {},
     "output_type": "display_data"
    },
    {
     "name": "stdout",
     "output_type": "stream",
     "text": [
      "\n",
      "\n"
     ]
    },
    {
     "data": {
      "text/plain": [
       "<IPython.core.display.Math object>"
      ],
      "text/latex": "$\\displaystyle Matrix \\space C^{-1} \\times C \\times T_x \\space is:$"
     },
     "metadata": {},
     "output_type": "display_data"
    },
    {
     "name": "stdout",
     "output_type": "stream",
     "text": [
      "\n",
      "\n"
     ]
    },
    {
     "data": {
      "text/plain": [
       "<IPython.core.display.Math object>"
      ],
      "text/latex": "$\\displaystyle \\left[\\begin{matrix}-3 & 3 & 6\\\\-6 & 8 & 19\\\\2 & -3 & -7\\end{matrix}\\right]$"
     },
     "metadata": {},
     "output_type": "display_data"
    },
    {
     "name": "stdout",
     "output_type": "stream",
     "text": [
      "\n",
      "\n"
     ]
    },
    {
     "data": {
      "text/plain": [
       "<IPython.core.display.Math object>"
      ],
      "text/latex": "$\\displaystyle Coordinates \\space \\overrightarrow{x} \\space in \\space the \\space new \\space basis \\space B \\space are:$"
     },
     "metadata": {},
     "output_type": "display_data"
    },
    {
     "name": "stdout",
     "output_type": "stream",
     "text": [
      "\n",
      "\n"
     ]
    },
    {
     "data": {
      "text/plain": [
       "<IPython.core.display.Math object>"
      ],
      "text/latex": "$\\displaystyle \\left[\\begin{matrix}-15\\\\-36\\\\12\\end{matrix}\\right]$"
     },
     "metadata": {},
     "output_type": "display_data"
    },
    {
     "name": "stdout",
     "output_type": "stream",
     "text": [
      "\n",
      "\n",
      "\n",
      "--------------------------------------------------------------------------------\n",
      "\n"
     ]
    }
   ],
   "execution_count": 28
  },
  {
   "cell_type": "code",
   "id": "7c269b14c7877255",
   "metadata": {
    "ExecuteTime": {
     "end_time": "2025-04-19T00:54:36.441718Z",
     "start_time": "2025-04-19T00:54:36.420003Z"
    }
   },
   "source": [
    "# TODO: Does not work for other combinations of variables\n",
    "\n",
    "transformation_matrix_for_basis(\n",
    "    T_x=sym.Matrix([\n",
    "        [-2, -5],\n",
    "        [3, 1]\n",
    "    ]),\n",
    "\n",
    "    B_span=[\n",
    "        sym.Matrix([2, 1]),\n",
    "        sym.Matrix([-6, -2]),\n",
    "    ],\n",
    "\n",
    "    x_B=sym.Matrix([\n",
    "        [2, -2]\n",
    "    ]))"
   ],
   "outputs": [
    {
     "name": "stdout",
     "output_type": "stream",
     "text": [
      "\n",
      "--------------------------------------------------------------------------------\n",
      "\n",
      "\n",
      "\n"
     ]
    },
    {
     "data": {
      "text/plain": [
       "<IPython.core.display.Math object>"
      ],
      "text/latex": "$\\displaystyle Vectpr \\space x+B \\space is:$"
     },
     "metadata": {},
     "output_type": "display_data"
    },
    {
     "name": "stdout",
     "output_type": "stream",
     "text": [
      "\n",
      "\n"
     ]
    },
    {
     "data": {
      "text/plain": [
       "<IPython.core.display.Math object>"
      ],
      "text/latex": "$\\displaystyle \\left[\\begin{matrix}2 & -2\\end{matrix}\\right]$"
     },
     "metadata": {},
     "output_type": "display_data"
    },
    {
     "name": "stdout",
     "output_type": "stream",
     "text": [
      "\n",
      "\n"
     ]
    },
    {
     "data": {
      "text/plain": [
       "<IPython.core.display.Math object>"
      ],
      "text/latex": "$\\displaystyle Matrix \\space T_x \\space is:$"
     },
     "metadata": {},
     "output_type": "display_data"
    },
    {
     "name": "stdout",
     "output_type": "stream",
     "text": [
      "\n",
      "\n"
     ]
    },
    {
     "data": {
      "text/plain": [
       "<IPython.core.display.Math object>"
      ],
      "text/latex": "$\\displaystyle \\left[\\begin{matrix}-2 & -5\\\\3 & 1\\end{matrix}\\right]$"
     },
     "metadata": {},
     "output_type": "display_data"
    },
    {
     "name": "stdout",
     "output_type": "stream",
     "text": [
      "\n",
      "\n"
     ]
    },
    {
     "data": {
      "text/plain": [
       "<IPython.core.display.Math object>"
      ],
      "text/latex": "$\\displaystyle Matrix \\space C \\space is:$"
     },
     "metadata": {},
     "output_type": "display_data"
    },
    {
     "name": "stdout",
     "output_type": "stream",
     "text": [
      "\n",
      "\n"
     ]
    },
    {
     "data": {
      "text/plain": [
       "<IPython.core.display.Math object>"
      ],
      "text/latex": "$\\displaystyle \\left[\\begin{matrix}2 & -6\\\\1 & -2\\end{matrix}\\right]$"
     },
     "metadata": {},
     "output_type": "display_data"
    },
    {
     "name": "stdout",
     "output_type": "stream",
     "text": [
      "\n",
      "\n"
     ]
    },
    {
     "data": {
      "text/plain": [
       "<IPython.core.display.Math object>"
      ],
      "text/latex": "$\\displaystyle Matrix \\space C^{-1} \\space is:$"
     },
     "metadata": {},
     "output_type": "display_data"
    },
    {
     "name": "stdout",
     "output_type": "stream",
     "text": [
      "\n",
      "\n"
     ]
    },
    {
     "data": {
      "text/plain": [
       "<IPython.core.display.Math object>"
      ],
      "text/latex": "$\\displaystyle \\left[\\begin{matrix}-1 & 3\\\\- \\frac{1}{2} & 1\\end{matrix}\\right]$"
     },
     "metadata": {},
     "output_type": "display_data"
    },
    {
     "name": "stdout",
     "output_type": "stream",
     "text": [
      "\n",
      "\n"
     ]
    },
    {
     "data": {
      "text/plain": [
       "<IPython.core.display.Math object>"
      ],
      "text/latex": "$\\displaystyle Matrix \\space C \\times T_x \\space is:$"
     },
     "metadata": {},
     "output_type": "display_data"
    },
    {
     "name": "stdout",
     "output_type": "stream",
     "text": [
      "\n",
      "\n"
     ]
    },
    {
     "data": {
      "text/plain": [
       "<IPython.core.display.Math object>"
      ],
      "text/latex": "$\\displaystyle \\left[\\begin{matrix}-9 & 22\\\\7 & -20\\end{matrix}\\right]$"
     },
     "metadata": {},
     "output_type": "display_data"
    },
    {
     "name": "stdout",
     "output_type": "stream",
     "text": [
      "\n",
      "\n"
     ]
    },
    {
     "data": {
      "text/plain": [
       "<IPython.core.display.Math object>"
      ],
      "text/latex": "$\\displaystyle Matrix \\space C^{-1} \\times C \\times T_x \\space is:$"
     },
     "metadata": {},
     "output_type": "display_data"
    },
    {
     "name": "stdout",
     "output_type": "stream",
     "text": [
      "\n",
      "\n"
     ]
    },
    {
     "data": {
      "text/plain": [
       "<IPython.core.display.Math object>"
      ],
      "text/latex": "$\\displaystyle \\left[\\begin{matrix}30 & -82\\\\\\frac{23}{2} & -31\\end{matrix}\\right]$"
     },
     "metadata": {},
     "output_type": "display_data"
    },
    {
     "name": "stdout",
     "output_type": "stream",
     "text": [
      "\n",
      "\n"
     ]
    },
    {
     "data": {
      "text/plain": [
       "<IPython.core.display.Math object>"
      ],
      "text/latex": "$\\displaystyle Coordinates \\space \\overrightarrow{x} \\space in \\space the \\space new \\space basis \\space B \\space are:$"
     },
     "metadata": {},
     "output_type": "display_data"
    },
    {
     "name": "stdout",
     "output_type": "stream",
     "text": [
      "\n",
      "\n"
     ]
    },
    {
     "data": {
      "text/plain": [
       "<IPython.core.display.Math object>"
      ],
      "text/latex": "$\\displaystyle \\left[\\begin{matrix}224\\\\85\\end{matrix}\\right]$"
     },
     "metadata": {},
     "output_type": "display_data"
    },
    {
     "name": "stdout",
     "output_type": "stream",
     "text": [
      "\n",
      "\n",
      "\n",
      "--------------------------------------------------------------------------------\n",
      "\n"
     ]
    }
   ],
   "execution_count": 29
  },
  {
   "metadata": {
    "ExecuteTime": {
     "end_time": "2025-04-19T00:54:36.468903Z",
     "start_time": "2025-04-19T00:54:36.467592Z"
    }
   },
   "cell_type": "code",
   "source": "",
   "id": "f249203d829325d4",
   "outputs": [],
   "execution_count": null
  }
 ],
 "metadata": {
  "kernelspec": {
   "display_name": "Python 3 (ipykernel)",
   "language": "python",
   "name": "python3"
  },
  "language_info": {
   "codemirror_mode": {
    "name": "ipython",
    "version": 3
   },
   "file_extension": ".py",
   "mimetype": "text/x-python",
   "name": "python",
   "nbconvert_exporter": "python",
   "pygments_lexer": "ipython3",
   "version": "3.11.0"
  }
 },
 "nbformat": 4,
 "nbformat_minor": 5
}
