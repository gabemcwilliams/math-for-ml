{
 "cells": [
  {
   "metadata": {
    "ExecuteTime": {
     "end_time": "2025-04-19T00:54:22.449143Z",
     "start_time": "2025-04-19T00:54:19.967395Z"
    }
   },
   "cell_type": "code",
   "source": [
    "import numpy as np\n",
    "import scipy as sp\n",
    "import sympy as sym\n",
    "import matplotlib.pyplot as plt\n",
    "import pandas as pd\n",
    "import re"
   ],
   "id": "94cbfab1cfc7bf6e",
   "outputs": [],
   "execution_count": 1
  },
  {
   "metadata": {},
   "cell_type": "markdown",
   "source": "# Example 1",
   "id": "2b0ef7815a10136e"
  },
  {
   "metadata": {},
   "cell_type": "markdown",
   "source": "## Equations",
   "id": "6b14c9e6c5176dd0"
  },
  {
   "metadata": {
    "ExecuteTime": {
     "end_time": "2025-04-19T00:54:22.748632Z",
     "start_time": "2025-04-19T00:54:22.745836Z"
    }
   },
   "cell_type": "code",
   "source": [
    "a = np.array([\n",
    "    [3, 9, -3],\n",
    "    [1, -3, 11],\n",
    "    [-2, 5, -20]\n",
    "])\n",
    "\n",
    "b = np.array([\n",
    "    [24],\n",
    "    [-2],\n",
    "    [-5]\n",
    "])"
   ],
   "id": "fc27c3e3452e961c",
   "outputs": [],
   "execution_count": 2
  },
  {
   "metadata": {
    "ExecuteTime": {
     "end_time": "2025-04-19T00:54:22.764240Z",
     "start_time": "2025-04-19T00:54:22.761192Z"
    }
   },
   "cell_type": "code",
   "source": "c = np.c_[a, b]",
   "id": "788a99406e9d0f54",
   "outputs": [],
   "execution_count": 3
  },
  {
   "metadata": {
    "ExecuteTime": {
     "end_time": "2025-04-19T00:54:22.775351Z",
     "start_time": "2025-04-19T00:54:22.771111Z"
    }
   },
   "cell_type": "code",
   "source": "c",
   "id": "ed681947e11f2735",
   "outputs": [
    {
     "data": {
      "text/plain": [
       "array([[  3,   9,  -3,  24],\n",
       "       [  1,  -3,  11,  -2],\n",
       "       [ -2,   5, -20,  -5]])"
      ]
     },
     "execution_count": 4,
     "metadata": {},
     "output_type": "execute_result"
    }
   ],
   "execution_count": 4
  },
  {
   "metadata": {
    "ExecuteTime": {
     "end_time": "2025-04-19T00:54:22.838717Z",
     "start_time": "2025-04-19T00:54:22.835011Z"
    }
   },
   "cell_type": "code",
   "source": "np.sort(c, axis=0)",
   "id": "b866ce411ff53d2a",
   "outputs": [
    {
     "data": {
      "text/plain": [
       "array([[ -2,  -3, -20,  -5],\n",
       "       [  1,   5,  -3,  -2],\n",
       "       [  3,   9,  11,  24]])"
      ]
     },
     "execution_count": 5,
     "metadata": {},
     "output_type": "execute_result"
    }
   ],
   "execution_count": 5
  },
  {
   "metadata": {
    "ExecuteTime": {
     "end_time": "2025-04-19T00:54:22.982993Z",
     "start_time": "2025-04-19T00:54:22.980592Z"
    }
   },
   "cell_type": "code",
   "source": [
    "# number of dimensions\n",
    "np.ndim(c)"
   ],
   "id": "610e98c57821d2e7",
   "outputs": [
    {
     "data": {
      "text/plain": [
       "2"
      ]
     },
     "execution_count": 6,
     "metadata": {},
     "output_type": "execute_result"
    }
   ],
   "execution_count": 6
  },
  {
   "metadata": {
    "ExecuteTime": {
     "end_time": "2025-04-19T00:54:23.188982Z",
     "start_time": "2025-04-19T00:54:23.184777Z"
    }
   },
   "cell_type": "code",
   "source": [
    "# total number of elements\n",
    "np.size(c)"
   ],
   "id": "8bf83fd6cc557d00",
   "outputs": [
    {
     "data": {
      "text/plain": [
       "12"
      ]
     },
     "execution_count": 7,
     "metadata": {},
     "output_type": "execute_result"
    }
   ],
   "execution_count": 7
  },
  {
   "metadata": {
    "ExecuteTime": {
     "end_time": "2025-04-19T00:54:23.287460Z",
     "start_time": "2025-04-19T00:54:23.283675Z"
    }
   },
   "cell_type": "code",
   "source": [
    "# shape of array\n",
    "np.shape(c)"
   ],
   "id": "431a22c9b7a54a0d",
   "outputs": [
    {
     "data": {
      "text/plain": [
       "(3, 4)"
      ]
     },
     "execution_count": 8,
     "metadata": {},
     "output_type": "execute_result"
    }
   ],
   "execution_count": 8
  },
  {
   "metadata": {
    "ExecuteTime": {
     "end_time": "2025-04-19T00:54:23.328344Z",
     "start_time": "2025-04-19T00:54:23.324102Z"
    }
   },
   "cell_type": "code",
   "source": "c",
   "id": "4f060063107533c5",
   "outputs": [
    {
     "data": {
      "text/plain": [
       "array([[  3,   9,  -3,  24],\n",
       "       [  1,  -3,  11,  -2],\n",
       "       [ -2,   5, -20,  -5]])"
      ]
     },
     "execution_count": 9,
     "metadata": {},
     "output_type": "execute_result"
    }
   ],
   "execution_count": 9
  },
  {
   "metadata": {
    "ExecuteTime": {
     "end_time": "2025-04-19T00:54:23.405750Z",
     "start_time": "2025-04-19T00:54:23.402699Z"
    }
   },
   "cell_type": "code",
   "source": "d = c.astype('float').copy()",
   "id": "830498983233f679",
   "outputs": [],
   "execution_count": 10
  },
  {
   "metadata": {},
   "cell_type": "markdown",
   "source": "## Put the system in reduced row echelon form",
   "id": "823d5014c92995f8"
  },
  {
   "metadata": {
    "ExecuteTime": {
     "end_time": "2025-04-19T00:54:23.492642Z",
     "start_time": "2025-04-19T00:54:23.489117Z"
    }
   },
   "cell_type": "code",
   "source": "d",
   "id": "753d5272c926dec7",
   "outputs": [
    {
     "data": {
      "text/plain": [
       "array([[  3.,   9.,  -3.,  24.],\n",
       "       [  1.,  -3.,  11.,  -2.],\n",
       "       [ -2.,   5., -20.,  -5.]])"
      ]
     },
     "execution_count": 11,
     "metadata": {},
     "output_type": "execute_result"
    }
   ],
   "execution_count": 11
  },
  {
   "metadata": {},
   "cell_type": "markdown",
   "source": "### Find the pivot entry in the first row.",
   "id": "e69f99bfa6f28272"
  },
  {
   "metadata": {
    "ExecuteTime": {
     "end_time": "2025-04-19T00:54:23.626666Z",
     "start_time": "2025-04-19T00:54:23.624115Z"
    }
   },
   "cell_type": "code",
   "source": [
    "# step 1\n",
    "d[0][:] = ((1 / 3) * d[0])"
   ],
   "id": "7904cfcdd8055403",
   "outputs": [],
   "execution_count": 12
  },
  {
   "metadata": {
    "ExecuteTime": {
     "end_time": "2025-04-19T00:54:23.677422Z",
     "start_time": "2025-04-19T00:54:23.673640Z"
    }
   },
   "cell_type": "code",
   "source": "d",
   "id": "50236cd4d7022894",
   "outputs": [
    {
     "data": {
      "text/plain": [
       "array([[  1.,   3.,  -1.,   8.],\n",
       "       [  1.,  -3.,  11.,  -2.],\n",
       "       [ -2.,   5., -20.,  -5.]])"
      ]
     },
     "execution_count": 13,
     "metadata": {},
     "output_type": "execute_result"
    }
   ],
   "execution_count": 13
  },
  {
   "metadata": {},
   "cell_type": "markdown",
   "source": "### Zero out the rest of the first column",
   "id": "6e9772288d9a0198"
  },
  {
   "metadata": {
    "ExecuteTime": {
     "end_time": "2025-04-19T00:54:23.711427Z",
     "start_time": "2025-04-19T00:54:23.708234Z"
    }
   },
   "cell_type": "code",
   "source": [
    "# step 2\n",
    "d[1][:] = (-1 * d[0][:]) + d[1][:]"
   ],
   "id": "262a0bdc021426af",
   "outputs": [],
   "execution_count": 14
  },
  {
   "metadata": {
    "ExecuteTime": {
     "end_time": "2025-04-19T00:54:23.755650Z",
     "start_time": "2025-04-19T00:54:23.752657Z"
    }
   },
   "cell_type": "code",
   "source": "d",
   "id": "202e787cae2e95cc",
   "outputs": [
    {
     "data": {
      "text/plain": [
       "array([[  1.,   3.,  -1.,   8.],\n",
       "       [  0.,  -6.,  12., -10.],\n",
       "       [ -2.,   5., -20.,  -5.]])"
      ]
     },
     "execution_count": 15,
     "metadata": {},
     "output_type": "execute_result"
    }
   ],
   "execution_count": 15
  },
  {
   "metadata": {
    "ExecuteTime": {
     "end_time": "2025-04-19T00:54:23.824389Z",
     "start_time": "2025-04-19T00:54:23.821286Z"
    }
   },
   "cell_type": "code",
   "source": [
    "# step 3\n",
    "d[2][:] = (2 * d[0][:]) + d[2][:]"
   ],
   "id": "b83d59c599a0d9bd",
   "outputs": [],
   "execution_count": 16
  },
  {
   "metadata": {
    "ExecuteTime": {
     "end_time": "2025-04-19T00:54:23.875517Z",
     "start_time": "2025-04-19T00:54:23.872258Z"
    }
   },
   "cell_type": "code",
   "source": "d",
   "id": "7e2d37bdf9aa2813",
   "outputs": [
    {
     "data": {
      "text/plain": [
       "array([[  1.,   3.,  -1.,   8.],\n",
       "       [  0.,  -6.,  12., -10.],\n",
       "       [  0.,  11., -22.,  11.]])"
      ]
     },
     "execution_count": 17,
     "metadata": {},
     "output_type": "execute_result"
    }
   ],
   "execution_count": 17
  },
  {
   "metadata": {},
   "cell_type": "markdown",
   "source": "### Find the pivot entry in the second row",
   "id": "7076740b90606b2a"
  },
  {
   "metadata": {
    "ExecuteTime": {
     "end_time": "2025-04-19T00:54:23.916630Z",
     "start_time": "2025-04-19T00:54:23.913343Z"
    }
   },
   "cell_type": "code",
   "source": [
    "# step 4\n",
    "d[1][:] = (-1 / 6) * d[1][:]"
   ],
   "id": "6bf7b974f50ca639",
   "outputs": [],
   "execution_count": 18
  },
  {
   "metadata": {
    "ExecuteTime": {
     "end_time": "2025-04-19T00:54:23.970519Z",
     "start_time": "2025-04-19T00:54:23.967531Z"
    }
   },
   "cell_type": "code",
   "source": "d",
   "id": "125e1e5dec92417f",
   "outputs": [
    {
     "data": {
      "text/plain": [
       "array([[  1.        ,   3.        ,  -1.        ,   8.        ],\n",
       "       [ -0.        ,   1.        ,  -2.        ,   1.66666667],\n",
       "       [  0.        ,  11.        , -22.        ,  11.        ]])"
      ]
     },
     "execution_count": 19,
     "metadata": {},
     "output_type": "execute_result"
    }
   ],
   "execution_count": 19
  },
  {
   "metadata": {},
   "cell_type": "markdown",
   "source": "### Zero out the rest of the second column",
   "id": "93eae35a10c8bde3"
  },
  {
   "metadata": {
    "ExecuteTime": {
     "end_time": "2025-04-19T00:54:24.004608Z",
     "start_time": "2025-04-19T00:54:24.002286Z"
    }
   },
   "cell_type": "code",
   "source": [
    "# step 5\n",
    "d[0][:] = (-3 * d[1][:]) + d[0][:]"
   ],
   "id": "2bc31d80dcd0257e",
   "outputs": [],
   "execution_count": 20
  },
  {
   "metadata": {
    "ExecuteTime": {
     "end_time": "2025-04-19T00:54:24.104189Z",
     "start_time": "2025-04-19T00:54:24.100411Z"
    }
   },
   "cell_type": "code",
   "source": "d",
   "id": "4756b1c3cce757bf",
   "outputs": [
    {
     "data": {
      "text/plain": [
       "array([[  1.        ,   0.        ,   5.        ,   3.        ],\n",
       "       [ -0.        ,   1.        ,  -2.        ,   1.66666667],\n",
       "       [  0.        ,  11.        , -22.        ,  11.        ]])"
      ]
     },
     "execution_count": 21,
     "metadata": {},
     "output_type": "execute_result"
    }
   ],
   "execution_count": 21
  },
  {
   "metadata": {
    "ExecuteTime": {
     "end_time": "2025-04-19T00:54:24.140478Z",
     "start_time": "2025-04-19T00:54:24.137968Z"
    }
   },
   "cell_type": "code",
   "source": [
    "# step 6\n",
    "d[2][:] = (-11 * d[1][:]) + d[2][:]"
   ],
   "id": "1b1bdae8e3a06307",
   "outputs": [],
   "execution_count": 22
  },
  {
   "metadata": {
    "ExecuteTime": {
     "end_time": "2025-04-19T00:54:24.305343Z",
     "start_time": "2025-04-19T00:54:24.301313Z"
    }
   },
   "cell_type": "code",
   "source": "d",
   "id": "5b428e417ad80096",
   "outputs": [
    {
     "data": {
      "text/plain": [
       "array([[ 1.        ,  0.        ,  5.        ,  3.        ],\n",
       "       [-0.        ,  1.        , -2.        ,  1.66666667],\n",
       "       [ 0.        ,  0.        ,  0.        , -7.33333333]])"
      ]
     },
     "execution_count": 23,
     "metadata": {},
     "output_type": "execute_result"
    }
   ],
   "execution_count": 23
  },
  {
   "metadata": {},
   "cell_type": "markdown",
   "source": "# Example 2",
   "id": "50004c4806ae6b72"
  },
  {
   "metadata": {},
   "cell_type": "markdown",
   "source": "## Equations",
   "id": "6be0bac3e08cc35"
  },
  {
   "metadata": {},
   "cell_type": "markdown",
   "source": [
    "Question: Determine whether the system has one solution, no solutions, or\n",
    "infinitely many solutions.\n",
    "\n",
    "w + 2x − 3y + 7z = 4\n",
    "\n",
    "3w − x − 2y = 12\n",
    "\n",
    "−2w + 5x + 2z = 5\n",
    "\n",
    "2w + 3x − 5y + 11z = 8"
   ],
   "id": "3067e4168b5e1093"
  },
  {
   "metadata": {
    "ExecuteTime": {
     "end_time": "2025-04-19T00:54:24.368867Z",
     "start_time": "2025-04-19T00:54:24.366503Z"
    }
   },
   "cell_type": "code",
   "source": [
    "a = [\n",
    "    [1, 2, -3, 7],\n",
    "    [3, -1, -2, 0],\n",
    "    [-2, 5, 0, 2],\n",
    "    [2, 3, -5, 11]\n",
    "]\n",
    "\n",
    "b = [\n",
    "    [4],\n",
    "    [12],\n",
    "    [5],\n",
    "    [8]\n",
    "]"
   ],
   "id": "7020ad4c9c56555d",
   "outputs": [],
   "execution_count": 24
  },
  {
   "metadata": {
    "ExecuteTime": {
     "end_time": "2025-04-19T00:54:24.418468Z",
     "start_time": "2025-04-19T00:54:24.415496Z"
    }
   },
   "cell_type": "code",
   "source": [
    "c = np.c_[a, b]\n",
    "d = c.astype('float').copy()"
   ],
   "id": "eacbcdf260146080",
   "outputs": [],
   "execution_count": 25
  },
  {
   "metadata": {},
   "cell_type": "markdown",
   "source": "## Put the system in reduced row echelon form",
   "id": "24c173aee01d1b0"
  },
  {
   "metadata": {},
   "cell_type": "markdown",
   "source": "### Column [0]",
   "id": "6c0a57a3cbdd50ee"
  },
  {
   "metadata": {
    "ExecuteTime": {
     "end_time": "2025-04-19T00:54:24.439186Z",
     "start_time": "2025-04-19T00:54:24.435692Z"
    }
   },
   "cell_type": "code",
   "source": "d",
   "id": "5a8fb5c8f7708fac",
   "outputs": [
    {
     "data": {
      "text/plain": [
       "array([[ 1.,  2., -3.,  7.,  4.],\n",
       "       [ 3., -1., -2.,  0., 12.],\n",
       "       [-2.,  5.,  0.,  2.,  5.],\n",
       "       [ 2.,  3., -5., 11.,  8.]])"
      ]
     },
     "execution_count": 26,
     "metadata": {},
     "output_type": "execute_result"
    }
   ],
   "execution_count": 26
  },
  {
   "metadata": {
    "ExecuteTime": {
     "end_time": "2025-04-19T00:54:24.478333Z",
     "start_time": "2025-04-19T00:54:24.475463Z"
    }
   },
   "cell_type": "code",
   "source": [
    "# step 1\n",
    "d[2][:] = d[2][:] + d[3][:]\n",
    "d"
   ],
   "id": "e0891ce4f779c5d0",
   "outputs": [
    {
     "data": {
      "text/plain": [
       "array([[ 1.,  2., -3.,  7.,  4.],\n",
       "       [ 3., -1., -2.,  0., 12.],\n",
       "       [ 0.,  8., -5., 13., 13.],\n",
       "       [ 2.,  3., -5., 11.,  8.]])"
      ]
     },
     "execution_count": 27,
     "metadata": {},
     "output_type": "execute_result"
    }
   ],
   "execution_count": 27
  },
  {
   "metadata": {
    "ExecuteTime": {
     "end_time": "2025-04-19T00:54:24.541689Z",
     "start_time": "2025-04-19T00:54:24.538137Z"
    }
   },
   "cell_type": "code",
   "source": [
    "# step 2\n",
    "d[1][:] = d[1][:] - d[0][:]\n",
    "d"
   ],
   "id": "28ca946247746a67",
   "outputs": [
    {
     "data": {
      "text/plain": [
       "array([[ 1.,  2., -3.,  7.,  4.],\n",
       "       [ 2., -3.,  1., -7.,  8.],\n",
       "       [ 0.,  8., -5., 13., 13.],\n",
       "       [ 2.,  3., -5., 11.,  8.]])"
      ]
     },
     "execution_count": 28,
     "metadata": {},
     "output_type": "execute_result"
    }
   ],
   "execution_count": 28
  },
  {
   "metadata": {
    "ExecuteTime": {
     "end_time": "2025-04-19T00:54:24.650184Z",
     "start_time": "2025-04-19T00:54:24.646601Z"
    }
   },
   "cell_type": "code",
   "source": [
    "# step 3\n",
    "d[[1, 2], :] = d[[2, 1], :]\n",
    "d"
   ],
   "id": "a0e8b197d1b3aec7",
   "outputs": [
    {
     "data": {
      "text/plain": [
       "array([[ 1.,  2., -3.,  7.,  4.],\n",
       "       [ 0.,  8., -5., 13., 13.],\n",
       "       [ 2., -3.,  1., -7.,  8.],\n",
       "       [ 2.,  3., -5., 11.,  8.]])"
      ]
     },
     "execution_count": 29,
     "metadata": {},
     "output_type": "execute_result"
    }
   ],
   "execution_count": 29
  },
  {
   "metadata": {
    "ExecuteTime": {
     "end_time": "2025-04-19T00:54:24.796971Z",
     "start_time": "2025-04-19T00:54:24.793606Z"
    }
   },
   "cell_type": "code",
   "source": [
    "# step 4\n",
    "d[2][:] = d[2][:] - d[3][:]\n",
    "d"
   ],
   "id": "4f3e3485251d9215",
   "outputs": [
    {
     "data": {
      "text/plain": [
       "array([[  1.,   2.,  -3.,   7.,   4.],\n",
       "       [  0.,   8.,  -5.,  13.,  13.],\n",
       "       [  0.,  -6.,   6., -18.,   0.],\n",
       "       [  2.,   3.,  -5.,  11.,   8.]])"
      ]
     },
     "execution_count": 30,
     "metadata": {},
     "output_type": "execute_result"
    }
   ],
   "execution_count": 30
  },
  {
   "metadata": {
    "ExecuteTime": {
     "end_time": "2025-04-19T00:54:24.913624Z",
     "start_time": "2025-04-19T00:54:24.910726Z"
    }
   },
   "cell_type": "code",
   "source": [
    "# step 5\n",
    "d[3][:] = (2 * d[0][:]) - d[3][:]\n",
    "d"
   ],
   "id": "7c4174b24378d49e",
   "outputs": [
    {
     "data": {
      "text/plain": [
       "array([[  1.,   2.,  -3.,   7.,   4.],\n",
       "       [  0.,   8.,  -5.,  13.,  13.],\n",
       "       [  0.,  -6.,   6., -18.,   0.],\n",
       "       [  0.,   1.,  -1.,   3.,   0.]])"
      ]
     },
     "execution_count": 31,
     "metadata": {},
     "output_type": "execute_result"
    }
   ],
   "execution_count": 31
  },
  {
   "metadata": {
    "ExecuteTime": {
     "end_time": "2025-04-19T00:54:25.000494Z",
     "start_time": "2025-04-19T00:54:24.997559Z"
    }
   },
   "cell_type": "code",
   "source": "d",
   "id": "1327a43509aa379e",
   "outputs": [
    {
     "data": {
      "text/plain": [
       "array([[  1.,   2.,  -3.,   7.,   4.],\n",
       "       [  0.,   8.,  -5.,  13.,  13.],\n",
       "       [  0.,  -6.,   6., -18.,   0.],\n",
       "       [  0.,   1.,  -1.,   3.,   0.]])"
      ]
     },
     "execution_count": 32,
     "metadata": {},
     "output_type": "execute_result"
    }
   ],
   "execution_count": 32
  },
  {
   "metadata": {},
   "cell_type": "markdown",
   "source": "### Column [1]",
   "id": "9853d3f51b33db5b"
  },
  {
   "metadata": {
    "ExecuteTime": {
     "end_time": "2025-04-19T00:54:25.059392Z",
     "start_time": "2025-04-19T00:54:25.057569Z"
    }
   },
   "cell_type": "code",
   "source": [
    "# step 6\n",
    "d[[1, 3], :] = d[[3, 1], :]"
   ],
   "id": "44c96a5540c8beda",
   "outputs": [],
   "execution_count": 33
  },
  {
   "metadata": {
    "ExecuteTime": {
     "end_time": "2025-04-19T00:54:25.099054Z",
     "start_time": "2025-04-19T00:54:25.095352Z"
    }
   },
   "cell_type": "code",
   "source": "d",
   "id": "dac9aecc12f32708",
   "outputs": [
    {
     "data": {
      "text/plain": [
       "array([[  1.,   2.,  -3.,   7.,   4.],\n",
       "       [  0.,   1.,  -1.,   3.,   0.],\n",
       "       [  0.,  -6.,   6., -18.,   0.],\n",
       "       [  0.,   8.,  -5.,  13.,  13.]])"
      ]
     },
     "execution_count": 34,
     "metadata": {},
     "output_type": "execute_result"
    }
   ],
   "execution_count": 34
  },
  {
   "metadata": {
    "ExecuteTime": {
     "end_time": "2025-04-19T00:54:25.192621Z",
     "start_time": "2025-04-19T00:54:25.190696Z"
    }
   },
   "cell_type": "code",
   "source": [
    "# step 7\n",
    "d[0][:] = d[0][:] - (2 * d[1][:])"
   ],
   "id": "a59cc2a5f8b71ef",
   "outputs": [],
   "execution_count": 35
  },
  {
   "metadata": {
    "ExecuteTime": {
     "end_time": "2025-04-19T00:54:25.232137Z",
     "start_time": "2025-04-19T00:54:25.228592Z"
    }
   },
   "cell_type": "code",
   "source": "d",
   "id": "2bbec84c7df41532",
   "outputs": [
    {
     "data": {
      "text/plain": [
       "array([[  1.,   0.,  -1.,   1.,   4.],\n",
       "       [  0.,   1.,  -1.,   3.,   0.],\n",
       "       [  0.,  -6.,   6., -18.,   0.],\n",
       "       [  0.,   8.,  -5.,  13.,  13.]])"
      ]
     },
     "execution_count": 36,
     "metadata": {},
     "output_type": "execute_result"
    }
   ],
   "execution_count": 36
  },
  {
   "metadata": {
    "ExecuteTime": {
     "end_time": "2025-04-19T00:54:25.271613Z",
     "start_time": "2025-04-19T00:54:25.269070Z"
    }
   },
   "cell_type": "code",
   "source": [
    "# step 8\n",
    "d[3][:] = d[3][:] + d[2][:]"
   ],
   "id": "d0d7cb6e271d4449",
   "outputs": [],
   "execution_count": 37
  },
  {
   "metadata": {
    "ExecuteTime": {
     "end_time": "2025-04-19T00:54:25.308081Z",
     "start_time": "2025-04-19T00:54:25.305089Z"
    }
   },
   "cell_type": "code",
   "source": "d",
   "id": "241262e94afa8535",
   "outputs": [
    {
     "data": {
      "text/plain": [
       "array([[  1.,   0.,  -1.,   1.,   4.],\n",
       "       [  0.,   1.,  -1.,   3.,   0.],\n",
       "       [  0.,  -6.,   6., -18.,   0.],\n",
       "       [  0.,   2.,   1.,  -5.,  13.]])"
      ]
     },
     "execution_count": 38,
     "metadata": {},
     "output_type": "execute_result"
    }
   ],
   "execution_count": 38
  },
  {
   "metadata": {
    "ExecuteTime": {
     "end_time": "2025-04-19T00:54:25.347375Z",
     "start_time": "2025-04-19T00:54:25.343613Z"
    }
   },
   "cell_type": "code",
   "source": [
    "# step 9\n",
    "d[2][:] = d[2][:] + (3 * d[3][:])\n",
    "d"
   ],
   "id": "681f0cb07084c03b",
   "outputs": [
    {
     "data": {
      "text/plain": [
       "array([[  1.,   0.,  -1.,   1.,   4.],\n",
       "       [  0.,   1.,  -1.,   3.,   0.],\n",
       "       [  0.,   0.,   9., -33.,  39.],\n",
       "       [  0.,   2.,   1.,  -5.,  13.]])"
      ]
     },
     "execution_count": 39,
     "metadata": {},
     "output_type": "execute_result"
    }
   ],
   "execution_count": 39
  },
  {
   "metadata": {
    "ExecuteTime": {
     "end_time": "2025-04-19T00:54:25.409023Z",
     "start_time": "2025-04-19T00:54:25.405710Z"
    }
   },
   "cell_type": "code",
   "source": [
    "# step 10\n",
    "d[3][:] = d[3][:] - (2 * d[1][:])\n",
    "d"
   ],
   "id": "6ab2fe5d84e2b764",
   "outputs": [
    {
     "data": {
      "text/plain": [
       "array([[  1.,   0.,  -1.,   1.,   4.],\n",
       "       [  0.,   1.,  -1.,   3.,   0.],\n",
       "       [  0.,   0.,   9., -33.,  39.],\n",
       "       [  0.,   0.,   3., -11.,  13.]])"
      ]
     },
     "execution_count": 40,
     "metadata": {},
     "output_type": "execute_result"
    }
   ],
   "execution_count": 40
  },
  {
   "metadata": {},
   "cell_type": "markdown",
   "source": "### Column [2]",
   "id": "acb4b3423474708a"
  },
  {
   "metadata": {
    "ExecuteTime": {
     "end_time": "2025-04-19T00:54:25.469963Z",
     "start_time": "2025-04-19T00:54:25.466831Z"
    }
   },
   "cell_type": "code",
   "source": [
    "# step 11\n",
    "d[3][:] = d[2][:] - (3 * d[3][:])"
   ],
   "id": "bb95bff0f24de917",
   "outputs": [],
   "execution_count": 41
  },
  {
   "metadata": {
    "ExecuteTime": {
     "end_time": "2025-04-19T00:54:25.571416Z",
     "start_time": "2025-04-19T00:54:25.567756Z"
    }
   },
   "cell_type": "code",
   "source": "d",
   "id": "e166cc2c4f9fed58",
   "outputs": [
    {
     "data": {
      "text/plain": [
       "array([[  1.,   0.,  -1.,   1.,   4.],\n",
       "       [  0.,   1.,  -1.,   3.,   0.],\n",
       "       [  0.,   0.,   9., -33.,  39.],\n",
       "       [  0.,   0.,   0.,   0.,   0.]])"
      ]
     },
     "execution_count": 42,
     "metadata": {},
     "output_type": "execute_result"
    }
   ],
   "execution_count": 42
  },
  {
   "metadata": {
    "ExecuteTime": {
     "end_time": "2025-04-19T00:54:25.607627Z",
     "start_time": "2025-04-19T00:54:25.604475Z"
    }
   },
   "cell_type": "code",
   "source": "d[2][:] / 9",
   "id": "a342aae5cae08dea",
   "outputs": [
    {
     "data": {
      "text/plain": [
       "array([ 0.        ,  0.        ,  1.        , -3.66666667,  4.33333333])"
      ]
     },
     "execution_count": 43,
     "metadata": {},
     "output_type": "execute_result"
    }
   ],
   "execution_count": 43
  },
  {
   "metadata": {
    "ExecuteTime": {
     "end_time": "2025-04-19T00:54:25.641384Z",
     "start_time": "2025-04-19T00:54:25.639380Z"
    }
   },
   "cell_type": "code",
   "source": "",
   "id": "a05c6a527c251d9f",
   "outputs": [],
   "execution_count": null
  }
 ],
 "metadata": {
  "kernelspec": {
   "display_name": "Python 3",
   "language": "python",
   "name": "python3"
  },
  "language_info": {
   "codemirror_mode": {
    "name": "ipython",
    "version": 2
   },
   "file_extension": ".py",
   "mimetype": "text/x-python",
   "name": "python",
   "nbconvert_exporter": "python",
   "pygments_lexer": "ipython2",
   "version": "2.7.6"
  }
 },
 "nbformat": 4,
 "nbformat_minor": 5
}
