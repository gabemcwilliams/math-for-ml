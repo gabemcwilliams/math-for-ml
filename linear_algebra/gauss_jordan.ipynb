{
 "cells": [
  {
   "metadata": {},
   "cell_type": "code",
   "source": [
    "import numpy as np\n",
    "import scipy as sp\n",
    "import sympy as sym\n",
    "import matplotlib.pyplot as plt\n",
    "import pandas as pd\n",
    "import re"
   ],
   "id": "94cbfab1cfc7bf6e",
   "outputs": [],
   "execution_count": null
  },
  {
   "metadata": {},
   "cell_type": "markdown",
   "source": "# Example 1",
   "id": "2b0ef7815a10136e"
  },
  {
   "metadata": {},
   "cell_type": "markdown",
   "source": "## Equations",
   "id": "6b14c9e6c5176dd0"
  },
  {
   "metadata": {},
   "cell_type": "code",
   "source": [
    "a = np.array([\n",
    "    [3, 9, -3],\n",
    "    [1, -3, 11],\n",
    "    [-2, 5, -20]\n",
    "])\n",
    "\n",
    "b = np.array([\n",
    "    [24],\n",
    "    [-2],\n",
    "    [-5]\n",
    "])"
   ],
   "id": "fc27c3e3452e961c",
   "outputs": [],
   "execution_count": null
  },
  {
   "metadata": {},
   "cell_type": "code",
   "source": "c = np.c_[a, b]",
   "id": "788a99406e9d0f54",
   "outputs": [],
   "execution_count": null
  },
  {
   "metadata": {},
   "cell_type": "code",
   "source": "c",
   "id": "ed681947e11f2735",
   "outputs": [],
   "execution_count": null
  },
  {
   "metadata": {},
   "cell_type": "code",
   "source": "np.sort(c, axis=0)",
   "id": "b866ce411ff53d2a",
   "outputs": [],
   "execution_count": null
  },
  {
   "metadata": {},
   "cell_type": "code",
   "source": [
    "# number of dimensions\n",
    "np.ndim(c)"
   ],
   "id": "610e98c57821d2e7",
   "outputs": [],
   "execution_count": null
  },
  {
   "metadata": {},
   "cell_type": "code",
   "source": [
    "# total number of elements\n",
    "np.size(c)"
   ],
   "id": "8bf83fd6cc557d00",
   "outputs": [],
   "execution_count": null
  },
  {
   "metadata": {},
   "cell_type": "code",
   "source": [
    "# shape of array\n",
    "np.shape(c)"
   ],
   "id": "431a22c9b7a54a0d",
   "outputs": [],
   "execution_count": null
  },
  {
   "metadata": {},
   "cell_type": "code",
   "source": "c",
   "id": "4f060063107533c5",
   "outputs": [],
   "execution_count": null
  },
  {
   "metadata": {},
   "cell_type": "code",
   "source": "d = c.astype('float').copy()",
   "id": "830498983233f679",
   "outputs": [],
   "execution_count": null
  },
  {
   "metadata": {},
   "cell_type": "markdown",
   "source": "## Put the system in reduced row echelon form",
   "id": "823d5014c92995f8"
  },
  {
   "metadata": {},
   "cell_type": "code",
   "source": "d",
   "id": "753d5272c926dec7",
   "outputs": [],
   "execution_count": null
  },
  {
   "metadata": {},
   "cell_type": "markdown",
   "source": "### Find the pivot entry in the first row.",
   "id": "e69f99bfa6f28272"
  },
  {
   "metadata": {},
   "cell_type": "code",
   "source": [
    "# step 1\n",
    "d[0][:] = ((1 / 3) * d[0])"
   ],
   "id": "7904cfcdd8055403",
   "outputs": [],
   "execution_count": null
  },
  {
   "metadata": {},
   "cell_type": "code",
   "source": "d",
   "id": "50236cd4d7022894",
   "outputs": [],
   "execution_count": null
  },
  {
   "metadata": {},
   "cell_type": "markdown",
   "source": "### Zero out the rest of the first column",
   "id": "6e9772288d9a0198"
  },
  {
   "metadata": {},
   "cell_type": "code",
   "source": [
    "# step 2\n",
    "d[1][:] = (-1 * d[0][:]) + d[1][:]"
   ],
   "id": "262a0bdc021426af",
   "outputs": [],
   "execution_count": null
  },
  {
   "metadata": {},
   "cell_type": "code",
   "source": "d",
   "id": "202e787cae2e95cc",
   "outputs": [],
   "execution_count": null
  },
  {
   "metadata": {},
   "cell_type": "code",
   "source": [
    "# step 3\n",
    "d[2][:] = (2 * d[0][:]) + d[2][:]"
   ],
   "id": "b83d59c599a0d9bd",
   "outputs": [],
   "execution_count": null
  },
  {
   "metadata": {},
   "cell_type": "code",
   "source": "d",
   "id": "7e2d37bdf9aa2813",
   "outputs": [],
   "execution_count": null
  },
  {
   "metadata": {},
   "cell_type": "markdown",
   "source": "### Find the pivot entry in the second row",
   "id": "7076740b90606b2a"
  },
  {
   "metadata": {},
   "cell_type": "code",
   "source": [
    "# step 4\n",
    "d[1][:] = (-1 / 6) * d[1][:]"
   ],
   "id": "6bf7b974f50ca639",
   "outputs": [],
   "execution_count": null
  },
  {
   "metadata": {},
   "cell_type": "code",
   "source": "d",
   "id": "125e1e5dec92417f",
   "outputs": [],
   "execution_count": null
  },
  {
   "metadata": {},
   "cell_type": "markdown",
   "source": "### Zero out the rest of the second column",
   "id": "93eae35a10c8bde3"
  },
  {
   "metadata": {},
   "cell_type": "code",
   "source": [
    "# step 5\n",
    "d[0][:] = (-3 * d[1][:]) + d[0][:]"
   ],
   "id": "2bc31d80dcd0257e",
   "outputs": [],
   "execution_count": null
  },
  {
   "metadata": {},
   "cell_type": "code",
   "source": "d",
   "id": "4756b1c3cce757bf",
   "outputs": [],
   "execution_count": null
  },
  {
   "metadata": {},
   "cell_type": "code",
   "source": [
    "# step 6\n",
    "d[2][:] = (-11 * d[1][:]) + d[2][:]"
   ],
   "id": "1b1bdae8e3a06307",
   "outputs": [],
   "execution_count": null
  },
  {
   "metadata": {},
   "cell_type": "code",
   "source": "d",
   "id": "5b428e417ad80096",
   "outputs": [],
   "execution_count": null
  },
  {
   "metadata": {},
   "cell_type": "markdown",
   "source": "# Example 2",
   "id": "50004c4806ae6b72"
  },
  {
   "metadata": {},
   "cell_type": "markdown",
   "source": "## Equations",
   "id": "6be0bac3e08cc35"
  },
  {
   "metadata": {},
   "cell_type": "markdown",
   "source": [
    "Question: Determine whether the system has one solution, no solutions, or\n",
    "infinitely many solutions.\n",
    "\n",
    "w + 2x − 3y + 7z = 4\n",
    "\n",
    "3w − x − 2y = 12\n",
    "\n",
    "−2w + 5x + 2z = 5\n",
    "\n",
    "2w + 3x − 5y + 11z = 8"
   ],
   "id": "3067e4168b5e1093"
  },
  {
   "metadata": {},
   "cell_type": "code",
   "source": [
    "a = [\n",
    "    [1, 2, -3, 7],\n",
    "    [3, -1, -2, 0],\n",
    "    [-2, 5, 0, 2],\n",
    "    [2, 3, -5, 11]\n",
    "]\n",
    "\n",
    "b = [\n",
    "    [4],\n",
    "    [12],\n",
    "    [5],\n",
    "    [8]\n",
    "]"
   ],
   "id": "7020ad4c9c56555d",
   "outputs": [],
   "execution_count": null
  },
  {
   "metadata": {},
   "cell_type": "code",
   "source": [
    "c = np.c_[a, b]\n",
    "d = c.astype('float').copy()"
   ],
   "id": "eacbcdf260146080",
   "outputs": [],
   "execution_count": null
  },
  {
   "metadata": {},
   "cell_type": "markdown",
   "source": "## Put the system in reduced row echelon form",
   "id": "24c173aee01d1b0"
  },
  {
   "metadata": {},
   "cell_type": "markdown",
   "source": "### Column [0]",
   "id": "6c0a57a3cbdd50ee"
  },
  {
   "metadata": {},
   "cell_type": "code",
   "source": "d",
   "id": "5a8fb5c8f7708fac",
   "outputs": [],
   "execution_count": null
  },
  {
   "metadata": {},
   "cell_type": "code",
   "source": [
    "# step 1\n",
    "d[2][:] = d[2][:] + d[3][:]\n",
    "d"
   ],
   "id": "e0891ce4f779c5d0",
   "outputs": [],
   "execution_count": null
  },
  {
   "metadata": {},
   "cell_type": "code",
   "source": [
    "# step 2\n",
    "d[1][:] = d[1][:] - d[0][:]\n",
    "d"
   ],
   "id": "28ca946247746a67",
   "outputs": [],
   "execution_count": null
  },
  {
   "metadata": {},
   "cell_type": "code",
   "source": [
    "# step 3\n",
    "d[[1, 2], :] = d[[2, 1], :]\n",
    "d"
   ],
   "id": "a0e8b197d1b3aec7",
   "outputs": [],
   "execution_count": null
  },
  {
   "metadata": {},
   "cell_type": "code",
   "source": [
    "# step 4\n",
    "d[2][:] = d[2][:] - d[3][:]\n",
    "d"
   ],
   "id": "4f3e3485251d9215",
   "outputs": [],
   "execution_count": null
  },
  {
   "metadata": {},
   "cell_type": "code",
   "source": [
    "# step 5\n",
    "d[3][:] = (2 * d[0][:]) - d[3][:]\n",
    "d"
   ],
   "id": "7c4174b24378d49e",
   "outputs": [],
   "execution_count": null
  },
  {
   "metadata": {},
   "cell_type": "code",
   "source": "d",
   "id": "1327a43509aa379e",
   "outputs": [],
   "execution_count": null
  },
  {
   "metadata": {},
   "cell_type": "markdown",
   "source": "### Column [1]",
   "id": "9853d3f51b33db5b"
  },
  {
   "metadata": {},
   "cell_type": "code",
   "source": [
    "# step 6\n",
    "d[[1, 3], :] = d[[3, 1], :]"
   ],
   "id": "44c96a5540c8beda",
   "outputs": [],
   "execution_count": null
  },
  {
   "metadata": {},
   "cell_type": "code",
   "source": "d",
   "id": "dac9aecc12f32708",
   "outputs": [],
   "execution_count": null
  },
  {
   "metadata": {},
   "cell_type": "code",
   "source": [
    "# step 7\n",
    "d[0][:] = d[0][:] - (2 * d[1][:])"
   ],
   "id": "a59cc2a5f8b71ef",
   "outputs": [],
   "execution_count": null
  },
  {
   "metadata": {},
   "cell_type": "code",
   "source": "d",
   "id": "2bbec84c7df41532",
   "outputs": [],
   "execution_count": null
  },
  {
   "metadata": {},
   "cell_type": "code",
   "source": [
    "# step 8\n",
    "d[3][:] = d[3][:] + d[2][:]"
   ],
   "id": "d0d7cb6e271d4449",
   "outputs": [],
   "execution_count": null
  },
  {
   "metadata": {},
   "cell_type": "code",
   "source": "d",
   "id": "241262e94afa8535",
   "outputs": [],
   "execution_count": null
  },
  {
   "metadata": {},
   "cell_type": "code",
   "source": [
    "# step 9\n",
    "d[2][:] = d[2][:] + (3 * d[3][:])\n",
    "d"
   ],
   "id": "681f0cb07084c03b",
   "outputs": [],
   "execution_count": null
  },
  {
   "metadata": {},
   "cell_type": "code",
   "source": [
    "# step 10\n",
    "d[3][:] = d[3][:] - (2 * d[1][:])\n",
    "d"
   ],
   "id": "6ab2fe5d84e2b764",
   "outputs": [],
   "execution_count": null
  },
  {
   "metadata": {},
   "cell_type": "markdown",
   "source": "### Column [2]",
   "id": "acb4b3423474708a"
  },
  {
   "metadata": {},
   "cell_type": "code",
   "source": [
    "# step 11\n",
    "d[3][:] = d[2][:] - (3 * d[3][:])"
   ],
   "id": "bb95bff0f24de917",
   "outputs": [],
   "execution_count": null
  },
  {
   "metadata": {},
   "cell_type": "code",
   "source": "d",
   "id": "e166cc2c4f9fed58",
   "outputs": [],
   "execution_count": null
  },
  {
   "metadata": {},
   "cell_type": "code",
   "source": "d[2][:] / 9",
   "id": "a342aae5cae08dea",
   "outputs": [],
   "execution_count": null
  },
  {
   "metadata": {},
   "cell_type": "code",
   "source": "",
   "id": "a05c6a527c251d9f",
   "outputs": [],
   "execution_count": null
  }
 ],
 "metadata": {
  "kernelspec": {
   "display_name": "Python 3",
   "language": "python",
   "name": "python3"
  },
  "language_info": {
   "codemirror_mode": {
    "name": "ipython",
    "version": 2
   },
   "file_extension": ".py",
   "mimetype": "text/x-python",
   "name": "python",
   "nbconvert_exporter": "python",
   "pygments_lexer": "ipython2",
   "version": "2.7.6"
  }
 },
 "nbformat": 4,
 "nbformat_minor": 5
}
