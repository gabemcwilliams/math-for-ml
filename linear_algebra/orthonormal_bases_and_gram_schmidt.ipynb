{
 "cells": [
  {
   "metadata": {
    "ExecuteTime": {
     "end_time": "2025-04-19T00:54:37.841704Z",
     "start_time": "2025-04-19T00:54:37.010773Z"
    }
   },
   "cell_type": "code",
   "source": [
    "import re\n",
    "import numpy as np\n",
    "import scipy as sp\n",
    "import sympy as sym\n",
    "from IPython.display import display, Math, Latex\n",
    "import math\n",
    "import matplotlib.pyplot as plt\n",
    "from fractions import Fraction"
   ],
   "id": "4bac0f8576e8bb27",
   "outputs": [],
   "execution_count": 1
  },
  {
   "metadata": {},
   "cell_type": "markdown",
   "source": [
    "# Orthonormal Basis\n",
    "***"
   ],
   "id": "d81c9f158ec91e0b"
  },
  {
   "metadata": {
    "ExecuteTime": {
     "end_time": "2025-04-19T00:54:38.132848Z",
     "start_time": "2025-04-19T00:54:38.128162Z"
    }
   },
   "cell_type": "code",
   "source": [
    "B = sym.Matrix([\n",
    "    [(5 / 6), -(sym.sqrt(11) / 6)],\n",
    "    [(sym.sqrt(11) / 6), (5 / 6)]\n",
    "])"
   ],
   "id": "9cefdb12bae9f3f8",
   "outputs": [],
   "execution_count": 2
  },
  {
   "metadata": {
    "ExecuteTime": {
     "end_time": "2025-04-19T00:54:38.147953Z",
     "start_time": "2025-04-19T00:54:38.143824Z"
    }
   },
   "cell_type": "code",
   "source": [
    "v1 = B[:, 0]\n",
    "v2 = B[:, 1]"
   ],
   "id": "7ec512f56cf10dc",
   "outputs": [],
   "execution_count": 3
  },
  {
   "metadata": {
    "ExecuteTime": {
     "end_time": "2025-04-19T00:54:38.204615Z",
     "start_time": "2025-04-19T00:54:38.156471Z"
    }
   },
   "cell_type": "code",
   "source": "v1.dot(v2)",
   "id": "97ef57f6874ed542",
   "outputs": [
    {
     "data": {
      "text/plain": [
       "0"
      ],
      "text/latex": "$\\displaystyle 0$"
     },
     "execution_count": 4,
     "metadata": {},
     "output_type": "execute_result"
    }
   ],
   "execution_count": 4
  },
  {
   "metadata": {
    "ExecuteTime": {
     "end_time": "2025-04-19T00:54:38.222746Z",
     "start_time": "2025-04-19T00:54:38.217883Z"
    }
   },
   "cell_type": "code",
   "source": "v1.dot(v1)",
   "id": "150893c47d27acc6",
   "outputs": [
    {
     "data": {
      "text/plain": [
       "1.00000000000000"
      ],
      "text/latex": "$\\displaystyle 1.0$"
     },
     "execution_count": 5,
     "metadata": {},
     "output_type": "execute_result"
    }
   ],
   "execution_count": 5
  },
  {
   "metadata": {},
   "cell_type": "markdown",
   "source": [
    "# Gram-Schmidt process for change of basis\n",
    "***"
   ],
   "id": "16652ad0ccfe512a"
  },
  {
   "metadata": {
    "ExecuteTime": {
     "end_time": "2025-04-19T00:54:38.231705Z",
     "start_time": "2025-04-19T00:54:38.228253Z"
    }
   },
   "cell_type": "code",
   "source": [
    "# Question 1\n",
    "\n",
    "# Change the basis of V into an orthonormal basis U\n"
   ],
   "id": "1c4bacf65969d42c",
   "outputs": [],
   "execution_count": 6
  },
  {
   "metadata": {
    "ExecuteTime": {
     "end_time": "2025-04-19T00:54:38.251083Z",
     "start_time": "2025-04-19T00:54:38.244930Z"
    }
   },
   "cell_type": "code",
   "source": [
    "display(Math(\n",
    "    fr'\\overrightarrow{{w_2}} \\space = \\space \\overrightarrow{{v_2}} \\space - \\space Proj_{{v1}} \\overrightarrow{{v2}}'))\n",
    "display(Math(\n",
    "    fr'\\overrightarrow{{w_2}} \\space = \\space \\overrightarrow{{v_2}} \\space - \\space ( \\overrightarrow{{v_2}} \\cdot \\overrightarrow{{u_1}} ) \\space \\overrightarrow{{u_1}}'))"
   ],
   "id": "5ce90c5ea35ab478",
   "outputs": [
    {
     "data": {
      "text/plain": [
       "<IPython.core.display.Math object>"
      ],
      "text/latex": "$\\displaystyle \\overrightarrow{w_2} \\space = \\space \\overrightarrow{v_2} \\space - \\space Proj_{v1} \\overrightarrow{v2}$"
     },
     "metadata": {},
     "output_type": "display_data"
    },
    {
     "data": {
      "text/plain": [
       "<IPython.core.display.Math object>"
      ],
      "text/latex": "$\\displaystyle \\overrightarrow{w_2} \\space = \\space \\overrightarrow{v_2} \\space - \\space ( \\overrightarrow{v_2} \\cdot \\overrightarrow{u_1} ) \\space \\overrightarrow{u_1}$"
     },
     "metadata": {},
     "output_type": "display_data"
    }
   ],
   "execution_count": 7
  },
  {
   "metadata": {
    "ExecuteTime": {
     "end_time": "2025-04-19T00:54:38.266660Z",
     "start_time": "2025-04-19T00:54:38.263146Z"
    }
   },
   "cell_type": "code",
   "source": [
    "V = sym.Matrix(np.array([\n",
    "    [-2, 2, 1],\n",
    "    [-1, -3, 1],\n",
    "]).transpose())"
   ],
   "id": "a6129c06c6df7d17",
   "outputs": [],
   "execution_count": 8
  },
  {
   "metadata": {
    "ExecuteTime": {
     "end_time": "2025-04-19T00:54:38.283410Z",
     "start_time": "2025-04-19T00:54:38.279342Z"
    }
   },
   "cell_type": "code",
   "source": "V",
   "id": "fcbd86538dc1271",
   "outputs": [
    {
     "data": {
      "text/plain": [
       "Matrix([\n",
       "[-2, -1],\n",
       "[ 2, -3],\n",
       "[ 1,  1]])"
      ],
      "text/latex": "$\\displaystyle \\left[\\begin{matrix}-2 & -1\\\\2 & -3\\\\1 & 1\\end{matrix}\\right]$"
     },
     "execution_count": 9,
     "metadata": {},
     "output_type": "execute_result"
    }
   ],
   "execution_count": 9
  },
  {
   "metadata": {
    "ExecuteTime": {
     "end_time": "2025-04-19T00:54:38.307448Z",
     "start_time": "2025-04-19T00:54:38.304415Z"
    }
   },
   "cell_type": "code",
   "source": [
    "V1 = V[:, 0]\n",
    "V2 = V[:, 1]"
   ],
   "id": "806d97444d4c7d4a",
   "outputs": [],
   "execution_count": 10
  },
  {
   "metadata": {
    "ExecuteTime": {
     "end_time": "2025-04-19T00:54:38.318017Z",
     "start_time": "2025-04-19T00:54:38.314271Z"
    }
   },
   "cell_type": "code",
   "source": "V1",
   "id": "368749070024bf53",
   "outputs": [
    {
     "data": {
      "text/plain": [
       "Matrix([\n",
       "[-2],\n",
       "[ 2],\n",
       "[ 1]])"
      ],
      "text/latex": "$\\displaystyle \\left[\\begin{matrix}-2\\\\2\\\\1\\end{matrix}\\right]$"
     },
     "execution_count": 11,
     "metadata": {},
     "output_type": "execute_result"
    }
   ],
   "execution_count": 11
  },
  {
   "metadata": {
    "ExecuteTime": {
     "end_time": "2025-04-19T00:54:38.331982Z",
     "start_time": "2025-04-19T00:54:38.328922Z"
    }
   },
   "cell_type": "code",
   "source": "abs_V1 = sym.sqrt(V1.dot(V1))",
   "id": "2e11f8ead4662b43",
   "outputs": [],
   "execution_count": 12
  },
  {
   "metadata": {
    "ExecuteTime": {
     "end_time": "2025-04-19T00:54:38.348363Z",
     "start_time": "2025-04-19T00:54:38.343578Z"
    }
   },
   "cell_type": "code",
   "source": "abs_V1",
   "id": "71c10a99b9c9dd71",
   "outputs": [
    {
     "data": {
      "text/plain": [
       "3"
      ],
      "text/latex": "$\\displaystyle 3$"
     },
     "execution_count": 13,
     "metadata": {},
     "output_type": "execute_result"
    }
   ],
   "execution_count": 13
  },
  {
   "metadata": {
    "ExecuteTime": {
     "end_time": "2025-04-19T00:54:38.362174Z",
     "start_time": "2025-04-19T00:54:38.358941Z"
    }
   },
   "cell_type": "code",
   "source": "U1 = (1 / abs_V1) * V1",
   "id": "f1f65bd2d9c8ea72",
   "outputs": [],
   "execution_count": 14
  },
  {
   "metadata": {
    "ExecuteTime": {
     "end_time": "2025-04-19T00:54:38.375275Z",
     "start_time": "2025-04-19T00:54:38.371094Z"
    }
   },
   "cell_type": "code",
   "source": "U1",
   "id": "797cb9c3ea6c750e",
   "outputs": [
    {
     "data": {
      "text/plain": [
       "Matrix([\n",
       "[-2/3],\n",
       "[ 2/3],\n",
       "[ 1/3]])"
      ],
      "text/latex": "$\\displaystyle \\left[\\begin{matrix}- \\frac{2}{3}\\\\\\frac{2}{3}\\\\\\frac{1}{3}\\end{matrix}\\right]$"
     },
     "execution_count": 15,
     "metadata": {},
     "output_type": "execute_result"
    }
   ],
   "execution_count": 15
  },
  {
   "metadata": {
    "ExecuteTime": {
     "end_time": "2025-04-19T00:54:38.382991Z",
     "start_time": "2025-04-19T00:54:38.379779Z"
    }
   },
   "cell_type": "code",
   "source": "W2 = V2 - (V2.dot(U1) * U1)",
   "id": "d22b40383e198188",
   "outputs": [],
   "execution_count": 16
  },
  {
   "metadata": {
    "ExecuteTime": {
     "end_time": "2025-04-19T00:54:38.392831Z",
     "start_time": "2025-04-19T00:54:38.388739Z"
    }
   },
   "cell_type": "code",
   "source": "W2",
   "id": "4ae12c8b07f0a7d7",
   "outputs": [
    {
     "data": {
      "text/plain": [
       "Matrix([\n",
       "[-5/3],\n",
       "[-7/3],\n",
       "[ 4/3]])"
      ],
      "text/latex": "$\\displaystyle \\left[\\begin{matrix}- \\frac{5}{3}\\\\- \\frac{7}{3}\\\\\\frac{4}{3}\\end{matrix}\\right]$"
     },
     "execution_count": 17,
     "metadata": {},
     "output_type": "execute_result"
    }
   ],
   "execution_count": 17
  },
  {
   "metadata": {
    "ExecuteTime": {
     "end_time": "2025-04-19T00:54:38.407726Z",
     "start_time": "2025-04-19T00:54:38.404025Z"
    }
   },
   "cell_type": "code",
   "source": "abs_W2 = sym.sqrt(W2.dot(W2))",
   "id": "d26b81667e283aee",
   "outputs": [],
   "execution_count": 18
  },
  {
   "metadata": {
    "ExecuteTime": {
     "end_time": "2025-04-19T00:54:38.452946Z",
     "start_time": "2025-04-19T00:54:38.449545Z"
    }
   },
   "cell_type": "code",
   "source": "abs_W2",
   "id": "cb6074e99732129b",
   "outputs": [
    {
     "data": {
      "text/plain": [
       "sqrt(10)"
      ],
      "text/latex": "$\\displaystyle \\sqrt{10}$"
     },
     "execution_count": 19,
     "metadata": {},
     "output_type": "execute_result"
    }
   ],
   "execution_count": 19
  }
 ],
 "metadata": {
  "kernelspec": {
   "display_name": "Python 3",
   "language": "python",
   "name": "python3"
  },
  "language_info": {
   "codemirror_mode": {
    "name": "ipython",
    "version": 2
   },
   "file_extension": ".py",
   "mimetype": "text/x-python",
   "name": "python",
   "nbconvert_exporter": "python",
   "pygments_lexer": "ipython2",
   "version": "2.7.6"
  }
 },
 "nbformat": 4,
 "nbformat_minor": 5
}
