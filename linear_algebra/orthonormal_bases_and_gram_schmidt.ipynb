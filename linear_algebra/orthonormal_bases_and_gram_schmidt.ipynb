{
 "cells": [
  {
   "metadata": {},
   "cell_type": "code",
   "source": [
    "import re\n",
    "import numpy as np\n",
    "import scipy as sp\n",
    "import sympy as sym\n",
    "from IPython.display import display, Math, Latex\n",
    "import math\n",
    "import matplotlib.pyplot as plt\n",
    "from fractions import Fraction"
   ],
   "id": "4bac0f8576e8bb27",
   "outputs": [],
   "execution_count": null
  },
  {
   "metadata": {},
   "cell_type": "markdown",
   "source": [
    "# Orthonormal Basis\n",
    "***"
   ],
   "id": "d81c9f158ec91e0b"
  },
  {
   "metadata": {},
   "cell_type": "code",
   "source": [
    "B = sym.Matrix([\n",
    "    [(5 / 6), -(sym.sqrt(11) / 6)],\n",
    "    [(sym.sqrt(11) / 6), (5 / 6)]\n",
    "])"
   ],
   "id": "9cefdb12bae9f3f8",
   "outputs": [],
   "execution_count": null
  },
  {
   "metadata": {},
   "cell_type": "code",
   "source": [
    "v1 = B[:, 0]\n",
    "v2 = B[:, 1]"
   ],
   "id": "7ec512f56cf10dc",
   "outputs": [],
   "execution_count": null
  },
  {
   "metadata": {},
   "cell_type": "code",
   "source": "v1.dot(v2)",
   "id": "97ef57f6874ed542",
   "outputs": [],
   "execution_count": null
  },
  {
   "metadata": {},
   "cell_type": "code",
   "source": "v1.dot(v1)",
   "id": "150893c47d27acc6",
   "outputs": [],
   "execution_count": null
  },
  {
   "metadata": {},
   "cell_type": "markdown",
   "source": [
    "# Gram-Schmidt process for change of basis\n",
    "***"
   ],
   "id": "16652ad0ccfe512a"
  },
  {
   "metadata": {},
   "cell_type": "code",
   "source": [
    "# Question 1\n",
    "\n",
    "# Change the basis of V into an orthonormal basis U\n"
   ],
   "id": "1c4bacf65969d42c",
   "outputs": [],
   "execution_count": null
  },
  {
   "metadata": {},
   "cell_type": "code",
   "source": [
    "display(Math(\n",
    "    fr'\\overrightarrow{{w_2}} \\space = \\space \\overrightarrow{{v_2}} \\space - \\space Proj_{{v1}} \\overrightarrow{{v2}}'))\n",
    "display(Math(\n",
    "    fr'\\overrightarrow{{w_2}} \\space = \\space \\overrightarrow{{v_2}} \\space - \\space ( \\overrightarrow{{v_2}} \\cdot \\overrightarrow{{u_1}} ) \\space \\overrightarrow{{u_1}}'))"
   ],
   "id": "5ce90c5ea35ab478",
   "outputs": [],
   "execution_count": null
  },
  {
   "metadata": {},
   "cell_type": "code",
   "source": [
    "V = sym.Matrix(np.array([\n",
    "    [-2, 2, 1],\n",
    "    [-1, -3, 1],\n",
    "]).transpose())"
   ],
   "id": "a6129c06c6df7d17",
   "outputs": [],
   "execution_count": null
  },
  {
   "metadata": {},
   "cell_type": "code",
   "source": "V",
   "id": "fcbd86538dc1271",
   "outputs": [],
   "execution_count": null
  },
  {
   "metadata": {},
   "cell_type": "code",
   "source": [
    "V1 = V[:, 0]\n",
    "V2 = V[:, 1]"
   ],
   "id": "806d97444d4c7d4a",
   "outputs": [],
   "execution_count": null
  },
  {
   "metadata": {},
   "cell_type": "code",
   "source": "V1",
   "id": "368749070024bf53",
   "outputs": [],
   "execution_count": null
  },
  {
   "metadata": {},
   "cell_type": "code",
   "source": "abs_V1 = sym.sqrt(V1.dot(V1))",
   "id": "2e11f8ead4662b43",
   "outputs": [],
   "execution_count": null
  },
  {
   "metadata": {},
   "cell_type": "code",
   "source": "abs_V1",
   "id": "71c10a99b9c9dd71",
   "outputs": [],
   "execution_count": null
  },
  {
   "metadata": {},
   "cell_type": "code",
   "source": "U1 = (1 / abs_V1) * V1",
   "id": "f1f65bd2d9c8ea72",
   "outputs": [],
   "execution_count": null
  },
  {
   "metadata": {},
   "cell_type": "code",
   "source": "U1",
   "id": "797cb9c3ea6c750e",
   "outputs": [],
   "execution_count": null
  },
  {
   "metadata": {},
   "cell_type": "code",
   "source": "W2 = V2 - (V2.dot(U1) * U1)",
   "id": "d22b40383e198188",
   "outputs": [],
   "execution_count": null
  },
  {
   "metadata": {},
   "cell_type": "code",
   "source": "W2",
   "id": "4ae12c8b07f0a7d7",
   "outputs": [],
   "execution_count": null
  },
  {
   "metadata": {},
   "cell_type": "code",
   "source": "abs_W2 = sym.sqrt(W2.dot(W2))",
   "id": "d26b81667e283aee",
   "outputs": [],
   "execution_count": null
  },
  {
   "metadata": {},
   "cell_type": "code",
   "source": "abs_W2",
   "id": "cb6074e99732129b",
   "outputs": [],
   "execution_count": null
  }
 ],
 "metadata": {
  "kernelspec": {
   "display_name": "Python 3",
   "language": "python",
   "name": "python3"
  },
  "language_info": {
   "codemirror_mode": {
    "name": "ipython",
    "version": 2
   },
   "file_extension": ".py",
   "mimetype": "text/x-python",
   "name": "python",
   "nbconvert_exporter": "python",
   "pygments_lexer": "ipython2",
   "version": "2.7.6"
  }
 },
 "nbformat": 4,
 "nbformat_minor": 5
}
