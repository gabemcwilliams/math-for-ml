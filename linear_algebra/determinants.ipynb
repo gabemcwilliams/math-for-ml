{
 "cells": [
  {
   "cell_type": "code",
   "id": "initial_id",
   "metadata": {
    "collapsed": true,
    "ExecuteTime": {
     "end_time": "2025-04-19T00:59:49.091894Z",
     "start_time": "2025-04-19T00:59:49.088869Z"
    }
   },
   "source": [
    "import re\n",
    "import numpy as np\n",
    "import scipy as sp\n",
    "import sympy as sym\n",
    "from IPython.display import display, Math, Latex\n",
    "import math\n",
    "import matplotlib.pyplot as plt\n",
    "from fractions import Fraction"
   ],
   "outputs": [],
   "execution_count": 6
  },
  {
   "metadata": {},
   "cell_type": "markdown",
   "source": [
    "# Determinants\n",
    "***"
   ],
   "id": "1563e922b0ad0bfe"
  },
  {
   "metadata": {
    "ExecuteTime": {
     "end_time": "2025-04-19T00:59:49.137875Z",
     "start_time": "2025-04-19T00:59:49.135245Z"
    }
   },
   "cell_type": "code",
   "source": [
    "L = np.array([\n",
    "    [1,0,-2], \n",
    "    [0,-2,3],\n",
    "    [1,1,-2]], dtype='int64')\n",
    "\n",
    "\n",
    "det_m = round(np.linalg.det(L),2)\n",
    "\n",
    "det_m"
   ],
   "id": "d82af3b89b1266f4",
   "outputs": [
    {
     "data": {
      "text/plain": [
       "-3.0"
      ]
     },
     "execution_count": 7,
     "metadata": {},
     "output_type": "execute_result"
    }
   ],
   "execution_count": 7
  },
  {
   "metadata": {
    "ExecuteTime": {
     "end_time": "2025-04-19T00:59:49.197100Z",
     "start_time": "2025-04-19T00:59:49.195035Z"
    }
   },
   "cell_type": "code",
   "source": [
    "L = np.array([\n",
    "    [-3,1,5,2], \n",
    "    [0,0,-1,1],\n",
    "    [2,-2,3,0],\n",
    "    [1,4,0,-4]], dtype='int64')\n",
    "\n",
    "\n",
    "det_m = round(np.linalg.det(L),2)\n",
    "\n",
    "det_m"
   ],
   "id": "6a029727d287fc56",
   "outputs": [
    {
     "data": {
      "text/plain": [
       "93.0"
      ]
     },
     "execution_count": 8,
     "metadata": {},
     "output_type": "execute_result"
    }
   ],
   "execution_count": 8
  },
  {
   "metadata": {},
   "cell_type": "markdown",
   "source": [
    "# Cramer's Rule for Solving Linear Equations\n",
    "***"
   ],
   "id": "86ecd8de2d98a3f4"
  },
  {
   "metadata": {},
   "cell_type": "markdown",
   "source": [
    "# Finding Area using the Determinant\n",
    "***"
   ],
   "id": "3a2caa543aab7d4d"
  },
  {
   "metadata": {
    "ExecuteTime": {
     "end_time": "2025-04-19T00:59:49.252270Z",
     "start_time": "2025-04-19T00:59:49.250811Z"
    }
   },
   "cell_type": "code",
   "source": [
    "v1 = np.array([2,3])\n",
    "v2 = np.array([-1,4])\n",
    "\n",
    "results = np.vstack((v1,v2))"
   ],
   "id": "68acf8bb80d9cea3",
   "outputs": [],
   "execution_count": 9
  },
  {
   "metadata": {
    "ExecuteTime": {
     "end_time": "2025-04-19T00:59:49.306847Z",
     "start_time": "2025-04-19T00:59:49.305078Z"
    }
   },
   "cell_type": "code",
   "source": "results",
   "id": "b9126b2ada1e716f",
   "outputs": [
    {
     "data": {
      "text/plain": [
       "array([[ 2,  3],\n",
       "       [-1,  4]])"
      ]
     },
     "execution_count": 10,
     "metadata": {},
     "output_type": "execute_result"
    }
   ],
   "execution_count": 10
  },
  {
   "metadata": {
    "ExecuteTime": {
     "end_time": "2025-04-19T00:59:49.389027Z",
     "start_time": "2025-04-19T00:59:49.388028Z"
    }
   },
   "cell_type": "code",
   "source": "",
   "id": "9fa0fababc43ef63",
   "outputs": [],
   "execution_count": null
  }
 ],
 "metadata": {
  "kernelspec": {
   "display_name": "Python 3",
   "language": "python",
   "name": "python3"
  },
  "language_info": {
   "codemirror_mode": {
    "name": "ipython",
    "version": 2
   },
   "file_extension": ".py",
   "mimetype": "text/x-python",
   "name": "python",
   "nbconvert_exporter": "python",
   "pygments_lexer": "ipython2",
   "version": "2.7.6"
  }
 },
 "nbformat": 4,
 "nbformat_minor": 5
}
