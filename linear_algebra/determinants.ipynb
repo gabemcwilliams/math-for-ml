{
 "cells": [
  {
   "cell_type": "code",
   "id": "initial_id",
   "metadata": {
    "collapsed": true,
    "ExecuteTime": {
     "end_time": "2024-07-20T17:59:45.348803Z",
     "start_time": "2024-07-20T17:59:43.925083Z"
    }
   },
   "source": [
    "import re\n",
    "import numpy as np\n",
    "import scipy as sp\n",
    "import sympy as sym\n",
    "from IPython.display import display, Math, Latex\n",
    "import math\n",
    "import matplotlib.pyplot as plt\n",
    "from fractions import Fraction"
   ],
   "outputs": [],
   "execution_count": 2
  },
  {
   "metadata": {},
   "cell_type": "markdown",
   "source": [
    "# Determinants\n",
    "***"
   ],
   "id": "1563e922b0ad0bfe"
  },
  {
   "metadata": {
    "ExecuteTime": {
     "end_time": "2024-07-20T18:48:04.462608Z",
     "start_time": "2024-07-20T18:48:04.459514Z"
    }
   },
   "cell_type": "code",
   "source": [
    "L = np.array([\n",
    "    [1,0,-2], \n",
    "    [0,-2,3],\n",
    "    [1,1,-2]], dtype='int64')\n",
    "\n",
    "\n",
    "det_m = round(np.linalg.det(L),2)\n",
    "\n",
    "det_m"
   ],
   "id": "d82af3b89b1266f4",
   "outputs": [
    {
     "data": {
      "text/plain": [
       "np.float64(-3.0)"
      ]
     },
     "execution_count": 41,
     "metadata": {},
     "output_type": "execute_result"
    }
   ],
   "execution_count": 41
  },
  {
   "metadata": {
    "ExecuteTime": {
     "end_time": "2024-07-20T18:50:34.492822Z",
     "start_time": "2024-07-20T18:50:34.488713Z"
    }
   },
   "cell_type": "code",
   "source": [
    "L = np.array([\n",
    "    [-3,1,5,2], \n",
    "    [0,0,-1,1],\n",
    "    [2,-2,3,0],\n",
    "    [1,4,0,-4]], dtype='int64')\n",
    "\n",
    "\n",
    "det_m = round(np.linalg.det(L),2)\n",
    "\n",
    "det_m"
   ],
   "id": "6a029727d287fc56",
   "outputs": [
    {
     "data": {
      "text/plain": [
       "np.float64(93.0)"
      ]
     },
     "execution_count": 46,
     "metadata": {},
     "output_type": "execute_result"
    }
   ],
   "execution_count": 46
  },
  {
   "metadata": {},
   "cell_type": "markdown",
   "source": [
    "# Cramer's Rule for Solving Linear Equations\n",
    "***"
   ],
   "id": "86ecd8de2d98a3f4"
  },
  {
   "metadata": {},
   "cell_type": "markdown",
   "source": [
    "# Finding Area using the Determinant\n",
    "***"
   ],
   "id": "3a2caa543aab7d4d"
  },
  {
   "metadata": {
    "ExecuteTime": {
     "end_time": "2024-07-20T20:55:47.917607Z",
     "start_time": "2024-07-20T20:55:47.914523Z"
    }
   },
   "cell_type": "code",
   "source": [
    "v1 = np.array([2,3])\n",
    "v2 = np.array([-1,4])\n",
    "\n",
    "results = np.vstack((v1,v2))"
   ],
   "id": "68acf8bb80d9cea3",
   "outputs": [],
   "execution_count": 49
  },
  {
   "metadata": {
    "ExecuteTime": {
     "end_time": "2024-07-20T20:55:48.142982Z",
     "start_time": "2024-07-20T20:55:48.139387Z"
    }
   },
   "cell_type": "code",
   "source": "results",
   "id": "b9126b2ada1e716f",
   "outputs": [
    {
     "data": {
      "text/plain": [
       "array([[ 2,  3],\n",
       "       [-1,  4]])"
      ]
     },
     "execution_count": 50,
     "metadata": {},
     "output_type": "execute_result"
    }
   ],
   "execution_count": 50
  },
  {
   "metadata": {},
   "cell_type": "code",
   "outputs": [],
   "execution_count": null,
   "source": "",
   "id": "9fa0fababc43ef63"
  }
 ],
 "metadata": {
  "kernelspec": {
   "display_name": "Python 3",
   "language": "python",
   "name": "python3"
  },
  "language_info": {
   "codemirror_mode": {
    "name": "ipython",
    "version": 2
   },
   "file_extension": ".py",
   "mimetype": "text/x-python",
   "name": "python",
   "nbconvert_exporter": "python",
   "pygments_lexer": "ipython2",
   "version": "2.7.6"
  }
 },
 "nbformat": 4,
 "nbformat_minor": 5
}
