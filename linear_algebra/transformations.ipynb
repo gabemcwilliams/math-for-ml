{
 "cells": [
  {
   "cell_type": "code",
   "id": "initial_id",
   "metadata": {
    "collapsed": true,
    "ExecuteTime": {
     "end_time": "2025-04-19T00:54:41.453627Z",
     "start_time": "2025-04-19T00:54:40.696249Z"
    }
   },
   "source": [
    "import re\n",
    "import numpy as np\n",
    "import scipy as sp\n",
    "import sympy as sym\n",
    "from IPython.display import display, Math, Latex\n",
    "import math\n",
    "import matplotlib.pyplot as plt\n",
    "from fractions import Fraction"
   ],
   "outputs": [],
   "execution_count": 1
  },
  {
   "metadata": {},
   "cell_type": "markdown",
   "source": [
    "# Functions and Transformations\n",
    "***\n",
    "domain => what we are mapping from\n",
    "\n",
    "codomain => what we are mapping to\n",
    "\n",
    "range => specific points in the codomain that were mapped to by the function"
   ],
   "id": "5be237fb4f4c2d55"
  },
  {
   "metadata": {
    "ExecuteTime": {
     "end_time": "2025-04-19T00:54:41.775062Z",
     "start_time": "2025-04-19T00:54:41.770831Z"
    }
   },
   "cell_type": "code",
   "source": "display(Math(r'T: \\space \\mathbb{R}^3 \\rightarrow \\mathbb{R}^3'))",
   "id": "bb1c9334f2f8e143",
   "outputs": [
    {
     "data": {
      "text/plain": [
       "<IPython.core.display.Math object>"
      ],
      "text/latex": "$\\displaystyle T: \\space \\mathbb{R}^3 \\rightarrow \\mathbb{R}^3$"
     },
     "metadata": {},
     "output_type": "display_data"
    }
   ],
   "execution_count": 2
  },
  {
   "metadata": {},
   "cell_type": "markdown",
   "source": [
    "vector valued function is also known as a Transformation\n",
    "\n",
    "not all vectors may be transformed and so the range does not always cover the entire codomain\n"
   ],
   "id": "177f1b0a8ebe3dab"
  },
  {
   "metadata": {
    "ExecuteTime": {
     "end_time": "2025-04-19T00:54:41.786999Z",
     "start_time": "2025-04-19T00:54:41.782933Z"
    }
   },
   "cell_type": "code",
   "source": [
    "display(Math(r'T: \\space \\mathbb{R}^3 \\rightarrow \\mathbb{R}^2'))\n",
    "display(Math(r'T: \\space A: \\space domain \\to B: \\space codomain \\to \\space range'))"
   ],
   "id": "fab4b27b72c234ab",
   "outputs": [
    {
     "data": {
      "text/plain": [
       "<IPython.core.display.Math object>"
      ],
      "text/latex": "$\\displaystyle T: \\space \\mathbb{R}^3 \\rightarrow \\mathbb{R}^2$"
     },
     "metadata": {},
     "output_type": "display_data"
    },
    {
     "data": {
      "text/plain": [
       "<IPython.core.display.Math object>"
      ],
      "text/latex": "$\\displaystyle T: \\space A: \\space domain \\to B: \\space codomain \\to \\space range$"
     },
     "metadata": {},
     "output_type": "display_data"
    }
   ],
   "execution_count": 3
  },
  {
   "metadata": {},
   "cell_type": "markdown",
   "source": "# Transformation Matrices and the Image of the Subset",
   "id": "a905265c266f915d"
  },
  {
   "metadata": {
    "ExecuteTime": {
     "end_time": "2025-04-19T00:54:41.791331Z",
     "start_time": "2025-04-19T00:54:41.789504Z"
    }
   },
   "cell_type": "code",
   "source": [
    "# Question 1\n",
    "\n",
    "a = np.array([-4, 2])\n",
    "\n",
    "Q = np.array([[11, 1], [0, -6]])"
   ],
   "id": "d75ed52f6da4433a",
   "outputs": [],
   "execution_count": 4
  },
  {
   "metadata": {
    "ExecuteTime": {
     "end_time": "2025-04-19T00:54:41.798534Z",
     "start_time": "2025-04-19T00:54:41.795703Z"
    }
   },
   "cell_type": "code",
   "source": [
    "b = np.dot(Q, a)\n",
    "b"
   ],
   "id": "253268c94c22aa2e",
   "outputs": [
    {
     "data": {
      "text/plain": [
       "array([-42, -12])"
      ]
     },
     "execution_count": 5,
     "metadata": {},
     "output_type": "execute_result"
    }
   ],
   "execution_count": 5
  },
  {
   "metadata": {
    "ExecuteTime": {
     "end_time": "2025-04-19T00:54:41.809552Z",
     "start_time": "2025-04-19T00:54:41.806777Z"
    }
   },
   "cell_type": "code",
   "source": [
    "# Question 2\n",
    "\n",
    "a = np.array([\n",
    "    [-2, 1],\n",
    "    [1, 3],\n",
    "    [2, -2],\n",
    "    [-3, -1]\n",
    "])\n",
    "\n",
    "P = np.array([\n",
    "    [-2, 0]\n",
    "    , [1, 3]\n",
    "])"
   ],
   "id": "5bfab63d1fdae554",
   "outputs": [],
   "execution_count": 6
  },
  {
   "metadata": {
    "ExecuteTime": {
     "end_time": "2025-04-19T00:54:41.818734Z",
     "start_time": "2025-04-19T00:54:41.815669Z"
    }
   },
   "cell_type": "code",
   "source": [
    "for row in a:\n",
    "    print(np.dot(P, row))"
   ],
   "id": "97a4c15a9046f6a3",
   "outputs": [
    {
     "name": "stdout",
     "output_type": "stream",
     "text": [
      "[4 1]\n",
      "[-2 10]\n",
      "[-4 -4]\n",
      "[ 6 -6]\n"
     ]
    }
   ],
   "execution_count": 7
  },
  {
   "metadata": {},
   "cell_type": "markdown",
   "source": [
    "# Image, Preimage, and Kernel\n",
    "***"
   ],
   "id": "4268569536739f47"
  },
  {
   "metadata": {
    "ExecuteTime": {
     "end_time": "2025-04-19T00:54:41.830951Z",
     "start_time": "2025-04-19T00:54:41.827039Z"
    }
   },
   "cell_type": "code",
   "source": [
    "def find_preimage(T, B_1):\n",
    "    T_x_B1_0 = np.c_[T_x, B_1[0]]\n",
    "\n",
    "    T_x_B1_1 = np.c_[T_x, B_1[1]]\n",
    "\n",
    "    T_x_B1_0_rref = np.array(sym.Matrix(T_x_B1_0).rref()[0])\n",
    "\n",
    "    T_x_B1_1_rref = np.array(sym.Matrix(T_x_B1_1).rref()[0])\n",
    "\n",
    "    x_01 = (np.c_[\n",
    "        T_x_B1_0_rref[0][-1],\n",
    "        T_x_B1_0_rref[1][-1]\n",
    "    ]).transpose()\n",
    "\n",
    "    x_02 = (np.c_[\n",
    "\n",
    "        T_x_B1_1_rref[0][-1],\n",
    "        T_x_B1_1_rref[1][-1]\n",
    "    ]).transpose()\n",
    "\n",
    "    # Display the augmented matrices\n",
    "    print('Augmented Matrix -> T_x_B1_0:')\n",
    "    display(Math(sym.latex(sym.Matrix(T_x_B1_0))))\n",
    "\n",
    "    print('Augmented Matrix -> T_x_B1_0_rref:')\n",
    "    display(Math(sym.latex(sym.Matrix(T_x_B1_0_rref))))\n",
    "\n",
    "    print('\\n' + '-' * 80 + '\\n')\n",
    "\n",
    "    # Display the RREF of the augmented matrices\n",
    "    print('RREF of the augmented matrices -> T_x_B1_1:')\n",
    "    display(Math(sym.latex(sym.Matrix(T_x_B1_1))))\n",
    "\n",
    "    print('RREF of the augmented matrices -> T_x_B1_1_rref:')\n",
    "    display(Math(sym.latex(sym.Matrix(T_x_B1_1_rref))))\n",
    "\n",
    "    print('\\n' + '-' * 80 + '\\n')\n",
    "\n",
    "    # Display the preimage to image mapping\n",
    "    print('Pre-Image A1:')\n",
    "    A1 = np.c_[x_01, x_02]\n",
    "    display(Math(sym.latex(sym.Matrix(A1))))\n",
    "\n",
    "    print('Image B1:')\n",
    "    B1 = np.c_[B_1[0], B_1[1]]\n",
    "    display(Math(sym.latex(sym.Matrix(B1))))\n",
    "\n",
    "    print('\\n' + '-' * 80 + '\\n')\n"
   ],
   "id": "f1b6ef75ba180ac9",
   "outputs": [],
   "execution_count": 8
  },
  {
   "metadata": {
    "ExecuteTime": {
     "end_time": "2025-04-19T00:54:41.836142Z",
     "start_time": "2025-04-19T00:54:41.833454Z"
    }
   },
   "cell_type": "code",
   "source": [
    "# Question 1\n",
    "# Find the preimage A1 of the subset B1 under the transformation \n",
    "B_1 = ([1, -2], [3, 5])\n",
    "\n",
    "T_x = np.array([[1, -1], [0, 3]])"
   ],
   "id": "d01e008f2133d603",
   "outputs": [],
   "execution_count": 9
  },
  {
   "metadata": {
    "ExecuteTime": {
     "end_time": "2025-04-19T00:54:41.847790Z",
     "start_time": "2025-04-19T00:54:41.844702Z"
    }
   },
   "cell_type": "code",
   "source": "T_x",
   "id": "94b0dc4055f7de11",
   "outputs": [
    {
     "data": {
      "text/plain": [
       "array([[ 1, -1],\n",
       "       [ 0,  3]])"
      ]
     },
     "execution_count": 10,
     "metadata": {},
     "output_type": "execute_result"
    }
   ],
   "execution_count": 10
  },
  {
   "metadata": {
    "ExecuteTime": {
     "end_time": "2025-04-19T00:54:42.181079Z",
     "start_time": "2025-04-19T00:54:42.167258Z"
    }
   },
   "cell_type": "code",
   "source": "find_preimage(T_x, B_1)",
   "id": "1c80ff66ddb75dc3",
   "outputs": [
    {
     "name": "stdout",
     "output_type": "stream",
     "text": [
      "Augmented Matrix -> T_x_B1_0:\n"
     ]
    },
    {
     "data": {
      "text/plain": [
       "<IPython.core.display.Math object>"
      ],
      "text/latex": "$\\displaystyle \\left[\\begin{matrix}1 & -1 & 1\\\\0 & 3 & -2\\end{matrix}\\right]$"
     },
     "metadata": {},
     "output_type": "display_data"
    },
    {
     "name": "stdout",
     "output_type": "stream",
     "text": [
      "Augmented Matrix -> T_x_B1_0_rref:\n"
     ]
    },
    {
     "data": {
      "text/plain": [
       "<IPython.core.display.Math object>"
      ],
      "text/latex": "$\\displaystyle \\left[\\begin{matrix}1 & 0 & \\frac{1}{3}\\\\0 & 1 & - \\frac{2}{3}\\end{matrix}\\right]$"
     },
     "metadata": {},
     "output_type": "display_data"
    },
    {
     "name": "stdout",
     "output_type": "stream",
     "text": [
      "\n",
      "--------------------------------------------------------------------------------\n",
      "\n",
      "RREF of the augmented matrices -> T_x_B1_1:\n"
     ]
    },
    {
     "data": {
      "text/plain": [
       "<IPython.core.display.Math object>"
      ],
      "text/latex": "$\\displaystyle \\left[\\begin{matrix}1 & -1 & 3\\\\0 & 3 & 5\\end{matrix}\\right]$"
     },
     "metadata": {},
     "output_type": "display_data"
    },
    {
     "name": "stdout",
     "output_type": "stream",
     "text": [
      "RREF of the augmented matrices -> T_x_B1_1_rref:\n"
     ]
    },
    {
     "data": {
      "text/plain": [
       "<IPython.core.display.Math object>"
      ],
      "text/latex": "$\\displaystyle \\left[\\begin{matrix}1 & 0 & \\frac{14}{3}\\\\0 & 1 & \\frac{5}{3}\\end{matrix}\\right]$"
     },
     "metadata": {},
     "output_type": "display_data"
    },
    {
     "name": "stdout",
     "output_type": "stream",
     "text": [
      "\n",
      "--------------------------------------------------------------------------------\n",
      "\n",
      "Pre-Image A1:\n"
     ]
    },
    {
     "data": {
      "text/plain": [
       "<IPython.core.display.Math object>"
      ],
      "text/latex": "$\\displaystyle \\left[\\begin{matrix}\\frac{1}{3} & \\frac{14}{3}\\\\- \\frac{2}{3} & \\frac{5}{3}\\end{matrix}\\right]$"
     },
     "metadata": {},
     "output_type": "display_data"
    },
    {
     "name": "stdout",
     "output_type": "stream",
     "text": [
      "Image B1:\n"
     ]
    },
    {
     "data": {
      "text/plain": [
       "<IPython.core.display.Math object>"
      ],
      "text/latex": "$\\displaystyle \\left[\\begin{matrix}1 & 3\\\\-2 & 5\\end{matrix}\\right]$"
     },
     "metadata": {},
     "output_type": "display_data"
    },
    {
     "name": "stdout",
     "output_type": "stream",
     "text": [
      "\n",
      "--------------------------------------------------------------------------------\n",
      "\n"
     ]
    }
   ],
   "execution_count": 11
  },
  {
   "metadata": {
    "ExecuteTime": {
     "end_time": "2025-04-19T00:54:42.335316Z",
     "start_time": "2025-04-19T00:54:42.332753Z"
    }
   },
   "cell_type": "code",
   "source": "# Question 2",
   "id": "ba57e6b9cbbec618",
   "outputs": [],
   "execution_count": 12
  },
  {
   "metadata": {
    "ExecuteTime": {
     "end_time": "2025-04-19T00:54:42.345069Z",
     "start_time": "2025-04-19T00:54:42.342760Z"
    }
   },
   "cell_type": "code",
   "source": [
    "B_1 = ([-3, 0], [2, 2])\n",
    "\n",
    "T_x = np.array([[-2, 0], [1, 4]])"
   ],
   "id": "375fea7050fdb71d",
   "outputs": [],
   "execution_count": 13
  },
  {
   "metadata": {
    "ExecuteTime": {
     "end_time": "2025-04-19T00:54:42.355652Z",
     "start_time": "2025-04-19T00:54:42.352449Z"
    }
   },
   "cell_type": "code",
   "source": "T_x",
   "id": "893c08986a95531f",
   "outputs": [
    {
     "data": {
      "text/plain": [
       "array([[-2,  0],\n",
       "       [ 1,  4]])"
      ]
     },
     "execution_count": 14,
     "metadata": {},
     "output_type": "execute_result"
    }
   ],
   "execution_count": 14
  },
  {
   "metadata": {
    "ExecuteTime": {
     "end_time": "2025-04-19T00:54:42.397133Z",
     "start_time": "2025-04-19T00:54:42.387279Z"
    }
   },
   "cell_type": "code",
   "source": "find_preimage(T_x, B_1)",
   "id": "53ffa1b62b4aa801",
   "outputs": [
    {
     "name": "stdout",
     "output_type": "stream",
     "text": [
      "Augmented Matrix -> T_x_B1_0:\n"
     ]
    },
    {
     "data": {
      "text/plain": [
       "<IPython.core.display.Math object>"
      ],
      "text/latex": "$\\displaystyle \\left[\\begin{matrix}-2 & 0 & -3\\\\1 & 4 & 0\\end{matrix}\\right]$"
     },
     "metadata": {},
     "output_type": "display_data"
    },
    {
     "name": "stdout",
     "output_type": "stream",
     "text": [
      "Augmented Matrix -> T_x_B1_0_rref:\n"
     ]
    },
    {
     "data": {
      "text/plain": [
       "<IPython.core.display.Math object>"
      ],
      "text/latex": "$\\displaystyle \\left[\\begin{matrix}1 & 0 & \\frac{3}{2}\\\\0 & 1 & - \\frac{3}{8}\\end{matrix}\\right]$"
     },
     "metadata": {},
     "output_type": "display_data"
    },
    {
     "name": "stdout",
     "output_type": "stream",
     "text": [
      "\n",
      "--------------------------------------------------------------------------------\n",
      "\n",
      "RREF of the augmented matrices -> T_x_B1_1:\n"
     ]
    },
    {
     "data": {
      "text/plain": [
       "<IPython.core.display.Math object>"
      ],
      "text/latex": "$\\displaystyle \\left[\\begin{matrix}-2 & 0 & 2\\\\1 & 4 & 2\\end{matrix}\\right]$"
     },
     "metadata": {},
     "output_type": "display_data"
    },
    {
     "name": "stdout",
     "output_type": "stream",
     "text": [
      "RREF of the augmented matrices -> T_x_B1_1_rref:\n"
     ]
    },
    {
     "data": {
      "text/plain": [
       "<IPython.core.display.Math object>"
      ],
      "text/latex": "$\\displaystyle \\left[\\begin{matrix}1 & 0 & -1\\\\0 & 1 & \\frac{3}{4}\\end{matrix}\\right]$"
     },
     "metadata": {},
     "output_type": "display_data"
    },
    {
     "name": "stdout",
     "output_type": "stream",
     "text": [
      "\n",
      "--------------------------------------------------------------------------------\n",
      "\n",
      "Pre-Image A1:\n"
     ]
    },
    {
     "data": {
      "text/plain": [
       "<IPython.core.display.Math object>"
      ],
      "text/latex": "$\\displaystyle \\left[\\begin{matrix}\\frac{3}{2} & -1\\\\- \\frac{3}{8} & \\frac{3}{4}\\end{matrix}\\right]$"
     },
     "metadata": {},
     "output_type": "display_data"
    },
    {
     "name": "stdout",
     "output_type": "stream",
     "text": [
      "Image B1:\n"
     ]
    },
    {
     "data": {
      "text/plain": [
       "<IPython.core.display.Math object>"
      ],
      "text/latex": "$\\displaystyle \\left[\\begin{matrix}-3 & 2\\\\0 & 2\\end{matrix}\\right]$"
     },
     "metadata": {},
     "output_type": "display_data"
    },
    {
     "name": "stdout",
     "output_type": "stream",
     "text": [
      "\n",
      "--------------------------------------------------------------------------------\n",
      "\n"
     ]
    }
   ],
   "execution_count": 15
  },
  {
   "metadata": {
    "ExecuteTime": {
     "end_time": "2025-04-19T00:54:42.709069Z",
     "start_time": "2025-04-19T00:54:42.427303Z"
    }
   },
   "cell_type": "code",
   "source": [
    "print('Preimage A1 x2:')\n",
    "preimage_A1[\"x_02\"]"
   ],
   "id": "bb171d6bc5cc1ed2",
   "outputs": [
    {
     "name": "stdout",
     "output_type": "stream",
     "text": [
      "Preimage A1 x2:\n"
     ]
    },
    {
     "ename": "NameError",
     "evalue": "name 'preimage_A1' is not defined",
     "output_type": "error",
     "traceback": [
      "\u001B[31m---------------------------------------------------------------------------\u001B[39m",
      "\u001B[31mNameError\u001B[39m                                 Traceback (most recent call last)",
      "\u001B[36mCell\u001B[39m\u001B[36m \u001B[39m\u001B[32mIn[16]\u001B[39m\u001B[32m, line 2\u001B[39m\n\u001B[32m      1\u001B[39m \u001B[38;5;28mprint\u001B[39m(\u001B[33m'\u001B[39m\u001B[33mPreimage A1 x2:\u001B[39m\u001B[33m'\u001B[39m)\n\u001B[32m----> \u001B[39m\u001B[32m2\u001B[39m \u001B[43mpreimage_A1\u001B[49m[\u001B[33m\"\u001B[39m\u001B[33mx_02\u001B[39m\u001B[33m\"\u001B[39m]\n",
      "\u001B[31mNameError\u001B[39m: name 'preimage_A1' is not defined"
     ]
    }
   ],
   "execution_count": 16
  },
  {
   "metadata": {},
   "cell_type": "code",
   "source": [
    "B_1 = ([5, -2], [-3, 1])\n",
    "\n",
    "T_x = np.array([[1, -2], [1, 4]])"
   ],
   "id": "f2866abdd020a997",
   "outputs": [],
   "execution_count": null
  },
  {
   "metadata": {},
   "cell_type": "code",
   "source": "find_preimage(T_x, B_1)",
   "id": "17df4e31cef41390",
   "outputs": [],
   "execution_count": null
  },
  {
   "metadata": {},
   "cell_type": "markdown",
   "source": [
    "# Linear Transformation as Matrix-Vector Product\n",
    "***"
   ],
   "id": "68f1edad80487d26"
  },
  {
   "metadata": {},
   "cell_type": "code",
   "source": "display(Math(r'T: \\space \\mathbb{R}^n \\rightarrow \\mathbb{R}^m'))",
   "id": "9e5fe003e09b81f",
   "outputs": [],
   "execution_count": null
  },
  {
   "metadata": {},
   "cell_type": "code",
   "source": [
    "# the transformation of their sum is equivalent to the sum of their individual transformations\n",
    "display(Math(r'T(\\overrightarrow{u} + \\overrightarrow{v}) = T(\\overrightarrow{u})) + T(\\overrightarrow{v})'))"
   ],
   "id": "e1e321fc3b1cb471",
   "outputs": [],
   "execution_count": null
  },
  {
   "metadata": {},
   "cell_type": "code",
   "source": [
    "# and the transformation of a scalar multiple of the vector is equivalent to the product of the scalar and the transformation of the original vector\n",
    "display(Math(\n",
    "    r'T(c \\overrightarrow{u}) = c T(\\overrightarrow{u}) \\space and \\space T(c \\overrightarrow{u}) = c T(\\overrightarrow{u})'))\n"
   ],
   "id": "c384176ad1bb3755",
   "outputs": [],
   "execution_count": null
  },
  {
   "metadata": {},
   "cell_type": "code",
   "source": "# Question: Use a matrix-vector product to reflect the square with vertices(−3,2), (4,2), (4, − 5), and (−3, − 5) over the x-axis. What are the vertices of the reflected square?",
   "id": "542e713cb2728047",
   "outputs": [],
   "execution_count": null
  },
  {
   "metadata": {},
   "cell_type": "code",
   "source": [
    "R_x = np.array([[1, 0], [0, -1]])  # -1 multiplication on the y-axis\n",
    "vertices = np.array([[-3, 2], [4, 2], [4, -5], [-3, -5]])\n",
    "reflected_vertices = np.dot(vertices, R_x)\n",
    "reflected_vertices"
   ],
   "id": "ef7903bc1a57322c",
   "outputs": [],
   "execution_count": null
  },
  {
   "metadata": {},
   "cell_type": "code",
   "source": [
    "R_x = np.array([[2, 0], [0, 1]])  # 2 multiplication on identity matrix\n",
    "vertices = np.array([[-3, 6], [3, 1], [-1, 1], [-1, -6]])\n",
    "vertices"
   ],
   "id": "762acf2eeb16ab5d",
   "outputs": [],
   "execution_count": null
  },
  {
   "metadata": {},
   "cell_type": "code",
   "source": "np.dot(vertices, R_x)",
   "id": "f614736c9062f2bd",
   "outputs": [],
   "execution_count": null
  },
  {
   "metadata": {},
   "cell_type": "markdown",
   "source": [
    "R_x = np.array([[-1, 0], [0, (1/3)]])  # reflect over y-axis then compress it vertically by factor of 3\n",
    "vertices = np.array([[1,1], [0,4], [-4,-4], [-3, 1]])\n",
    "np.dot(vertices, R_x)"
   ],
   "id": "1655c84fad5093ed"
  },
  {
   "metadata": {},
   "cell_type": "markdown",
   "source": [
    "# Linear Transformations as Rotations\n",
    "***"
   ],
   "id": "5882f73c10968df9"
  },
  {
   "metadata": {},
   "cell_type": "code",
   "source": [
    "print('\\n' + '-' * 80 + '\\n')\n",
    "\n",
    "display(Math(r'''\\mathbb{R}^2\\theta \\space = \\space \\left[\\begin{matrix}\n",
    "\\cos{\\left(\\theta \\right)} & -\\sin{\\left(\\theta \\right)} \\\\\n",
    "\\sin{\\left(\\theta \\right)} & \\cos{\\left(\\theta \\right)}\n",
    "\\end{matrix}\\right]'''))\n",
    "\n",
    "print('\\n' + '-' * 80 + '\\n')\n"
   ],
   "id": "953419c8ef60512a",
   "outputs": [],
   "execution_count": null
  },
  {
   "metadata": {},
   "cell_type": "code",
   "source": "",
   "id": "c898a51cefb93c52",
   "outputs": [],
   "execution_count": null
  },
  {
   "metadata": {},
   "cell_type": "code",
   "source": [
    "display(Math(r'\\mathbb{R}^3\\theta \\space = '))\n",
    "\n",
    "print('\\n' + '-' * 80 + '\\n')\n",
    "\n",
    "display(Math(r'''Rot_{\\theta\\text{ around x}} \\space = \\begin{bmatrix}\n",
    "1 & 0 & 0 \\\\\\\n",
    "0 & \\cos{\\left(\\theta \\right)} & -\\sin{\\left(\\theta \\right)} \\\\\n",
    "0 & \\sin{\\left(\\theta \\right)} & \\cos{\\left(\\theta \\right)}\n",
    "\\end{bmatrix}'''))\n",
    "\n",
    "print('\\n' + '-' * 80 + '\\n')\n",
    "\n",
    "display(Math(r'''Rot_{\\theta\\text{ around y}} \\space = \\begin{bmatrix}\n",
    "\\cos{\\left(\\theta \\right)} & 0 & \\sin{\\left(\\theta \\right)} \\\\\\\n",
    "0 & 1 & 0 \\\\\n",
    "-\\sin{\\left(\\theta \\right)} & 0 & \\cos{\\left(\\theta \\right)}\n",
    "\\end{bmatrix}'''))\n",
    "\n",
    "print('\\n' + '-' * 80 + '\\n')\n",
    "\n",
    "display(Math(r'''Rot_{\\theta\\text{ around z}} \\space = \\begin{bmatrix}\n",
    "\\cos{\\left(\\theta \\right)} & -\\sin{\\left(\\theta \\right)} & 0 \\\\\\\n",
    "\\sin{\\left(\\theta \\right)} & \\cos{\\left(\\theta \\right)} & 0 \\\\\n",
    "0 & 0 & 1 \\\\\n",
    "\\end{bmatrix}'''))\n",
    "\n",
    "print('\\n' + '-' * 80 + '\\n')\n",
    "\n",
    "\n"
   ],
   "id": "1f802b07ac7be923",
   "outputs": [],
   "execution_count": null
  },
  {
   "metadata": {},
   "cell_type": "code",
   "source": [
    "def rotate_vector(vec: np.typing.ArrayLike = np.array([0, 0]), degrees: int = 90, axis: str = 'x') -> None:\n",
    "    if vec.shape[0] > 3:\n",
    "        raise ValueError(\"Vector must have 2 or 3 dimensions.\")\n",
    "\n",
    "    theta = np.radians(degrees)\n",
    "    R = np.eye(vec.shape[0])  # Instantiated and but not used\n",
    "    rotated_vec = np.zeros_like(vec)  # Instantiated and but not used\n",
    "\n",
    "    if vec.shape[0] == 3:\n",
    "\n",
    "        if axis == 'z':\n",
    "            R = np.array([[np.cos(theta), -np.sin(theta), 0], [np.sin(theta), np.cos(theta), 0], [0, 0, 1]])\n",
    "        elif axis == 'y':\n",
    "            R = np.array([[np.cos(theta), 0, np.sin(theta)], [0, 1, 0], [-np.sin(theta), 0, np.cos(theta)]])\n",
    "        elif axis == 'x':\n",
    "            R = np.array([[1, 0, 0], [0, np.cos(theta), -np.sin(theta)], [0, np.sin(theta), np.cos(theta)]])\n",
    "        else:\n",
    "            raise ValueError(\"Invalid axis. Must be 'x', 'y', or 'z'.\")\n",
    "\n",
    "        rotated_vec = np.dot(R, vec)\n",
    "\n",
    "        print('\\n' + '-' * 80 + '\\n')\n",
    "\n",
    "        print(\"Rotated vector:\\n\")\n",
    "\n",
    "        print(f\"x = {round(rotated_vec[0], 2)}\")\n",
    "        print(f\"y = {round(rotated_vec[1], 2)}\")\n",
    "        print(f\"z = {round(rotated_vec[2], 2)}\")\n",
    "\n",
    "        print('\\n' + '-' * 80 + '\\n')\n",
    "\n",
    "\n",
    "\n",
    "    elif vec.shape[0] == 2:\n",
    "\n",
    "        # Define the rotation matrix rotation for 2d\n",
    "        R = np.array([[np.cos(theta), -np.sin(theta)],\n",
    "                      [np.sin(theta), np.cos(theta)]])\n",
    "\n",
    "        # Apply the rotation to the vector \n",
    "        rotated_vec = np.dot(R, vec)\n",
    "        print('\\n' + '-' * 80 + '\\n')\n",
    "\n",
    "        print(\"Rotated vector:\\n\")\n",
    "\n",
    "        print(f\"x = {round(rotated_vec[0], 2)}\")\n",
    "        print(f\"y = {round(rotated_vec[1], 2)}\")\n",
    "\n",
    "        print('\\n' + '-' * 80 + '\\n')\n",
    "\n"
   ],
   "id": "692ebc3ebcc0b997",
   "outputs": [],
   "execution_count": null
  },
  {
   "metadata": {},
   "cell_type": "code",
   "source": "rotate_vector(np.array([-2, 3, -1]), 225, 'x')",
   "id": "e5de4b79d6620a44",
   "outputs": [],
   "execution_count": null
  },
  {
   "metadata": {},
   "cell_type": "markdown",
   "source": [
    "# Adding and Scaling Linear Transformations\n",
    "***"
   ],
   "id": "5a5f8e43690fb994"
  },
  {
   "metadata": {},
   "cell_type": "code",
   "source": [
    "print('\\n' + '-' * 80 + '\\n')\n",
    "display(Math(\n",
    "    r'S: \\space \\mathbb{R}^n \\rightarrow \\mathbb{R}^m \\space\\space\\space A\\overrightarrow{X} \\space\\space\\space A = M \\space x \\space N'))\n",
    "display(Math(\n",
    "    r'T: \\space \\mathbb{R}^n \\rightarrow \\mathbb{R}^m \\space\\space\\space B\\overrightarrow{X} \\space\\space\\space B = M \\space x \\space N'))\n",
    "print('\\n' + '-' * 80 + '\\n')\n"
   ],
   "id": "f063e05ae3736e95",
   "outputs": [],
   "execution_count": null
  },
  {
   "metadata": {},
   "cell_type": "code",
   "source": [
    "print('\\n' + '-' * 80 + '\\n')\n",
    "display(Math('(S + T)(\\overrightarrow{X}) = S(\\overrightarrow{X}) + T(\\overrightarrow{X})'))\n",
    "display(Math(r'\\hspace{53pt} = A\\overrightarrow{X} + B\\overrightarrow{X}'))\n",
    "display(Math(r'\\hspace{53pt} = (A + B)\\overrightarrow{X}'))\n",
    "print('\\n' + '-' * 80 + '\\n')"
   ],
   "id": "f971fb609c446be3",
   "outputs": [],
   "execution_count": null
  },
  {
   "metadata": {},
   "cell_type": "code",
   "source": [
    "# Question 1: Find the product of a scalar c = −3 and the transformation T(⃗ x ).\n",
    "\n",
    "T_x = np.array([[2, -1], [0, 5]])\n",
    "\n",
    "c = -3\n",
    "\n",
    "T_c_x = c * T_x"
   ],
   "id": "f13242d60ddcffa3",
   "outputs": [],
   "execution_count": null
  },
  {
   "metadata": {},
   "cell_type": "code",
   "source": "T_c_x",
   "id": "f482feda7fcb2b21",
   "outputs": [],
   "execution_count": null
  },
  {
   "metadata": {},
   "cell_type": "code",
   "source": [
    "# Question 2: Find the sum of the transformations S(⃗ x ) and T(⃗ x ).\n",
    "\n",
    "\n",
    "S_x = np.array([[3, 6], [0, -1]])\n",
    "\n",
    "T_x = np.array([[-1, 4], [2, 4]])\n",
    "\n",
    "S_plus_T_x = S_x + T_x\n",
    "\n",
    "S_plus_T_x"
   ],
   "id": "7019d636869a6539",
   "outputs": [],
   "execution_count": null
  },
  {
   "metadata": {},
   "cell_type": "markdown",
   "source": [
    "# Projections as Linear Transformations\n",
    "***"
   ],
   "id": "44d9d0f81346a44d"
  },
  {
   "metadata": {},
   "cell_type": "code",
   "source": [
    "\n",
    "print('\\n' + '-' * 80 + '\\n')\n",
    "display(Math(\n",
    "    r'P_L(\\overrightarrow{v}) \\space = \\space (\\frac{\\overrightarrow{v} \\cdot \\overrightarrow{x}}{\\overrightarrow{x} \\cdot \\overrightarrow{x}}) \\space \\overrightarrow{x}'))\n",
    "print('\\n' + '-' * 80 + '\\n')\n",
    "display(Math(\n",
    "    r'c \\space = \\space \\frac{\\overrightarrow{v} \\space \\cdot \\space \\overrightarrow{v}}{\\overrightarrow{x} \\space \\cdot \\space \\overrightarrow{x}} \\space'))\n",
    "print('\\n' + '-' * 80 + '\\n')\n",
    "display(Math(r'c \\space = \\space \\frac{\\overrightarrow{v} \\cdot \\overrightarrow{x}}{||\\overrightarrow{x}||^2} \\space'))\n",
    "print('\\n' + '-' * 80 + '\\n')\n",
    "display(Math(r'c \\space = \\space \\overrightarrow{v} \\cdot \\overrightarrow{x}'))\n",
    "print('\\n' + '-' * 80 + '\\n')\n",
    "display(Math(\n",
    "    r'(\\overrightarrow{v} \\cdot \\overrightarrow{x}) \\space) \\space \\overrightarrow{x} = \\space (\\overrightarrow{v} \\cdot \\hat{u}) \\space \\hat{u}'))\n",
    "print('\\n' + '-' * 80 + '\\n')"
   ],
   "id": "9a940d33eb2ccf31",
   "outputs": [],
   "execution_count": null
  },
  {
   "metadata": {},
   "cell_type": "code",
   "source": [
    "display(Math(\n",
    "    r'c \\space = \\space \\frac{\\overrightarrow{v} \\space \\cdot \\space \\overrightarrow{v}}{\\overrightarrow{x} \\space \\cdot \\space \\overrightarrow{x}} \\space'))"
   ],
   "id": "70d7dec12d2da7df",
   "outputs": [],
   "execution_count": null
  },
  {
   "metadata": {},
   "cell_type": "code",
   "source": [
    "# Question 1: Given the vector v = (-2, 0), find the projection of v onto L\n",
    "\n",
    "x = np.array([-2, 0])\n",
    "v = np.array([1, 5])\n",
    "\n",
    "c = (np.dot(v, x) / np.linalg.norm(x) ** 2) * x\n",
    "\n",
    "c"
   ],
   "id": "22876452b19dc12f",
   "outputs": [],
   "execution_count": null
  },
  {
   "metadata": {},
   "cell_type": "code",
   "source": [
    "# Question 2\n",
    "\n",
    "x = np.array([3, -4])\n",
    "v = np.array([-2, -1])\n",
    "\n",
    "c = (np.dot(v, x) / np.linalg.norm(x) ** 2) * x\n",
    "\n",
    "c"
   ],
   "id": "1dbe16ce6c283b3d",
   "outputs": [],
   "execution_count": null
  },
  {
   "metadata": {},
   "cell_type": "markdown",
   "source": [
    "# Composition of Linear Transformations\n",
    "***\n",
    "In order to compose linear transformations, we multiply the matrices representing the transformations in the reverse order.\n",
    "\n",
    "First multiplying the transformation matrices S and T, then multiplying the result by the transformation matrix R."
   ],
   "id": "9898959886bdae60"
  },
  {
   "metadata": {},
   "cell_type": "code",
   "source": [
    "def compose_transformations(S: np.ndarray, T: np.ndarray, x: np.ndarray) -> np.ndarray:\n",
    "    R_x = T @ S\n",
    "\n",
    "    return R_x.dot(x)"
   ],
   "id": "72a63be4ad678434",
   "outputs": [],
   "execution_count": null
  },
  {
   "metadata": {},
   "cell_type": "code",
   "source": [
    "# Question 1: If S : X → Y and T : Y → Z, then what is T(S(⃗ x ))?\n",
    "\n",
    "z = compose_transformations(\n",
    "    S=np.array([[-1, 1], [3, 0]]),\n",
    "    T=np.array([[2, -1], [0, -2]]),\n",
    "    x=np.array([1, -1]))\n",
    "\n",
    "z"
   ],
   "id": "3eee551632077ad8",
   "outputs": [],
   "execution_count": null
  },
  {
   "metadata": {},
   "cell_type": "code",
   "source": [
    "z = compose_transformations(\n",
    "    S=np.array([[2, 0], [-1, 4]]),\n",
    "    T=np.array([[-1, -2], [3, 0]]),\n",
    "    x=np.array([3, 2])\n",
    ")\n",
    "\n",
    "z"
   ],
   "id": "710a85a8568a71e1",
   "outputs": [],
   "execution_count": null
  },
  {
   "metadata": {},
   "cell_type": "code",
   "source": [
    "z = compose_transformations(\n",
    "    S=np.array([[1, -1, 2], [-4, 0, 0], [0, 1, -1]]),\n",
    "    T=np.array([[0, 0, -3], [1, -2, 0], [4, 0, 0]]),\n",
    "    x=np.array([[2], [-4], [0]])\n",
    ")\n",
    "\n",
    "z"
   ],
   "id": "978d92f0390016ef",
   "outputs": [],
   "execution_count": null
  }
 ],
 "metadata": {
  "kernelspec": {
   "display_name": "Python 3",
   "language": "python",
   "name": "python3"
  },
  "language_info": {
   "codemirror_mode": {
    "name": "ipython",
    "version": 2
   },
   "file_extension": ".py",
   "mimetype": "text/x-python",
   "name": "python",
   "nbconvert_exporter": "python",
   "pygments_lexer": "ipython2",
   "version": "2.7.6"
  }
 },
 "nbformat": 4,
 "nbformat_minor": 5
}
