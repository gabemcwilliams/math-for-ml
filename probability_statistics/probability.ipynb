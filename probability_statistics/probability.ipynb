{
 "cells": [
  {
   "cell_type": "code",
   "id": "initial_id",
   "metadata": {
    "collapsed": true,
    "ExecuteTime": {
     "end_time": "2025-04-19T00:55:02.041893Z",
     "start_time": "2025-04-19T00:55:00.832416Z"
    }
   },
   "source": [
    "import re\n",
    "import pandas as pd\n",
    "import numpy as np\n",
    "import scipy as sp\n",
    "import sympy as sym\n",
    "from IPython.display import display, Math, Latex\n",
    "import math\n",
    "import matplotlib.pyplot as plt\n",
    "from matplotlib_venn import venn2, venn3\n",
    "from fractions import Fraction"
   ],
   "outputs": [],
   "execution_count": 1
  },
  {
   "metadata": {},
   "cell_type": "markdown",
   "source": [
    "# Simple Probability\n",
    "***\n",
    "Probability is a measure of the likelihood that an event will occur.\n",
    "\n",
    "All probabilities must be between 0 (impossible) and 1 (guaranteed)."
   ],
   "id": "b2dfb0548a670a66"
  },
  {
   "metadata": {},
   "cell_type": "markdown",
   "source": "## Probability",
   "id": "2f7945a6ba8c9d57"
  },
  {
   "metadata": {
    "ExecuteTime": {
     "end_time": "2025-04-19T00:55:02.305295Z",
     "start_time": "2025-04-19T00:55:02.299911Z"
    }
   },
   "cell_type": "code",
   "source": [
    "display(Math(r'Probability \\ = \\ \\frac{outcomes \\ that \\ meet \\ our \\ criteria}{all \\ possible \\ outcomes}'))\n",
    "print('\\n')\n",
    "display(Math(r'all \\ possible \\ outcomes = \\ \"Sample \\ Space\"'))\n",
    "print('\\n')"
   ],
   "id": "cd8099f791eeec98",
   "outputs": [
    {
     "data": {
      "text/plain": [
       "<IPython.core.display.Math object>"
      ],
      "text/latex": "$\\displaystyle Probability \\ = \\ \\frac{outcomes \\ that \\ meet \\ our \\ criteria}{all \\ possible \\ outcomes}$"
     },
     "metadata": {},
     "output_type": "display_data"
    },
    {
     "name": "stdout",
     "output_type": "stream",
     "text": [
      "\n",
      "\n"
     ]
    },
    {
     "data": {
      "text/plain": [
       "<IPython.core.display.Math object>"
      ],
      "text/latex": "$\\displaystyle all \\ possible \\ outcomes = \\ \"Sample \\ Space\"$"
     },
     "metadata": {},
     "output_type": "display_data"
    },
    {
     "name": "stdout",
     "output_type": "stream",
     "text": [
      "\n",
      "\n"
     ]
    }
   ],
   "execution_count": 2
  },
  {
   "metadata": {},
   "cell_type": "markdown",
   "source": [
    "## Experimental (empirical) and Theoretical (classical) Probability\n",
    "Experimental probability (also called empirical probability) is the probability we find when we run experiments.\n",
    "\n",
    "Theoretical probability (also called classical probability) is the probability that an event will occur if we could run an infinite number of experiments"
   ],
   "id": "b39a3bf9f6f022b0"
  },
  {
   "metadata": {
    "ExecuteTime": {
     "end_time": "2025-04-19T00:55:02.322687Z",
     "start_time": "2025-04-19T00:55:02.319980Z"
    }
   },
   "cell_type": "code",
   "source": [
    "# Question 2\n",
    "\n",
    "sample_data = {\n",
    "    \"coconut\": 2,\n",
    "    \"orange\": 3,\n",
    "    \"caramel\": 4,\n",
    "    \"raspberry\": 1\n",
    "}"
   ],
   "id": "4bce769137c6ddcb",
   "outputs": [],
   "execution_count": 3
  },
  {
   "metadata": {
    "ExecuteTime": {
     "end_time": "2025-04-19T00:55:02.329748Z",
     "start_time": "2025-04-19T00:55:02.327191Z"
    }
   },
   "cell_type": "code",
   "source": "sum_of_fruits = sum(sample_data.values())",
   "id": "477abcafd15bc55",
   "outputs": [],
   "execution_count": 4
  },
  {
   "metadata": {
    "ExecuteTime": {
     "end_time": "2025-04-19T00:55:02.337146Z",
     "start_time": "2025-04-19T00:55:02.334917Z"
    }
   },
   "cell_type": "code",
   "source": "P_coconut = sample_data[\"coconut\"] / sum_of_fruits",
   "id": "2991d8a44096f0d5",
   "outputs": [],
   "execution_count": 5
  },
  {
   "metadata": {
    "ExecuteTime": {
     "end_time": "2025-04-19T00:55:02.349025Z",
     "start_time": "2025-04-19T00:55:02.345868Z"
    }
   },
   "cell_type": "code",
   "source": "P_coconut",
   "id": "883dac2b1899a778",
   "outputs": [
    {
     "data": {
      "text/plain": [
       "0.2"
      ]
     },
     "execution_count": 6,
     "metadata": {},
     "output_type": "execute_result"
    }
   ],
   "execution_count": 6
  },
  {
   "metadata": {
    "ExecuteTime": {
     "end_time": "2025-04-19T00:55:02.361973Z",
     "start_time": "2025-04-19T00:55:02.359241Z"
    }
   },
   "cell_type": "code",
   "source": [
    "# Question 3\n",
    "\n",
    "sample_data = {\n",
    "    \"whale\": 4,\n",
    "    \"tuna\": 6,\n",
    "    \"dolphin\": 1,\n",
    "    \"mackerel\": 3\n",
    "}\n",
    "\n",
    "sum_of_fish = sum(sample_data.values())\n",
    "\n",
    "P_whale = sample_data[\"whale\"] / sum_of_fish"
   ],
   "id": "334a297d3b5f1269",
   "outputs": [],
   "execution_count": 7
  },
  {
   "metadata": {
    "ExecuteTime": {
     "end_time": "2025-04-19T00:55:02.408545Z",
     "start_time": "2025-04-19T00:55:02.405291Z"
    }
   },
   "cell_type": "code",
   "source": "P_whale",
   "id": "57a8cd74cd65f5ae",
   "outputs": [
    {
     "data": {
      "text/plain": [
       "0.2857142857142857"
      ]
     },
     "execution_count": 8,
     "metadata": {},
     "output_type": "execute_result"
    }
   ],
   "execution_count": 8
  },
  {
   "metadata": {},
   "cell_type": "markdown",
   "source": [
    "# Addition Rule and Union vs Intersection\n",
    "***\n",
    "The Addition Rule states that the probability of the union of two events is equal to the sum of their individual probabilities minus the probability of their intersection:\n",
    "\n",
    "The Intersection Rule states that the probability of the intersection of two events is equal to the product of their individual probabilities:\n",
    "\n",
    "The Union of two events is the set of all elements that are in either event A or event B, or both.\n",
    "\n",
    "The Intersection of two events is the set of all elements that are in both events A and event B.\n"
   ],
   "id": "7637be521daa3cf3"
  },
  {
   "metadata": {},
   "cell_type": "markdown",
   "source": "## Addition Rule",
   "id": "4f33dfdd982a8f87"
  },
  {
   "metadata": {
    "ExecuteTime": {
     "end_time": "2025-04-19T00:55:02.462935Z",
     "start_time": "2025-04-19T00:55:02.456694Z"
    }
   },
   "cell_type": "code",
   "source": [
    "display(Math(r'The\\ symbol \\ \"\\cup\" \\ is \\ another \\ way \\ of \\ describing \\ the \\ operation \\ OR'))\n",
    "display(Math(r'The \\ symbol \\ \"\\cap\" \\ is \\ another \\ way \\ of \\ describing  \\ the \\ operation\\ AND'))\n",
    "display(Math(r'P(A \\cup B) = P(A) + P(A \\cap B)'))\n",
    "display(Math(\n",
    "    r'The \\ Probability \\ of \\ either \\ event \\ A \\ or \\ event \\ B \\ occurring \\ is \\ the \\ sum \\ of \\ their \\ individual \\ probabilities \\ minus \\ the \\ probability \\ of \\ their \\ intersection'))"
   ],
   "id": "ef7bcfe7365dbcc2",
   "outputs": [
    {
     "data": {
      "text/plain": [
       "<IPython.core.display.Math object>"
      ],
      "text/latex": "$\\displaystyle The\\ symbol \\ \"\\cup\" \\ is \\ another \\ way \\ of \\ describing \\ the \\ operation \\ OR$"
     },
     "metadata": {},
     "output_type": "display_data"
    },
    {
     "data": {
      "text/plain": [
       "<IPython.core.display.Math object>"
      ],
      "text/latex": "$\\displaystyle The \\ symbol \\ \"\\cap\" \\ is \\ another \\ way \\ of \\ describing  \\ the \\ operation\\ AND$"
     },
     "metadata": {},
     "output_type": "display_data"
    },
    {
     "data": {
      "text/plain": [
       "<IPython.core.display.Math object>"
      ],
      "text/latex": "$\\displaystyle P(A \\cup B) = P(A) + P(A \\cap B)$"
     },
     "metadata": {},
     "output_type": "display_data"
    },
    {
     "data": {
      "text/plain": [
       "<IPython.core.display.Math object>"
      ],
      "text/latex": "$\\displaystyle The \\ Probability \\ of \\ either \\ event \\ A \\ or \\ event \\ B \\ occurring \\ is \\ the \\ sum \\ of \\ their \\ individual \\ probabilities \\ minus \\ the \\ probability \\ of \\ their \\ intersection$"
     },
     "metadata": {},
     "output_type": "display_data"
    }
   ],
   "execution_count": 9
  },
  {
   "metadata": {
    "ExecuteTime": {
     "end_time": "2025-04-19T00:55:02.474159Z",
     "start_time": "2025-04-19T00:55:02.470371Z"
    }
   },
   "cell_type": "code",
   "source": [
    "def calculate_probability(\n",
    "        A: int | float = None,\n",
    "        B: int | float = None,\n",
    "        int_AB: int | float = 0,\n",
    "        total_outcomes: int | float = None,\n",
    "        how: str = 'OR'\n",
    ") -> float:\n",
    "    print(f'A: {A}')\n",
    "    print(f'B: {B}')\n",
    "    print(f'Intersection (A && B): {int_AB}')\n",
    "    print(f'Total events: {total_outcomes}')\n",
    "    print(f'How: {how}')\n",
    "\n",
    "    P_A = round(A / total_outcomes, 4)\n",
    "    print(f'P(A) = {P_A}')\n",
    "\n",
    "    P_B = round(B / total_outcomes, 4)\n",
    "    print(f'P(B) = {P_B}')\n",
    "\n",
    "    if how.lower() == 'or':\n",
    "        P_A_or_B = round(P_A + P_B - int_AB, 4)\n",
    "        print(f'P(A || B) = Decimal: {P_A_or_B}')\n",
    "\n",
    "        return P_A_or_B\n",
    "\n",
    "    elif how.lower() == 'and':\n",
    "        P_A_and_B = float(round(P_A * P_B, 4))\n",
    "        print(f'P(A && B) = Decimal: {P_A_and_B}')\n",
    "\n",
    "        return P_A_and_B"
   ],
   "id": "6985278da8bd004e",
   "outputs": [],
   "execution_count": 10
  },
  {
   "metadata": {
    "ExecuteTime": {
     "end_time": "2025-04-19T00:55:02.486398Z",
     "start_time": "2025-04-19T00:55:02.482736Z"
    }
   },
   "cell_type": "code",
   "source": "calculate_probability(10, 7, 0, 17)",
   "id": "51eac5e80a23923a",
   "outputs": [
    {
     "name": "stdout",
     "output_type": "stream",
     "text": [
      "A: 10\n",
      "B: 7\n",
      "Intersection (A && B): 0\n",
      "Total events: 17\n",
      "How: OR\n",
      "P(A) = 0.5882\n",
      "P(B) = 0.4118\n",
      "P(A || B) = Decimal: 1.0\n"
     ]
    },
    {
     "data": {
      "text/plain": [
       "1.0"
      ]
     },
     "execution_count": 11,
     "metadata": {},
     "output_type": "execute_result"
    }
   ],
   "execution_count": 11
  },
  {
   "metadata": {
    "ExecuteTime": {
     "end_time": "2025-04-19T00:55:02.499639Z",
     "start_time": "2025-04-19T00:55:02.496122Z"
    }
   },
   "cell_type": "code",
   "source": [
    "# Question 1\n",
    "\n",
    "# six sided die: probability of rolling both odd and divisible by 3\n",
    "\n",
    "nums_of_odd = 3\n",
    "\n",
    "nums_divisible_by_3 = 2\n",
    "\n",
    "total_outcomes = 6\n",
    "\n",
    "calculate_probability(\n",
    "    nums_of_odd,\n",
    "    nums_divisible_by_3,\n",
    "    int_AB=0,\n",
    "    total_outcomes=total_outcomes,\n",
    "    how='AND'\n",
    ")\n"
   ],
   "id": "264d32ee0202e459",
   "outputs": [
    {
     "name": "stdout",
     "output_type": "stream",
     "text": [
      "A: 3\n",
      "B: 2\n",
      "Intersection (A && B): 0\n",
      "Total events: 6\n",
      "How: AND\n",
      "P(A) = 0.5\n",
      "P(B) = 0.3333\n",
      "P(A && B) = Decimal: 0.1666\n"
     ]
    },
    {
     "data": {
      "text/plain": [
       "0.1666"
      ]
     },
     "execution_count": 12,
     "metadata": {},
     "output_type": "execute_result"
    }
   ],
   "execution_count": 12
  },
  {
   "metadata": {},
   "cell_type": "markdown",
   "source": [
    "# Independent and Dependent Events and Conditional Probability\n",
    "***\n",
    "Independent events are events that occur independently of each other. The probability of both events occurring is the product of their individual probabilities.\n",
    "\n",
    "Dependent events are events that occur in some way that affects the probability of the other event. \n",
    "\n",
    "The probability of both events occurring is the product of their individual probabilities, but the product of their individual probabilities is multiplied by the probability of the dependent event occurring.\n",
    "\n",
    "Conditional probability is the probability of an event occurring given that another event has already occurred."
   ],
   "id": "ac48c23d31706894"
  },
  {
   "metadata": {},
   "cell_type": "markdown",
   "source": "## Multiplication Rule for Independent Events",
   "id": "11ffa6c5311059e6"
  },
  {
   "metadata": {
    "ExecuteTime": {
     "end_time": "2025-04-19T00:55:02.514560Z",
     "start_time": "2025-04-19T00:55:02.511299Z"
    }
   },
   "cell_type": "code",
   "source": [
    "# coin flip\n",
    "\n",
    "# number of tails\n",
    "A = 1\n",
    "\n",
    "# number of total outcomes\n",
    "total_outcomes = 2\n",
    "\n",
    "# number of trials (coin flips)\n",
    "trials = 2\n",
    "\n",
    "# probability of getting tails on the first flip\n",
    "P_t1 = round(A / total_outcomes, 4)\n",
    "print(f'Probability of getting tails on the first flip (independent events): {P_t1}')\n",
    "\n",
    "# probability of getting tails on the second flip \n",
    "P_t2 = round(A / total_outcomes, 4)\n",
    "print(f'Probability of getting tails on the second flip (independent events): {P_t2}')\n",
    "\n",
    "# probability of getting both tails (independent events)\n",
    "P_TT = round(P_t1 * P_t2, 4)\n",
    "print(f'Probability of getting both tails (independent events): {P_TT}')\n"
   ],
   "id": "16a4bf86cb035cdd",
   "outputs": [
    {
     "name": "stdout",
     "output_type": "stream",
     "text": [
      "Probability of getting tails on the first flip (independent events): 0.5\n",
      "Probability of getting tails on the second flip (independent events): 0.5\n",
      "Probability of getting both tails (independent events): 0.25\n"
     ]
    }
   ],
   "execution_count": 13
  },
  {
   "metadata": {
    "ExecuteTime": {
     "end_time": "2025-04-19T00:55:02.526610Z",
     "start_time": "2025-04-19T00:55:02.523583Z"
    }
   },
   "cell_type": "code",
   "source": [
    "def probability_of_independent_events(trials: int = 2, possible_outcomes: int = 1, total_outcomes: int = 1) -> float:\n",
    "    print(f'Number of trials: {trials}')\n",
    "\n",
    "    probability_of_event = 1\n",
    "\n",
    "    for t in range(trials):\n",
    "        probability_of_event = probability_of_event * (possible_outcomes * 1 / total_outcomes)\n",
    "        print(f'Probability of event on trial {t + 1}: {probability_of_event}')\n",
    "\n"
   ],
   "id": "8473411093b014bd",
   "outputs": [],
   "execution_count": 14
  },
  {
   "metadata": {
    "ExecuteTime": {
     "end_time": "2025-04-19T00:55:02.540521Z",
     "start_time": "2025-04-19T00:55:02.538173Z"
    }
   },
   "cell_type": "code",
   "source": "probability_of_independent_events(trials=2, possible_outcomes=1, total_outcomes=2)",
   "id": "b596afe89b226d1d",
   "outputs": [
    {
     "name": "stdout",
     "output_type": "stream",
     "text": [
      "Number of trials: 2\n",
      "Probability of event on trial 1: 0.5\n",
      "Probability of event on trial 2: 0.25\n"
     ]
    }
   ],
   "execution_count": 15
  },
  {
   "metadata": {
    "ExecuteTime": {
     "end_time": "2025-04-19T00:55:02.554550Z",
     "start_time": "2025-04-19T00:55:02.552175Z"
    }
   },
   "cell_type": "code",
   "source": [
    "def probability_of_dependent_events(trials: int = None, total_outcomes: int = None) -> float:\n",
    "    print(f'Number of trials: {trials}')\n",
    "    print(f'Total possible outcomes: {total_outcomes}')\n",
    "\n",
    "    for t in np.arange(trials):\n",
    "        print('-' * 80)\n",
    "        probability_of_event = 1 / total_outcomes\n",
    "        print(f'Trial: {t + 1}')\n",
    "        print(f'Total possible outcomes: {total_outcomes}')\n",
    "        print(\n",
    "            f'Probability of getting event on trial {t + 1}: {probability_of_event} or {probability_of_event * 100:.2f}%')\n",
    "        total_outcomes -= 1\n"
   ],
   "id": "839aa332a10d18c3",
   "outputs": [],
   "execution_count": 16
  },
  {
   "metadata": {
    "ExecuteTime": {
     "end_time": "2025-04-19T00:55:02.567957Z",
     "start_time": "2025-04-19T00:55:02.565110Z"
    }
   },
   "cell_type": "code",
   "source": "probability_of_dependent_events(trials=52, total_outcomes=52)",
   "id": "8b3e27b47e952d3",
   "outputs": [
    {
     "name": "stdout",
     "output_type": "stream",
     "text": [
      "Number of trials: 52\n",
      "Total possible outcomes: 52\n",
      "--------------------------------------------------------------------------------\n",
      "Trial: 1\n",
      "Total possible outcomes: 52\n",
      "Probability of getting event on trial 1: 0.019230769230769232 or 1.92%\n",
      "--------------------------------------------------------------------------------\n",
      "Trial: 2\n",
      "Total possible outcomes: 51\n",
      "Probability of getting event on trial 2: 0.0196078431372549 or 1.96%\n",
      "--------------------------------------------------------------------------------\n",
      "Trial: 3\n",
      "Total possible outcomes: 50\n",
      "Probability of getting event on trial 3: 0.02 or 2.00%\n",
      "--------------------------------------------------------------------------------\n",
      "Trial: 4\n",
      "Total possible outcomes: 49\n",
      "Probability of getting event on trial 4: 0.02040816326530612 or 2.04%\n",
      "--------------------------------------------------------------------------------\n",
      "Trial: 5\n",
      "Total possible outcomes: 48\n",
      "Probability of getting event on trial 5: 0.020833333333333332 or 2.08%\n",
      "--------------------------------------------------------------------------------\n",
      "Trial: 6\n",
      "Total possible outcomes: 47\n",
      "Probability of getting event on trial 6: 0.02127659574468085 or 2.13%\n",
      "--------------------------------------------------------------------------------\n",
      "Trial: 7\n",
      "Total possible outcomes: 46\n",
      "Probability of getting event on trial 7: 0.021739130434782608 or 2.17%\n",
      "--------------------------------------------------------------------------------\n",
      "Trial: 8\n",
      "Total possible outcomes: 45\n",
      "Probability of getting event on trial 8: 0.022222222222222223 or 2.22%\n",
      "--------------------------------------------------------------------------------\n",
      "Trial: 9\n",
      "Total possible outcomes: 44\n",
      "Probability of getting event on trial 9: 0.022727272727272728 or 2.27%\n",
      "--------------------------------------------------------------------------------\n",
      "Trial: 10\n",
      "Total possible outcomes: 43\n",
      "Probability of getting event on trial 10: 0.023255813953488372 or 2.33%\n",
      "--------------------------------------------------------------------------------\n",
      "Trial: 11\n",
      "Total possible outcomes: 42\n",
      "Probability of getting event on trial 11: 0.023809523809523808 or 2.38%\n",
      "--------------------------------------------------------------------------------\n",
      "Trial: 12\n",
      "Total possible outcomes: 41\n",
      "Probability of getting event on trial 12: 0.024390243902439025 or 2.44%\n",
      "--------------------------------------------------------------------------------\n",
      "Trial: 13\n",
      "Total possible outcomes: 40\n",
      "Probability of getting event on trial 13: 0.025 or 2.50%\n",
      "--------------------------------------------------------------------------------\n",
      "Trial: 14\n",
      "Total possible outcomes: 39\n",
      "Probability of getting event on trial 14: 0.02564102564102564 or 2.56%\n",
      "--------------------------------------------------------------------------------\n",
      "Trial: 15\n",
      "Total possible outcomes: 38\n",
      "Probability of getting event on trial 15: 0.02631578947368421 or 2.63%\n",
      "--------------------------------------------------------------------------------\n",
      "Trial: 16\n",
      "Total possible outcomes: 37\n",
      "Probability of getting event on trial 16: 0.02702702702702703 or 2.70%\n",
      "--------------------------------------------------------------------------------\n",
      "Trial: 17\n",
      "Total possible outcomes: 36\n",
      "Probability of getting event on trial 17: 0.027777777777777776 or 2.78%\n",
      "--------------------------------------------------------------------------------\n",
      "Trial: 18\n",
      "Total possible outcomes: 35\n",
      "Probability of getting event on trial 18: 0.02857142857142857 or 2.86%\n",
      "--------------------------------------------------------------------------------\n",
      "Trial: 19\n",
      "Total possible outcomes: 34\n",
      "Probability of getting event on trial 19: 0.029411764705882353 or 2.94%\n",
      "--------------------------------------------------------------------------------\n",
      "Trial: 20\n",
      "Total possible outcomes: 33\n",
      "Probability of getting event on trial 20: 0.030303030303030304 or 3.03%\n",
      "--------------------------------------------------------------------------------\n",
      "Trial: 21\n",
      "Total possible outcomes: 32\n",
      "Probability of getting event on trial 21: 0.03125 or 3.12%\n",
      "--------------------------------------------------------------------------------\n",
      "Trial: 22\n",
      "Total possible outcomes: 31\n",
      "Probability of getting event on trial 22: 0.03225806451612903 or 3.23%\n",
      "--------------------------------------------------------------------------------\n",
      "Trial: 23\n",
      "Total possible outcomes: 30\n",
      "Probability of getting event on trial 23: 0.03333333333333333 or 3.33%\n",
      "--------------------------------------------------------------------------------\n",
      "Trial: 24\n",
      "Total possible outcomes: 29\n",
      "Probability of getting event on trial 24: 0.034482758620689655 or 3.45%\n",
      "--------------------------------------------------------------------------------\n",
      "Trial: 25\n",
      "Total possible outcomes: 28\n",
      "Probability of getting event on trial 25: 0.03571428571428571 or 3.57%\n",
      "--------------------------------------------------------------------------------\n",
      "Trial: 26\n",
      "Total possible outcomes: 27\n",
      "Probability of getting event on trial 26: 0.037037037037037035 or 3.70%\n",
      "--------------------------------------------------------------------------------\n",
      "Trial: 27\n",
      "Total possible outcomes: 26\n",
      "Probability of getting event on trial 27: 0.038461538461538464 or 3.85%\n",
      "--------------------------------------------------------------------------------\n",
      "Trial: 28\n",
      "Total possible outcomes: 25\n",
      "Probability of getting event on trial 28: 0.04 or 4.00%\n",
      "--------------------------------------------------------------------------------\n",
      "Trial: 29\n",
      "Total possible outcomes: 24\n",
      "Probability of getting event on trial 29: 0.041666666666666664 or 4.17%\n",
      "--------------------------------------------------------------------------------\n",
      "Trial: 30\n",
      "Total possible outcomes: 23\n",
      "Probability of getting event on trial 30: 0.043478260869565216 or 4.35%\n",
      "--------------------------------------------------------------------------------\n",
      "Trial: 31\n",
      "Total possible outcomes: 22\n",
      "Probability of getting event on trial 31: 0.045454545454545456 or 4.55%\n",
      "--------------------------------------------------------------------------------\n",
      "Trial: 32\n",
      "Total possible outcomes: 21\n",
      "Probability of getting event on trial 32: 0.047619047619047616 or 4.76%\n",
      "--------------------------------------------------------------------------------\n",
      "Trial: 33\n",
      "Total possible outcomes: 20\n",
      "Probability of getting event on trial 33: 0.05 or 5.00%\n",
      "--------------------------------------------------------------------------------\n",
      "Trial: 34\n",
      "Total possible outcomes: 19\n",
      "Probability of getting event on trial 34: 0.05263157894736842 or 5.26%\n",
      "--------------------------------------------------------------------------------\n",
      "Trial: 35\n",
      "Total possible outcomes: 18\n",
      "Probability of getting event on trial 35: 0.05555555555555555 or 5.56%\n",
      "--------------------------------------------------------------------------------\n",
      "Trial: 36\n",
      "Total possible outcomes: 17\n",
      "Probability of getting event on trial 36: 0.058823529411764705 or 5.88%\n",
      "--------------------------------------------------------------------------------\n",
      "Trial: 37\n",
      "Total possible outcomes: 16\n",
      "Probability of getting event on trial 37: 0.0625 or 6.25%\n",
      "--------------------------------------------------------------------------------\n",
      "Trial: 38\n",
      "Total possible outcomes: 15\n",
      "Probability of getting event on trial 38: 0.06666666666666667 or 6.67%\n",
      "--------------------------------------------------------------------------------\n",
      "Trial: 39\n",
      "Total possible outcomes: 14\n",
      "Probability of getting event on trial 39: 0.07142857142857142 or 7.14%\n",
      "--------------------------------------------------------------------------------\n",
      "Trial: 40\n",
      "Total possible outcomes: 13\n",
      "Probability of getting event on trial 40: 0.07692307692307693 or 7.69%\n",
      "--------------------------------------------------------------------------------\n",
      "Trial: 41\n",
      "Total possible outcomes: 12\n",
      "Probability of getting event on trial 41: 0.08333333333333333 or 8.33%\n",
      "--------------------------------------------------------------------------------\n",
      "Trial: 42\n",
      "Total possible outcomes: 11\n",
      "Probability of getting event on trial 42: 0.09090909090909091 or 9.09%\n",
      "--------------------------------------------------------------------------------\n",
      "Trial: 43\n",
      "Total possible outcomes: 10\n",
      "Probability of getting event on trial 43: 0.1 or 10.00%\n",
      "--------------------------------------------------------------------------------\n",
      "Trial: 44\n",
      "Total possible outcomes: 9\n",
      "Probability of getting event on trial 44: 0.1111111111111111 or 11.11%\n",
      "--------------------------------------------------------------------------------\n",
      "Trial: 45\n",
      "Total possible outcomes: 8\n",
      "Probability of getting event on trial 45: 0.125 or 12.50%\n",
      "--------------------------------------------------------------------------------\n",
      "Trial: 46\n",
      "Total possible outcomes: 7\n",
      "Probability of getting event on trial 46: 0.14285714285714285 or 14.29%\n",
      "--------------------------------------------------------------------------------\n",
      "Trial: 47\n",
      "Total possible outcomes: 6\n",
      "Probability of getting event on trial 47: 0.16666666666666666 or 16.67%\n",
      "--------------------------------------------------------------------------------\n",
      "Trial: 48\n",
      "Total possible outcomes: 5\n",
      "Probability of getting event on trial 48: 0.2 or 20.00%\n",
      "--------------------------------------------------------------------------------\n",
      "Trial: 49\n",
      "Total possible outcomes: 4\n",
      "Probability of getting event on trial 49: 0.25 or 25.00%\n",
      "--------------------------------------------------------------------------------\n",
      "Trial: 50\n",
      "Total possible outcomes: 3\n",
      "Probability of getting event on trial 50: 0.3333333333333333 or 33.33%\n",
      "--------------------------------------------------------------------------------\n",
      "Trial: 51\n",
      "Total possible outcomes: 2\n",
      "Probability of getting event on trial 51: 0.5 or 50.00%\n",
      "--------------------------------------------------------------------------------\n",
      "Trial: 52\n",
      "Total possible outcomes: 1\n",
      "Probability of getting event on trial 52: 1.0 or 100.00%\n"
     ]
    }
   ],
   "execution_count": 17
  },
  {
   "metadata": {
    "ExecuteTime": {
     "end_time": "2025-04-19T00:55:02.582493Z",
     "start_time": "2025-04-19T00:55:02.578888Z"
    }
   },
   "cell_type": "code",
   "source": [
    "# Question 1\n",
    "\n",
    "P_A = 0.5\n",
    "\n",
    "P_AB = .25\n",
    "\n",
    "P_B = round(P_AB / P_A, 4)\n",
    "\n",
    "P_B"
   ],
   "id": "cf29cf099879cb0",
   "outputs": [
    {
     "data": {
      "text/plain": [
       "0.5"
      ]
     },
     "execution_count": 18,
     "metadata": {},
     "output_type": "execute_result"
    }
   ],
   "execution_count": 18
  },
  {
   "metadata": {
    "ExecuteTime": {
     "end_time": "2025-04-19T00:55:02.594341Z",
     "start_time": "2025-04-19T00:55:02.591930Z"
    }
   },
   "cell_type": "code",
   "source": [
    "def find_missing_probability(P_known: float, P_product: float) -> float:\n",
    "    print(f'Probability of A: {P_known}')\n",
    "    print(f'Probability of A and B: {P_product}')\n",
    "\n",
    "    P_unknown = round(P_product / P_known, 4)\n",
    "    print(f'Probability of B: {P_unknown}')\n",
    "\n",
    "    return P_unknown"
   ],
   "id": "d4fe41dfcbef2f9e",
   "outputs": [],
   "execution_count": 19
  },
  {
   "metadata": {
    "ExecuteTime": {
     "end_time": "2025-04-19T00:55:02.607446Z",
     "start_time": "2025-04-19T00:55:02.603826Z"
    }
   },
   "cell_type": "code",
   "source": [
    "find_missing_probability(\n",
    "    P_known=0.875,\n",
    "    P_product=.7\n",
    ")"
   ],
   "id": "dd04edfd29dc3e92",
   "outputs": [
    {
     "name": "stdout",
     "output_type": "stream",
     "text": [
      "Probability of A: 0.875\n",
      "Probability of A and B: 0.7\n",
      "Probability of B: 0.8\n"
     ]
    },
    {
     "data": {
      "text/plain": [
       "0.8"
      ]
     },
     "execution_count": 20,
     "metadata": {},
     "output_type": "execute_result"
    }
   ],
   "execution_count": 20
  },
  {
   "metadata": {},
   "cell_type": "markdown",
   "source": [
    "# Bayes' Theorem\n",
    "***\n",
    "Bayes' theorem is a fundamental principle in probability theory and statistics that allows us to update the probability of a hypothesis given new evidence.\n"
   ],
   "id": "482ce86d50d6fd29"
  },
  {
   "metadata": {
    "ExecuteTime": {
     "end_time": "2025-04-19T00:55:02.626975Z",
     "start_time": "2025-04-19T00:55:02.618238Z"
    }
   },
   "cell_type": "code",
   "source": [
    "print('\\n')\n",
    "display(Math(r'P(A|B) \\ = \\ \\frac{P(B|A) \\cdot P(A)}{P(B)}'))\n",
    "print('\\n')\n",
    "display(Math(r'Probability \\ is \\ a \\ ratio \\ of \\ positive \\ outcomes \\ to \\ all \\ possible \\ outcomes'))\n",
    "display(Math(r'Odds \\ is \\ a \\ ratio \\ of \\ favorable \\ outcomes \\ to \\ all \\ negative \\ outcomes'))\n",
    "print('\\n')\n",
    "print('-' * 80)\n",
    "print('\\n')\n",
    "display(Math(\n",
    "    r'P(A|B) \\ means \\ what \\ the \\ probability \\ of \\ the \\ hypothesis \\ being \\ true \\ given \\ that \\ the \\ evidence \\ is \\ true.'))\n",
    "display(Math(\n",
    "    r'In \\ P(A|B) \\ the \\ first \\ term \\ represents \\ the \\ probability \\ of \\ the \\ observation \\ being \\ asked.  \\ \\ The \\ second \\ term \\ is \\ the \\ known \\ event \\ that \\ has \\ already \\ occurred.'))\n",
    "print('\\n')"
   ],
   "id": "87bd16dbbb99c365",
   "outputs": [
    {
     "name": "stdout",
     "output_type": "stream",
     "text": [
      "\n",
      "\n"
     ]
    },
    {
     "data": {
      "text/plain": [
       "<IPython.core.display.Math object>"
      ],
      "text/latex": "$\\displaystyle P(A|B) \\ = \\ \\frac{P(B|A) \\cdot P(A)}{P(B)}$"
     },
     "metadata": {},
     "output_type": "display_data"
    },
    {
     "name": "stdout",
     "output_type": "stream",
     "text": [
      "\n",
      "\n"
     ]
    },
    {
     "data": {
      "text/plain": [
       "<IPython.core.display.Math object>"
      ],
      "text/latex": "$\\displaystyle Probability \\ is \\ a \\ ratio \\ of \\ positive \\ outcomes \\ to \\ all \\ possible \\ outcomes$"
     },
     "metadata": {},
     "output_type": "display_data"
    },
    {
     "data": {
      "text/plain": [
       "<IPython.core.display.Math object>"
      ],
      "text/latex": "$\\displaystyle Odds \\ is \\ a \\ ratio \\ of \\ favorable \\ outcomes \\ to \\ all \\ negative \\ outcomes$"
     },
     "metadata": {},
     "output_type": "display_data"
    },
    {
     "name": "stdout",
     "output_type": "stream",
     "text": [
      "\n",
      "\n",
      "--------------------------------------------------------------------------------\n",
      "\n",
      "\n"
     ]
    },
    {
     "data": {
      "text/plain": [
       "<IPython.core.display.Math object>"
      ],
      "text/latex": "$\\displaystyle P(A|B) \\ means \\ what \\ the \\ probability \\ of \\ the \\ hypothesis \\ being \\ true \\ given \\ that \\ the \\ evidence \\ is \\ true.$"
     },
     "metadata": {},
     "output_type": "display_data"
    },
    {
     "data": {
      "text/plain": [
       "<IPython.core.display.Math object>"
      ],
      "text/latex": "$\\displaystyle In \\ P(A|B) \\ the \\ first \\ term \\ represents \\ the \\ probability \\ of \\ the \\ observation \\ being \\ asked.  \\ \\ The \\ second \\ term \\ is \\ the \\ known \\ event \\ that \\ has \\ already \\ occurred.$"
     },
     "metadata": {},
     "output_type": "display_data"
    },
    {
     "name": "stdout",
     "output_type": "stream",
     "text": [
      "\n",
      "\n"
     ]
    }
   ],
   "execution_count": 21
  },
  {
   "metadata": {},
   "cell_type": "markdown",
   "source": [
    "### Example 1:\n",
    "<br>\n",
    "<p>In a city, 60% of the vehicles are cars, and 40% are motorcycles.\n",
    "\n",
    "\n",
    "The probability of a car being involved in an accident is 10%, while the probability of a motorcycle being involved in an accident is 5%.\n",
    "\n",
    "\n",
    "If an accident occured, what is the probability that it involved a car?</p>\n"
   ],
   "id": "456dd90aa5dff73c"
  },
  {
   "metadata": {
    "ExecuteTime": {
     "end_time": "2025-04-19T00:55:02.640246Z",
     "start_time": "2025-04-19T00:55:02.636876Z"
    }
   },
   "cell_type": "code",
   "source": [
    "# Find the probability of an accident given that it involved a car\n",
    "# P(A|C) = P(A|C)P(C) / P(A)\n",
    "\n",
    "display(Math(\n",
    "    r'Probability \\ of \\ an \\ accident P(A) \\ = \\ P(A \\cap C) \\ + \\ P(A \\cap M) \\ => P(A | C) \\cdot P(C) \\ + \\ P(A|M) \\cdot P(M)'))"
   ],
   "id": "f48c624b0ecc921d",
   "outputs": [
    {
     "data": {
      "text/plain": [
       "<IPython.core.display.Math object>"
      ],
      "text/latex": "$\\displaystyle Probability \\ of \\ an \\ accident P(A) \\ = \\ P(A \\cap C) \\ + \\ P(A \\cap M) \\ => P(A | C) \\cdot P(C) \\ + \\ P(A|M) \\cdot P(M)$"
     },
     "metadata": {},
     "output_type": "display_data"
    }
   ],
   "execution_count": 22
  },
  {
   "metadata": {
    "ExecuteTime": {
     "end_time": "2025-04-19T00:55:02.649850Z",
     "start_time": "2025-04-19T00:55:02.646754Z"
    }
   },
   "cell_type": "code",
   "source": [
    "# Question 2\n",
    "\n",
    "\n",
    "# Three factories A, B, and C produce car seats.  What is the probability that a defective car seat comes from factory C, given that factory C produces 40% of all the car seats, that there is a 1% chance that any given car seat is defective, and that the defective rate at factory C is 0.8%?\n",
    "P_C = .4\n",
    "\n",
    "P_defective_d = .01\n",
    "\n",
    "P_defective_C = .008  # P(d|C) probability of defective seat from factory C\n",
    "\n",
    "P_defective_C_given_defective_d = round((P_defective_C * P_C) / P_defective_d, 4)  # P(d|C) * P(C) / P(d)"
   ],
   "id": "900e5a1d4e21c8cf",
   "outputs": [],
   "execution_count": 23
  },
  {
   "metadata": {
    "ExecuteTime": {
     "end_time": "2025-04-19T00:55:02.662145Z",
     "start_time": "2025-04-19T00:55:02.659052Z"
    }
   },
   "cell_type": "code",
   "source": "P_defective_C_given_defective_d",
   "id": "8d243b9d7148ea27",
   "outputs": [
    {
     "data": {
      "text/plain": [
       "0.32"
      ]
     },
     "execution_count": 24,
     "metadata": {},
     "output_type": "execute_result"
    }
   ],
   "execution_count": 24
  },
  {
   "metadata": {
    "ExecuteTime": {
     "end_time": "2025-04-19T00:55:02.672048Z",
     "start_time": "2025-04-19T00:55:02.670580Z"
    }
   },
   "cell_type": "code",
   "source": "",
   "id": "67555f738e9a2023",
   "outputs": [],
   "execution_count": null
  },
  {
   "metadata": {
    "ExecuteTime": {
     "end_time": "2025-04-19T00:55:02.682704Z",
     "start_time": "2025-04-19T00:55:02.681215Z"
    }
   },
   "cell_type": "code",
   "source": "",
   "id": "8c1b817d276e2dce",
   "outputs": [],
   "execution_count": null
  },
  {
   "metadata": {},
   "cell_type": "markdown",
   "source": [
    "# Marginal Probability\n",
    "***\n",
    "In probability theory and statistics, a marginal probability is a probability of a single event, given that another event has already occurred. \n",
    "\n",
    "It is the probability of that event occurring on its own, without considering the occurrence of the other event."
   ],
   "id": "354bd3f871e97a41"
  },
  {
   "metadata": {
    "ExecuteTime": {
     "end_time": "2025-04-19T00:55:02.700174Z",
     "start_time": "2025-04-19T00:55:02.695288Z"
    }
   },
   "cell_type": "code",
   "source": [
    "print('\\n')\n",
    "S = {1, 2, 3, 4, 5, 6, 7, 8, 9}\n",
    "\n",
    "A = {1, 2, 3, 4}\n",
    "\n",
    "B = {6, 7, 8}\n",
    "\n",
    "C = {1, 7, 8, 9}\n",
    "\n",
    "# The probability of event A\n",
    "P_A = len(A) / len(S)\n",
    "print(f'P(A) = {P_A}')\n",
    "\n",
    "# The probability of event B\n",
    "P_B = len(B) / len(S)\n",
    "print(f'P(B) = {P_B}')\n",
    "print('\\n')\n",
    "display(Math(r'\\cup \\ -> \\ Union \\ \\ \\ \\cap \\ -> \\ Intersection'))\n",
    "print('\\n')\n",
    "print(f'P(A \\cup B) = {A.union(B)}')\n",
    "print(f'P(A \\cap B) = {A.intersection(B)}')  # -> mutually exclusive\n",
    "print('\\n')\n",
    "print(f'P(B \\cup C) = {B.union(C)}')\n",
    "print(f'P(B \\cap C) = {B.intersection(C)}')\n",
    "\n"
   ],
   "id": "3a6f6e8bcf5b679a",
   "outputs": [
    {
     "name": "stdout",
     "output_type": "stream",
     "text": [
      "\n",
      "\n",
      "P(A) = 0.4444444444444444\n",
      "P(B) = 0.3333333333333333\n",
      "\n",
      "\n"
     ]
    },
    {
     "data": {
      "text/plain": [
       "<IPython.core.display.Math object>"
      ],
      "text/latex": "$\\displaystyle \\cup \\ -> \\ Union \\ \\ \\ \\cap \\ -> \\ Intersection$"
     },
     "metadata": {},
     "output_type": "display_data"
    },
    {
     "name": "stdout",
     "output_type": "stream",
     "text": [
      "\n",
      "\n",
      "P(A \\cup B) = {1, 2, 3, 4, 6, 7, 8}\n",
      "P(A \\cap B) = set()\n",
      "\n",
      "\n",
      "P(B \\cup C) = {1, 6, 7, 8, 9}\n",
      "P(B \\cap C) = {8, 7}\n"
     ]
    }
   ],
   "execution_count": 25
  },
  {
   "metadata": {},
   "cell_type": "markdown",
   "source": [
    "# Union Probability\n",
    "***\n",
    "The probability of either or both events A or B occurring, given that they are independent, is the sum of their individual probabilities minus the probability of their intersection occurring."
   ],
   "id": "3e6dfbd3ab5fbbd3"
  },
  {
   "metadata": {
    "ExecuteTime": {
     "end_time": "2025-04-19T00:55:02.714506Z",
     "start_time": "2025-04-19T00:55:02.709812Z"
    }
   },
   "cell_type": "code",
   "source": [
    "display(Math(r'P(A \\ or \\ B) \\ = \\ P(A \\cup B)'))\n",
    "display(Math(r'P(A cup  B) \\ = \\ len( A \\cup B) \\ / \\ len(S)'))\n"
   ],
   "id": "2d6e2d1693fe8d31",
   "outputs": [
    {
     "data": {
      "text/plain": [
       "<IPython.core.display.Math object>"
      ],
      "text/latex": "$\\displaystyle P(A \\ or \\ B) \\ = \\ P(A \\cup B)$"
     },
     "metadata": {},
     "output_type": "display_data"
    },
    {
     "data": {
      "text/plain": [
       "<IPython.core.display.Math object>"
      ],
      "text/latex": "$\\displaystyle P(A cup  B) \\ = \\ len( A \\cup B) \\ / \\ len(S)$"
     },
     "metadata": {},
     "output_type": "display_data"
    }
   ],
   "execution_count": 26
  },
  {
   "metadata": {
    "ExecuteTime": {
     "end_time": "2025-04-19T00:55:02.722603Z",
     "start_time": "2025-04-19T00:55:02.719510Z"
    }
   },
   "cell_type": "code",
   "source": "print(f'P(A or B) = {len(A.union(B)) / len(S)} = {(round(len(A.union(B)) / len(S), 4)) * 100 : 2}%')\n",
   "id": "646d41201fd2566c",
   "outputs": [
    {
     "name": "stdout",
     "output_type": "stream",
     "text": [
      "P(A or B) = 0.7777777777777778 =  77.78%\n"
     ]
    }
   ],
   "execution_count": 27
  },
  {
   "metadata": {
    "ExecuteTime": {
     "end_time": "2025-04-19T00:55:02.736518Z",
     "start_time": "2025-04-19T00:55:02.731762Z"
    }
   },
   "cell_type": "code",
   "source": [
    "display(Math(\n",
    "    r'When \\ you \\ read \\ \"and\" \\ between \\ events, \\ you \\ will \\ be \\ multiplying \\ their \\ individual \\ probabilities.'))\n",
    "display(Math(\n",
    "    r'When \\ you \\ read \\ \"or\" \\ between \\ events, you \\ will \\ be \\ adding \\ their \\ individual \\ probabilities.'))"
   ],
   "id": "bb0b0ddb3f14bc5c",
   "outputs": [
    {
     "data": {
      "text/plain": [
       "<IPython.core.display.Math object>"
      ],
      "text/latex": "$\\displaystyle When \\ you \\ read \\ \"and\" \\ between \\ events, \\ you \\ will \\ be \\ multiplying \\ their \\ individual \\ probabilities.$"
     },
     "metadata": {},
     "output_type": "display_data"
    },
    {
     "data": {
      "text/plain": [
       "<IPython.core.display.Math object>"
      ],
      "text/latex": "$\\displaystyle When \\ you \\ read \\ \"or\" \\ between \\ events, you \\ will \\ be \\ adding \\ their \\ individual \\ probabilities.$"
     },
     "metadata": {},
     "output_type": "display_data"
    }
   ],
   "execution_count": 28
  }
 ],
 "metadata": {
  "kernelspec": {
   "display_name": "Python 3",
   "language": "python",
   "name": "python3"
  },
  "language_info": {
   "codemirror_mode": {
    "name": "ipython",
    "version": 2
   },
   "file_extension": ".py",
   "mimetype": "text/x-python",
   "name": "python",
   "nbconvert_exporter": "python",
   "pygments_lexer": "ipython2",
   "version": "2.7.6"
  }
 },
 "nbformat": 4,
 "nbformat_minor": 5
}
