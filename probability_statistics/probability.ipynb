{
 "cells": [
  {
   "cell_type": "code",
   "id": "initial_id",
   "metadata": {
    "collapsed": true
   },
   "source": [
    "import re\n",
    "import pandas as pd\n",
    "import numpy as np\n",
    "import scipy as sp\n",
    "import sympy as sym\n",
    "from IPython.display import display, Math, Latex\n",
    "import math\n",
    "import matplotlib.pyplot as plt\n",
    "from matplotlib_venn import venn2, venn3\n",
    "from fractions import Fraction"
   ],
   "outputs": [],
   "execution_count": null
  },
  {
   "metadata": {},
   "cell_type": "markdown",
   "source": [
    "# Simple Probability\n",
    "***\n",
    "Probability is a measure of the likelihood that an event will occur.\n",
    "\n",
    "All probabilities must be between 0 (impossible) and 1 (guaranteed)."
   ],
   "id": "b2dfb0548a670a66"
  },
  {
   "metadata": {},
   "cell_type": "markdown",
   "source": "## Probability",
   "id": "2f7945a6ba8c9d57"
  },
  {
   "metadata": {},
   "cell_type": "code",
   "source": [
    "display(Math(r'Probability \\ = \\ \\frac{outcomes \\ that \\ meet \\ our \\ criteria}{all \\ possible \\ outcomes}'))\n",
    "print('\\n')\n",
    "display(Math(r'all \\ possible \\ outcomes = \\ \"Sample \\ Space\"'))\n",
    "print('\\n')"
   ],
   "id": "cd8099f791eeec98",
   "outputs": [],
   "execution_count": null
  },
  {
   "metadata": {},
   "cell_type": "markdown",
   "source": [
    "## Experimental (empirical) and Theoretical (classical) Probability\n",
    "Experimental probability (also called empirical probability) is the probability we find when we run experiments.\n",
    "\n",
    "Theoretical probability (also called classical probability) is the probability that an event will occur if we could run an infinite number of experiments"
   ],
   "id": "b39a3bf9f6f022b0"
  },
  {
   "metadata": {},
   "cell_type": "code",
   "source": [
    "# Question 2\n",
    "\n",
    "sample_data = {\n",
    "    \"coconut\": 2,\n",
    "    \"orange\": 3,\n",
    "    \"caramel\": 4,\n",
    "    \"raspberry\": 1\n",
    "}"
   ],
   "id": "4bce769137c6ddcb",
   "outputs": [],
   "execution_count": null
  },
  {
   "metadata": {},
   "cell_type": "code",
   "source": "sum_of_fruits = sum(sample_data.values())",
   "id": "477abcafd15bc55",
   "outputs": [],
   "execution_count": null
  },
  {
   "metadata": {},
   "cell_type": "code",
   "source": "P_coconut = sample_data[\"coconut\"] / sum_of_fruits",
   "id": "2991d8a44096f0d5",
   "outputs": [],
   "execution_count": null
  },
  {
   "metadata": {},
   "cell_type": "code",
   "source": "P_coconut",
   "id": "883dac2b1899a778",
   "outputs": [],
   "execution_count": null
  },
  {
   "metadata": {},
   "cell_type": "code",
   "source": [
    "# Question 3\n",
    "\n",
    "sample_data = {\n",
    "    \"whale\": 4,\n",
    "    \"tuna\": 6,\n",
    "    \"dolphin\": 1,\n",
    "    \"mackerel\": 3\n",
    "}\n",
    "\n",
    "sum_of_fish = sum(sample_data.values())\n",
    "\n",
    "P_whale = sample_data[\"whale\"] / sum_of_fish"
   ],
   "id": "334a297d3b5f1269",
   "outputs": [],
   "execution_count": null
  },
  {
   "metadata": {},
   "cell_type": "code",
   "source": "P_whale",
   "id": "57a8cd74cd65f5ae",
   "outputs": [],
   "execution_count": null
  },
  {
   "metadata": {},
   "cell_type": "markdown",
   "source": [
    "# Addition Rule and Union vs Intersection\n",
    "***\n",
    "The Addition Rule states that the probability of the union of two events is equal to the sum of their individual probabilities minus the probability of their intersection:\n",
    "\n",
    "The Intersection Rule states that the probability of the intersection of two events is equal to the product of their individual probabilities:\n",
    "\n",
    "The Union of two events is the set of all elements that are in either event A or event B, or both.\n",
    "\n",
    "The Intersection of two events is the set of all elements that are in both events A and event B.\n"
   ],
   "id": "7637be521daa3cf3"
  },
  {
   "metadata": {},
   "cell_type": "markdown",
   "source": "## Addition Rule",
   "id": "4f33dfdd982a8f87"
  },
  {
   "metadata": {},
   "cell_type": "code",
   "source": [
    "display(Math(r'The\\ symbol \\ \"\\cup\" \\ is \\ another \\ way \\ of \\ describing \\ the \\ operation \\ OR'))\n",
    "display(Math(r'The \\ symbol \\ \"\\cap\" \\ is \\ another \\ way \\ of \\ describing  \\ the \\ operation\\ AND'))\n",
    "display(Math(r'P(A \\cup B) = P(A) + P(A \\cap B)'))\n",
    "display(Math(\n",
    "    r'The \\ Probability \\ of \\ either \\ event \\ A \\ or \\ event \\ B \\ occurring \\ is \\ the \\ sum \\ of \\ their \\ individual \\ probabilities \\ minus \\ the \\ probability \\ of \\ their \\ intersection'))"
   ],
   "id": "ef7bcfe7365dbcc2",
   "outputs": [],
   "execution_count": null
  },
  {
   "metadata": {},
   "cell_type": "code",
   "source": [
    "def calculate_probability(\n",
    "        A: int | float = None,\n",
    "        B: int | float = None,\n",
    "        int_AB: int | float = 0,\n",
    "        total_outcomes: int | float = None,\n",
    "        how: str = 'OR'\n",
    ") -> float:\n",
    "    print(f'A: {A}')\n",
    "    print(f'B: {B}')\n",
    "    print(f'Intersection (A && B): {int_AB}')\n",
    "    print(f'Total events: {total_outcomes}')\n",
    "    print(f'How: {how}')\n",
    "\n",
    "    P_A = round(A / total_outcomes, 4)\n",
    "    print(f'P(A) = {P_A}')\n",
    "\n",
    "    P_B = round(B / total_outcomes, 4)\n",
    "    print(f'P(B) = {P_B}')\n",
    "\n",
    "    if how.lower() == 'or':\n",
    "        P_A_or_B = round(P_A + P_B - int_AB, 4)\n",
    "        print(f'P(A || B) = Decimal: {P_A_or_B}')\n",
    "\n",
    "        return P_A_or_B\n",
    "\n",
    "    elif how.lower() == 'and':\n",
    "        P_A_and_B = float(round(P_A * P_B, 4))\n",
    "        print(f'P(A && B) = Decimal: {P_A_and_B}')\n",
    "\n",
    "        return P_A_and_B"
   ],
   "id": "6985278da8bd004e",
   "outputs": [],
   "execution_count": null
  },
  {
   "metadata": {},
   "cell_type": "code",
   "source": "calculate_probability(10, 7, 0, 17)",
   "id": "51eac5e80a23923a",
   "outputs": [],
   "execution_count": null
  },
  {
   "metadata": {},
   "cell_type": "code",
   "source": [
    "# Question 1\n",
    "\n",
    "# six sided die: probability of rolling both odd and divisible by 3\n",
    "\n",
    "nums_of_odd = 3\n",
    "\n",
    "nums_divisible_by_3 = 2\n",
    "\n",
    "total_outcomes = 6\n",
    "\n",
    "calculate_probability(\n",
    "    nums_of_odd,\n",
    "    nums_divisible_by_3,\n",
    "    int_AB=0,\n",
    "    total_outcomes=total_outcomes,\n",
    "    how='AND'\n",
    ")\n"
   ],
   "id": "264d32ee0202e459",
   "outputs": [],
   "execution_count": null
  },
  {
   "metadata": {},
   "cell_type": "markdown",
   "source": [
    "# Independent and Dependent Events and Conditional Probability\n",
    "***\n",
    "Independent events are events that occur independently of each other. The probability of both events occurring is the product of their individual probabilities.\n",
    "\n",
    "Dependent events are events that occur in some way that affects the probability of the other event. \n",
    "\n",
    "The probability of both events occurring is the product of their individual probabilities, but the product of their individual probabilities is multiplied by the probability of the dependent event occurring.\n",
    "\n",
    "Conditional probability is the probability of an event occurring given that another event has already occurred."
   ],
   "id": "ac48c23d31706894"
  },
  {
   "metadata": {},
   "cell_type": "markdown",
   "source": "## Multiplication Rule for Independent Events",
   "id": "11ffa6c5311059e6"
  },
  {
   "metadata": {},
   "cell_type": "code",
   "source": [
    "# coin flip\n",
    "\n",
    "# number of tails\n",
    "A = 1\n",
    "\n",
    "# number of total outcomes\n",
    "total_outcomes = 2\n",
    "\n",
    "# number of trials (coin flips)\n",
    "trials = 2\n",
    "\n",
    "# probability of getting tails on the first flip\n",
    "P_t1 = round(A / total_outcomes, 4)\n",
    "print(f'Probability of getting tails on the first flip (independent events): {P_t1}')\n",
    "\n",
    "# probability of getting tails on the second flip \n",
    "P_t2 = round(A / total_outcomes, 4)\n",
    "print(f'Probability of getting tails on the second flip (independent events): {P_t2}')\n",
    "\n",
    "# probability of getting both tails (independent events)\n",
    "P_TT = round(P_t1 * P_t2, 4)\n",
    "print(f'Probability of getting both tails (independent events): {P_TT}')\n"
   ],
   "id": "16a4bf86cb035cdd",
   "outputs": [],
   "execution_count": null
  },
  {
   "metadata": {},
   "cell_type": "code",
   "source": [
    "def probability_of_independent_events(trials: int = 2, possible_outcomes: int = 1, total_outcomes: int = 1) -> float:\n",
    "    print(f'Number of trials: {trials}')\n",
    "\n",
    "    probability_of_event = 1\n",
    "\n",
    "    for t in range(trials):\n",
    "        probability_of_event = probability_of_event * (possible_outcomes * 1 / total_outcomes)\n",
    "        print(f'Probability of event on trial {t + 1}: {probability_of_event}')\n",
    "\n"
   ],
   "id": "8473411093b014bd",
   "outputs": [],
   "execution_count": null
  },
  {
   "metadata": {},
   "cell_type": "code",
   "source": "probability_of_independent_events(trials=2, possible_outcomes=1, total_outcomes=2)",
   "id": "b596afe89b226d1d",
   "outputs": [],
   "execution_count": null
  },
  {
   "metadata": {},
   "cell_type": "code",
   "source": [
    "def probability_of_dependent_events(trials: int = None, total_outcomes: int = None) -> float:\n",
    "    print(f'Number of trials: {trials}')\n",
    "    print(f'Total possible outcomes: {total_outcomes}')\n",
    "\n",
    "    for t in np.arange(trials):\n",
    "        print('-' * 80)\n",
    "        probability_of_event = 1 / total_outcomes\n",
    "        print(f'Trial: {t + 1}')\n",
    "        print(f'Total possible outcomes: {total_outcomes}')\n",
    "        print(\n",
    "            f'Probability of getting event on trial {t + 1}: {probability_of_event} or {probability_of_event * 100:.2f}%')\n",
    "        total_outcomes -= 1\n"
   ],
   "id": "839aa332a10d18c3",
   "outputs": [],
   "execution_count": null
  },
  {
   "metadata": {},
   "cell_type": "code",
   "source": "probability_of_dependent_events(trials=52, total_outcomes=52)",
   "id": "8b3e27b47e952d3",
   "outputs": [],
   "execution_count": null
  },
  {
   "metadata": {},
   "cell_type": "code",
   "source": [
    "# Question 1\n",
    "\n",
    "P_A = 0.5\n",
    "\n",
    "P_AB = .25\n",
    "\n",
    "P_B = round(P_AB / P_A, 4)\n",
    "\n",
    "P_B"
   ],
   "id": "cf29cf099879cb0",
   "outputs": [],
   "execution_count": null
  },
  {
   "metadata": {},
   "cell_type": "code",
   "source": [
    "def find_missing_probability(P_known: float, P_product: float) -> float:\n",
    "    print(f'Probability of A: {P_known}')\n",
    "    print(f'Probability of A and B: {P_product}')\n",
    "\n",
    "    P_unknown = round(P_product / P_known, 4)\n",
    "    print(f'Probability of B: {P_unknown}')\n",
    "\n",
    "    return P_unknown"
   ],
   "id": "d4fe41dfcbef2f9e",
   "outputs": [],
   "execution_count": null
  },
  {
   "metadata": {},
   "cell_type": "code",
   "source": [
    "find_missing_probability(\n",
    "    P_known=0.875,\n",
    "    P_product=.7\n",
    ")"
   ],
   "id": "dd04edfd29dc3e92",
   "outputs": [],
   "execution_count": null
  },
  {
   "metadata": {},
   "cell_type": "markdown",
   "source": [
    "# Bayes' Theorem\n",
    "***\n",
    "Bayes' theorem is a fundamental principle in probability theory and statistics that allows us to update the probability of a hypothesis given new evidence.\n"
   ],
   "id": "482ce86d50d6fd29"
  },
  {
   "metadata": {},
   "cell_type": "code",
   "source": [
    "print('\\n')\n",
    "display(Math(r'P(A|B) \\ = \\ \\frac{P(B|A) \\cdot P(A)}{P(B)}'))\n",
    "print('\\n')\n",
    "display(Math(r'Probability \\ is \\ a \\ ratio \\ of \\ positive \\ outcomes \\ to \\ all \\ possible \\ outcomes'))\n",
    "display(Math(r'Odds \\ is \\ a \\ ratio \\ of \\ favorable \\ outcomes \\ to \\ all \\ negative \\ outcomes'))\n",
    "print('\\n')\n",
    "print('-' * 80)\n",
    "print('\\n')\n",
    "display(Math(\n",
    "    r'P(A|B) \\ means \\ what \\ the \\ probability \\ of \\ the \\ hypothesis \\ being \\ true \\ given \\ that \\ the \\ evidence \\ is \\ true.'))\n",
    "display(Math(\n",
    "    r'In \\ P(A|B) \\ the \\ first \\ term \\ represents \\ the \\ probability \\ of \\ the \\ observation \\ being \\ asked.  \\ \\ The \\ second \\ term \\ is \\ the \\ known \\ event \\ that \\ has \\ already \\ occurred.'))\n",
    "print('\\n')"
   ],
   "id": "87bd16dbbb99c365",
   "outputs": [],
   "execution_count": null
  },
  {
   "metadata": {},
   "cell_type": "markdown",
   "source": [
    "### Example 1:\n",
    "<br>\n",
    "<p>In a city, 60% of the vehicles are cars, and 40% are motorcycles.\n",
    "\n",
    "\n",
    "The probability of a car being involved in an accident is 10%, while the probability of a motorcycle being involved in an accident is 5%.\n",
    "\n",
    "\n",
    "If an accident occured, what is the probability that it involved a car?</p>\n"
   ],
   "id": "456dd90aa5dff73c"
  },
  {
   "metadata": {},
   "cell_type": "code",
   "source": [
    "# Find the probability of an accident given that it involved a car\n",
    "# P(A|C) = P(A|C)P(C) / P(A)\n",
    "\n",
    "display(Math(\n",
    "    r'Probability \\ of \\ an \\ accident P(A) \\ = \\ P(A \\cap C) \\ + \\ P(A \\cap M) \\ => P(A | C) \\cdot P(C) \\ + \\ P(A|M) \\cdot P(M)'))"
   ],
   "id": "f48c624b0ecc921d",
   "outputs": [],
   "execution_count": null
  },
  {
   "metadata": {},
   "cell_type": "code",
   "source": [
    "# Question 2\n",
    "\n",
    "\n",
    "# Three factories A, B, and C produce car seats.  What is the probability that a defective car seat comes from factory C, given that factory C produces 40% of all the car seats, that there is a 1% chance that any given car seat is defective, and that the defective rate at factory C is 0.8%?\n",
    "P_C = .4\n",
    "\n",
    "P_defective_d = .01\n",
    "\n",
    "P_defective_C = .008  # P(d|C) probability of defective seat from factory C\n",
    "\n",
    "P_defective_C_given_defective_d = round((P_defective_C * P_C) / P_defective_d, 4)  # P(d|C) * P(C) / P(d)"
   ],
   "id": "900e5a1d4e21c8cf",
   "outputs": [],
   "execution_count": null
  },
  {
   "metadata": {},
   "cell_type": "code",
   "source": "P_defective_C_given_defective_d",
   "id": "8d243b9d7148ea27",
   "outputs": [],
   "execution_count": null
  },
  {
   "metadata": {},
   "cell_type": "code",
   "source": "",
   "id": "67555f738e9a2023",
   "outputs": [],
   "execution_count": null
  },
  {
   "metadata": {},
   "cell_type": "code",
   "source": "",
   "id": "8c1b817d276e2dce",
   "outputs": [],
   "execution_count": null
  },
  {
   "metadata": {},
   "cell_type": "markdown",
   "source": [
    "# Marginal Probability\n",
    "***\n",
    "In probability theory and statistics, a marginal probability is a probability of a single event, given that another event has already occurred. \n",
    "\n",
    "It is the probability of that event occurring on its own, without considering the occurrence of the other event."
   ],
   "id": "354bd3f871e97a41"
  },
  {
   "metadata": {},
   "cell_type": "code",
   "source": [
    "print('\\n')\n",
    "S = {1, 2, 3, 4, 5, 6, 7, 8, 9}\n",
    "\n",
    "A = {1, 2, 3, 4}\n",
    "\n",
    "B = {6, 7, 8}\n",
    "\n",
    "C = {1, 7, 8, 9}\n",
    "\n",
    "# The probability of event A\n",
    "P_A = len(A) / len(S)\n",
    "print(f'P(A) = {P_A}')\n",
    "\n",
    "# The probability of event B\n",
    "P_B = len(B) / len(S)\n",
    "print(f'P(B) = {P_B}')\n",
    "print('\\n')\n",
    "display(Math(r'\\cup \\ -> \\ Union \\ \\ \\ \\cap \\ -> \\ Intersection'))\n",
    "print('\\n')\n",
    "print(f'P(A \\cup B) = {A.union(B)}')\n",
    "print(f'P(A \\cap B) = {A.intersection(B)}')  # -> mutually exclusive\n",
    "print('\\n')\n",
    "print(f'P(B \\cup C) = {B.union(C)}')\n",
    "print(f'P(B \\cap C) = {B.intersection(C)}')\n",
    "\n"
   ],
   "id": "3a6f6e8bcf5b679a",
   "outputs": [],
   "execution_count": null
  },
  {
   "metadata": {},
   "cell_type": "markdown",
   "source": [
    "# Union Probability\n",
    "***\n",
    "The probability of either or both events A or B occurring, given that they are independent, is the sum of their individual probabilities minus the probability of their intersection occurring."
   ],
   "id": "3e6dfbd3ab5fbbd3"
  },
  {
   "metadata": {},
   "cell_type": "code",
   "source": [
    "display(Math(r'P(A \\ or \\ B) \\ = \\ P(A \\cup B)'))\n",
    "display(Math(r'P(A cup  B) \\ = \\ len( A \\cup B) \\ / \\ len(S)'))\n"
   ],
   "id": "2d6e2d1693fe8d31",
   "outputs": [],
   "execution_count": null
  },
  {
   "metadata": {},
   "cell_type": "code",
   "source": "print(f'P(A or B) = {len(A.union(B)) / len(S)} = {(round(len(A.union(B)) / len(S), 4)) * 100 : 2}%')\n",
   "id": "646d41201fd2566c",
   "outputs": [],
   "execution_count": null
  },
  {
   "metadata": {},
   "cell_type": "code",
   "source": [
    "display(Math(\n",
    "    r'When \\ you \\ read \\ \"and\" \\ between \\ events, \\ you \\ will \\ be \\ multiplying \\ their \\ individual \\ probabilities.'))\n",
    "display(Math(\n",
    "    r'When \\ you \\ read \\ \"or\" \\ between \\ events, you \\ will \\ be \\ adding \\ their \\ individual \\ probabilities.'))"
   ],
   "id": "bb0b0ddb3f14bc5c",
   "outputs": [],
   "execution_count": null
  }
 ],
 "metadata": {
  "kernelspec": {
   "display_name": "Python 3",
   "language": "python",
   "name": "python3"
  },
  "language_info": {
   "codemirror_mode": {
    "name": "ipython",
    "version": 2
   },
   "file_extension": ".py",
   "mimetype": "text/x-python",
   "name": "python",
   "nbconvert_exporter": "python",
   "pygments_lexer": "ipython2",
   "version": "2.7.6"
  }
 },
 "nbformat": 4,
 "nbformat_minor": 5
}
