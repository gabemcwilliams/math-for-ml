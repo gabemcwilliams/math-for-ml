{
 "cells": [
  {
   "cell_type": "code",
   "id": "initial_id",
   "metadata": {
    "collapsed": true,
    "ExecuteTime": {
     "end_time": "2025-04-19T00:54:56.943936Z",
     "start_time": "2025-04-19T00:54:55.707860Z"
    }
   },
   "source": [
    "import re\n",
    "import pandas as pd\n",
    "import numpy as np\n",
    "import scipy as sp\n",
    "import sympy as sym\n",
    "from IPython.display import display, Math, Latex\n",
    "import math\n",
    "import matplotlib.pyplot as plt\n",
    "from matplotlib_venn import venn2, venn3\n",
    "from fractions import Fraction"
   ],
   "outputs": [],
   "execution_count": 1
  },
  {
   "metadata": {},
   "cell_type": "markdown",
   "source": [
    "# Discrete Probability Distribution\n",
    "***\n"
   ],
   "id": "e16c890a78d86a25"
  },
  {
   "metadata": {
    "ExecuteTime": {
     "end_time": "2025-04-19T00:54:57.210094Z",
     "start_time": "2025-04-19T00:54:57.203861Z"
    }
   },
   "cell_type": "code",
   "source": [
    "display(Math(r'Mean \\ (Expected \\ Value) \\ : \\ \\mu = \\sum_{i=1}^{n} x_i'))\n",
    "print('\\n')\n",
    "display(Math(r'Variance \\ : \\ \\sigma^r = \\sum_{i = 1}^{n} \\ (x_i - \\mu)^r \\ P(x_i)'))\n",
    "print('\\n')\n"
   ],
   "id": "cbf87073c1601a",
   "outputs": [
    {
     "data": {
      "text/plain": [
       "<IPython.core.display.Math object>"
      ],
      "text/latex": "$\\displaystyle Mean \\ (Expected \\ Value) \\ : \\ \\mu = \\sum_{i=1}^{n} x_i$"
     },
     "metadata": {},
     "output_type": "display_data"
    },
    {
     "name": "stdout",
     "output_type": "stream",
     "text": [
      "\n",
      "\n"
     ]
    },
    {
     "data": {
      "text/plain": [
       "<IPython.core.display.Math object>"
      ],
      "text/latex": "$\\displaystyle Variance \\ : \\ \\sigma^r = \\sum_{i = 1}^{n} \\ (x_i - \\mu)^r \\ P(x_i)$"
     },
     "metadata": {},
     "output_type": "display_data"
    },
    {
     "name": "stdout",
     "output_type": "stream",
     "text": [
      "\n",
      "\n"
     ]
    }
   ],
   "execution_count": 2
  },
  {
   "metadata": {
    "ExecuteTime": {
     "end_time": "2025-04-19T00:54:57.263656Z",
     "start_time": "2025-04-19T00:54:57.260077Z"
    }
   },
   "cell_type": "code",
   "source": [
    "# Question 1\n",
    "\"\"\"\n",
    "red and blue die both have 6 faces with numbers 1 through 6\n",
    "\n",
    "X = sum of the numbers showing on the top of two red dice\n",
    "\n",
    "What is the probability distribution of X?\n",
    "\"\"\"\n"
   ],
   "id": "92d770a102b3897d",
   "outputs": [
    {
     "data": {
      "text/plain": [
       "'\\nred and blue die both have 6 faces with numbers 1 through 6\\n\\nX = sum of the numbers showing on the top of two red dice\\n\\nWhat is the probability distribution of X?\\n'"
      ]
     },
     "execution_count": 3,
     "metadata": {},
     "output_type": "execute_result"
    }
   ],
   "execution_count": 3
  },
  {
   "metadata": {
    "ExecuteTime": {
     "end_time": "2025-04-19T00:54:57.288877Z",
     "start_time": "2025-04-19T00:54:57.286902Z"
    }
   },
   "cell_type": "code",
   "source": [
    "# Create a list to store the sums and their corresponding probabilities\n",
    "data = []\n",
    "\n",
    "# Iterate through all possible combinations of two dice\n"
   ],
   "id": "e7f7d52bf01974d4",
   "outputs": [],
   "execution_count": 4
  },
  {
   "metadata": {
    "ExecuteTime": {
     "end_time": "2025-04-19T00:54:57.303658Z",
     "start_time": "2025-04-19T00:54:57.301081Z"
    }
   },
   "cell_type": "code",
   "source": [
    "die = 2\n",
    "die_faces = 6\n",
    "blue_die_set = np.arange(1, die_faces + 1, 1)\n",
    "red_die_set = np.arange(1, die_faces + 1, )\n",
    "\n"
   ],
   "id": "df942d39b3b42915",
   "outputs": [],
   "execution_count": 5
  },
  {
   "metadata": {
    "ExecuteTime": {
     "end_time": "2025-04-19T00:54:57.318130Z",
     "start_time": "2025-04-19T00:54:57.314912Z"
    }
   },
   "cell_type": "code",
   "source": [
    "data_list = []\n",
    "for r in np.arange(die_faces):\n",
    "    print(f\"Current die face: {r + 1}\")\n",
    "    data_list.append([f + (r + 1) for f in blue_die_set])"
   ],
   "id": "69249d3947f149fd",
   "outputs": [
    {
     "name": "stdout",
     "output_type": "stream",
     "text": [
      "Current die face: 1\n",
      "Current die face: 2\n",
      "Current die face: 3\n",
      "Current die face: 4\n",
      "Current die face: 5\n",
      "Current die face: 6\n"
     ]
    }
   ],
   "execution_count": 6
  },
  {
   "metadata": {
    "ExecuteTime": {
     "end_time": "2025-04-19T00:54:57.341883Z",
     "start_time": "2025-04-19T00:54:57.330080Z"
    }
   },
   "cell_type": "code",
   "source": "df = pd.DataFrame(data_list, columns=[np.arange(1, die_faces + 1)], index=np.arange(1, die_faces + 1))",
   "id": "3910e0884cd61400",
   "outputs": [],
   "execution_count": 7
  },
  {
   "metadata": {
    "ExecuteTime": {
     "end_time": "2025-04-19T00:54:57.363038Z",
     "start_time": "2025-04-19T00:54:57.356626Z"
    }
   },
   "cell_type": "code",
   "source": "df",
   "id": "900306098e8ed31c",
   "outputs": [
    {
     "data": {
      "text/plain": [
       "   1  2  3   4   5   6\n",
       "1  2  3  4   5   6   7\n",
       "2  3  4  5   6   7   8\n",
       "3  4  5  6   7   8   9\n",
       "4  5  6  7   8   9  10\n",
       "5  6  7  8   9  10  11\n",
       "6  7  8  9  10  11  12"
      ],
      "text/html": [
       "<div>\n",
       "<style scoped>\n",
       "    .dataframe tbody tr th:only-of-type {\n",
       "        vertical-align: middle;\n",
       "    }\n",
       "\n",
       "    .dataframe tbody tr th {\n",
       "        vertical-align: top;\n",
       "    }\n",
       "\n",
       "    .dataframe thead tr th {\n",
       "        text-align: left;\n",
       "    }\n",
       "</style>\n",
       "<table border=\"1\" class=\"dataframe\">\n",
       "  <thead>\n",
       "    <tr>\n",
       "      <th></th>\n",
       "      <th>1</th>\n",
       "      <th>2</th>\n",
       "      <th>3</th>\n",
       "      <th>4</th>\n",
       "      <th>5</th>\n",
       "      <th>6</th>\n",
       "    </tr>\n",
       "  </thead>\n",
       "  <tbody>\n",
       "    <tr>\n",
       "      <th>1</th>\n",
       "      <td>2</td>\n",
       "      <td>3</td>\n",
       "      <td>4</td>\n",
       "      <td>5</td>\n",
       "      <td>6</td>\n",
       "      <td>7</td>\n",
       "    </tr>\n",
       "    <tr>\n",
       "      <th>2</th>\n",
       "      <td>3</td>\n",
       "      <td>4</td>\n",
       "      <td>5</td>\n",
       "      <td>6</td>\n",
       "      <td>7</td>\n",
       "      <td>8</td>\n",
       "    </tr>\n",
       "    <tr>\n",
       "      <th>3</th>\n",
       "      <td>4</td>\n",
       "      <td>5</td>\n",
       "      <td>6</td>\n",
       "      <td>7</td>\n",
       "      <td>8</td>\n",
       "      <td>9</td>\n",
       "    </tr>\n",
       "    <tr>\n",
       "      <th>4</th>\n",
       "      <td>5</td>\n",
       "      <td>6</td>\n",
       "      <td>7</td>\n",
       "      <td>8</td>\n",
       "      <td>9</td>\n",
       "      <td>10</td>\n",
       "    </tr>\n",
       "    <tr>\n",
       "      <th>5</th>\n",
       "      <td>6</td>\n",
       "      <td>7</td>\n",
       "      <td>8</td>\n",
       "      <td>9</td>\n",
       "      <td>10</td>\n",
       "      <td>11</td>\n",
       "    </tr>\n",
       "    <tr>\n",
       "      <th>6</th>\n",
       "      <td>7</td>\n",
       "      <td>8</td>\n",
       "      <td>9</td>\n",
       "      <td>10</td>\n",
       "      <td>11</td>\n",
       "      <td>12</td>\n",
       "    </tr>\n",
       "  </tbody>\n",
       "</table>\n",
       "</div>"
      ]
     },
     "execution_count": 8,
     "metadata": {},
     "output_type": "execute_result"
    }
   ],
   "execution_count": 8
  },
  {
   "metadata": {
    "ExecuteTime": {
     "end_time": "2025-04-19T00:54:57.411749Z",
     "start_time": "2025-04-19T00:54:57.409129Z"
    }
   },
   "cell_type": "code",
   "source": "sample_space = df.values.flatten()",
   "id": "7f80df8a3b292b30",
   "outputs": [],
   "execution_count": 9
  },
  {
   "metadata": {
    "ExecuteTime": {
     "end_time": "2025-04-19T00:54:57.468728Z",
     "start_time": "2025-04-19T00:54:57.455666Z"
    }
   },
   "cell_type": "code",
   "source": "frequency_table = list(pd.Series(sample_space).value_counts().sort_index())",
   "id": "cfa196725dfb6bc8",
   "outputs": [],
   "execution_count": 10
  },
  {
   "metadata": {
    "ExecuteTime": {
     "end_time": "2025-04-19T00:54:57.481413Z",
     "start_time": "2025-04-19T00:54:57.478370Z"
    }
   },
   "cell_type": "code",
   "source": "frequency_table",
   "id": "c1c69088ac605ecd",
   "outputs": [
    {
     "data": {
      "text/plain": [
       "[1, 2, 3, 4, 5, 6, 5, 4, 3, 2, 1]"
      ]
     },
     "execution_count": 11,
     "metadata": {},
     "output_type": "execute_result"
    }
   ],
   "execution_count": 11
  },
  {
   "metadata": {
    "ExecuteTime": {
     "end_time": "2025-04-19T00:54:57.492815Z",
     "start_time": "2025-04-19T00:54:57.489285Z"
    }
   },
   "cell_type": "code",
   "source": "Fraction(1 / 4)",
   "id": "3c53cd9d489de5cb",
   "outputs": [
    {
     "data": {
      "text/plain": [
       "Fraction(1, 4)"
      ]
     },
     "execution_count": 12,
     "metadata": {},
     "output_type": "execute_result"
    }
   ],
   "execution_count": 12
  },
  {
   "metadata": {
    "ExecuteTime": {
     "end_time": "2025-04-19T00:54:57.498833Z",
     "start_time": "2025-04-19T00:54:57.495820Z"
    }
   },
   "cell_type": "code",
   "source": [
    "frequency_list = []\n",
    "for index, f in enumerate(frequency_table):\n",
    "    print(f'Frequencies: {f} times\")')\n",
    "    print(f\"P(X = {f}) = {Fraction(f) / Fraction(die_faces * die_faces)}\")\n",
    "    frequency_list.append({\n",
    "        \"frequency\": f,\n",
    "        \"probability\": Fraction(f) / Fraction(die_faces * die_faces)\n",
    "    })"
   ],
   "id": "bab0576329c7fb0b",
   "outputs": [
    {
     "name": "stdout",
     "output_type": "stream",
     "text": [
      "Frequencies: 1 times\")\n",
      "P(X = 1) = 1/36\n",
      "Frequencies: 2 times\")\n",
      "P(X = 2) = 1/18\n",
      "Frequencies: 3 times\")\n",
      "P(X = 3) = 1/12\n",
      "Frequencies: 4 times\")\n",
      "P(X = 4) = 1/9\n",
      "Frequencies: 5 times\")\n",
      "P(X = 5) = 5/36\n",
      "Frequencies: 6 times\")\n",
      "P(X = 6) = 1/6\n",
      "Frequencies: 5 times\")\n",
      "P(X = 5) = 5/36\n",
      "Frequencies: 4 times\")\n",
      "P(X = 4) = 1/9\n",
      "Frequencies: 3 times\")\n",
      "P(X = 3) = 1/12\n",
      "Frequencies: 2 times\")\n",
      "P(X = 2) = 1/18\n",
      "Frequencies: 1 times\")\n",
      "P(X = 1) = 1/36\n"
     ]
    }
   ],
   "execution_count": 13
  },
  {
   "metadata": {
    "ExecuteTime": {
     "end_time": "2025-04-19T00:54:57.513479Z",
     "start_time": "2025-04-19T00:54:57.510052Z"
    }
   },
   "cell_type": "code",
   "source": "df = pd.DataFrame(frequency_list, index=np.arange(1, len(frequency_table) + 1), columns=[\"frequency\", \"probability\"])",
   "id": "6fc0c67ef3755b12",
   "outputs": [],
   "execution_count": 14
  },
  {
   "metadata": {
    "ExecuteTime": {
     "end_time": "2025-04-19T00:54:57.527615Z",
     "start_time": "2025-04-19T00:54:57.522987Z"
    }
   },
   "cell_type": "code",
   "source": "df",
   "id": "ffe38cb5d44c40c",
   "outputs": [
    {
     "data": {
      "text/plain": [
       "    frequency probability\n",
       "1           1        1/36\n",
       "2           2        1/18\n",
       "3           3        1/12\n",
       "4           4         1/9\n",
       "5           5        5/36\n",
       "6           6         1/6\n",
       "7           5        5/36\n",
       "8           4         1/9\n",
       "9           3        1/12\n",
       "10          2        1/18\n",
       "11          1        1/36"
      ],
      "text/html": [
       "<div>\n",
       "<style scoped>\n",
       "    .dataframe tbody tr th:only-of-type {\n",
       "        vertical-align: middle;\n",
       "    }\n",
       "\n",
       "    .dataframe tbody tr th {\n",
       "        vertical-align: top;\n",
       "    }\n",
       "\n",
       "    .dataframe thead th {\n",
       "        text-align: right;\n",
       "    }\n",
       "</style>\n",
       "<table border=\"1\" class=\"dataframe\">\n",
       "  <thead>\n",
       "    <tr style=\"text-align: right;\">\n",
       "      <th></th>\n",
       "      <th>frequency</th>\n",
       "      <th>probability</th>\n",
       "    </tr>\n",
       "  </thead>\n",
       "  <tbody>\n",
       "    <tr>\n",
       "      <th>1</th>\n",
       "      <td>1</td>\n",
       "      <td>1/36</td>\n",
       "    </tr>\n",
       "    <tr>\n",
       "      <th>2</th>\n",
       "      <td>2</td>\n",
       "      <td>1/18</td>\n",
       "    </tr>\n",
       "    <tr>\n",
       "      <th>3</th>\n",
       "      <td>3</td>\n",
       "      <td>1/12</td>\n",
       "    </tr>\n",
       "    <tr>\n",
       "      <th>4</th>\n",
       "      <td>4</td>\n",
       "      <td>1/9</td>\n",
       "    </tr>\n",
       "    <tr>\n",
       "      <th>5</th>\n",
       "      <td>5</td>\n",
       "      <td>5/36</td>\n",
       "    </tr>\n",
       "    <tr>\n",
       "      <th>6</th>\n",
       "      <td>6</td>\n",
       "      <td>1/6</td>\n",
       "    </tr>\n",
       "    <tr>\n",
       "      <th>7</th>\n",
       "      <td>5</td>\n",
       "      <td>5/36</td>\n",
       "    </tr>\n",
       "    <tr>\n",
       "      <th>8</th>\n",
       "      <td>4</td>\n",
       "      <td>1/9</td>\n",
       "    </tr>\n",
       "    <tr>\n",
       "      <th>9</th>\n",
       "      <td>3</td>\n",
       "      <td>1/12</td>\n",
       "    </tr>\n",
       "    <tr>\n",
       "      <th>10</th>\n",
       "      <td>2</td>\n",
       "      <td>1/18</td>\n",
       "    </tr>\n",
       "    <tr>\n",
       "      <th>11</th>\n",
       "      <td>1</td>\n",
       "      <td>1/36</td>\n",
       "    </tr>\n",
       "  </tbody>\n",
       "</table>\n",
       "</div>"
      ]
     },
     "execution_count": 15,
     "metadata": {},
     "output_type": "execute_result"
    }
   ],
   "execution_count": 15
  },
  {
   "metadata": {
    "ExecuteTime": {
     "end_time": "2025-04-19T00:54:57.564366Z",
     "start_time": "2025-04-19T00:54:57.560814Z"
    }
   },
   "cell_type": "code",
   "source": [
    "# Question r\n",
    "\n",
    "\"\"\"\n",
    "Topic: Discrete probability\n",
    "Question: You purchase a raffle ticket for $125. In exchange, you’ll be\n",
    "allowed to participate in two drawings. In each drawing, you blindly pick\n",
    "one of three tokens. One token is worth $0, one is worth $50, and one is\n",
    "worth $100. Let Y be the profit you make from a raffle ticket. Find the\n",
    "expected value for Y after the two drawings\n",
    "\"\"\"\n",
    "\n"
   ],
   "id": "4ea6c17ce3f280f8",
   "outputs": [
    {
     "data": {
      "text/plain": [
       "'\\nTopic: Discrete probability\\nQuestion: You purchase a raffle ticket for $125. In exchange, you’ll be\\nallowed to participate in two drawings. In each drawing, you blindly pick\\none of three tokens. One token is worth $0, one is worth $50, and one is\\nworth $100. Let Y be the profit you make from a raffle ticket. Find the\\nexpected value for Y after the two drawings\\n'"
      ]
     },
     "execution_count": 16,
     "metadata": {},
     "output_type": "execute_result"
    }
   ],
   "execution_count": 16
  },
  {
   "metadata": {
    "ExecuteTime": {
     "end_time": "2025-04-19T00:54:57.620594Z",
     "start_time": "2025-04-19T00:54:57.617369Z"
    }
   },
   "cell_type": "code",
   "source": [
    "tickets = 3\n",
    "profit_values = [0, 50, 100]\n",
    "drawings = 2\n",
    "\n",
    "data_list = []\n",
    "\n",
    "for v in profit_values:\n",
    "    row = {}\n",
    "\n",
    "    for _ in range(len(profit_values)):\n",
    "        row.update({\n",
    "            str(_): v + profit_values[_]\n",
    "        })\n",
    "\n",
    "    data_list.append(row)"
   ],
   "id": "6c29adb4cf7e9267",
   "outputs": [],
   "execution_count": 17
  },
  {
   "metadata": {
    "ExecuteTime": {
     "end_time": "2025-04-19T00:54:57.635529Z",
     "start_time": "2025-04-19T00:54:57.632644Z"
    }
   },
   "cell_type": "code",
   "source": "data_list",
   "id": "191fb4f02cd588ad",
   "outputs": [
    {
     "data": {
      "text/plain": [
       "[{'0': 0, '1': 50, '2': 100},\n",
       " {'0': 50, '1': 100, '2': 150},\n",
       " {'0': 100, '1': 150, '2': 200}]"
      ]
     },
     "execution_count": 18,
     "metadata": {},
     "output_type": "execute_result"
    }
   ],
   "execution_count": 18
  },
  {
   "metadata": {
    "ExecuteTime": {
     "end_time": "2025-04-19T00:54:57.651013Z",
     "start_time": "2025-04-19T00:54:57.648434Z"
    }
   },
   "cell_type": "code",
   "source": "df = pd.DataFrame(data_list)",
   "id": "6ebdf53bcb7d2475",
   "outputs": [],
   "execution_count": 19
  },
  {
   "metadata": {
    "ExecuteTime": {
     "end_time": "2025-04-19T00:54:57.686152Z",
     "start_time": "2025-04-19T00:54:57.681763Z"
    }
   },
   "cell_type": "code",
   "source": "df",
   "id": "e67e9685b453cf15",
   "outputs": [
    {
     "data": {
      "text/plain": [
       "     0    1    2\n",
       "0    0   50  100\n",
       "1   50  100  150\n",
       "2  100  150  200"
      ],
      "text/html": [
       "<div>\n",
       "<style scoped>\n",
       "    .dataframe tbody tr th:only-of-type {\n",
       "        vertical-align: middle;\n",
       "    }\n",
       "\n",
       "    .dataframe tbody tr th {\n",
       "        vertical-align: top;\n",
       "    }\n",
       "\n",
       "    .dataframe thead th {\n",
       "        text-align: right;\n",
       "    }\n",
       "</style>\n",
       "<table border=\"1\" class=\"dataframe\">\n",
       "  <thead>\n",
       "    <tr style=\"text-align: right;\">\n",
       "      <th></th>\n",
       "      <th>0</th>\n",
       "      <th>1</th>\n",
       "      <th>2</th>\n",
       "    </tr>\n",
       "  </thead>\n",
       "  <tbody>\n",
       "    <tr>\n",
       "      <th>0</th>\n",
       "      <td>0</td>\n",
       "      <td>50</td>\n",
       "      <td>100</td>\n",
       "    </tr>\n",
       "    <tr>\n",
       "      <th>1</th>\n",
       "      <td>50</td>\n",
       "      <td>100</td>\n",
       "      <td>150</td>\n",
       "    </tr>\n",
       "    <tr>\n",
       "      <th>2</th>\n",
       "      <td>100</td>\n",
       "      <td>150</td>\n",
       "      <td>200</td>\n",
       "    </tr>\n",
       "  </tbody>\n",
       "</table>\n",
       "</div>"
      ]
     },
     "execution_count": 20,
     "metadata": {},
     "output_type": "execute_result"
    }
   ],
   "execution_count": 20
  },
  {
   "metadata": {
    "ExecuteTime": {
     "end_time": "2025-04-19T00:54:57.721552Z",
     "start_time": "2025-04-19T00:54:57.718916Z"
    }
   },
   "cell_type": "code",
   "source": "sample_space = df.values.flatten()",
   "id": "b2448c6f43464bb1",
   "outputs": [],
   "execution_count": 21
  },
  {
   "metadata": {
    "ExecuteTime": {
     "end_time": "2025-04-19T00:54:57.750113Z",
     "start_time": "2025-04-19T00:54:57.747221Z"
    }
   },
   "cell_type": "code",
   "source": "frequency_table = list(pd.Series(sample_space).value_counts().sort_index())",
   "id": "a30fa7205da229d7",
   "outputs": [],
   "execution_count": 22
  },
  {
   "metadata": {
    "ExecuteTime": {
     "end_time": "2025-04-19T00:54:57.766474Z",
     "start_time": "2025-04-19T00:54:57.762888Z"
    }
   },
   "cell_type": "code",
   "source": "frequency_table",
   "id": "3a383d309d90555c",
   "outputs": [
    {
     "data": {
      "text/plain": [
       "[1, 2, 3, 2, 1]"
      ]
     },
     "execution_count": 23,
     "metadata": {},
     "output_type": "execute_result"
    }
   ],
   "execution_count": 23
  },
  {
   "metadata": {
    "ExecuteTime": {
     "end_time": "2025-04-19T00:54:57.782906Z",
     "start_time": "2025-04-19T00:54:57.779219Z"
    }
   },
   "cell_type": "code",
   "source": [
    "frequency_list = []\n",
    "unique_values = pd.Series(sample_space).unique()\n",
    "for index, f in enumerate(frequency_table):\n",
    "    print(f'Frequencies: {f} times\")')\n",
    "    print(f\"P(X = {f}) = {Fraction(f) / Fraction(len(profit_values) * len(profit_values))}\")\n",
    "    frequency_list.append({\n",
    "        'ticket_profit': unique_values[index],\n",
    "        \"frequency\": f,\n",
    "        \"probability\": Fraction(f) / Fraction(len(profit_values) * len(profit_values))\n",
    "    })"
   ],
   "id": "101b5149a76f6f2e",
   "outputs": [
    {
     "name": "stdout",
     "output_type": "stream",
     "text": [
      "Frequencies: 1 times\")\n",
      "P(X = 1) = 1/9\n",
      "Frequencies: 2 times\")\n",
      "P(X = 2) = 2/9\n",
      "Frequencies: 3 times\")\n",
      "P(X = 3) = 1/3\n",
      "Frequencies: 2 times\")\n",
      "P(X = 2) = 2/9\n",
      "Frequencies: 1 times\")\n",
      "P(X = 1) = 1/9\n"
     ]
    }
   ],
   "execution_count": 24
  },
  {
   "metadata": {
    "ExecuteTime": {
     "end_time": "2025-04-19T00:54:57.798331Z",
     "start_time": "2025-04-19T00:54:57.795452Z"
    }
   },
   "cell_type": "code",
   "source": [
    "df = pd.DataFrame(frequency_list, index=np.arange(1, len(frequency_table) + 1),\n",
    "                  columns=[\"ticket_profit\", \"frequency\", \"probability\"])"
   ],
   "id": "606ec990406203ae",
   "outputs": [],
   "execution_count": 25
  },
  {
   "metadata": {
    "ExecuteTime": {
     "end_time": "2025-04-19T00:54:57.808270Z",
     "start_time": "2025-04-19T00:54:57.804334Z"
    }
   },
   "cell_type": "code",
   "source": "df",
   "id": "3d4f785dcb2328fb",
   "outputs": [
    {
     "data": {
      "text/plain": [
       "   ticket_profit  frequency probability\n",
       "1              0          1         1/9\n",
       "2             50          2         2/9\n",
       "3            100          3         1/3\n",
       "4            150          2         2/9\n",
       "5            200          1         1/9"
      ],
      "text/html": [
       "<div>\n",
       "<style scoped>\n",
       "    .dataframe tbody tr th:only-of-type {\n",
       "        vertical-align: middle;\n",
       "    }\n",
       "\n",
       "    .dataframe tbody tr th {\n",
       "        vertical-align: top;\n",
       "    }\n",
       "\n",
       "    .dataframe thead th {\n",
       "        text-align: right;\n",
       "    }\n",
       "</style>\n",
       "<table border=\"1\" class=\"dataframe\">\n",
       "  <thead>\n",
       "    <tr style=\"text-align: right;\">\n",
       "      <th></th>\n",
       "      <th>ticket_profit</th>\n",
       "      <th>frequency</th>\n",
       "      <th>probability</th>\n",
       "    </tr>\n",
       "  </thead>\n",
       "  <tbody>\n",
       "    <tr>\n",
       "      <th>1</th>\n",
       "      <td>0</td>\n",
       "      <td>1</td>\n",
       "      <td>1/9</td>\n",
       "    </tr>\n",
       "    <tr>\n",
       "      <th>2</th>\n",
       "      <td>50</td>\n",
       "      <td>2</td>\n",
       "      <td>2/9</td>\n",
       "    </tr>\n",
       "    <tr>\n",
       "      <th>3</th>\n",
       "      <td>100</td>\n",
       "      <td>3</td>\n",
       "      <td>1/3</td>\n",
       "    </tr>\n",
       "    <tr>\n",
       "      <th>4</th>\n",
       "      <td>150</td>\n",
       "      <td>2</td>\n",
       "      <td>2/9</td>\n",
       "    </tr>\n",
       "    <tr>\n",
       "      <th>5</th>\n",
       "      <td>200</td>\n",
       "      <td>1</td>\n",
       "      <td>1/9</td>\n",
       "    </tr>\n",
       "  </tbody>\n",
       "</table>\n",
       "</div>"
      ]
     },
     "execution_count": 26,
     "metadata": {},
     "output_type": "execute_result"
    }
   ],
   "execution_count": 26
  },
  {
   "metadata": {
    "ExecuteTime": {
     "end_time": "2025-04-19T00:54:57.845287Z",
     "start_time": "2025-04-19T00:54:57.842412Z"
    }
   },
   "cell_type": "code",
   "source": [
    "# Question 3\n",
    "\n",
    "\n",
    "\"\"\" \n",
    "Topic: Discrete probability\n",
    "Question: The following table shows the 2017 AP Statistics Exam score\n",
    "distribution for all students taking the test in the United States. Let Z\n",
    "represent the exam score. Find μZ and σZ.\n",
    "\"\"\""
   ],
   "id": "82cf2bcf31f78674",
   "outputs": [
    {
     "data": {
      "text/plain": [
       "' \\nTopic: Discrete probability\\nQuestion: The following table shows the 2017 AP Statistics Exam score\\ndistribution for all students taking the test in the United States. Let Z\\nrepresent the exam score. Find μZ and σZ.\\n'"
      ]
     },
     "execution_count": 27,
     "metadata": {},
     "output_type": "execute_result"
    }
   ],
   "execution_count": 27
  },
  {
   "metadata": {
    "ExecuteTime": {
     "end_time": "2025-04-19T00:54:57.945208Z",
     "start_time": "2025-04-19T00:54:57.942446Z"
    }
   },
   "cell_type": "code",
   "source": [
    "df = pd.DataFrame({\n",
    "    'Score': [1, 2, 3, 4, 5],\n",
    "    'Probability': [0.136, 0.159, 0.248, 0.202, 0.255]\n",
    "})"
   ],
   "id": "1dcff3d1e68dc838",
   "outputs": [],
   "execution_count": 28
  },
  {
   "metadata": {
    "ExecuteTime": {
     "end_time": "2025-04-19T00:54:57.961708Z",
     "start_time": "2025-04-19T00:54:57.957686Z"
    }
   },
   "cell_type": "code",
   "source": "df",
   "id": "2c9dd598b4b0cee6",
   "outputs": [
    {
     "data": {
      "text/plain": [
       "   Score  Probability\n",
       "0      1        0.136\n",
       "1      2        0.159\n",
       "2      3        0.248\n",
       "3      4        0.202\n",
       "4      5        0.255"
      ],
      "text/html": [
       "<div>\n",
       "<style scoped>\n",
       "    .dataframe tbody tr th:only-of-type {\n",
       "        vertical-align: middle;\n",
       "    }\n",
       "\n",
       "    .dataframe tbody tr th {\n",
       "        vertical-align: top;\n",
       "    }\n",
       "\n",
       "    .dataframe thead th {\n",
       "        text-align: right;\n",
       "    }\n",
       "</style>\n",
       "<table border=\"1\" class=\"dataframe\">\n",
       "  <thead>\n",
       "    <tr style=\"text-align: right;\">\n",
       "      <th></th>\n",
       "      <th>Score</th>\n",
       "      <th>Probability</th>\n",
       "    </tr>\n",
       "  </thead>\n",
       "  <tbody>\n",
       "    <tr>\n",
       "      <th>0</th>\n",
       "      <td>1</td>\n",
       "      <td>0.136</td>\n",
       "    </tr>\n",
       "    <tr>\n",
       "      <th>1</th>\n",
       "      <td>2</td>\n",
       "      <td>0.159</td>\n",
       "    </tr>\n",
       "    <tr>\n",
       "      <th>2</th>\n",
       "      <td>3</td>\n",
       "      <td>0.248</td>\n",
       "    </tr>\n",
       "    <tr>\n",
       "      <th>3</th>\n",
       "      <td>4</td>\n",
       "      <td>0.202</td>\n",
       "    </tr>\n",
       "    <tr>\n",
       "      <th>4</th>\n",
       "      <td>5</td>\n",
       "      <td>0.255</td>\n",
       "    </tr>\n",
       "  </tbody>\n",
       "</table>\n",
       "</div>"
      ]
     },
     "execution_count": 29,
     "metadata": {},
     "output_type": "execute_result"
    }
   ],
   "execution_count": 29
  },
  {
   "metadata": {
    "ExecuteTime": {
     "end_time": "2025-04-19T00:54:58.057696Z",
     "start_time": "2025-04-19T00:54:58.054897Z"
    }
   },
   "cell_type": "code",
   "source": "sample_space = df['Score'].values",
   "id": "1dc8c365cd691cc0",
   "outputs": [],
   "execution_count": 30
  },
  {
   "metadata": {
    "ExecuteTime": {
     "end_time": "2025-04-19T00:54:58.087877Z",
     "start_time": "2025-04-19T00:54:58.084594Z"
    }
   },
   "cell_type": "code",
   "source": "sample_space",
   "id": "fd25827dc4b583c8",
   "outputs": [
    {
     "data": {
      "text/plain": [
       "array([1, 2, 3, 4, 5], dtype=int64)"
      ]
     },
     "execution_count": 31,
     "metadata": {},
     "output_type": "execute_result"
    }
   ],
   "execution_count": 31
  },
  {
   "metadata": {
    "ExecuteTime": {
     "end_time": "2025-04-19T00:54:58.102811Z",
     "start_time": "2025-04-19T00:54:58.098726Z"
    }
   },
   "cell_type": "code",
   "source": [
    "mean = np.sum(df['Score'] * df['Probability'])\n",
    "mean"
   ],
   "id": "dc33056dc40e8c26",
   "outputs": [
    {
     "data": {
      "text/plain": [
       "3.281"
      ]
     },
     "execution_count": 32,
     "metadata": {},
     "output_type": "execute_result"
    }
   ],
   "execution_count": 32
  },
  {
   "metadata": {
    "ExecuteTime": {
     "end_time": "2025-04-19T00:54:58.121722Z",
     "start_time": "2025-04-19T00:54:58.119335Z"
    }
   },
   "cell_type": "code",
   "source": [
    "variance = \\\n",
    "    round(sum([((score - mean) ** 2) * probability for score, probability in zip(df['Score'], df['Probability'])]), 3)"
   ],
   "id": "ebae849a071b0634",
   "outputs": [],
   "execution_count": 33
  },
  {
   "metadata": {
    "ExecuteTime": {
     "end_time": "2025-04-19T00:54:58.162985Z",
     "start_time": "2025-04-19T00:54:58.159420Z"
    }
   },
   "cell_type": "code",
   "source": "variance",
   "id": "c99211059d9bfab",
   "outputs": [
    {
     "data": {
      "text/plain": [
       "1.846"
      ]
     },
     "execution_count": 34,
     "metadata": {},
     "output_type": "execute_result"
    }
   ],
   "execution_count": 34
  },
  {
   "metadata": {
    "ExecuteTime": {
     "end_time": "2025-04-19T00:54:58.178259Z",
     "start_time": "2025-04-19T00:54:58.175032Z"
    }
   },
   "cell_type": "code",
   "source": [
    "std_deviation = round(math.sqrt(variance), 3)\n",
    "std_deviation"
   ],
   "id": "b78cdc06c4db3451",
   "outputs": [
    {
     "data": {
      "text/plain": [
       "1.359"
      ]
     },
     "execution_count": 35,
     "metadata": {},
     "output_type": "execute_result"
    }
   ],
   "execution_count": 35
  },
  {
   "metadata": {},
   "cell_type": "markdown",
   "source": [
    "# Transforming Random Variables\n",
    "***\n",
    "Shifting a random variable by a constant r means adding r to every value in the dataset or subtracting r from every value in the dataset.\n",
    "\n",
    "Scaling a random variable by a constant r means multiplying or dividing every value in the data set by r."
   ],
   "id": "21bba725ad12ded2"
  },
  {
   "metadata": {
    "ExecuteTime": {
     "end_time": "2025-04-19T00:54:58.192352Z",
     "start_time": "2025-04-19T00:54:58.189990Z"
    }
   },
   "cell_type": "code",
   "source": [
    "# Question 1\n",
    "\n",
    "\"\"\"\n",
    "\n",
    "Question: Let X be a random variable with μX = 75 and σX = 8. Let Y = 6 + 2X.\n",
    "Find μY and σY.\n",
    "\n",
    "\"\"\"\n",
    "\n",
    "mean_X = 75\n",
    "std_dev_X = 8\n",
    "mean_Y = 6 + 2 * mean_X\n",
    "std_dev_Y = 2 * std_dev_X\n",
    "\n",
    "print(f'μY = {mean_Y}')\n",
    "print(f'σY = {std_dev_Y}')"
   ],
   "id": "132262b63c132dd0",
   "outputs": [
    {
     "name": "stdout",
     "output_type": "stream",
     "text": [
      "μY = 156\n",
      "σY = 16\n"
     ]
    }
   ],
   "execution_count": 36
  },
  {
   "metadata": {
    "ExecuteTime": {
     "end_time": "2025-04-19T00:54:58.206909Z",
     "start_time": "2025-04-19T00:54:58.204557Z"
    }
   },
   "cell_type": "code",
   "source": [
    "# Question r\n",
    "\n",
    "\"\"\"\n",
    "\n",
    "Question: An employee at a candy store has the job of cutting fudge into 1\n",
    "-inch cubes and weighing them. After a day at work she finds the mean\n",
    "and standard deviation of her fudge cubes to be 1.5 ounces and 0.3\n",
    "ounces, respectively. At the end of the day her boss realizes the scale was\n",
    "not calibrated correctly. The weights of all the pieces were actually 0.1 less\n",
    "than recorded. Find the actual mean and standard deviation for the fudge\n",
    "that was cut today.\n",
    "\n",
    "\"\"\"\n",
    "\n",
    "mean_X = 1.5\n",
    "std_dev_X = 0.3\n",
    "mean_Y = mean_X - 0.1\n",
    "std_dev_Y = std_dev_X\n",
    "\n",
    "print(f'Actual Mean Y = {mean_Y}')\n",
    "print(f'Actual σY = {std_dev_Y}')"
   ],
   "id": "76c6d095a5a43fbd",
   "outputs": [
    {
     "name": "stdout",
     "output_type": "stream",
     "text": [
      "Actual Mean Y = 1.4\n",
      "Actual σY = 0.3\n"
     ]
    }
   ],
   "execution_count": 37
  },
  {
   "metadata": {
    "ExecuteTime": {
     "end_time": "2025-04-19T00:54:58.221502Z",
     "start_time": "2025-04-19T00:54:58.218591Z"
    }
   },
   "cell_type": "code",
   "source": [
    "# Question 3\n",
    "\n",
    "\"\"\"\n",
    "\n",
    "Question: A chemistry teacher gave a test to his students and calculated\n",
    "the following statistics for the class: median of 68, IQR of 12, and range of\n",
    "58. He decides to “curve” the scores by using this formula:\n",
    "New score = 1.05(Old score) + 4\n",
    "Find the median, IQR, and range for the new set of test scores.\n",
    "\n",
    "\"\"\"\n",
    "\n",
    "median_X = 68\n",
    "iqr_X = 12\n",
    "range_X = 58\n",
    "\n",
    "median_Y = round(1.05 * median_X + 4, 3)\n",
    "iqr_Y = round(1.05 * iqr_X, 3)\n",
    "range_Y = round(1.05 * range_X, 3)\n",
    "\n",
    "print(f'Median Y = {median_Y}')\n",
    "print(f'IQR Y = {iqr_Y}')\n",
    "print(f'Range Y = {range_Y}')"
   ],
   "id": "91df564e13fa8187",
   "outputs": [
    {
     "name": "stdout",
     "output_type": "stream",
     "text": [
      "Median Y = 75.4\n",
      "IQR Y = 12.6\n",
      "Range Y = 60.9\n"
     ]
    }
   ],
   "execution_count": 38
  },
  {
   "metadata": {},
   "cell_type": "markdown",
   "source": [
    "# Combinations of Random Variables\n",
    "***"
   ],
   "id": "e2f3c0180394fdd9"
  },
  {
   "metadata": {},
   "cell_type": "markdown",
   "source": [
    "## Linear Combinations of Random Variables\n",
    "What happens when we combine two data sets, either by adding them or subtracting them\n"
   ],
   "id": "5f9c1fc97391ab98"
  },
  {
   "metadata": {
    "ExecuteTime": {
     "end_time": "2025-04-19T00:54:58.236885Z",
     "start_time": "2025-04-19T00:54:58.233652Z"
    }
   },
   "cell_type": "code",
   "source": [
    "# Sum of Two Random Variables\n",
    "\n",
    "mean_W = 1.1\n",
    "mean_B = 0.6\n",
    "\n",
    "std_dev_W = 0.3\n",
    "std_dev_B = 0.1\n",
    "\n",
    "combined_mean = round(mean_W + mean_B, 3)\n",
    "combined_variance = round(std_dev_W ** 2 + std_dev_B ** 2, 3)\n",
    "combined_std_dev = round(math.sqrt(combined_variance), 3)\n",
    "\n",
    "print(f'Combined Mean = {combined_mean}')\n",
    "print(f'Combined Variance = {combined_variance}')\n",
    "print(f'Combined Standard Deviation = {combined_std_dev}')"
   ],
   "id": "77bc4b28dccc6e03",
   "outputs": [
    {
     "name": "stdout",
     "output_type": "stream",
     "text": [
      "Combined Mean = 1.7\n",
      "Combined Variance = 0.1\n",
      "Combined Standard Deviation = 0.316\n"
     ]
    }
   ],
   "execution_count": 39
  },
  {
   "metadata": {
    "ExecuteTime": {
     "end_time": "2025-04-19T00:54:58.260444Z",
     "start_time": "2025-04-19T00:54:58.256860Z"
    }
   },
   "cell_type": "code",
   "source": [
    "# Difference of Two Random Variables\n",
    "\n",
    "mean_W = 1.1\n",
    "mean_B = 0.6\n",
    "\n",
    "std_dev_W = 0.3\n",
    "std_dev_B = 0.1\n",
    "\n",
    "combined_mean = round(mean_W - mean_B, 3)\n",
    "# For the variance, we use the formula for the variance of the sum of two random variables no matter if we are adding or subtracting\n",
    "combined_variance = round(std_dev_W ** 2 + std_dev_B ** 2, 3)\n",
    "combined_std_dev = round(math.sqrt(combined_variance), 3)\n",
    "\n",
    "print(f'Combined Mean = {combined_mean}')\n",
    "print(f'Combined Variance = {combined_variance}')\n",
    "print(f'Combined Standard Deviation = {combined_std_dev}')"
   ],
   "id": "ba2abef5feb041ca",
   "outputs": [
    {
     "name": "stdout",
     "output_type": "stream",
     "text": [
      "Combined Mean = 0.5\n",
      "Combined Variance = 0.1\n",
      "Combined Standard Deviation = 0.316\n"
     ]
    }
   ],
   "execution_count": 40
  },
  {
   "metadata": {},
   "cell_type": "markdown",
   "source": [
    "## Combinations of Normally Distributed Variables\n",
    "When we combine variables that are both normally distributed, the combined distribution is also normally distributed."
   ],
   "id": "cbfd1f1028c7b258"
  },
  {
   "metadata": {
    "ExecuteTime": {
     "end_time": "2025-04-19T00:54:58.311414Z",
     "start_time": "2025-04-19T00:54:58.307960Z"
    }
   },
   "cell_type": "code",
   "source": [
    "# Question 1\n",
    "\n",
    "\"\"\"\n",
    "\n",
    "Question: Let A and B be independent, continuous random variables with\n",
    "μA = 85, σA = 6, μB = 92, and σB = 8. Find μA+B and σA+B.\n",
    "\n",
    "\"\"\"\n",
    "\n",
    "mean_A = 85\n",
    "std_dev_A = 6\n",
    "mean_B = 92\n",
    "std_dev_B = 8\n",
    "\n",
    "combined_mean = round(mean_A + mean_B, 3)\n",
    "combined_variance = round(std_dev_A ** 2 + std_dev_B ** 2, 3)\n",
    "\n",
    "print(f'μA+B = {combined_mean}')\n",
    "print(f'σA+B = {math.sqrt(combined_variance)}')"
   ],
   "id": "484ed9139b16235",
   "outputs": [
    {
     "name": "stdout",
     "output_type": "stream",
     "text": [
      "μA+B = 177\n",
      "σA+B = 10.0\n"
     ]
    }
   ],
   "execution_count": 41
  },
  {
   "metadata": {},
   "cell_type": "markdown",
   "source": [
    "# Permutations and Combinations\n",
    "***"
   ],
   "id": "d66fe3daeb09acb5"
  },
  {
   "metadata": {},
   "cell_type": "markdown",
   "source": [
    "## Permutations\n",
    "A permutation is an arrangement of objects where the order matters."
   ],
   "id": "1f2fe6598368af4a"
  },
  {
   "metadata": {
    "ExecuteTime": {
     "end_time": "2025-04-19T00:54:58.363389Z",
     "start_time": "2025-04-19T00:54:58.361387Z"
    }
   },
   "cell_type": "code",
   "source": [
    "# Reminder: Factorial of a number is the product of all positive integers less than or equal to that number.\n",
    "\n",
    "# Factorial of 3 (denoted as 3!) is 3 × r × 1"
   ],
   "id": "4bc77b51ec1d4a1d",
   "outputs": [],
   "execution_count": 42
  },
  {
   "metadata": {
    "ExecuteTime": {
     "end_time": "2025-04-19T00:54:58.424565Z",
     "start_time": "2025-04-19T00:54:58.419314Z"
    }
   },
   "cell_type": "code",
   "source": "display(Math(r'_nP_r = \\frac{n!}{(n \\ - \\ r)!}'))",
   "id": "ea9a7a39bbc9cf6e",
   "outputs": [
    {
     "data": {
      "text/plain": [
       "<IPython.core.display.Math object>"
      ],
      "text/latex": "$\\displaystyle _nP_r = \\frac{n!}{(n \\ - \\ r)!}$"
     },
     "metadata": {},
     "output_type": "display_data"
    }
   ],
   "execution_count": 43
  },
  {
   "metadata": {
    "ExecuteTime": {
     "end_time": "2025-04-19T00:54:58.529792Z",
     "start_time": "2025-04-19T00:54:58.526604Z"
    }
   },
   "cell_type": "code",
   "source": [
    "# Example: Permutations \n",
    "\n",
    "\"\"\"\n",
    "How many ways can you choose r marbles from a bag of 3?\n",
    "\n",
    "\"\"\"\n",
    "\n",
    "n = 3\n",
    "r = 2\n",
    "\n",
    "_nP_r = round(math.factorial(n) / math.factorial(n - r), 3)\n",
    "\n",
    "print(f'_3P_2 (r marbles) = {_nP_r}')\n",
    "\n",
    "npr_possibility_set = {'AB', 'AC', 'BC', 'CA', 'CB', 'BA'}"
   ],
   "id": "ffe33f7b60a10e72",
   "outputs": [
    {
     "name": "stdout",
     "output_type": "stream",
     "text": [
      "_3P_2 (r marbles) = 6.0\n"
     ]
    }
   ],
   "execution_count": 44
  },
  {
   "metadata": {},
   "cell_type": "markdown",
   "source": [
    "## Combinations\n",
    "A combination is an arrangement of objects where the order does not matter.\n",
    "\n",
    "Combinations remove duplicates of the objects in the arrangement."
   ],
   "id": "56a67fa0184f99ce"
  },
  {
   "metadata": {
    "ExecuteTime": {
     "end_time": "2025-04-19T00:54:58.547871Z",
     "start_time": "2025-04-19T00:54:58.544492Z"
    }
   },
   "cell_type": "code",
   "source": "display(Math(r'_nC_r = \\frac{n!}{r!(n \\ - \\ r)!}'))",
   "id": "6dd1fd00ec4b30d7",
   "outputs": [
    {
     "data": {
      "text/plain": [
       "<IPython.core.display.Math object>"
      ],
      "text/latex": "$\\displaystyle _nC_r = \\frac{n!}{r!(n \\ - \\ r)!}$"
     },
     "metadata": {},
     "output_type": "display_data"
    }
   ],
   "execution_count": 45
  },
  {
   "metadata": {
    "ExecuteTime": {
     "end_time": "2025-04-19T00:54:58.572307Z",
     "start_time": "2025-04-19T00:54:58.568758Z"
    }
   },
   "cell_type": "code",
   "source": [
    "_nC_r = round(math.factorial(n) / (math.factorial(n - r) * math.factorial(r)), 3)\n",
    "\n",
    "print(f'_3C_2 (r marbles) = {_nC_r}')\n",
    "\n",
    "ncr_possibility_set = {('AB', 'BA'), ('BC', 'CB'), ('CA', 'CA')}"
   ],
   "id": "aa8e8dcdba77c9",
   "outputs": [
    {
     "name": "stdout",
     "output_type": "stream",
     "text": [
      "_3C_2 (r marbles) = 3.0\n"
     ]
    }
   ],
   "execution_count": 46
  },
  {
   "metadata": {
    "ExecuteTime": {
     "end_time": "2025-04-19T00:54:58.584551Z",
     "start_time": "2025-04-19T00:54:58.581805Z"
    }
   },
   "cell_type": "code",
   "source": [
    "n = 30\n",
    "r = 5"
   ],
   "id": "63a2cbd1df2b7669",
   "outputs": [],
   "execution_count": 47
  },
  {
   "metadata": {
    "ExecuteTime": {
     "end_time": "2025-04-19T00:54:58.595753Z",
     "start_time": "2025-04-19T00:54:58.593349Z"
    }
   },
   "cell_type": "code",
   "source": [
    "_nC_r = round(math.factorial(n) / (math.factorial(n - r) * math.factorial(r)), 3)\n",
    "\n",
    "print(f'_30C_5 (5 people) = {_nC_r}')"
   ],
   "id": "cf497501b4bea61c",
   "outputs": [
    {
     "name": "stdout",
     "output_type": "stream",
     "text": [
      "_30C_5 (5 people) = 142506.0\n"
     ]
    }
   ],
   "execution_count": 48
  },
  {
   "metadata": {
    "ExecuteTime": {
     "end_time": "2025-04-19T00:54:58.612304Z",
     "start_time": "2025-04-19T00:54:58.609863Z"
    }
   },
   "cell_type": "code",
   "source": [
    "n = 4\n",
    "r = 4\n",
    "\n",
    "_nP_r = round(math.factorial(n) / math.factorial(n - r), 3)\n",
    "\n",
    "print(f'_4P_4 (4 people) = {_nP_r}')"
   ],
   "id": "7bfe62209285d092",
   "outputs": [
    {
     "name": "stdout",
     "output_type": "stream",
     "text": [
      "_4P_4 (4 people) = 24.0\n"
     ]
    }
   ],
   "execution_count": 49
  },
  {
   "metadata": {},
   "cell_type": "markdown",
   "source": [
    "# Binomial Random Variables\n",
    "***\n",
    "A binomial random variable X is a discrete random variable that represents the number of successes in a fixed number of independent Bernoulli r, each with a success probability of p.\n",
    "\n",
    "In order for a variable X to be a *binomial random variable*, the following conditions must be met:\n",
    "1. The r are independent: The outcome of each trial does not affect the outcome of the others.\n",
    "2. The r are repeated: Each trial has exactly two possible outcomes (success or failure).\n",
    "3. The probability of success (p) is constant for each trial: The probability of success remains the same\n",
    "4. The number of r (n) is fixed: The number of r is the same for\n"
   ],
   "id": "f16d6b6f00c49f71"
  },
  {
   "metadata": {},
   "cell_type": "markdown",
   "source": "## Binomial Probability\n",
   "id": "b719d0c94575b913"
  },
  {
   "metadata": {
    "ExecuteTime": {
     "end_time": "2025-04-19T00:54:58.631418Z",
     "start_time": "2025-04-19T00:54:58.627875Z"
    }
   },
   "cell_type": "code",
   "source": "display(Math(r'P(r \\ success \\ in \\ \\textit{n} \\ r) \\ = \\ \\binom{n}{r} p^r (1 \\ - \\ p)^{n-r}'))",
   "id": "c3000735801c1abe",
   "outputs": [
    {
     "data": {
      "text/plain": [
       "<IPython.core.display.Math object>"
      ],
      "text/latex": "$\\displaystyle P(r \\ success \\ in \\ \\textit{n} \\ r) \\ = \\ \\binom{n}{r} p^r (1 \\ - \\ p)^{n-r}$"
     },
     "metadata": {},
     "output_type": "display_data"
    }
   ],
   "execution_count": 50
  },
  {
   "metadata": {
    "ExecuteTime": {
     "end_time": "2025-04-19T00:54:58.645998Z",
     "start_time": "2025-04-19T00:54:58.642736Z"
    }
   },
   "cell_type": "code",
   "source": [
    "\"\"\"\n",
    "\n",
    "n = number of trials\n",
    "x = number of desired successful events ie. getting a roll of (4), 5 times in a row, x = 5\n",
    "p = probability of success in a single trial\n",
    "q = probability of failure in a single trial\n",
    "\n",
    "\"\"\""
   ],
   "id": "96ba2b301f77530a",
   "outputs": [
    {
     "data": {
      "text/plain": [
       "'\\n\\nn = number of trials\\nx = number of desired successful events ie. getting a roll of (4), 5 times in a row, x = 5\\np = probability of success in a single trial\\nq = probability of failure in a single trial\\n\\n'"
      ]
     },
     "execution_count": 51,
     "metadata": {},
     "output_type": "execute_result"
    }
   ],
   "execution_count": 51
  },
  {
   "metadata": {
    "ExecuteTime": {
     "end_time": "2025-04-19T00:54:58.662942Z",
     "start_time": "2025-04-19T00:54:58.658935Z"
    }
   },
   "cell_type": "code",
   "source": [
    "# Example 1: \n",
    "\n",
    "\"\"\"\n",
    "\n",
    "3 marbles in a bag.  2 are green and 1 is red. \n",
    "\n",
    "5 r\n",
    "\n",
    "What is the probability of getting exactly 3 red marbles in 5 r?\n",
    "\n",
    "\"\"\"\n",
    "\n",
    "n = 5\n",
    "r = 3\n",
    "\n",
    "_nC_r = round(math.factorial(n) / (math.factorial(r) * math.factorial(n - r)), 3)\n",
    "\n",
    "print(f'_5C_3 (combinations of 3 red marbles) = {_nC_r}')\n",
    "\n",
    "# f is the probability of getting a red marble in one trial\n",
    "\n",
    "p = Fraction(1, 3)\n",
    "\n",
    "# f^n is the probability of getting 3 red marbles in 5 r\n",
    "\n",
    "n = 5\n",
    "r = 3\n",
    "\n",
    "p_3_5 = round(_nC_r * (p ** r) * (Fraction(1) - p) ** (n - r), 3) * 100\n",
    "\n",
    "print(f'P(3 red marbles in 5 r) = {p_3_5}%')"
   ],
   "id": "a2ee36b2cd5fc7c2",
   "outputs": [
    {
     "name": "stdout",
     "output_type": "stream",
     "text": [
      "_5C_3 (combinations of 3 red marbles) = 10.0\n",
      "P(3 red marbles in 5 r) = 16.5%\n"
     ]
    }
   ],
   "execution_count": 52
  },
  {
   "metadata": {},
   "cell_type": "markdown",
   "source": "## Probability distributions for binomial random variables",
   "id": "332720a0f5ff8d1a"
  },
  {
   "metadata": {
    "ExecuteTime": {
     "end_time": "2025-04-19T00:54:58.678344Z",
     "start_time": "2025-04-19T00:54:58.675257Z"
    }
   },
   "cell_type": "code",
   "source": [
    "# Question 2\n",
    "\n",
    "n = 15  # trials\n",
    "p = 0.45  # probability of success\n",
    "\n",
    "# Find P(X = 9)\n",
    "\n",
    "r = 9  # successes\n",
    "\n",
    "# Start by finding the number of ways to have exactly 9 successes in 15 r using the combination formula.\n",
    "\n",
    "_nC_r = round(math.factorial(n) / (math.factorial(r) * math.factorial(n - r)), 3)\n",
    "\n",
    "print(f'_15C_9 (combinations of 9 successes) = {_nC_r}')\n",
    "\n",
    "# Next, calculate the probability of having exactly 9 successes using the binomial probability formula.\n",
    "\n",
    "p_9 = round(_nC_r * (p ** r) * (Fraction(1) - p) ** (n - r), 3) * 100\n",
    "\n",
    "print(f'P(X = 9) = {p_9}%')\n",
    "\n",
    "\n",
    "\n"
   ],
   "id": "6980e862cebc1932",
   "outputs": [
    {
     "name": "stdout",
     "output_type": "stream",
     "text": [
      "_15C_9 (combinations of 9 successes) = 5005.0\n",
      "P(X = 9) = 10.5%\n"
     ]
    }
   ],
   "execution_count": 53
  },
  {
   "metadata": {
    "ExecuteTime": {
     "end_time": "2025-04-19T00:54:58.694164Z",
     "start_time": "2025-04-19T00:54:58.691269Z"
    }
   },
   "cell_type": "code",
   "source": [
    "# Question 3\n",
    "\n",
    "\"\"\"\n",
    "\n",
    "Suppose 35 % of our nation's high school seniors will be taking\n",
    "at least one AP Exam this year. We select 80 students at random from our\n",
    "nation. What is the probability that exactly 30 will be taking at least one\n",
    "exam?\n",
    "\n",
    "\"\"\"\n",
    "\n",
    "n = 80  # trials\n",
    "p = 0.35  # probability of success\n",
    "\n",
    "# Find P(X = 9)\n",
    "\n",
    "r = 30  # successes\n",
    "\n",
    "# Start by finding the number of ways to have exactly 9 successes in 15 r using the combination formula.\n",
    "\n",
    "# _nC_r = round(math.factorial(n) / (math.factorial(r) * math.factorial(n - r)), 3)\n",
    "_nC_r = round(math.factorial(n) / (math.factorial(r) * math.factorial(n - r)), 3)\n",
    "\n",
    "print(f'_15C_9 (combinations of 9 successes) = {_nC_r}')\n",
    "\n",
    "# Next, calculate the probability of having exactly 9 successes using the binomial probability formula.\n",
    "\n",
    "p_9 = round(_nC_r * (p ** r) * (Fraction(1) - p) ** (n - r) * 100, 3)\n",
    "\n",
    "print(f'P(X = 9) = {p_9}%')"
   ],
   "id": "446217ced095343a",
   "outputs": [
    {
     "name": "stdout",
     "output_type": "stream",
     "text": [
      "_15C_9 (combinations of 9 successes) = 8.871412534840453e+21\n",
      "P(X = 9) = 8.236%\n"
     ]
    }
   ],
   "execution_count": 54
  },
  {
   "metadata": {},
   "cell_type": "markdown",
   "source": [
    "# Poisson Distribution\n",
    "***\n",
    "Poisson process: Calculates the number of times an event occurs in a\n",
    "period of time, or in a particular area, or over some distance, or within any\n",
    "other kind of measurement.\n",
    "1. The experiment counts the number of occurrences of an event over some other measurement,\n",
    "2. The mean is the same for each interval,\n",
    "3. The count of events in each interval is independent of the other intervals,\n",
    "4. The intervals don’t overlap, and \n",
    "5. The probability of the event occurring is proportional to the period of time."
   ],
   "id": "7ee69c5fa329f311"
  },
  {
   "metadata": {
    "ExecuteTime": {
     "end_time": "2025-04-19T00:54:58.713677Z",
     "start_time": "2025-04-19T00:54:58.708743Z"
    }
   },
   "cell_type": "code",
   "source": [
    "display(Math(r'Poisson \\ probability: \\ P(x) \\ = \\ \\frac{\\lambda^x e^{-\\lambda}}{x!}'))\n",
    "display(\n",
    "    Math(r' Poisson \\ probability: \\ for \\ a \\ binomial \\ random \\ variable \\ P(x) \\ = \\ \\frac{(np)^{x}e^{-np}}{x!}'))"
   ],
   "id": "5e15c715de0df91d",
   "outputs": [
    {
     "data": {
      "text/plain": [
       "<IPython.core.display.Math object>"
      ],
      "text/latex": "$\\displaystyle Poisson \\ probability: \\ P(x) \\ = \\ \\frac{\\lambda^x e^{-\\lambda}}{x!}$"
     },
     "metadata": {},
     "output_type": "display_data"
    },
    {
     "data": {
      "text/plain": [
       "<IPython.core.display.Math object>"
      ],
      "text/latex": "$\\displaystyle  Poisson \\ probability: \\ for \\ a \\ binomial \\ random \\ variable \\ P(x) \\ = \\ \\frac{(np)^{x}e^{-np}}{x!}$"
     },
     "metadata": {},
     "output_type": "display_data"
    }
   ],
   "execution_count": 55
  },
  {
   "metadata": {
    "ExecuteTime": {
     "end_time": "2025-04-19T00:54:58.723211Z",
     "start_time": "2025-04-19T00:54:58.719196Z"
    }
   },
   "cell_type": "code",
   "source": [
    "display(Math(r'''\\begin{align} \n",
    "\"At \\ least” \\ and \\ “at \\ most,” \\ and \\ mean, \\ variance, \\ and \\ standard \\ deviation \\ \\\\\n",
    "Probability \\ of \\ at \\ least \\ one \\ success \\ or \\ failure: \\ \\\\\n",
    "P(at \\ least \\ 1 \\ success) \\ = \\ 1 \\ − \\ P(all \\ failures) \\ \\\\ \\ \n",
    "P(at \\ least \\ 1 \\ failure) \\ = \\ 1 \\ − \\ P(all \\ successes) \\ \\\\\n",
    "Mean, \\ variance, \\ and \\ standard \\ deviation \\ of \\ a \\ binomial \\ random \\ variable: \\ \\\\\n",
    "Mean: \\ μX \\ = \\ E(X \\ ) \\ = \\ np \\ \\\\\n",
    "Variance: \\ σ2 \\ \\\\\n",
    "X \\ = \\ np(1 \\ − \\ p) \\ \\\\\n",
    "Standard \\ deviation: \\ σX \\ = \\ np(1 \\ − \\ p) \\ \\\\\n",
    "\\end{align}'''))\n"
   ],
   "id": "b8ed93ab06a2ea3e",
   "outputs": [
    {
     "data": {
      "text/plain": [
       "<IPython.core.display.Math object>"
      ],
      "text/latex": "$\\displaystyle \\begin{align} \n\"At \\ least” \\ and \\ “at \\ most,” \\ and \\ mean, \\ variance, \\ and \\ standard \\ deviation \\ \\\\\nProbability \\ of \\ at \\ least \\ one \\ success \\ or \\ failure: \\ \\\\\nP(at \\ least \\ 1 \\ success) \\ = \\ 1 \\ − \\ P(all \\ failures) \\ \\\\ \\ \nP(at \\ least \\ 1 \\ failure) \\ = \\ 1 \\ − \\ P(all \\ successes) \\ \\\\\nMean, \\ variance, \\ and \\ standard \\ deviation \\ of \\ a \\ binomial \\ random \\ variable: \\ \\\\\nMean: \\ μX \\ = \\ E(X \\ ) \\ = \\ np \\ \\\\\nVariance: \\ σ2 \\ \\\\\nX \\ = \\ np(1 \\ − \\ p) \\ \\\\\nStandard \\ deviation: \\ σX \\ = \\ np(1 \\ − \\ p) \\ \\\\\n\\end{align}$"
     },
     "metadata": {},
     "output_type": "display_data"
    }
   ],
   "execution_count": 56
  },
  {
   "metadata": {
    "ExecuteTime": {
     "end_time": "2025-04-19T00:54:58.737499Z",
     "start_time": "2025-04-19T00:54:58.734652Z"
    }
   },
   "cell_type": "code",
   "source": [
    "# Question 1\n",
    "\n",
    "\"\"\"\n",
    "\n",
    "A carpenter is able to build 3 chairs per day, on average. Find the probability that he can build 5 chairs tomorrow.\n",
    "\n",
    "\"\"\"\n",
    "\n",
    "mean = 3  # average number of chairs built per day\n",
    "required_chairs = 5  # number of chairs needed\n",
    "\n",
    "P_5_chairs = round(\n",
    "    (\n",
    "            (\n",
    "                    mean ** required_chairs\n",
    "            ) * (np.e ** (-mean))\n",
    "    ) /\n",
    "    math.factorial(required_chairs)\n",
    "    , 4) * 100\n",
    "\n",
    "print(f'Probability that the carpenter can build 5 chairs tomorrow: {P_5_chairs}%')"
   ],
   "id": "4a91513493d8cc92",
   "outputs": [
    {
     "name": "stdout",
     "output_type": "stream",
     "text": [
      "Probability that the carpenter can build 5 chairs tomorrow: 10.08%\n"
     ]
    }
   ],
   "execution_count": 57
  },
  {
   "metadata": {
    "ExecuteTime": {
     "end_time": "2025-04-19T00:54:58.757922Z",
     "start_time": "2025-04-19T00:54:58.754391Z"
    }
   },
   "cell_type": "code",
   "source": [
    "# Question 2\n",
    "\n",
    "\"\"\"\n",
    "\n",
    "Let X be the number of typos on a page in a printed book, with a mean of 3 typos per page. \n",
    "What is the probability that a randomly selected page has at most one typo on it??\n",
    "\n",
    "\"\"\"\n",
    "\n",
    "mean = 3  # average number of typos per page\n",
    "max_typos = 1  # maximum number of typos allowed\n",
    "min_typos = 0  # minimum number of typos allowed\n",
    "\n",
    "P_max_typos = round(\n",
    "    (\n",
    "            (\n",
    "                    mean ** max_typos\n",
    "            ) * (np.e ** (-mean))\n",
    "    ) /\n",
    "    math.factorial(max_typos)\n",
    "    , 4) * 100\n",
    "\n",
    "print(f'Probability that a randomly selected page has one typo on it: {round(P_max_typos, 4)}%')\n",
    "\n",
    "P_min_typos = round(\n",
    "    (\n",
    "            (\n",
    "                    mean ** min_typos\n",
    "            ) * (np.e ** (-mean))\n",
    "    ) /\n",
    "    math.factorial(min_typos)\n",
    "    , 4) * 100\n",
    "\n",
    "print(f'Probability that a randomly selected page has no typos on it: {round(P_min_typos, 4)}%')\n",
    "\n",
    "print(f'Probability that a randomly selected page has at most one typo on it: {round(P_max_typos + P_min_typos, 4)}%')\n",
    "\n"
   ],
   "id": "5b2b20817b2e3b9f",
   "outputs": [
    {
     "name": "stdout",
     "output_type": "stream",
     "text": [
      "Probability that a randomly selected page has one typo on it: 14.94%\n",
      "Probability that a randomly selected page has no typos on it: 4.98%\n",
      "Probability that a randomly selected page has at most one typo on it: 19.92%\n"
     ]
    }
   ],
   "execution_count": 58
  },
  {
   "metadata": {},
   "cell_type": "markdown",
   "source": [
    "# 'At Least' and 'At Most', and Mean, Variance, and Standard Deviation\n",
    "***"
   ],
   "id": "b9285a3aed244d6c"
  },
  {
   "metadata": {
    "ExecuteTime": {
     "end_time": "2025-04-19T00:54:58.775486Z",
     "start_time": "2025-04-19T00:54:58.771294Z"
    }
   },
   "cell_type": "code",
   "source": [
    "\"\"\"\n",
    "\n",
    "Question: Let X be a binomial random variable with n = 15 and p = 0.45.\n",
    "Find P(X ≤ 10).\n",
    "\n",
    "\"\"\"\n",
    "\n",
    "n = 15  # trials\n",
    "p = 0.45  # probability of success\n",
    "\n",
    "\"\"\"\n",
    "\n",
    "X follows a binomial distribution, but instead of finding the probability of\n",
    "exactly k successes in n trials, we’re asked to find the probability of k or\n",
    "fewer successes in n trials. \n",
    "\n",
    "Specifically, find the chance of 10 or fewer\n",
    "successes in 15 trials, where the probability of success on any one trial is\n",
    "p = 0.45.\n",
    "\n",
    "\"\"\"\n",
    "\n",
    "display(Math(r'P(k \\ successes \\ in \\ n \\ trials) \\ = \\ \\binom{n}{k} p^k (1 \\ - \\ p)^{n-k}'))"
   ],
   "id": "1f8fc4b8f31d0bbc",
   "outputs": [
    {
     "data": {
      "text/plain": [
       "<IPython.core.display.Math object>"
      ],
      "text/latex": "$\\displaystyle P(k \\ successes \\ in \\ n \\ trials) \\ = \\ \\binom{n}{k} p^k (1 \\ - \\ p)^{n-k}$"
     },
     "metadata": {},
     "output_type": "display_data"
    }
   ],
   "execution_count": 59
  },
  {
   "metadata": {
    "ExecuteTime": {
     "end_time": "2025-04-19T00:54:58.786202Z",
     "start_time": "2025-04-19T00:54:58.781989Z"
    }
   },
   "cell_type": "code",
   "source": [
    "# Example 1\n",
    "\n",
    "\n",
    "\"\"\"\n",
    "\n",
    "A technician is launching fireworks near the end of a show.  \n",
    "Of the remaining eleven fireworks, 5 are blue and 6 are red.  \n",
    "If he launches six of them in a random order, what is the probability that at most 3 of them are blue?\n",
    "\n",
    "\"\"\"\n",
    "\n",
    "n_blue = 5  # number of blue fireworks\n",
    "n_red = 6  # number of red fireworks\n",
    "n_remaining = 11  # total number of fireworks remaining\n",
    "at_most = 3  # max amount of blue fireworks\n",
    "\n",
    "# Calculate the probabilities for pulling each quantity of blue fireworks from 3 to 0 to solve for \"at most 3 blue fireworks\".\n",
    "\n",
    "probability = sum([\n",
    "    (\n",
    "            sp.special.comb(n_blue, at_most - x) * sp.special.comb(n_red, at_most + x)\n",
    "    ) / sp.special.comb(n_remaining, n_red)\n",
    "    for x in range(0, at_most, 1)\n",
    "])\n",
    "\n",
    "print(f'At most probability: {probability}')\n",
    "print(f'At most probability chance: {round(probability, 6) * 100}%')"
   ],
   "id": "d7792ef0e62b97bf",
   "outputs": [
    {
     "name": "stdout",
     "output_type": "stream",
     "text": [
      "At most probability: 0.8225108225108225\n",
      "At most probability chance: 82.2511%\n"
     ]
    }
   ],
   "execution_count": 60
  },
  {
   "metadata": {
    "ExecuteTime": {
     "end_time": "2025-04-19T00:54:58.795839Z",
     "start_time": "2025-04-19T00:54:58.793262Z"
    }
   },
   "cell_type": "code",
   "source": [
    " # Example 2\n",
    "\n",
    "\"\"\"\n",
    "\n",
    "A family wants to have 6 children.  Assuming that the probability of a child being a girl is .5, find the probability tha the family has ...\n",
    "\n",
    "1. At least 4 girls | (X>=4) | lower_bound = 4 | upper_bound = 6 | \n",
    "2. Exactly 4 girls (X=4) | lower_bound = 4 | upper_bound = 4 | \n",
    "3. At most 4 girls (X<=4) | lower_bound = 0 | upper_bound = 4 | \n",
    "\n",
    "\"\"\"\n",
    "\n",
    "p = 0.5  # probability of a child being a girl\n",
    "n = 6  # total number of children\n",
    "\n",
    "# Calculate the probabilities for having each quantity of girls.\n",
    "\n",
    "\n",
    "None"
   ],
   "id": "99971889100b58f9",
   "outputs": [],
   "execution_count": 61
  },
  {
   "metadata": {
    "ExecuteTime": {
     "end_time": "2025-04-19T00:54:58.811936Z",
     "start_time": "2025-04-19T00:54:58.808220Z"
    }
   },
   "cell_type": "code",
   "source": [
    "# Example 3\n",
    "\n",
    "\"\"\"\n",
    "\n",
    "\n",
    "In a club of 15 members, 4 have university degrees.\n",
    "If a random poll of ten of the club members is taken, what is the probability that at least two of those polled have university degrees?\n",
    "\n",
    "\"\"\"\n",
    "\n",
    "n = 15  # total number of members\n",
    "\n",
    "uni_degree = 4  # number of members with university degrees\n",
    "non_uni_degree = n - uni_degree  # number of members without university degrees\n",
    "\n",
    "r = 10  # number of members polled\n",
    "\n",
    "at_least_two_uni_degrees = 2  # minimum number of members with university degrees needed\n",
    "\n",
    "# Calculate the probabilities for at least two have a university degree. P(X>=2)\n",
    "\n",
    "# X: { selected member with university degree }\n",
    "\n",
    "# P(X>=2) => 1 - P(X<2) => 1 - P(X=0) - P(X=1) => 1 - (( _4C_0 * _11C_10 ) / _15C_10) - (( _4C_1 * _11C_9 ) / _15C_10)\n",
    "\n",
    "probability = 1 - sp.special.comb(uni_degree, 0) * sp.special.comb(non_uni_degree, 10) / sp.special.comb(n,\n",
    "                                                                                                         r) - sp.special.comb(\n",
    "    uni_degree, 1) * sp.special.comb(non_uni_degree, 9) / sp.special.comb(n, r)\n",
    "\n",
    "print(f'At least two probability: {probability}')\n"
   ],
   "id": "f47329ecb875e490",
   "outputs": [
    {
     "name": "stdout",
     "output_type": "stream",
     "text": [
      "At least two probability: 0.9230769230769231\n"
     ]
    }
   ],
   "execution_count": 62
  },
  {
   "metadata": {},
   "cell_type": "markdown",
   "source": [
    "# Bernoulli Random Variable\n",
    "***\n",
    "Can only have one trial\n",
    "\n",
    "Success = 1 \n",
    "\n",
    "Failure = 0"
   ],
   "id": "1d8fd4d12a3e71e2"
  },
  {
   "metadata": {
    "ExecuteTime": {
     "end_time": "2025-04-19T00:54:58.829409Z",
     "start_time": "2025-04-19T00:54:58.825880Z"
    }
   },
   "cell_type": "code",
   "source": [
    "# Example 1\n",
    "\n",
    "\"\"\"\n",
    "\n",
    "20 students\n",
    "12 with brown hair\n",
    "\n",
    "12/20 = 3/5 = 60%\n",
    "\n",
    "success = brown hair\n",
    "failure = no brown hair\n",
    "\n",
    "\\mu = (failure % )(0) + (success % )(1) = 60% OR \\mu = p(success) = 0.6\n",
    "\n",
    "variance = \\sigma^2 = (1 - p)(0 - p)**2 + p(1-p)**2 => p**2(1-p) + p(1 - p - p + p**2) => p**2 - p**3 + p - p**2 - p**2 + p**3 => p - p**2 => p( 1-p ) \n",
    "\n",
    "OR \n",
    "\n",
    "(probability of success)(1 - probability of failure)\n",
    "\n",
    "OR \n",
    "\n",
    "\\sigma^2 (variance) = p(1 - p) = 0.6(1 - 0.6) = 0.24\n",
    "\n",
    "standard deviation = \\sqrt{\\sigma^2} = \\sqrt{0.24} = 0.49\n",
    "\n",
    "\"\"\"\n"
   ],
   "id": "c1c9000f82be8909",
   "outputs": [
    {
     "data": {
      "text/plain": [
       "'\\n\\n20 students\\n12 with brown hair\\n\\n12/20 = 3/5 = 60%\\n\\nsuccess = brown hair\\nfailure = no brown hair\\n\\n\\\\mu = (failure % )(0) + (success % )(1) = 60% OR \\\\mu = p(success) = 0.6\\n\\nvariance = \\\\sigma^2 = (1 - p)(0 - p)**2 + p(1-p)**2 => p**2(1-p) + p(1 - p - p + p**2) => p**2 - p**3 + p - p**2 - p**2 + p**3 => p - p**2 => p( 1-p ) \\n\\nOR \\n\\n(probability of success)(1 - probability of failure)\\n\\nOR \\n\\n\\\\sigma^2 (variance) = p(1 - p) = 0.6(1 - 0.6) = 0.24\\n\\nstandard deviation = \\\\sqrt{\\\\sigma^2} = \\\\sqrt{0.24} = 0.49\\n\\n'"
      ]
     },
     "execution_count": 63,
     "metadata": {},
     "output_type": "execute_result"
    }
   ],
   "execution_count": 63
  },
  {
   "metadata": {
    "ExecuteTime": {
     "end_time": "2025-04-19T00:54:58.846783Z",
     "start_time": "2025-04-19T00:54:58.844004Z"
    }
   },
   "cell_type": "code",
   "source": [
    "# Question 2\n",
    "\n",
    "p = 0.345\n",
    "n = 3\n",
    "q = 1 - p\n",
    "\n",
    "# find the probability of all 3 trials having failures\n",
    "\n",
    "print(f'Probability of all 3 trials having failures: {round(q ** n, 5)}')\n",
    "\n"
   ],
   "id": "dd1887507badc288",
   "outputs": [
    {
     "name": "stdout",
     "output_type": "stream",
     "text": [
      "Probability of all 3 trials having failures: 0.28101\n"
     ]
    }
   ],
   "execution_count": 64
  },
  {
   "metadata": {
    "ExecuteTime": {
     "end_time": "2025-04-19T00:54:58.858120Z",
     "start_time": "2025-04-19T00:54:58.854787Z"
    }
   },
   "cell_type": "code",
   "source": [
    "# Question 3\n",
    "\n",
    "p = .68\n",
    "n = 1\n",
    "mu = p\n",
    "var = p * (1 - p)\n",
    "std = math.sqrt(var)\n",
    "\n",
    "# find the probability of getting exactly 1 success in 1 trial\n",
    "\n",
    "print(f'Probability of getting exactly 1 success in 1 trial: {round(p, 5)}')\n",
    "print(f'The mean: {round(mu, 5)}')\n",
    "print(f'The variance: {round(var, 5)}')\n",
    "print(f'The standard deviation: {round(std, 5)}')\n"
   ],
   "id": "daff7d745820ca29",
   "outputs": [
    {
     "name": "stdout",
     "output_type": "stream",
     "text": [
      "Probability of getting exactly 1 success in 1 trial: 0.68\n",
      "The mean: 0.68\n",
      "The variance: 0.2176\n",
      "The standard deviation: 0.46648\n"
     ]
    }
   ],
   "execution_count": 65
  },
  {
   "metadata": {},
   "cell_type": "markdown",
   "source": [
    "# Geometric Random Variable\n",
    "***\n",
    "\n",
    "Each tiral must be independent\n",
    "\n",
    "Each trial can be called a 'success' or 'failure'\n",
    "\n",
    "The probability of success on each trial is constant"
   ],
   "id": "f49cfec430085e46"
  },
  {
   "metadata": {
    "ExecuteTime": {
     "end_time": "2025-04-19T00:54:58.874852Z",
     "start_time": "2025-04-19T00:54:58.870307Z"
    }
   },
   "cell_type": "code",
   "source": [
    "display(Math(r'\\text{P(S=n) = p(1 - p)}^{n-1}'))\n",
    "display(Math(r'\\text{P(S=n) = (success)}^1 \\cdot \\text{(failure)}^{n-1}'))"
   ],
   "id": "d610f564a1354129",
   "outputs": [
    {
     "data": {
      "text/plain": [
       "<IPython.core.display.Math object>"
      ],
      "text/latex": "$\\displaystyle \\text{P(S=n) = p(1 - p)}^{n-1}$"
     },
     "metadata": {},
     "output_type": "display_data"
    },
    {
     "data": {
      "text/plain": [
       "<IPython.core.display.Math object>"
      ],
      "text/latex": "$\\displaystyle \\text{P(S=n) = (success)}^1 \\cdot \\text{(failure)}^{n-1}$"
     },
     "metadata": {},
     "output_type": "display_data"
    }
   ],
   "execution_count": 66
  },
  {
   "metadata": {
    "ExecuteTime": {
     "end_time": "2025-04-19T00:54:58.891620Z",
     "start_time": "2025-04-19T00:54:58.886640Z"
    }
   },
   "cell_type": "code",
   "source": [
    "# Example 1\n",
    "\n",
    "\"\"\"\n",
    "\n",
    "I'm playing a game where the probability of winning a prize is 0.7.\n",
    "\n",
    "What is the probability that I don't win a prize until the 4th time I play the game, assuming each game is independent?\n",
    "\n",
    "\"\"\"\n",
    "\n",
    "p = 0.7  # probability of winning a prize\n",
    "q = 1 - p  # probability of losing a prize\n",
    "n = 4  # number of games\n",
    "\n",
    "display(Math(r'\\text{P(S =n) = p(1 -p)}^{n-1}'))\n",
    "\n",
    "print('\\nOR')\n",
    "\n",
    "display(Math(\n",
    "    r'\\text{ P(success on the 7th trial ) = (probability of failure)}^6 \\ \\cdot \\ \\text{(probability of success)}^1'))\n",
    "print('-' * 80)\n",
    "\n",
    "# Calculate the probability of not winning a prize in n games.\n",
    "\n",
    "P_S_4 = q ** 3 * p ** 1\n",
    "\n",
    "print(f'Probability of not winning a prize in 4 games: {round(P_S_4 * 100, 5)}%')\n"
   ],
   "id": "7db8d402ed9dcc14",
   "outputs": [
    {
     "data": {
      "text/plain": [
       "<IPython.core.display.Math object>"
      ],
      "text/latex": "$\\displaystyle \\text{P(S =n) = p(1 -p)}^{n-1}$"
     },
     "metadata": {},
     "output_type": "display_data"
    },
    {
     "name": "stdout",
     "output_type": "stream",
     "text": [
      "\n",
      "OR\n"
     ]
    },
    {
     "data": {
      "text/plain": [
       "<IPython.core.display.Math object>"
      ],
      "text/latex": "$\\displaystyle \\text{ P(success on the 7th trial ) = (probability of failure)}^6 \\ \\cdot \\ \\text{(probability of success)}^1$"
     },
     "metadata": {},
     "output_type": "display_data"
    },
    {
     "name": "stdout",
     "output_type": "stream",
     "text": [
      "--------------------------------------------------------------------------------\n",
      "Probability of not winning a prize in 4 games: 1.89%\n"
     ]
    }
   ],
   "execution_count": 67
  },
  {
   "metadata": {},
   "cell_type": "markdown",
   "source": "## More Than and Less Than",
   "id": "212b177143cc6de8"
  },
  {
   "metadata": {},
   "cell_type": "markdown",
   "source": "### Less Than",
   "id": "8923c6f53e6d7ae9"
  },
  {
   "metadata": {
    "ExecuteTime": {
     "end_time": "2025-04-19T00:54:58.909634Z",
     "start_time": "2025-04-19T00:54:58.906915Z"
    }
   },
   "cell_type": "code",
   "source": [
    "# Less than\n",
    "\n",
    "# P(S < 4) = P(S = 1) + P(S = 2) + P(S = 3)\n",
    "\n",
    "q_before_p = 3\n",
    "\n",
    "P_S_less_than_4 = sum([q ** i * p ** 1 for i in range(0, q_before_p, 1)])\n",
    "\n",
    "print(f'Probability of not winning a prize in 4 or fewer games: {round(P_S_less_than_4 * 100, 5)}%')\n",
    "\n",
    "# P(S > 3) = P(S = 4)"
   ],
   "id": "67564b45210c93a5",
   "outputs": [
    {
     "name": "stdout",
     "output_type": "stream",
     "text": [
      "Probability of not winning a prize in 4 or fewer games: 97.3%\n"
     ]
    }
   ],
   "execution_count": 68
  },
  {
   "metadata": {},
   "cell_type": "markdown",
   "source": "### More Than",
   "id": "ddd93a507cc60c3"
  },
  {
   "metadata": {
    "ExecuteTime": {
     "end_time": "2025-04-19T00:54:58.928300Z",
     "start_time": "2025-04-19T00:54:58.925173Z"
    }
   },
   "cell_type": "code",
   "source": [
    "# More than\n",
    "# Probability that it takes 'more than' S games to win the prize\n",
    "\n",
    "# P(S>2) = 1 - P_S_less_than_or_equal_to_2\n",
    "P_S_more_than_2 = 1 - sum([q ** i * p ** 1 for i in range(0, 2, 1)])\n",
    "\n",
    "print(f'Probability of taking more than 2 games to win the prize: {round(P_S_more_than_2 * 100, 5)}%')"
   ],
   "id": "b9e1a045c54e8728",
   "outputs": [
    {
     "name": "stdout",
     "output_type": "stream",
     "text": [
      "Probability of taking more than 2 games to win the prize: 9.0%\n"
     ]
    }
   ],
   "execution_count": 69
  },
  {
   "metadata": {},
   "cell_type": "markdown",
   "source": "### At Least",
   "id": "4f74dcade6ceaadb"
  },
  {
   "metadata": {
    "ExecuteTime": {
     "end_time": "2025-04-19T00:54:58.945839Z",
     "start_time": "2025-04-19T00:54:58.942928Z"
    }
   },
   "cell_type": "code",
   "source": [
    "### At Least\n",
    "# Probability that it takes 'at least' S games to win the prize\n",
    "\n",
    "# P(S>=2) = 1 - P(S<=1)\n",
    "\n",
    "\n",
    "P_S_at_least_2 = 1 - sum([q ** i * p ** 1 for i in range(0, 1, 1)])\n",
    "\n",
    "print(f'Probability of taking at least 2 games to win the prize: {round(P_S_at_least_2 * 100, 5)}%')"
   ],
   "id": "ed0c3dce53417d72",
   "outputs": [
    {
     "name": "stdout",
     "output_type": "stream",
     "text": [
      "Probability of taking at least 2 games to win the prize: 30.0%\n"
     ]
    }
   ],
   "execution_count": 70
  },
  {
   "metadata": {},
   "cell_type": "markdown",
   "source": [
    "## Mean, Variance, and Standard Deviation\n",
    "### Mean"
   ],
   "id": "c44f11ef9959befb"
  },
  {
   "metadata": {
    "ExecuteTime": {
     "end_time": "2025-04-19T00:54:58.965623Z",
     "start_time": "2025-04-19T00:54:58.960565Z"
    }
   },
   "cell_type": "code",
   "source": [
    "display(Math(r'\\mu_x \\text{ = E(X) = } \\frac{1}{p}'))\n",
    "print(f'\\n')\n",
    "display(Math(fr'\\mu_x = \\frac{1}{round(0.7, 2)} = {round(1 / 0.7, 2)}'))\n"
   ],
   "id": "7044659f6fc7d2ad",
   "outputs": [
    {
     "data": {
      "text/plain": [
       "<IPython.core.display.Math object>"
      ],
      "text/latex": "$\\displaystyle \\mu_x \\text{ = E(X) = } \\frac{1}{p}$"
     },
     "metadata": {},
     "output_type": "display_data"
    },
    {
     "name": "stdout",
     "output_type": "stream",
     "text": [
      "\n",
      "\n"
     ]
    },
    {
     "data": {
      "text/plain": [
       "<IPython.core.display.Math object>"
      ],
      "text/latex": "$\\displaystyle \\mu_x = \\frac10.7 = 1.43$"
     },
     "metadata": {},
     "output_type": "display_data"
    }
   ],
   "execution_count": 71
  },
  {
   "metadata": {},
   "cell_type": "markdown",
   "source": "### Variance and Standard Deviation",
   "id": "c49fdbf3de210d52"
  },
  {
   "metadata": {
    "ExecuteTime": {
     "end_time": "2025-04-19T00:54:58.980018Z",
     "start_time": "2025-04-19T00:54:58.976538Z"
    }
   },
   "cell_type": "code",
   "source": "display(Math(r'\\sigma_x^2 \\text{ (Variance) = } \\frac{\\text{1 - p}}{p^2}'))",
   "id": "4b336ffd0295abff",
   "outputs": [
    {
     "data": {
      "text/plain": [
       "<IPython.core.display.Math object>"
      ],
      "text/latex": "$\\displaystyle \\sigma_x^2 \\text{ (Variance) = } \\frac{\\text{1 - p}}{p^2}$"
     },
     "metadata": {},
     "output_type": "display_data"
    }
   ],
   "execution_count": 72
  },
  {
   "metadata": {},
   "cell_type": "markdown",
   "source": "## Exact Probabilities",
   "id": "b857085c6ae050ba"
  },
  {
   "metadata": {
    "ExecuteTime": {
     "end_time": "2025-04-19T00:54:58.995443Z",
     "start_time": "2025-04-19T00:54:58.992333Z"
    }
   },
   "cell_type": "code",
   "source": [
    "\n",
    "\n",
    "p = 0.7  # probability of winning a prize\n",
    "q = 1 - p  # probability of losing a prize\n",
    "\n",
    "P_S_equal_to_4 = p ** 1 * q ** 3\n",
    "\n",
    "print(f'Probability of winning exactly 4 games: {round(P_S_equal_to_4, 5)} or {round(P_S_equal_to_4 * 100, 5)}%')\n"
   ],
   "id": "2455b97871e6193a",
   "outputs": [
    {
     "name": "stdout",
     "output_type": "stream",
     "text": [
      "Probability of winning exactly 4 games: 0.0189 or 1.89%\n"
     ]
    }
   ],
   "execution_count": 73
  },
  {
   "metadata": {},
   "cell_type": "markdown",
   "source": "## Less Than / At Most",
   "id": "f3179780860cf903"
  },
  {
   "metadata": {
    "ExecuteTime": {
     "end_time": "2025-04-19T00:54:59.012589Z",
     "start_time": "2025-04-19T00:54:59.008867Z"
    }
   },
   "cell_type": "code",
   "source": [
    "# P(S<4) = P(S=1 + P(S=2) + P(S=3))\n",
    "\n",
    "range_start = 0\n",
    "range_end = 3\n",
    "\n",
    "P_S_less_than_4 = sum([(p ** 1 * q ** i) for i in range(range_start, range_end, 1)])\n",
    "\n",
    "print(\n",
    "    f'Probability of not winning a prize in less than 4 games: {round(P_S_less_than_4, 5)} or {round(P_S_less_than_4 * 100, 5)}%')\n",
    "\n",
    "# P(S<=3) = P(S=1 + P(S=2) + P(S=3) + P(S=4))\n",
    "\n",
    "range_start = 0\n",
    "range_end = 3\n",
    "\n",
    "P_S_less_than_or_equal_to_3 = sum([(p ** 1 * q ** i) for i in range(range_start, range_end, 1)])\n",
    "\n",
    "print(\n",
    "    f'Probability of not winning a prize in 3 or fewer games: {round(P_S_less_than_or_equal_to_3, 5)} or {round(P_S_less_than_or_equal_to_3 * 100, 5)}%')"
   ],
   "id": "10e763dddadc38b5",
   "outputs": [
    {
     "name": "stdout",
     "output_type": "stream",
     "text": [
      "Probability of not winning a prize in less than 4 games: 0.973 or 97.3%\n",
      "Probability of not winning a prize in 3 or fewer games: 0.973 or 97.3%\n"
     ]
    }
   ],
   "execution_count": 74
  },
  {
   "metadata": {},
   "cell_type": "markdown",
   "source": "## More than",
   "id": "11d1851543edf0fa"
  },
  {
   "metadata": {
    "ExecuteTime": {
     "end_time": "2025-04-19T00:54:59.028066Z",
     "start_time": "2025-04-19T00:54:59.025374Z"
    }
   },
   "cell_type": "code",
   "source": [
    "# P(S>2) = 1 - [P(S=1) + P(S=2)]\n",
    "\n",
    "P_S_more_than_or_equal_3 = 1 - (p + (p ** 1 * q ** 1))\n",
    "\n",
    "print(\n",
    "    f'Probability of taking more than 2 games to win the prize: {round(P_S_more_than_or_equal_3, 5)} or {round(P_S_more_than_or_equal_3 * 100, 5)}%')"
   ],
   "id": "6b86544b26e9baf",
   "outputs": [
    {
     "name": "stdout",
     "output_type": "stream",
     "text": [
      "Probability of taking more than 2 games to win the prize: 0.09 or 9.0%\n"
     ]
    }
   ],
   "execution_count": 75
  },
  {
   "metadata": {
    "ExecuteTime": {
     "end_time": "2025-04-19T00:54:59.046830Z",
     "start_time": "2025-04-19T00:54:59.043254Z"
    }
   },
   "cell_type": "code",
   "source": [
    "# Question 2\n",
    "\n",
    "\"\"\"\n",
    "\n",
    "Let X be a geometric random variable with p = 0.30. Find P(X = 4).\n",
    "\n",
    "\"\"\"\n",
    "\n",
    "p = 0.30  # probability of success\n",
    "q = 1 - p  # probability of failure\n",
    "S = 4  # number of trials\n",
    "\n",
    "# calculate the probability of getting exactly n successes in X trials\n",
    "\n",
    "P_S_equals_4 = q ** (S - 1) * p ** 1\n",
    "\n",
    "print(\n",
    "    f'Probability of getting exactly 4 successes in 4 trials: {round(P_S_equals_4, 5)} or {round(P_S_equals_4 * 100, 5)}%')\n",
    "\n"
   ],
   "id": "b2eaa76adc9abf77",
   "outputs": [
    {
     "name": "stdout",
     "output_type": "stream",
     "text": [
      "Probability of getting exactly 4 successes in 4 trials: 0.1029 or 10.29%\n"
     ]
    }
   ],
   "execution_count": 76
  },
  {
   "metadata": {
    "ExecuteTime": {
     "end_time": "2025-04-19T00:54:59.064107Z",
     "start_time": "2025-04-19T00:54:59.060824Z"
    }
   },
   "cell_type": "code",
   "source": [
    "# Question 3\n",
    "\n",
    "\"\"\"\n",
    "\n",
    "Suppose 35 % of our nation’s high school seniors will be taking\n",
    "at least one AP Exam this year. \n",
    "\n",
    "Suppose we select students at random and ask them if they’ll be taking an AP Exam. \n",
    "\n",
    "What’s the probability that we’ll need to ask exactly 3 people to find someone who is taking the exam?\n",
    "\n",
    "\"\"\"\n",
    "\n",
    "p = 0.35  # probability of being selected to take an AP Exam\n",
    "q = 1 - p  # probability of not being selected to take an AP Exam\n",
    "S = 3  # number of people to ask\n",
    "\n",
    "# calculate the probability of getting exactly S successes in S trials\n",
    "\n",
    "P_S_equals_3 = q ** (S - 1) * p ** 1\n",
    "\n",
    "print(\n",
    "    f'Probability of needing to ask exactly 3 people to find someone taking the exam: {round(P_S_equals_3, 5)} or {round(P_S_equals_3 * 100, 5)}%')\n"
   ],
   "id": "3359892cda53b8e9",
   "outputs": [
    {
     "name": "stdout",
     "output_type": "stream",
     "text": [
      "Probability of needing to ask exactly 3 people to find someone taking the exam: 0.14788 or 14.7875%\n"
     ]
    }
   ],
   "execution_count": 77
  },
  {
   "metadata": {},
   "cell_type": "markdown",
   "source": "",
   "id": "48089ce0bf2d7816"
  }
 ],
 "metadata": {
  "kernelspec": {
   "display_name": "Python 3",
   "language": "python",
   "name": "python3"
  },
  "language_info": {
   "codemirror_mode": {
    "name": "ipython",
    "version": 2
   },
   "file_extension": ".py",
   "mimetype": "text/x-python",
   "name": "python",
   "nbconvert_exporter": "python",
   "pygments_lexer": "ipython2",
   "version": "2.7.6"
  }
 },
 "nbformat": 4,
 "nbformat_minor": 5
}
