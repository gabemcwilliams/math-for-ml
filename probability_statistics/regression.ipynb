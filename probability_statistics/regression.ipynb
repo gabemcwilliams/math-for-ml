{
 "cells": [
  {
   "cell_type": "code",
   "id": "initial_id",
   "metadata": {
    "collapsed": true,
    "ExecuteTime": {
     "end_time": "2025-04-19T00:55:04.947738Z",
     "start_time": "2025-04-19T00:55:03.457124Z"
    }
   },
   "source": [
    "import re\n",
    "import pandas as pd\n",
    "import numpy as np\n",
    "import scipy as sp\n",
    "import sympy as sym\n",
    "import sklearn as skl\n",
    "from IPython.display import display, Math, Latex\n",
    "import math\n",
    "import matplotlib.pyplot as plt\n",
    "from matplotlib_venn import venn2, venn3\n",
    "from fractions import Fraction"
   ],
   "outputs": [],
   "execution_count": 1
  },
  {
   "metadata": {},
   "cell_type": "markdown",
   "source": "# Scatterplots and Regressions",
   "id": "92c5169d70e18adf"
  },
  {
   "metadata": {
    "ExecuteTime": {
     "end_time": "2025-04-19T00:55:05.263368Z",
     "start_time": "2025-04-19T00:55:05.260600Z"
    }
   },
   "cell_type": "code",
   "source": [
    "x = np.array([54, 57, 62, 77, 81, 93, 98])\n",
    "y = np.array([0.162, 0.127, 0.864, 0.895, 0.943, 1.206, 1.372])"
   ],
   "id": "e2dec430dee4c507",
   "outputs": [],
   "execution_count": 2
  },
  {
   "metadata": {
    "ExecuteTime": {
     "end_time": "2025-04-19T00:55:05.281672Z",
     "start_time": "2025-04-19T00:55:05.277087Z"
    }
   },
   "cell_type": "code",
   "source": "[f'x: {x}, y: {y}, sum: {x * y}' for x, y in zip(x, y)]",
   "id": "71b216f172ee265f",
   "outputs": [
    {
     "data": {
      "text/plain": [
       "['x: 54, y: 0.162, sum: 8.748000000000001',\n",
       " 'x: 57, y: 0.127, sum: 7.239',\n",
       " 'x: 62, y: 0.864, sum: 53.568',\n",
       " 'x: 77, y: 0.895, sum: 68.915',\n",
       " 'x: 81, y: 0.943, sum: 76.383',\n",
       " 'x: 93, y: 1.206, sum: 112.158',\n",
       " 'x: 98, y: 1.372, sum: 134.45600000000002']"
      ]
     },
     "execution_count": 3,
     "metadata": {},
     "output_type": "execute_result"
    }
   ],
   "execution_count": 3
  },
  {
   "metadata": {
    "ExecuteTime": {
     "end_time": "2025-04-19T00:55:05.291789Z",
     "start_time": "2025-04-19T00:55:05.289131Z"
    }
   },
   "cell_type": "code",
   "source": "sum_x_y = float(round(sum([x * y for x, y in zip(x,y)]), 5))",
   "id": "20cf79ff53f89bbe",
   "outputs": [],
   "execution_count": 4
  },
  {
   "metadata": {
    "ExecuteTime": {
     "end_time": "2025-04-19T00:55:05.303239Z",
     "start_time": "2025-04-19T00:55:05.300463Z"
    }
   },
   "cell_type": "code",
   "source": "print(f'Sum of products (x * y): {sum_x_y}')",
   "id": "f6f1aaea9f815095",
   "outputs": [
    {
     "name": "stdout",
     "output_type": "stream",
     "text": [
      "Sum of products (x * y): 461.467\n"
     ]
    }
   ],
   "execution_count": 5
  },
  {
   "metadata": {
    "ExecuteTime": {
     "end_time": "2025-04-19T00:55:05.310488Z",
     "start_time": "2025-04-19T00:55:05.308243Z"
    }
   },
   "cell_type": "code",
   "source": "",
   "id": "913c9ed0e0467d2a",
   "outputs": [],
   "execution_count": null
  }
 ],
 "metadata": {
  "kernelspec": {
   "display_name": "Python 3",
   "language": "python",
   "name": "python3"
  },
  "language_info": {
   "codemirror_mode": {
    "name": "ipython",
    "version": 2
   },
   "file_extension": ".py",
   "mimetype": "text/x-python",
   "name": "python",
   "nbconvert_exporter": "python",
   "pygments_lexer": "ipython2",
   "version": "2.7.6"
  }
 },
 "nbformat": 4,
 "nbformat_minor": 5
}
