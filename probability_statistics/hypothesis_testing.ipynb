{
 "cells": [
  {
   "cell_type": "code",
   "id": "initial_id",
   "metadata": {
    "collapsed": true,
    "ExecuteTime": {
     "end_time": "2025-04-19T00:54:59.787380Z",
     "start_time": "2025-04-19T00:54:58.254893Z"
    }
   },
   "source": [
    "import re\n",
    "import pandas as pd\n",
    "import numpy as np\n",
    "import scipy as sp\n",
    "import sympy as sym\n",
    "import sklearn as skl\n",
    "from IPython.display import display, Math, Latex\n",
    "import math\n",
    "import matplotlib.pyplot as plt\n",
    "from matplotlib_venn import venn2, venn3\n",
    "from fractions import Fraction"
   ],
   "outputs": [],
   "execution_count": 1
  },
  {
   "metadata": {},
   "cell_type": "markdown",
   "source": "# Inferential Statistics and Hypothesis",
   "id": "5500cc85fc42b8dd"
  },
  {
   "metadata": {
    "ExecuteTime": {
     "end_time": "2025-04-19T00:55:00.172922Z",
     "start_time": "2025-04-19T00:55:00.170412Z"
    }
   },
   "cell_type": "code",
   "source": [
    "# Inferential statistics : using information we have about the sample to make inferences about the population.\n",
    "\n",
    "# Proof vs Support: Inferential statistics does not provide proof, but it provides support. It tells us how much we can be confident that our conclusions are correct.\n",
    "\n",
    "# Hypotheses for means and proportions: Hypotheses are statements about the population that we want to test.\n",
    "\n",
    "# H_a (Alternative Hypothesis): The statement that we want to prove or disprove.\n",
    "# H_0 (Null Hypothesis): The statement that we want to disprove."
   ],
   "id": "4419a4bb3e063c4c",
   "outputs": [],
   "execution_count": 2
  },
  {
   "metadata": {
    "ExecuteTime": {
     "end_time": "2025-04-19T00:55:00.202547Z",
     "start_time": "2025-04-19T00:55:00.199903Z"
    }
   },
   "cell_type": "code",
   "source": "# Significance level and type I and II errors: The significance level is the probability of rejecting the null hypothesis when it is true.",
   "id": "47081d85fa1de212",
   "outputs": [],
   "execution_count": 3
  },
  {
   "metadata": {},
   "cell_type": "markdown",
   "source": " # Test Statistics for One and Two-tailed Tests",
   "id": "c58869efeeec9fd0"
  },
  {
   "metadata": {
    "ExecuteTime": {
     "end_time": "2025-04-19T00:55:00.226121Z",
     "start_time": "2025-04-19T00:55:00.220685Z"
    }
   },
   "cell_type": "code",
   "source": [
    "'''\n",
    "We’ve decided to give all of our friends a small box of\n",
    "homemade cookies. \n",
    "\n",
    "We’ve already baked a variety of cookies and\n",
    "randomly placed them into boxes. We want to make sure that each box is\n",
    "close to 0.5 pounds, so we sample 10 boxes and find a mean of 0.54 pounds\n",
    "and a standard deviation of s = 0.3 pounds. \n",
    "\n",
    "Assuming that the weights of\n",
    "all the boxes are normally distributed, calculate the test statistic\n",
    "'''\n",
    "\n",
    "display(Math(r'\\text{t = }\\frac{\\bar{x} - \\mu_0}{\\frac{s}{\\sqrt{n}}}'))\n",
    "\n",
    "x_bar = 0.54\n",
    "mu_0 = 0.5\n",
    "s = 0.3\n",
    "n = 10\n",
    "\n",
    "t = (x_bar - mu_0) / (s / np.sqrt(n))\n",
    "\n",
    "print('Test statistic:', round(t, 2))"
   ],
   "id": "f02eb73bba3bf060",
   "outputs": [
    {
     "data": {
      "text/plain": [
       "<IPython.core.display.Math object>"
      ],
      "text/latex": "$\\displaystyle \\text{t = }\\frac{\\bar{x} - \\mu_0}{\\frac{s}{\\sqrt{n}}}$"
     },
     "metadata": {},
     "output_type": "display_data"
    },
    {
     "name": "stdout",
     "output_type": "stream",
     "text": [
      "Test statistic: 0.42\n"
     ]
    }
   ],
   "execution_count": 4
  },
  {
   "metadata": {},
   "cell_type": "markdown",
   "source": "# The p-value and rejecting the null hypothesis",
   "id": "1978bca34eee858c"
  },
  {
   "metadata": {
    "ExecuteTime": {
     "end_time": "2025-04-19T00:55:00.237625Z",
     "start_time": "2025-04-19T00:55:00.234715Z"
    }
   },
   "cell_type": "code",
   "source": "'https://www.simplypsychology.org/p-value.html'",
   "id": "3ef5a4cae4edf9c5",
   "outputs": [
    {
     "data": {
      "text/plain": [
       "'https://www.simplypsychology.org/p-value.html'"
      ]
     },
     "execution_count": 5,
     "metadata": {},
     "output_type": "execute_result"
    }
   ],
   "execution_count": 5
  },
  {
   "metadata": {},
   "cell_type": "markdown",
   "source": "# Hypothesis testing for the population proportion",
   "id": "c28bba14c30d6b0d"
  },
  {
   "metadata": {
    "ExecuteTime": {
     "end_time": "2025-04-19T00:55:00.252812Z",
     "start_time": "2025-04-19T00:55:00.248905Z"
    }
   },
   "cell_type": "code",
   "source": [
    "# Question 1\n",
    "\n",
    "'''\n",
    "We’ve heard that 10 % of people are left-handed. We want to\n",
    "verify this claim, so we collect a random sample of 500 people and find that\n",
    "43 of them are left-handed. What can we conclude at a significance level of\n",
    "α = 0.10?\n",
    "'''\n",
    "\n",
    "# p-value calculation\n",
    "\n",
    "n = 500\n",
    "a = 0.10\n",
    "x = 43\n",
    "H_0 = 0.10\n",
    "\n",
    "p_hat = x / n\n",
    "\n",
    "print('Sample proportion:', p_hat)\n",
    "\n",
    "sigma_p_hat = np.sqrt((H_0 * (1 - H_0)) / n)\n",
    "\n",
    "print('Standard error:', round(sigma_p_hat, 5))\n",
    "\n",
    "z_test = (p_hat - H_0) / sigma_p_hat\n",
    "\n",
    "print('Z-score:', round(z_test, 5))\n",
    "\n",
    "'''\n",
    "\n",
    "The critical z-values for 90 % confidence with a two-tailed test are\n",
    "z = ± 1.65. Since the test statistic we found is negative (z = − 1.04), we’ll\n",
    "compare it to z = − 1.65.\n",
    "\n",
    "Our z-value of z = − 1.04 is not less than z = − 1.65, and therefore falls in the\n",
    "region of acceptance, which means we’ll fail to reject the null hypothesis\n",
    "and fail to conclude that the proportion of left-handed people is different\n",
    "than 10 % .\n",
    "\n",
    "'''\n",
    "\n"
   ],
   "id": "19c1c8bf59debcb3",
   "outputs": [
    {
     "name": "stdout",
     "output_type": "stream",
     "text": [
      "Sample proportion: 0.086\n",
      "Standard error: 0.01342\n",
      "Z-score: -1.0435\n"
     ]
    },
    {
     "data": {
      "text/plain": [
       "'\\n\\nThe critical z-values for 90 % confidence with a two-tailed test are\\nz = ± 1.65. Since the test statistic we found is negative (z = − 1.04), we’ll\\ncompare it to z = − 1.65.\\n\\nOur z-value of z = − 1.04 is not less than z = − 1.65, and therefore falls in the\\nregion of acceptance, which means we’ll fail to reject the null hypothesis\\nand fail to conclude that the proportion of left-handed people is different\\nthan 10 % .\\n\\n'"
      ]
     },
     "execution_count": 6,
     "metadata": {},
     "output_type": "execute_result"
    }
   ],
   "execution_count": 6
  },
  {
   "metadata": {
    "ExecuteTime": {
     "end_time": "2025-04-19T00:55:00.266594Z",
     "start_time": "2025-04-19T00:55:00.262825Z"
    }
   },
   "cell_type": "code",
   "source": [
    "# Question 2\n",
    "\n",
    "H_0 = 80  # mean mL of fluid in a bottle\n",
    "# H_a != 80 # mean mL of fluid in a bottle\n",
    "# two tailed test\n",
    "\n",
    "n = 40  # sample mL of fluid in a bottle\n",
    "x_bar = 78  # sample mean mL of fluid in a bottle\n",
    "s = 2.5  # sample std of x mL of fluid in a bottle\n",
    "\n",
    "# confidence level is 95%\n",
    "area_of_each_tail = (1 - 0.95) / 2\n",
    "\n",
    "# critical values for a two-tailed test (point on the x axis at the start of the tail in both positive and negative directions\n",
    "z_critical = sp.stats.norm.ppf(1 - area_of_each_tail)\n",
    "\n",
    "# find reject region\n",
    "z = (x_bar - H_0) / (s / np.sqrt(n))\n",
    "\n",
    "# if |z| > z_critical, reject H_0\n",
    "print('Reject H_0:', abs(z) > z_critical)\n"
   ],
   "id": "561fc5cdbefa2eee",
   "outputs": [
    {
     "name": "stdout",
     "output_type": "stream",
     "text": [
      "Reject H_0: True\n"
     ]
    }
   ],
   "execution_count": 7
  },
  {
   "metadata": {
    "ExecuteTime": {
     "end_time": "2025-04-19T00:55:00.279567Z",
     "start_time": "2025-04-19T00:55:00.276590Z"
    }
   },
   "cell_type": "code",
   "source": [
    "# Question 3\n",
    "\n",
    "# H_0 >= 2 # 2 or more years\n",
    "H_0 = 2  # 2 years\n",
    "\n",
    "n = 10  # sample size\n",
    "\n",
    "x_bar = 2.8  # average years of service\n",
    "s = 0.15  # std of years of service\n",
    "\n",
    "# confidence level is 99%\n",
    "area_of_each_tail = (1 - 0.99) / 2\n",
    "\n",
    "# critical values for a two-tailed test (point on the x axis at the start of the tail in both positive and negative directions)\n",
    "z_critical = sp.stats.norm.ppf(1 - area_of_each_tail)\n",
    "\n",
    "# find reject region\n",
    "z = (x_bar - H_0) / (s / np.sqrt(n))\n",
    "\n",
    "# if |z| > z_critical, reject H_0\n",
    "print('Reject H_0:', abs(z) > z_critical)\n",
    "\n",
    "# using t-test since n < 30\n",
    "t = (x_bar - H_0) / (s / np.sqrt(n))\n",
    "\n"
   ],
   "id": "c4fae52d387ca58e",
   "outputs": [
    {
     "name": "stdout",
     "output_type": "stream",
     "text": [
      "Reject H_0: True\n"
     ]
    }
   ],
   "execution_count": 8
  },
  {
   "metadata": {},
   "cell_type": "markdown",
   "source": "# Confidence Interval for the Difference of Means",
   "id": "b937838bfd196f74"
  },
  {
   "metadata": {
    "ExecuteTime": {
     "end_time": "2025-04-19T00:55:00.295038Z",
     "start_time": "2025-04-19T00:55:00.289502Z"
    }
   },
   "cell_type": "code",
   "source": [
    "# Question 1\n",
    "\n",
    "'''\n",
    "A professor is interested in whether exam scores differ between\n",
    "two nearby colleges. He selects a simple random sample of 20 students\n",
    "each from both colleges and finds a mean test score of 350 with a standard\n",
    "deviation of 15 at the first college, and a mean test score of 390 with a\n",
    "standard deviation of 30 at the second college. Assuming exam scores are\n",
    "normally distributed at both colleges, find a 95 % confidence interval\n",
    "around the difference in exam scores.\n",
    "'''\n",
    "\n",
    "n_1 = 20\n",
    "n_2 = 20\n",
    "\n",
    "x_bar_1 = 350\n",
    "s_1 = 15\n",
    "\n",
    "x_bar_2 = 390\n",
    "s_2 = 30\n",
    "\n",
    "s_pooled = np.sqrt(((n_1 - 1) * s_1 ** 2 + (n_2 - 1) * s_2 ** 2) / (n_1 + n_2 - 2))\n",
    "\n",
    "t_critical = sp.stats.t.ppf(1 - 0.025, n_1 + n_2 - 2)\n",
    "\n",
    "lower_bound = (x_bar_1 - x_bar_2) - t_critical * s_pooled * np.sqrt(1 / n_1 + 1 / n_2)\n",
    "upper_bound = (x_bar_1 - x_bar_2) + t_critical * s_pooled * np.sqrt(1 / n_1 + 1 / n_2)\n",
    "\n",
    "(lower_bound, upper_bound)\n"
   ],
   "id": "895103f9d2d0912",
   "outputs": [
    {
     "data": {
      "text/plain": [
       "(-55.182956229339766, -24.817043770660234)"
      ]
     },
     "execution_count": 9,
     "metadata": {},
     "output_type": "execute_result"
    }
   ],
   "execution_count": 9
  },
  {
   "metadata": {},
   "cell_type": "markdown",
   "source": "# Hypothesis testing for the difference of means",
   "id": "2eddf95f8aa37785"
  },
  {
   "metadata": {
    "ExecuteTime": {
     "end_time": "2025-04-19T00:55:00.306241Z",
     "start_time": "2025-04-19T00:55:00.304825Z"
    }
   },
   "cell_type": "code",
   "source": "",
   "id": "6f5a05a35262238e",
   "outputs": [],
   "execution_count": null
  }
 ],
 "metadata": {
  "kernelspec": {
   "display_name": "Python 3",
   "language": "python",
   "name": "python3"
  },
  "language_info": {
   "codemirror_mode": {
    "name": "ipython",
    "version": 2
   },
   "file_extension": ".py",
   "mimetype": "text/x-python",
   "name": "python",
   "nbconvert_exporter": "python",
   "pygments_lexer": "ipython2",
   "version": "2.7.6"
  }
 },
 "nbformat": 4,
 "nbformat_minor": 5
}
