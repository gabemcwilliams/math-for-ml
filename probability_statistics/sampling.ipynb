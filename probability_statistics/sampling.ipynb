{
 "cells": [
  {
   "cell_type": "code",
   "id": "initial_id",
   "metadata": {
    "collapsed": true
   },
   "source": [
    "import re\n",
    "import pandas as pd\n",
    "import numpy as np\n",
    "import scipy as sp\n",
    "import sympy as sym\n",
    "import sklearn as skl\n",
    "from IPython.display import display, Math, Latex\n",
    "import math\n",
    "import matplotlib.pyplot as plt\n",
    "from matplotlib_venn import venn2, venn3\n",
    "from fractions import Fraction"
   ],
   "outputs": [],
   "execution_count": null
  },
  {
   "metadata": {},
   "cell_type": "markdown",
   "source": [
    "# Observational Study\n",
    "***"
   ],
   "id": "ed7d8b326530c0b7"
  },
  {
   "metadata": {},
   "cell_type": "code",
   "source": [
    "# Parameter: The corresponding characteristic of the population that is being studied.\n",
    "# Observational Study: Looking at the information that is already present without adding or changing the population.\n",
    "# Treatment: The action taken to improve or change a characteristic of the population."
   ],
   "id": "3b2cb79692aabd48",
   "outputs": [],
   "execution_count": null
  },
  {
   "metadata": {},
   "cell_type": "code",
   "source": [
    "# One-way table: A table that shows the frequency distribution of a single categorical variable from a sample.\n",
    "# Two-way table: A table that shows the frequency distribution of two categorical variables from a sample.\n",
    "# Correlation: A measure of the strength and direction of the relationship between two variables.\n",
    "# Positive correlation: A relationship where one variable increases as the other variable increases.\n",
    "# Negative correlation: A relationship where one variable increases as the other variable decreases.\n",
    "# Causality: A relationship between cause and effect.\n",
    "# Confounding variable: A variable that influences both the dependent and independent variables but is not included."
   ],
   "id": "633d9a19418517e3",
   "outputs": [],
   "execution_count": null
  },
  {
   "metadata": {},
   "cell_type": "markdown",
   "source": [
    "# Experimental Studies\n",
    "***"
   ],
   "id": "ca8314c59c74f1ab"
  },
  {
   "metadata": {},
   "cell_type": "code",
   "source": [
    "# Experiment: A controlled and repeatable process that aims to establish causality between variables.\n",
    "# Controlled variable: A variable that is manipulated to eliminate the effects of other variables.\n",
    "# Treatment group: A group of subjects who receive a specific treatment.\n",
    "# Placebo group: A group of subjects who receive a placebo (a control treatment).\n",
    "# Explanatory variable: A variable that is used to explain the relationship between the dependent and independent variables.\n",
    "# Response variable: A variable that is measured to determine the outcome of the experiment.\n",
    "# Blinded variable: A variable that is not known to the subjects, but is known to the researchers.\n",
    "# Double-blind variable: A variable that is not known to the researcher or to the subjects.\n",
    "\n",
    "# Matched pairs: A type of experimental design where two groups of subjects are matched on a set of characteristics to ensure that the effects of the treatment are not due to confounding variables.\n",
    "# Blocking: When a researcher groups subjects into blocks based on a variable that is not related to the treatment, and the effects of the treatment are not confounded by this variable.\n",
    "\n",
    "# Replication: The process of repeating an experiment to increase the reliability and validity of the results."
   ],
   "id": "bf46159efa7ab922",
   "outputs": [],
   "execution_count": null
  },
  {
   "metadata": {},
   "cell_type": "markdown",
   "source": [
    "# Sampling Distribution of the Sample Mean\n",
    "***"
   ],
   "id": "1b8f685cee382f03"
  },
  {
   "metadata": {},
   "cell_type": "code",
   "source": [
    "display(Math(r'\\text{Population Mean: }(\\mu \\text{ or N})'))\n",
    "display(Math(r'\\text{Sample Mean: } (\\bar{x} \\text{ or } n)'))\n",
    "print('\\n')\n",
    "display(Math(r'\\mu \\text{ = 10}'))\n",
    "display(Math(r'\\bar{x}_1 \\text{ = 9.6}'))\n",
    "display(Math(r'\\bar{x}_2 \\text{ = 11.2}'))\n",
    "display(Math(r'\\bar{x}_3 \\text{ = 10.4}'))\n",
    "print('\\n')\n",
    "display(Math(r'N = 30'))\n",
    "display(Math(r'n = 3'))\n",
    "print('\\n')\n",
    "display(Math(r'N^n \\text{ = 30}^3 \\text{ = 27,000}'))\n",
    "\n",
    "None"
   ],
   "id": "40803b22fd62dd3",
   "outputs": [],
   "execution_count": null
  },
  {
   "metadata": {},
   "cell_type": "code",
   "source": [
    "# Central limit theorem: A fundamental result in probability theory that states that the distribution of a sample mean approaches a normal distribution as the sample size increases.\n",
    "# Law of large numbers: A fundamental result in probability theory that states that the sample mean converges to the true population mean as the sample size increases.\n"
   ],
   "id": "f775a635cf9cb6cc",
   "outputs": [],
   "execution_count": null
  },
  {
   "metadata": {},
   "cell_type": "code",
   "source": [
    "# Question 1\n",
    "\n",
    "\"\"\"\n",
    "The Central Limit Theorem tells us that, if the original population is\n",
    "normally distributed, then the SDSM will also be normally distributed,\n",
    "regardless of the sample size n that we use.\n",
    "If the original population is not normally distributed, or if we don’t know\n",
    "the shape of the population distribution, then the SDSM is only guaranteed\n",
    "to be normally distributed when we use a sample size of at least n = 30.\n",
    "\"\"\"\n",
    "None"
   ],
   "id": "a62df1967fa67ee2",
   "outputs": [],
   "execution_count": null
  },
  {
   "metadata": {},
   "cell_type": "code",
   "source": [
    "# Question 2\n",
    "\n",
    "\"\"\"\n",
    "A hospital finds that the average birth weight of a newborn is 7.5\n",
    "lbs with a standard deviation of 0.4 lbs. What is the standard deviation of\n",
    "the sampling distribution, if the hospital randomly selects 45 newborns to\n",
    "test this claim?\n",
    "\"\"\"\n",
    "\n",
    "N_mean = 7.5\n",
    "N_sd = 0.4\n",
    "n = 45\n",
    "Z_score = 1.96  # Z-score corresponding to a 95% confidence interval\\\n",
    "print('\\n')\n",
    "display(Math(\n",
    "    r'\\text{Z-score => } \\frac{X \\ - \\ \\mu}{\\sigma} \\text{ => } \\frac{\\text{Sample Mean} - \\text{Population Mean}}{\\text{Standard Deviation}}'))\n",
    "print('\\n')\n",
    "display(Math(r'\\text{The Z-score describes the distance from the mean in terms of standard deviations}'))\n",
    "print('\\n')\n",
    "\n",
    "SD_sampling_distribution = N_sd / np.sqrt(n)\n",
    "\n",
    "print(f'The standard deviation of the sampling distribution is {round(SD_sampling_distribution, 5)}')\n"
   ],
   "id": "715153e429363d94",
   "outputs": [],
   "execution_count": null
  },
  {
   "metadata": {},
   "cell_type": "code",
   "source": [
    "# Question 3\n",
    "\"\"\"\n",
    "A group of marathon runners have the following finishing times\n",
    "in hours: 3.2, 3.5, 3.8, 4.2, 4.5. Given a sample of size 2 if we’re sampling with\n",
    "replacement, find the standard error σ¯x.\n",
    "\"\"\"\n",
    "\n",
    "times = [3.2, 3.5, 3.8, 4.2, 4.5]\n",
    "n = 2\n",
    "N = 5\n",
    "\n",
    "\"\"\"\n",
    "Let’s first determine the total number of possible samples, using Nn, given\n",
    "N = 5 and n = 2.\n",
    "\"\"\"\n",
    "\n",
    "display(Math(r'\\text{Sample Space: }N^n \\text{ = }5^2 \\text{ = 25}'))"
   ],
   "id": "dc6d4c001ad5d833",
   "outputs": [],
   "execution_count": null
  },
  {
   "metadata": {},
   "cell_type": "code",
   "source": [
    "for t in range(len(times)):\n",
    "    # row\n",
    "    print([round(float(np.mean([times[i], times[t]])), 5) for i in range(0, len(times))])\n",
    "\n",
    "df = pd.DataFrame(\n",
    "    [[round(float(np.mean([times[i], times[t]])), 5) for i in range(0, len(times))] for t in range(len(times))],\n",
    "    columns=times, index=times)"
   ],
   "id": "181d85c4a1311ce8",
   "outputs": [],
   "execution_count": null
  },
  {
   "metadata": {},
   "cell_type": "code",
   "source": "df",
   "id": "652dc5f2e19bd8c0",
   "outputs": [],
   "execution_count": null
  },
  {
   "metadata": {},
   "cell_type": "code",
   "source": "N_elements = (df.shape[0] * df.shape[1])",
   "id": "cf62a772af39c4ee",
   "outputs": [],
   "execution_count": null
  },
  {
   "metadata": {},
   "cell_type": "code",
   "source": [
    "frequency_dict = {}\n",
    "for index, row in df.iterrows():\n",
    "    for value in row.values:\n",
    "        frequency_dict[value] = frequency_dict.get(value, 0) + 1\n",
    "\n",
    "print(f'Frequency distribution: {frequency_dict}')"
   ],
   "id": "25a6cff535e3290f",
   "outputs": [],
   "execution_count": null
  },
  {
   "metadata": {},
   "cell_type": "code",
   "source": "df_frequency = pd.DataFrame(frequency_dict.items(), columns=['Mean', 'Frequency'])",
   "id": "dbdde960d7cb156a",
   "outputs": [],
   "execution_count": null
  },
  {
   "metadata": {},
   "cell_type": "code",
   "source": "df_frequency['Probability'] = df_frequency['Frequency'] / (df.shape[0] * df.shape[1])",
   "id": "569ca2721e092c62",
   "outputs": [],
   "execution_count": null
  },
  {
   "metadata": {},
   "cell_type": "code",
   "source": "df_frequency",
   "id": "7d979768a3ca1212",
   "outputs": [],
   "execution_count": null
  },
  {
   "metadata": {},
   "cell_type": "code",
   "source": [
    "\"\"\"\n",
    "mean of the sampling distribution of the sample\n",
    "mean, μ¯x, where ¯xi is a given sample mean, P(¯xi) is the probability of that\n",
    "particular sample mean occurring, and N is the number of samples\n",
    "\"\"\"\n",
    "\n",
    "mean_of_sampling_distribution = round(sum(df_frequency['Mean'] * df_frequency['Probability']), 5)"
   ],
   "id": "2707aac7f6adbe7f",
   "outputs": [],
   "execution_count": null
  },
  {
   "metadata": {},
   "cell_type": "code",
   "source": "mean_of_sampling_distribution",
   "id": "51020667a5b0e944",
   "outputs": [],
   "execution_count": null
  },
  {
   "metadata": {},
   "cell_type": "code",
   "source": "display(Math(r'\\text{Population Variance: } \\sigma^2 \\text{ = } \\frac{\\sum^N_{i=1} \\ (x_i \\ - \\ \\mu)^2}{N}'))",
   "id": "e06c2e50195d0f4d",
   "outputs": [],
   "execution_count": null
  },
  {
   "metadata": {},
   "cell_type": "code",
   "source": "pop_variance = sum([(x - mean_of_sampling_distribution) ** 2 for x in times]) / N",
   "id": "80a31ae3e245414b",
   "outputs": [],
   "execution_count": null
  },
  {
   "metadata": {},
   "cell_type": "code",
   "source": "pop_variance",
   "id": "c1dc6b8da15d68b3",
   "outputs": [],
   "execution_count": null
  },
  {
   "metadata": {},
   "cell_type": "code",
   "source": "pop_std = np.sqrt(pop_variance)",
   "id": "f629d2df3c69f7ca",
   "outputs": [],
   "execution_count": null
  },
  {
   "metadata": {},
   "cell_type": "code",
   "source": "pop_std_error = pop_std / math.sqrt(n)",
   "id": "4cca6204297b5dab",
   "outputs": [],
   "execution_count": null
  },
  {
   "metadata": {},
   "cell_type": "markdown",
   "source": [
    "# Conditions for Inference with the Sampling Distribution of the Sample Mean (SDSM)\n",
    "***\n",
    "- The sample must be randomly selected \n",
    "- the population.\n",
    "- The sample size (n) must be greater than or equal to 30 for the Central Limit Theorem to hold.\n",
    "- The sample must be independent and identically distributed (IID)."
   ],
   "id": "5bffd647d406a285"
  },
  {
   "metadata": {},
   "cell_type": "code",
   "source": [
    "display(Math(\n",
    "    r'Z-Score \\ (z_{\\bar{x}}) \\ = \\ \\frac{\\bar{x} - \\mu}{\\sigma_{\\bar{x}}} \\ = \\ \\frac{\\bar{x} - \\mu}{\\frac{\\sigma}{\\sqrt{n}}}'))"
   ],
   "id": "21f0e271896a3079",
   "outputs": [],
   "execution_count": null
  },
  {
   "metadata": {},
   "cell_type": "code",
   "source": [
    "# Question 1\n",
    "\n",
    "\"\"\"\n",
    "A restaurant wants to know the percentage of their customers\n",
    "who order desert. The restaurant has 1,500 customers in one week and\n",
    "finds by randomly surveying 100 of them that 35 order desert. What is the\n",
    "standard error of the SDSP?\n",
    "\"\"\"\n",
    "\n",
    "N = 1500\n",
    "n = 100\n",
    "n_percentage_ordered_desert = 35 / n\n",
    "\n",
    "# Independence \n",
    "print(f'Independence condition met: {n / N * 100 <= 10}')\n",
    "\n",
    "# Successes\n",
    "print(f'Successes condition met: {n * n_percentage_ordered_desert >= 5}')\n",
    "\n",
    "# Failures\n",
    "print(f'Failures condition met: {n * (1 - n_percentage_ordered_desert) >= 5}')"
   ],
   "id": "aa9c76a0ea6f9ac8",
   "outputs": [],
   "execution_count": null
  },
  {
   "metadata": {},
   "cell_type": "code",
   "source": [
    "print('\\n')\n",
    "display(Math(r'\\text{p-hat }(\\hat{p}) \\text{: The sample proportion}'))\n",
    "display(Math(r'\\hat{p} \\ = \\ \\frac{x}{n}'))\n",
    "display(Math(r'\\text{x = the number of individuals in the sample with the studied characteristic}'))\n",
    "display(Math(r'\\text{n = the size of the sample}'))\n",
    "print('\\n')\n",
    "display(Math(\n",
    "    r'\\sigma_{\\hat{p}} \\text{: The standard deviation of the sample proportion (standard error) = } \\sqrt{\\frac{p(1-p)}{n}}'))\n",
    "print('\\n')\n",
    "display(\n",
    "    Math(r'\\text{z-score for sample proportion (p-hat): } z \\ = \\ \\frac{\\hat{p} - \\mu_{\\hat{p}}}{ \\sigma_{\\hat{p}}}'))"
   ],
   "id": "484f435b868c801a",
   "outputs": [],
   "execution_count": null
  },
  {
   "metadata": {},
   "cell_type": "code",
   "source": [
    "std_error_p_hat = np.sqrt(n_percentage_ordered_desert * (1 - n_percentage_ordered_desert) / n)\n",
    "print(f'The standard error of the SDSP is {round(std_error_p_hat, 5)}')"
   ],
   "id": "ea335cb78e91d290",
   "outputs": [],
   "execution_count": null
  },
  {
   "metadata": {},
   "cell_type": "code",
   "source": [
    "# Question 2\n",
    "\n",
    "\"\"\"\n",
    "A group of scientists is studying 10,000 manatees and finds that\n",
    "20 % are calves. We want to verify their claim, but can’t conduct a study of\n",
    "all 10,000, so we randomly sample just 500. What’s the probability that our\n",
    "results are within 5 % of the scientists’ study?\n",
    "\"\"\"\n",
    "\n",
    "N = 10000\n",
    "p_calves = 0.20\n",
    "n_calves = 0.20 * 10000\n",
    "n_sampled = 500\n",
    "\n",
    "# Independence\n",
    "print(f'Independence condition met: {n_sampled / N * 100 <= 10}')\n",
    "\n",
    "# Successes\n",
    "print(f'Successes condition met: {n_sampled * p_calves >= 5}')\n",
    "\n",
    "# Failures\n",
    "print(f'Failures condition met: {n_sampled * (1 - p_calves) >= 5}')\n",
    "\n",
    "mu_phat = 0.2\n",
    "\n",
    "std_error_phat = np.sqrt((p_calves * (1 - p_calves)) / n_sampled)\n",
    "print(f'The standard error of the SDSP is {round(std_error_phat, 5)}')\n",
    "\n",
    "z_score_high = round((n_sampled / N) / std_error_phat, 5)\n",
    "z_score_low = -round((n_sampled / N) / std_error_phat, 5)\n",
    "\n",
    "print(\n",
    "    f'The probability that our results are within 5% of the scientists\\' study is {(1 - (sp.stats.norm.cdf(z_score_high)) + sp.stats.norm.cdf(-z_score_low))}')\n",
    "\n"
   ],
   "id": "44cc14b420e67289",
   "outputs": [],
   "execution_count": null
  },
  {
   "metadata": {},
   "cell_type": "code",
   "source": "1 - sp.stats.norm.cdf(z_score_high)",
   "id": "615ece2d12b21cf",
   "outputs": [],
   "execution_count": null
  },
  {
   "metadata": {},
   "cell_type": "code",
   "source": "sp.stats.norm.cdf(-z_score_low)",
   "id": "7f1226f056127b82",
   "outputs": [],
   "execution_count": null
  },
  {
   "metadata": {},
   "cell_type": "code",
   "source": "round(0.002594303776157769 + 0.9974056962238422, 5)",
   "id": "3e3aba2e48045ec9",
   "outputs": [],
   "execution_count": null
  },
  {
   "metadata": {},
   "cell_type": "markdown",
   "source": [
    "# Sampling Distribution of the Sample Proportion (SDSP)\n",
    "***"
   ],
   "id": "d7aeb43051e86634"
  },
  {
   "metadata": {},
   "cell_type": "code",
   "source": [
    "display(Math(\n",
    "    r'\\text{Population Proportion (p) or }(p) \\text{: The probability of an event occurring in the entire population}'))\n",
    "display(Math(\n",
    "    r'\\text{Sample Proportion (p-hat) or }(\\hat{p}) \\text{: } \\frac{x}{n} \\text{ which is the number of subjects in sample with the studied characteristic}'))"
   ],
   "id": "947acb592bb6280c",
   "outputs": [],
   "execution_count": null
  },
  {
   "metadata": {},
   "cell_type": "markdown",
   "source": "## Finite Population Correction Factor (N-1)",
   "id": "b4876d25ce4a4739"
  },
  {
   "metadata": {},
   "cell_type": "code",
   "source": [
    "display(Math(\n",
    "    r'\\text{Standard Error of the Proportion (SE): } \\sigma_{\\hat{p}} \\ = \\  \\sqrt{\\frac{p(1 - p)}{N}} \\ \\sqrt{\\frac{N - n}{N - 1}}'))\n",
    "display(Math(r''))\n",
    "display(Math(\n",
    "    r'\\text{Formula for the variance of the SDSP is: } \\sigma^2_{\\hat{p}} \\text{ = } ( \\frac{ p(1 - p) }{n} )  \\ (\\frac{N - n}{N - 1})'))\n",
    "display(Math(r''))\n",
    "display(Math(\n",
    "    r'\\text{If the population proportion is unknown, we approximate it with the sameple proportion, and our formulas for standard error and variance with the FPC are: }'))\n",
    "display(Math(r''))\n",
    "display(Math(r'\\sigma_{\\hat{p}} \\ = \\ \\sqrt{\\frac{ \\hat{p} (1 -  \\hat{p} )}{n}} \\ \\sqrt{\\frac{n - 1}{n}}'))\n",
    "display(Math(r''))\n",
    "display(Math(r'\\sigma^2_{\\hat{p}} \\ = \\ \\frac{ \\hat{p} (1 -  \\hat{p} )}{n} \\ \\frac{n - 1}{n}'))"
   ],
   "id": "4dbc981b913d1a87",
   "outputs": [],
   "execution_count": null
  },
  {
   "metadata": {},
   "cell_type": "code",
   "source": [
    " # Question 2\n",
    "\n",
    "\"\"\"\n",
    "A population proportion is p = 0.7. Find the standard error of the\n",
    "proportion for samples of size n = 100.\n",
    "\"\"\"\n",
    "display(Math(r'\\text{Standard Error of the Proportion (SE): } \\sigma_{\\hat{p}} \\ = \\  \\sqrt{\\frac{p(1 - p)}{N}}'))\n",
    "\n",
    "p = 0.7\n",
    "n = 100\n",
    "\n",
    "std_error_p_hat = np.sqrt(p * (1 - p) / n)\n",
    "print(f'The standard error of the SDSP is {round(std_error_p_hat, 5)}')\n"
   ],
   "id": "220c33f68ebe5c2d",
   "outputs": [],
   "execution_count": null
  },
  {
   "metadata": {},
   "cell_type": "code",
   "source": [
    "# Question 3\n",
    "\n",
    "\"\"\"\n",
    "A group of 3 siblings have the following eye color: blue, blue,\n",
    "green. Find the mean μ̂p and standard error σ̂p of the sampling distribution\n",
    "of the sample proportion for the proportion of siblings with blue eyes, if\n",
    "we take 2-sibling samples, with replacement.\n",
    "\"\"\"\n",
    "\n",
    "N = 3\n",
    "n = 2\n",
    "\n",
    "Nn = N ** n\n",
    "\n",
    "\"Sample proportion P(pi):\"\n",
    "\n",
    "P_pi = [\n",
    "    [0, (1 / 9)],\n",
    "    [(1 / 2), (4 / 9)],\n",
    "    [1, (4 / 9)]\n",
    "]\n",
    "\n",
    "mu_p_hat = sum(sample_proportion * probability for sample_proportion, probability in P_pi)\n",
    "print(f'The mean μ��p of the sampling distribution is {round(mu_p_hat, 5)}')\n",
    "\n",
    "sdsp = np.sqrt(sum((sample_proportion - mu_p_hat) ** 2 * probability for sample_proportion, probability in P_pi))\n",
    "print(f'The standard error σ��p of the sampling distribution is {round(sdsp, 5)}')"
   ],
   "id": "e1f6b2bbd30991b1",
   "outputs": [],
   "execution_count": null
  },
  {
   "metadata": {},
   "cell_type": "markdown",
   "source": [
    "# Conditions for inference with the SDSP\n",
    "***\n",
    "Random\n",
    "\n",
    "Normal (large counts)\n",
    "\n",
    "np >= 5\n",
    "n(1-p) > 5"
   ],
   "id": "7e3168565236c577"
  },
  {
   "metadata": {},
   "cell_type": "code",
   "source": [
    "\"\"\"\n",
    "Conditions for inference with the SDSP\n",
    "---------------------------------------------\n",
    "Just like we did with the sampling distribution of the sample mean, we\n",
    "have to meet specific sampling conditions in order to be able to use the\n",
    "sampling distribution of the sample proportion to make inferences about\n",
    "the population proportion.\n",
    "\n",
    "The conditions for inference that apply to the sampling distribution of the\n",
    "sample proportion are similar to the conditions we applied to the sampling\n",
    "distribution of the sample mean.\n",
    "\n",
    "\n",
    "Random\n",
    "---------------------------------------------\n",
    "Any sample we take needs to be a simple random sample. Often we’ll be\n",
    "told in the problem that sampling was random.\n",
    "\n",
    "\n",
    "Normal (large counts)\n",
    "---------------------------------------------\n",
    "\n",
    "The sampling distribution of the sample proportion can only be\n",
    "guaranteed to be normal if np ≥ 5 and n(1 − p) ≥ 5, where n is the sample\n",
    "size and p is the population proportion. If np ≥ 5 is true, it tells us that we\n",
    "can expect to have at least 5 “successes” in the sample, and if n(1 − p) ≥ 5\n",
    "is true, it tells us that we can expect to have at least 5 “failures.”\n",
    "\n",
    "So if our sample size is n = 100 and the population proportion is p = 60 % ,\n",
    "then we multiply 100 by 0.6 and by 1 − 0.6 = 0.4 to make sure both values\n",
    "are at least 5.\n",
    "\n",
    "\n",
    "\"\"\"\n"
   ],
   "id": "afc75b6a8afd19e2",
   "outputs": [],
   "execution_count": null
  },
  {
   "metadata": {},
   "cell_type": "code",
   "source": "display(Math(r'\\text{Z-score p-hat }(Z_{\\hat{p}}) \\text{:  } \\frac{\\hat{p} - p}{\\sqrt{\\frac{p(1 - p)}{n}}}'))",
   "id": "437dd715efd8dfeb",
   "outputs": [],
   "execution_count": null
  },
  {
   "metadata": {},
   "cell_type": "code",
   "source": [
    "# Example\n",
    "\n",
    "N = 1000\n",
    "p = 0.4\n",
    "n = 90\n",
    "\n",
    "# 0.35 < p-hat < 0.45\n",
    "low_limit = round((p - 0.05), 5)\n",
    "print(f'low_limit {low_limit}')\n",
    "high_limit = round(p + 0.05, 5)\n",
    "print(f'high_limit {high_limit}')\n",
    "\n",
    "# Random\n",
    "n_p = n * p\n",
    "print(f'np {n_p} >= 5: {n_p >= 5}')\n",
    "\n",
    "# Normal (large counts)\n",
    "n_1_minus_p = n * (1 - p)\n",
    "print(f'n(1-p) > 5: {n_1_minus_p > 5}')\n",
    "\n",
    "# Independence (10% of the total sample size)\n",
    "print(f'Independence condition met: {n / N * 100 <= 10}')\n",
    "\n",
    "# mean of p-hat is p\n",
    "mu_p_hat = n_p / n\n",
    "print(f'The mean μ^p of the sampling distribution is {round(mu_p_hat, 5)}')\n",
    "\n",
    "# standard error of p-hat is sqrt(p(1-p)/n)\n",
    "std_error_p_hat = math.sqrt(p * (1 - p) / n)\n",
    "print(f'The standard error σ^p of the sampling distribution is {round(std_error_p_hat, 5)}')\n",
    "\n",
    "# because we are sampling more than 5% of the total population, we must adjust using the Finite Population Correction Factor (N-1)\n",
    "std_error_p_hat_corrected = math.sqrt(p * (1 - p) / n) * math.sqrt((N - n) / (N - 1))\n",
    "print(f'The corrected standard error σ^p of the sampling distribution is {round(std_error_p_hat_corrected, 5)}')\n",
    "\n",
    "# Z-score p-hat low end (95% confidence interval)\n",
    "z_score_low = (low_limit - p) / std_error_p_hat_corrected\n",
    "print(f'Z-score p-hat low end: {round(z_score_low, 5)}')\n",
    "print(f'The probability equivalent of our z-score is:  {sp.stats.norm.cdf(z_score_low)}')\n",
    "\n",
    "# Z-score p-hat high end (95% confidence interval)\n",
    "z_score_high = (high_limit - p) / std_error_p_hat_corrected\n",
    "print(f'Z-score p-hat high end: {round(z_score_high, 5)}')\n",
    "print(f'The probability equivalent of our z-score is:  {sp.stats.norm.cdf(z_score_high)}')\n",
    "\n",
    "print(\n",
    "    f'The probability that our results are within 5% is: {round(sp.stats.norm.cdf(z_score_high) - sp.stats.norm.cdf(z_score_low), 3) * 100}%')\n",
    "\n",
    "\n"
   ],
   "id": "2b8fefdac0c60e9d",
   "outputs": [],
   "execution_count": null
  },
  {
   "metadata": {},
   "cell_type": "markdown",
   "source": [
    "# T-Distribution\n",
    "***\n",
    "\n",
    "The t-distribution is used when the sample size is small (n < 30) or the population standard deviation is unknown. It is similar to the normal distribution, but with heavier tails. \n",
    "\n",
    "The t-distribution has one additional parameter called the degrees of freedom (df), which is equal to n - 1.\n",
    "\n",
    "\n",
    "The t-distribution has the following properties:\n",
    "\n",
    "1. It is symmetric about the mean μ.\n",
    "\n",
    "2. Its shape depends on the degrees of freedom df. As df increases, the t-distribution approaches the normal distribution.\n",
    "\n",
    "3. The t-distribution has heavier tails than the normal distribution. This means that the probability of being more than a certain number of standard deviations from the mean increases as the number of degrees of freedom increases."
   ],
   "id": "43a278a152c5e8a7"
  },
  {
   "metadata": {},
   "cell_type": "code",
   "source": "display(Math(r'Degrees of Freedom (df): n - 1'))",
   "id": "e4c1ad8590f7c34e",
   "outputs": [],
   "execution_count": null
  },
  {
   "metadata": {},
   "cell_type": "code",
   "source": [
    "# Question 2\n",
    "\n",
    "'''\n",
    "What value in the t-table is associated with a sample size n = 15\n",
    "and an upper-tail probability of 0.025?\n",
    "'''\n",
    "\n",
    "n = 15\n",
    "df = n - 1\n",
    "\n",
    "# Using scipy to find the value in the t-table\n",
    "t_value = sp.stats.t.ppf(1 - 0.025, df)\n",
    "print(\n",
    "    f'The value in the t-table associated with a sample size n = 15 and an upper-tail probability of 0.025 is {round(t_value, 5)}')"
   ],
   "id": "34f6a3503fff14b1",
   "outputs": [],
   "execution_count": null
  },
  {
   "metadata": {},
   "cell_type": "code",
   "source": [
    "# Question 3\n",
    "\n",
    "'''\n",
    "Find the upper-tail probability associated with a confidence\n",
    "level of 99 % .\n",
    "'''\n",
    "\n",
    "confidence_level = 0.99\n",
    "a = 1 - confidence_level\n",
    "upper_tail_probability = a / 2\n",
    "\n",
    "print(f'The upper-tail probability associated with a confidence level of 99% is {round(upper_tail_probability, 5)}')"
   ],
   "id": "a1fc77c437f0c431",
   "outputs": [],
   "execution_count": null
  },
  {
   "metadata": {},
   "cell_type": "markdown",
   "source": [
    "# Confidence interval for the mean\n",
    "***\n"
   ],
   "id": "402d3e227b74bdd1"
  },
  {
   "metadata": {},
   "cell_type": "markdown",
   "source": "## Point and Interval Estimates",
   "id": "857038a796ec17f"
  },
  {
   "metadata": {},
   "cell_type": "code",
   "source": [
    "# Point Estimate: In statistics, point estimation involves the use of sample data to calculate a single value which is to serve as a \"best guess\" or \"best estimate\" of an unknown population parameter.\n",
    "# Interval Estimate: In statistics, interval estimation involves the use of sample data to calculate an interval that covers a population parameter with a certain level of confidence.\n",
    "# Confidence Level: The probability that the calculated interval estimate will contain the true population parameter."
   ],
   "id": "e1f348a14b3af766",
   "outputs": [],
   "execution_count": null
  },
  {
   "metadata": {},
   "cell_type": "markdown",
   "source": "## Alpha a and the Region of Rejection",
   "id": "8b7726b25619e030"
  },
  {
   "metadata": {},
   "cell_type": "code",
   "source": [
    "# Alpha (a): The probability of rejecting the null hypothesis (H0) when it is true. It is a measure of the risk of Type I error.\n",
    "# Level of Significance (α): The probability of rejecting the null hypothesis when it is true, expressed as a decimal.\n",
    "\n",
    "# For a 90% confidence level, z = +/- 1.645\n",
    "# For a 95% confidence level, z = +/- 1.96\n",
    "# For a 99% confidence level, z = +/- 2.576"
   ],
   "id": "e533f96b95939045",
   "outputs": [],
   "execution_count": null
  },
  {
   "metadata": {},
   "cell_type": "markdown",
   "source": "## The Confidence Interval when the Population Standard Deviation is Known",
   "id": "1201c782b02a5bf0"
  },
  {
   "metadata": {},
   "cell_type": "code",
   "source": [
    "display(Math(r'Confidence \\ Interval \\ (a,b): \\ \\bar{x} \\ \\pm \\ z^{*} \\frac{\\sigma}{\\sqrt{n}}'))\n",
    "display(Math(r'Critical \\ Value \\  \\  =  (z^{*}) \\ or \\ z_{a/2}'))\n",
    "display(Math(\n",
    "    r'\\text{Sampling Distribution of the Sample Mean (std error): } \\ \\sigma_{\\bar{x}} \\ = \\ \\sigma/\\sqrt{n} \\text{ or } \\ (a,b) \\ = \\ \\bar{x} \\ \\pm \\ z^{*} \\sigma_{\\bar{x}}'))"
   ],
   "id": "6ff780667c96dfde",
   "outputs": [],
   "execution_count": null
  },
  {
   "metadata": {},
   "cell_type": "markdown",
   "source": "## The Confidence Interval for the Mean",
   "id": "a8d3aa26c195d19c"
  },
  {
   "metadata": {},
   "cell_type": "code",
   "source": [
    "# Question 1\n",
    "\n",
    "'''\n",
    "The height of students in our school is normally distributed with\n",
    "a standard deviation of σ = 4 inches. We sample 50 of our classmates (with\n",
    "replacement) and get a sample mean of ¯x = 66 inches. What is the\n",
    "confidence interval for a confidence level of 95 % ?\n",
    "'''\n",
    "\n",
    "n = 50\n",
    "sigma = 4\n",
    "mean_x = 66\n",
    "confidence_level = 0.95\n",
    "\n",
    "display(Math(r'\\text{Confidence Level of 95% is associated with z-scores of z = } \\pm 1.96'))\n",
    "\n",
    "display(Math(r'\\text{Confidence Interval (a,b): } \\bar{x} \\ \\pm \\ z^{*} \\frac{\\sigma}{\\sqrt{n}}'))\n",
    "\n",
    "a = mean_x + 1.96 * (sigma / math.sqrt(n))\n",
    "b = mean_x - 1.96 * (sigma / math.sqrt(n))\n",
    "\n",
    "print(f'The confidence interval for a confidence level of 95% is ({round(a, 2)}, {round(b, 2)}) inches')\n"
   ],
   "id": "44ae4b0355bf8fb",
   "outputs": [],
   "execution_count": null
  },
  {
   "metadata": {},
   "cell_type": "code",
   "source": [
    "# Question 2\n",
    "\n",
    "'''\n",
    "The weight of chickens on a farm is normally distributed with a\n",
    "standard deviation of σ = 3.5 ounces. What is the smallest sample we can\n",
    "take if we want a margin of error of ±2.5 ounces, and we want to be 99 %\n",
    "confident?\n",
    "'''\n",
    "\n",
    "confidence_level = 0.99\n",
    "sigma = 3.5\n",
    "margin_of_error = 2.5\n",
    "\n",
    "display(Math(r'\\text{Confidence Level of 99% is associated with z-scores of z = } \\pm 2.576'))\n",
    "\n",
    "# solve the margin of error for n\n",
    "display(Math(r'\\text{Margin of Error: } \\text{ME = } z^{*} \\frac{\\sigma}{\\sqrt{n}}'))\n",
    "\n",
    "n = (\n",
    "            (round(2.57, 2) * sigma)\n",
    "            / margin_of_error\n",
    "    ) ** 2\n",
    "\n",
    "print(\n",
    "    f'The smallest sample size we can take with a margin of error of 2.5 ounces and a confidence level of 99% is {round(math.ceil(n), 0)}')"
   ],
   "id": "fdd8d87ee17e0137",
   "outputs": [],
   "execution_count": null
  },
  {
   "metadata": {},
   "cell_type": "code",
   "source": [
    "# Question 3\n",
    "\n",
    "'''\n",
    "We want to know the mean number of daylight hours (the time\n",
    "between sunrise and sunset) in a day in our city over the course of a year.\n",
    "We take a random sample of 30 days throughout the year and get a\n",
    "sample mean of x = 13.15 hours and a sample standard deviation of s = 0.85\n",
    "hours. What is the confidence interval for a confidence level of 90 % ?\n",
    "'''\n",
    "\n",
    "mean_x = 13.15\n",
    "n = 30\n",
    "sigma = 0.85\n",
    "confidence_level = 0.90\n",
    "\n",
    "# Because population standard deviation is unknown, we have to use the t-distribution instead of the z-distribution.\n",
    "\n",
    "# A 90 % confidence level with n − 1 = 30 − 1 = 29 degrees of freedom is associated with t-scores of t = ± 1.699.\n",
    "\n",
    "a = mean_x + 1.699 * (sigma / math.sqrt(n))\n",
    "b = mean_x - 1.699 * (sigma / math.sqrt(n))\n",
    "\n",
    "print(f'The confidence interval for a confidence level of 90% is ({round(a, 2)}, {round(b, 2)}) hours')"
   ],
   "id": "39bb2f811e3ebf64",
   "outputs": [],
   "execution_count": null
  },
  {
   "metadata": {},
   "cell_type": "markdown",
   "source": "## Confidence Interval for the Proportion",
   "id": "c187f9875ea82d42"
  },
  {
   "metadata": {},
   "cell_type": "code",
   "source": [
    "display(Math(r'\\hat{p} \\text{ = } \\frac{text{Number of subjects that meet our criteria}}{n}'))\n",
    "display(Math(r'Confidence \\ Interval \\ (a,b): \\hat{p} \\ \\pm \\ z^{*} \\sqrt{\\frac{\\hat{p}(1-\\hat{p})}{n}}'))\n",
    "display(Math(r'z^{*} \\text{ is the z-score for a given confidence level from z-tables}'))\n",
    "display(Math(r'\\hat{p} \\text{ is the sample proportion}'))\n",
    "display(Math(r'n \\text{ is the sample size}'))\n",
    "display(Math(r'\\text{In order to use this formula, we need to have } n\\hat{p} \\geq 5 \\text{ and } n(1-\\hat{p}) \\geq 5'))\n",
    "display(\n",
    "    Math(r'\\text{Finite population correction factor applies without replacement of more than 5% of the population}'))\n",
    "display(Math(\n",
    "    r'\\text{Confidence Interval for the Population Proportion: (a,b) = } \\hat{p} \\pm z^{*}\\sqrt{\\frac{\\hat{p}(1-\\hat{p})}{n}} \\sqrt{\\frac{\\text{N - n}}{\\text{N - 1}}}'))"
   ],
   "id": "abb5e8be1035a6a9",
   "outputs": [],
   "execution_count": null
  },
  {
   "metadata": {},
   "cell_type": "code",
   "source": [
    "'''\n",
    "A study shows that 78 % of patients who try a new medication\n",
    "for migraines feel better within 30 minutes of taking the medicine. If the\n",
    "study involved 120 patients, construct a 95 % confidence interval for the\n",
    "proportion of patients who feel better within 30 minutes of taking the\n",
    "medicine\n",
    "'''\n",
    "\n",
    "n = 120\n",
    "p_hat = 0.78\n",
    "confidence_level = 0.95\n",
    "\n",
    "z_star = sp.stats.norm.ppf(1 - (1 - confidence_level) / 2)\n",
    "\n",
    "print(\n",
    "    f'The 95% confidence interval for the proportion of patients who feel better within 30 minutes of taking the medication is ({round(p_hat - z_star)})')"
   ],
   "id": "d0dadfe3dd72f987",
   "outputs": [],
   "execution_count": null
  },
  {
   "metadata": {},
   "cell_type": "code",
   "source": [
    "a = p_hat - z_star * math.sqrt((p_hat * (1 - p_hat)) / n)\n",
    "b = p_hat + z_star * math.sqrt((p_hat * (1 - p_hat)) / n)\n",
    "\n",
    "print(\n",
    "    f'The 95% confidence interval for the proportion of patients who feel better within 30 minutes of taking the medication is ({round(a, 4)}, {round(b, 4)})')"
   ],
   "id": "d6fb97bec58acbeb",
   "outputs": [],
   "execution_count": null
  },
  {
   "metadata": {},
   "cell_type": "code",
   "source": [
    "# Question 2\n",
    "\n",
    "'''\n",
    "A study shows that 243 of 500 randomly selected households\n",
    "were using a family member to care for their young children. Build a 90 %\n",
    "confidence interval for the proportion of households using a family\n",
    "member to care for young children.\n",
    "'''\n",
    "\n",
    "n = 243\n"
   ],
   "id": "f73dbf3b45685a55",
   "outputs": [],
   "execution_count": null
  }
 ],
 "metadata": {
  "kernelspec": {
   "display_name": "Python 3",
   "language": "python",
   "name": "python3"
  },
  "language_info": {
   "codemirror_mode": {
    "name": "ipython",
    "version": 2
   },
   "file_extension": ".py",
   "mimetype": "text/x-python",
   "name": "python",
   "nbconvert_exporter": "python",
   "pygments_lexer": "ipython2",
   "version": "2.7.6"
  }
 },
 "nbformat": 4,
 "nbformat_minor": 5
}
