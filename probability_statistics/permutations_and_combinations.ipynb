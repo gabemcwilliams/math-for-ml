{
 "cells": [
  {
   "cell_type": "code",
   "id": "initial_id",
   "metadata": {
    "collapsed": true,
    "ExecuteTime": {
     "end_time": "2025-04-19T00:59:40.517127Z",
     "start_time": "2025-04-19T00:59:40.513914Z"
    }
   },
   "source": [
    "import re\n",
    "import pandas as pd\n",
    "import numpy as np\n",
    "import scipy as sp\n",
    "import sympy as sym\n",
    "from IPython.display import display, Math, Latex\n",
    "import math\n",
    "import matplotlib.pyplot as plt\n",
    "from matplotlib_venn import venn2, venn3\n",
    "from fractions import Fraction\n"
   ],
   "outputs": [],
   "execution_count": 27
  },
  {
   "metadata": {},
   "cell_type": "markdown",
   "source": [
    "# Factorials\n",
    " ***"
   ],
   "id": "d3500dc1451711d7"
  },
  {
   "metadata": {
    "ExecuteTime": {
     "end_time": "2025-04-19T00:59:40.534516Z",
     "start_time": "2025-04-19T00:59:40.530831Z"
    }
   },
   "cell_type": "code",
   "source": "math.factorial(5) == (5 * 4 * 3 * 2 * 1)",
   "id": "cbd0a553fc643f45",
   "outputs": [
    {
     "data": {
      "text/plain": [
       "True"
      ]
     },
     "execution_count": 28,
     "metadata": {},
     "output_type": "execute_result"
    }
   ],
   "execution_count": 28
  },
  {
   "metadata": {
    "ExecuteTime": {
     "end_time": "2025-04-19T00:59:40.598533Z",
     "start_time": "2025-04-19T00:59:40.595832Z"
    }
   },
   "cell_type": "code",
   "source": [
    "\"\"\"\n",
    "\n",
    "Two things to remember concerning permutations and combinations:\n",
    "  - Select\n",
    "  - Arrange  \n",
    "  \n",
    "Combinations:\n",
    " - Only select\n",
    " \n",
    "Permutations:\n",
    " - Select and arrange\n",
    "  \n",
    "  \n",
    "\n",
    "\"\"\"\n",
    "None"
   ],
   "id": "c42db5b1278f3300",
   "outputs": [],
   "execution_count": 29
  },
  {
   "metadata": {},
   "cell_type": "markdown",
   "source": [
    "# Combinations\n",
    "***\n"
   ],
   "id": "c718711b51c106a6"
  },
  {
   "metadata": {
    "ExecuteTime": {
     "end_time": "2025-04-19T00:59:40.642965Z",
     "start_time": "2025-04-19T00:59:40.640447Z"
    }
   },
   "cell_type": "code",
   "source": [
    "\"\"\"\n",
    "\n",
    "We have 'n' things, but must select 'r' of them. \n",
    "\n",
    "The number of combinations is given by: nCr\n",
    "\n",
    "n!  = n * * (n-1) * (n-2) *... \n",
    "r!  = r * * (r-1) * (r-2) *... * 1\n",
    "\n",
    "C(n, r) = n! / (r!(n-r)!) \n",
    "\n",
    "\n",
    "\"\"\"\n",
    "\n",
    "None"
   ],
   "id": "ee8fb43ba46fef56",
   "outputs": [],
   "execution_count": 30
  },
  {
   "metadata": {},
   "cell_type": "markdown",
   "source": [
    "# Permutations\n",
    "***"
   ],
   "id": "7796621636359996"
  },
  {
   "metadata": {
    "ExecuteTime": {
     "end_time": "2025-04-19T00:59:40.672694Z",
     "start_time": "2025-04-19T00:59:40.670115Z"
    }
   },
   "cell_type": "code",
   "source": [
    "\"\"\"\n",
    "\n",
    "\n",
    "We have 'n' things, and we want to arrange them in 'r' different ways.\n",
    "\n",
    "The number of permutations is given by: nPr -> Same as combination, but multiply by r!\n",
    "\n",
    "n!  = n * * (n-1) * (n-2) *...\n",
    "r!  = r * * (r-1) * (r-2) *... * 1\n",
    "\n",
    "P(n, r) =  (n! / (r!(n-r)) * r!) -> r! cancel each other out =>  n! / (n-r)!\n",
    "\n",
    "\"\"\"\n",
    "\n",
    "None"
   ],
   "id": "e2d2452c77eb0082",
   "outputs": [],
   "execution_count": 31
  },
  {
   "metadata": {
    "ExecuteTime": {
     "end_time": "2025-04-19T00:59:40.709438Z",
     "start_time": "2025-04-19T00:59:40.704087Z"
    }
   },
   "cell_type": "code",
   "source": [
    "# Example 1:\n",
    "\n",
    "\"\"\"\n",
    "\n",
    "In Daya's bag, there are 3 books of History, 4 books of Science, and 2 books of Math.\n",
    "\n",
    "In how many ways can Daya arrange the books so that all of the books of the same subject are together?\n",
    "\n",
    "\"\"\"\n",
    "\n",
    "n_history = 3\n",
    "n_science = 4\n",
    "n_math = 2\n",
    "\n",
    "class_list = [\n",
    "    {\n",
    "        'class': 'History',\n",
    "        \"books\": n_history,\n",
    "        \"arrangements\": math.factorial(n_history)\n",
    "    },\n",
    "    {\n",
    "        'class': 'Science',\n",
    "        \"books\": n_science,\n",
    "        \"arrangements\": math.factorial(n_science)\n",
    "    },\n",
    "    {\n",
    "        'class': 'Math',\n",
    "        \"books\": n_math,\n",
    "        \"arrangements\": math.factorial(n_math)\n",
    "    }\n",
    "]\n",
    "\n",
    "# Calculate factors for each class\n",
    "print(\"-\" * 80)\n",
    "print(f\"Total number of classes: {len(class_list)}\")\n",
    "print(f\"Total number of books: {sum([cls['books'] for cls in class_list])}\")\n",
    "print(\"-\" * 80)\n",
    "[print(f\"{cls}\") for cls in class_list]\n",
    "print(\"-\" * 80)\n",
    "display(Math(r\"_nC_r = n! \\cdot  \\ (n_1! \\cdot n_2! \\cdot n_3!)\"))\n",
    "print(\"-\" * 80)\n",
    "# Calculate the number of ways to arrange the books: math.factorial(len(class_list)) * product([cls['arrangements'] for cls in class_list])\n",
    "print(\n",
    "    f\"Number of ways to arrange book groups: {math.factorial(len(class_list)) * (math.prod([cls['arrangements'] for cls in class_list]))} \")\n",
    "print(\"-\" * 80)"
   ],
   "id": "394ce9b1f51f4a6",
   "outputs": [
    {
     "name": "stdout",
     "output_type": "stream",
     "text": [
      "--------------------------------------------------------------------------------\n",
      "Total number of classes: 3\n",
      "Total number of books: 9\n",
      "--------------------------------------------------------------------------------\n",
      "{'class': 'History', 'books': 3, 'arrangements': 6}\n",
      "{'class': 'Science', 'books': 4, 'arrangements': 24}\n",
      "{'class': 'Math', 'books': 2, 'arrangements': 2}\n",
      "--------------------------------------------------------------------------------\n"
     ]
    },
    {
     "data": {
      "text/plain": [
       "<IPython.core.display.Math object>"
      ],
      "text/latex": "$\\displaystyle _nC_r = n! \\cdot  \\ (n_1! \\cdot n_2! \\cdot n_3!)$"
     },
     "metadata": {},
     "output_type": "display_data"
    },
    {
     "name": "stdout",
     "output_type": "stream",
     "text": [
      "--------------------------------------------------------------------------------\n",
      "Number of ways to arrange book groups: 1728 \n",
      "--------------------------------------------------------------------------------\n"
     ]
    }
   ],
   "execution_count": 32
  },
  {
   "metadata": {
    "ExecuteTime": {
     "end_time": "2025-04-19T00:59:40.858220Z",
     "start_time": "2025-04-19T00:59:40.855223Z"
    }
   },
   "cell_type": "code",
   "source": [
    "# Example 2:\n",
    "\n",
    "\"\"\"\n",
    "\n",
    "How many ways can we arrange the word 'FUZZTONE' so that all of the vowels come together?\n",
    "\n",
    "\"\"\"\n",
    "\n",
    "word = 'FUZZTONE'\n",
    "vowels = 'AEIOU'\n",
    "consonants = ''.join(set(word) - set(vowels))\n",
    "\n",
    "# Calculate combinations\n",
    "n_vowels = len(vowels)\n",
    "n_consonants = len(consonants)\n",
    "n_word = len(word)\n",
    "\n",
    "print(f\"Number of vowels: {n_vowels}\")\n",
    "print(f\"Number of consonants: {n_consonants}\")\n",
    "print(f\"Total number of letters: {n_word}\")\n"
   ],
   "id": "cfbd64047ca052c5",
   "outputs": [
    {
     "name": "stdout",
     "output_type": "stream",
     "text": [
      "Number of vowels: 5\n",
      "Number of consonants: 4\n",
      "Total number of letters: 8\n"
     ]
    }
   ],
   "execution_count": 33
  },
  {
   "metadata": {
    "ExecuteTime": {
     "end_time": "2025-04-19T00:59:40.912544Z",
     "start_time": "2025-04-19T00:59:40.909588Z"
    }
   },
   "cell_type": "code",
   "source": [
    "# Example 3:\n",
    "\n",
    "\"\"\"\n",
    "\n",
    "How many distinguishable permutations are there of the word 'MATHEMATICS'?\n",
    "\n",
    "\"\"\"\n",
    "\n",
    "word = 'MATHEMATICS'\n",
    "n_word = len(word)\n",
    "\n",
    "print(f\"Number of distinct letters: {n_word}\")\n",
    "\n",
    "counts_dict = {letter: word.count(letter) for letter in set(word)}\n",
    "print(f\"Counts of each letter: {counts_dict}\")\n",
    "\n",
    "# For any duplicates, we divide the n_factorial by the product of the factorials of the duplicate letters\n",
    "permutations = (math.factorial(n_word) / math.prod([math.factorial(count) for count in counts_dict.values()]))\n",
    "print(f\"Number of distinguishable permutations: {permutations}\")\n",
    "\n"
   ],
   "id": "70c68f6f6b15d10a",
   "outputs": [
    {
     "name": "stdout",
     "output_type": "stream",
     "text": [
      "Number of distinct letters: 11\n",
      "Counts of each letter: {'T': 2, 'A': 2, 'H': 1, 'I': 1, 'C': 1, 'S': 1, 'M': 2, 'E': 1}\n",
      "Number of distinguishable permutations: 4989600.0\n"
     ]
    }
   ],
   "execution_count": 34
  },
  {
   "metadata": {
    "ExecuteTime": {
     "end_time": "2025-04-19T00:59:40.974806Z",
     "start_time": "2025-04-19T00:59:40.967493Z"
    }
   },
   "cell_type": "code",
   "source": [
    "# Example 4:\n",
    "\n",
    "\"\"\"\n",
    "\n",
    "If there are 20 people in a bike race, how many ways are there of rewarding a 1st, 2nd, and 3rd place winners (assuming no ties)?\n",
    "\n",
    "\"\"\"\n",
    "\n",
    "# NOTE: If there are a limited number of slots for the permutation, we must use the 'multiplication counting principle'.\n",
    "n_people = 20\n",
    "r_places = 3\n",
    "\n",
    "print(\"-\" * 80)\n",
    "display(Math(r\"P(n, k) = \\frac{n!}{(n-r)!}\"))\n",
    "print(\"\\n\")\n",
    "display(Math(fr\"P({n_people}, {r_places}) = \\frac{{{n_people}!}}{{ ({n_people} - {r_places})!}}\"))\n",
    "print(\"-\" * 80)\n",
    "n_people = 20\n",
    "r_places = 3\n",
    "\n",
    "# Calculate combinations\n",
    "permutations = math.factorial(n_people) / math.factorial(n_people - r_places)\n",
    "print(f\"Number of ways to reward the 1st, 2nd, and 3rd place winners: {permutations}\")\n"
   ],
   "id": "915bccd43a309443",
   "outputs": [
    {
     "name": "stdout",
     "output_type": "stream",
     "text": [
      "--------------------------------------------------------------------------------\n"
     ]
    },
    {
     "data": {
      "text/plain": [
       "<IPython.core.display.Math object>"
      ],
      "text/latex": "$\\displaystyle P(n, k) = \\frac{n!}{(n-r)!}$"
     },
     "metadata": {},
     "output_type": "display_data"
    },
    {
     "name": "stdout",
     "output_type": "stream",
     "text": [
      "\n",
      "\n"
     ]
    },
    {
     "data": {
      "text/plain": [
       "<IPython.core.display.Math object>"
      ],
      "text/latex": "$\\displaystyle P(20, 3) = \\frac{20!}{ (20 - 3)!}$"
     },
     "metadata": {},
     "output_type": "display_data"
    },
    {
     "name": "stdout",
     "output_type": "stream",
     "text": [
      "--------------------------------------------------------------------------------\n",
      "Number of ways to reward the 1st, 2nd, and 3rd place winners: 6840.0\n"
     ]
    }
   ],
   "execution_count": 35
  },
  {
   "metadata": {
    "ExecuteTime": {
     "end_time": "2025-04-19T00:59:41.017809Z",
     "start_time": "2025-04-19T00:59:41.014694Z"
    }
   },
   "cell_type": "code",
   "source": [
    "# Example 5:\n",
    "\n",
    "\"\"\"\n",
    "\n",
    "If there are 15 people on your chess team, how many ways can you choose 2 co-captains?\n",
    "\n",
    "\"\"\"\n",
    "\n",
    "# Because of the word 'co-captain', we assume that two people can be chosen in any order.\n",
    "\n",
    "n_people = 15\n",
    "r_captains = 2\n",
    "\n",
    "combinations = math.factorial(n_people) / (math.factorial(n_people - r_captains) * math.factorial(r_captains))\n",
    "print(f\"Number of ways to choose 2 co-captains: {combinations}\")"
   ],
   "id": "c11914c7d768604",
   "outputs": [
    {
     "name": "stdout",
     "output_type": "stream",
     "text": [
      "Number of ways to choose 2 co-captains: 105.0\n"
     ]
    }
   ],
   "execution_count": 36
  },
  {
   "metadata": {
    "ExecuteTime": {
     "end_time": "2025-04-19T00:59:41.069880Z",
     "start_time": "2025-04-19T00:59:41.067405Z"
    }
   },
   "cell_type": "code",
   "source": [
    "# Example 6:\n",
    "\n",
    "\"\"\"\n",
    "\n",
    "If a school board has 8 women and 4 men, how many ways can a committee be formed with 3 members such that:\n",
    "\n",
    "1. All 3 are men?\n",
    "2. All 3 are women?\n",
    "3. At 2 women and least 1 man?\n",
    "4. At least 1 woman?\n",
    "\n",
    "\"\"\"\n",
    "\n",
    "n_women = 8\n",
    "n_men = 4\n",
    "r_committee = 3\n",
    "\n",
    "# Calculate combinations"
   ],
   "id": "1a40ca6d1086d85c",
   "outputs": [],
   "execution_count": 37
  },
  {
   "metadata": {
    "ExecuteTime": {
     "end_time": "2025-04-19T00:59:41.095003Z",
     "start_time": "2025-04-19T00:59:41.091609Z"
    }
   },
   "cell_type": "code",
   "source": [
    "# 1\n",
    "\n",
    "_4C_3 = math.factorial(n_men) / (math.factorial(n_men - r_committee) * math.factorial(r_committee))\n",
    "\n",
    "print(f\"Number of ways to form a committee with 3 men: {_4C_3}\")\n",
    "\n",
    "# 2\n",
    "\n",
    "_8C_3 = math.factorial(n_women) / (math.factorial(n_women - r_committee) * math.factorial(r_committee))\n",
    "\n",
    "print(f\"Number of ways to form a committee with 3 women: {_8C_3}\")\n",
    "\n",
    "# 3\n",
    "\n",
    "_8_2 = math.factorial(n_women) / (math.factorial(n_women - 2) * math.factorial(2))\n",
    "_4_1 = math.factorial(n_men) / (math.factorial(n_men - 1) * math.factorial(1))\n",
    "\n",
    "print(f\"Number of ways to form a committee with 2 women and 1 man : {_8_2 * _4_1}\")\n",
    "\n",
    "# 4\n",
    "\n",
    "_12C_3 = math.factorial(n_women + n_men) / (math.factorial((n_women + n_men) - 3) * math.factorial(3))\n",
    "print(f\"_12C_3 = {_12C_3}\")\n",
    "print(f\"_4C_3 = {_4C_3}\")\n",
    "# Total number of ways that 3 members can be women minus none of them being women\n",
    "# Total (_12C_3) - (None or All 3 Men : 4 : _4C_3)\n",
    "\n",
    "\n",
    "print(f\"Number of ways to form a committee with at least 1 woman: {_12C_3 - _4C_3}\")\n"
   ],
   "id": "3a78d45dd35f73e9",
   "outputs": [
    {
     "name": "stdout",
     "output_type": "stream",
     "text": [
      "Number of ways to form a committee with 3 men: 4.0\n",
      "Number of ways to form a committee with 3 women: 56.0\n",
      "Number of ways to form a committee with 2 women and 1 man : 112.0\n",
      "_12C_3 = 220.0\n",
      "_4C_3 = 4.0\n",
      "Number of ways to form a committee with at least 1 woman: 216.0\n"
     ]
    }
   ],
   "execution_count": 38
  },
  {
   "metadata": {
    "ExecuteTime": {
     "end_time": "2025-04-19T00:59:41.160567Z",
     "start_time": "2025-04-19T00:59:41.156926Z"
    }
   },
   "cell_type": "code",
   "source": [
    "# Example 7:\n",
    "\n",
    "\"\"\"\n",
    "\n",
    "How many ways are there of being dealt a 5 card hand out of a standard 52 card deck?\n",
    "\n",
    "\"\"\"\n"
   ],
   "id": "1fcba7991249df0d",
   "outputs": [
    {
     "data": {
      "text/plain": [
       "'\\n\\nHow many ways are there of being dealt a 5 card hand out of a standard 52 card deck?\\n\\n'"
      ]
     },
     "execution_count": 39,
     "metadata": {},
     "output_type": "execute_result"
    }
   ],
   "execution_count": 39
  },
  {
   "metadata": {
    "ExecuteTime": {
     "end_time": "2025-04-19T00:59:41.205034Z",
     "start_time": "2025-04-19T00:59:41.201418Z"
    }
   },
   "cell_type": "code",
   "source": [
    "# All 5 cards are numbered?\n",
    "\n",
    "n_cards = 52\n",
    "r_cards = 5\n",
    "n_numbered_cards = 4 * len(np.arange(2, 10 + 1, 1))\n",
    "\n",
    "_n_numbered_cardsC_5 = math.factorial(n_numbered_cards) / (\n",
    "        math.factorial(n_numbered_cards - r_cards) * math.factorial(r_cards))\n",
    "print(f\"Number of ways to deal a 5 card hand with all numbered cards: {_n_numbered_cardsC_5}\")"
   ],
   "id": "e04cd47cc1a118e9",
   "outputs": [
    {
     "name": "stdout",
     "output_type": "stream",
     "text": [
      "Number of ways to deal a 5 card hand with all numbered cards: 376992.0\n"
     ]
    }
   ],
   "execution_count": 40
  },
  {
   "metadata": {
    "ExecuteTime": {
     "end_time": "2025-04-19T00:59:41.232169Z",
     "start_time": "2025-04-19T00:59:41.228556Z"
    }
   },
   "cell_type": "code",
   "source": [
    "# Contains exactly 1 ace?\n",
    "\n",
    "_4C_1 = 4\n",
    "_n_acesC_1 = math.factorial(n_aces) / (math.factorial(n_aces - 1) * math.factorial(1))  # probability of drawing an ace\n",
    "print(f\"Number of ways to deal a 5 card hand with exactly 1 ace: {_n_acesC_1}\")\n",
    "_48C_4 = \\\n",
    "    math.factorial(n_cards - n_aces) / (math.factorial((n_cards - n_aces) - n_aces)\n",
    "                                        * math.factorial(4))  # probability of drawing 4 non-ace cards\n",
    "print(f\"Number of ways to deal a 5 card hand with exactly 4 non-ace cards: {_48C_4}\")\n",
    "\n",
    "print(f\"Number of ways to deal a 5 card hand with exactly 1 ace: {_4C_1 * _48C_4}\")"
   ],
   "id": "8af88d0b10b8758f",
   "outputs": [
    {
     "name": "stdout",
     "output_type": "stream",
     "text": [
      "Number of ways to deal a 5 card hand with exactly 1 ace: 4.0\n",
      "Number of ways to deal a 5 card hand with exactly 4 non-ace cards: 194580.0\n",
      "Number of ways to deal a 5 card hand with exactly 1 ace: 778320.0\n"
     ]
    }
   ],
   "execution_count": 41
  },
  {
   "metadata": {
    "ExecuteTime": {
     "end_time": "2025-04-19T00:59:41.271533Z",
     "start_time": "2025-04-19T00:59:41.269132Z"
    }
   },
   "cell_type": "code",
   "source": [
    "# No Aces?\n",
    "\n",
    "_48C_5 = math.factorial(n_cards - n_aces) / (math.factorial((n_cards - n_aces) - 5)\n",
    "                                             * math.factorial(5))  # probability of drawing 5 non-ace cards\n",
    "print(f\"Number of ways to deal a 5 card hand with no aces: {_48C_5}\")\n"
   ],
   "id": "4f5555bb24a0afe7",
   "outputs": [
    {
     "name": "stdout",
     "output_type": "stream",
     "text": [
      "Number of ways to deal a 5 card hand with no aces: 1712304.0\n"
     ]
    }
   ],
   "execution_count": 42
  },
  {
   "metadata": {
    "ExecuteTime": {
     "end_time": "2025-04-19T00:59:41.315160Z",
     "start_time": "2025-04-19T00:59:41.311510Z"
    }
   },
   "cell_type": "code",
   "source": [
    "# All diamonds OR all clubs?\n",
    "\n",
    "n_diamonds = 13\n",
    "n_clubs = 13\n",
    "\n",
    "_n_diamondsC_5 = math.factorial(n_diamonds) / (math.factorial(n_diamonds - 5) * math.factorial(5))\n",
    "_n_clubsC_5 = math.factorial(n_clubs) / (math.factorial(n_clubs - 5) * math.factorial(5))\n",
    "\n",
    "print(f\"Number of ways to deal a 5 card hand with all diamonds: {_n_diamondsC_5}\")\n",
    "print(f\"Number of ways to deal a 5 card hand with all clubs: {_n_clubsC_5}\")\n",
    "\n",
    "print(f\"Number of ways to deal a 5 card hand with all diamonds or all clubs: {_n_diamondsC_5 + _n_clubsC_5}\")"
   ],
   "id": "741383153bb98d48",
   "outputs": [
    {
     "name": "stdout",
     "output_type": "stream",
     "text": [
      "Number of ways to deal a 5 card hand with all diamonds: 1287.0\n",
      "Number of ways to deal a 5 card hand with all clubs: 1287.0\n",
      "Number of ways to deal a 5 card hand with all diamonds or all clubs: 2574.0\n"
     ]
    }
   ],
   "execution_count": 43
  },
  {
   "metadata": {
    "ExecuteTime": {
     "end_time": "2025-04-19T00:59:41.353379Z",
     "start_time": "2025-04-19T00:59:41.349677Z"
    }
   },
   "cell_type": "code",
   "source": [
    "# What is the probability of drawing all face cards (jack, queen, king) in a row? \n",
    "# Probability of drawing a 5 face cards in a row / probability of drawing 5 cards in total\n",
    "\n",
    "n_face_cards = 3 * 4  # There are 3 face cards of each of 4 suits\n",
    "total_cards = 52\n",
    "\n",
    "_n_face_cardsC_5 = math.factorial(n_face_cards) / (math.factorial(n_face_cards - 5) * math.factorial(5))\n",
    "\n",
    "_n_total_cardsC_5 = math.factorial(total_cards) / (math.factorial(total_cards - 5) * math.factorial(5))\n",
    "\n",
    "print(f\"Number of ways to deal a 5 card hand with all face cards: {_n_face_cardsC_5}\")\n",
    "print(f\"Number of ways to deal a 5 card hand out of 52 cards: {_n_total_cardsC_5}\")\n",
    "print(f\"Probability of drawing all 5 cards out of 52: {_n_face_cardsC_5 / _n_total_cardsC_5}\")"
   ],
   "id": "266e1b1225326f3f",
   "outputs": [
    {
     "name": "stdout",
     "output_type": "stream",
     "text": [
      "Number of ways to deal a 5 card hand with all face cards: 792.0\n",
      "Number of ways to deal a 5 card hand out of 52 cards: 2598960.0\n",
      "Probability of drawing all 5 cards out of 52: 0.0003047372795271955\n"
     ]
    }
   ],
   "execution_count": 44
  },
  {
   "metadata": {
    "ExecuteTime": {
     "end_time": "2025-04-19T00:59:41.377510Z",
     "start_time": "2025-04-19T00:59:41.374623Z"
    }
   },
   "cell_type": "code",
   "source": [
    "# Example 8:\n",
    "\n",
    "# What is the probability of being dealt at least 1 face card?\n",
    "\n",
    "n_face_cards = 3 * 4  # There are 3 face cards of each of 4 suits\n",
    "total_cards = 52\n",
    "\n",
    "_non_face_cardsC_4 = math.factorial(total_cards - n_face_cards) / (\n",
    "        math.factorial(total_cards - n_face_cards - 5) * math.factorial(5))\n",
    "print(f\"Number of ways to deal a 5 card hand with 4 non-face cards: {_non_face_cardsC_4}\")"
   ],
   "id": "ee5d2b1380a3f22a",
   "outputs": [
    {
     "name": "stdout",
     "output_type": "stream",
     "text": [
      "Number of ways to deal a 5 card hand with 4 non-face cards: 658008.0\n"
     ]
    }
   ],
   "execution_count": 45
  },
  {
   "metadata": {
    "ExecuteTime": {
     "end_time": "2025-04-19T00:59:41.416534Z",
     "start_time": "2025-04-19T00:59:41.414473Z"
    }
   },
   "cell_type": "code",
   "source": "",
   "id": "1be586e49697526d",
   "outputs": [],
   "execution_count": null
  }
 ],
 "metadata": {
  "kernelspec": {
   "display_name": "Python 3",
   "language": "python",
   "name": "python3"
  },
  "language_info": {
   "codemirror_mode": {
    "name": "ipython",
    "version": 2
   },
   "file_extension": ".py",
   "mimetype": "text/x-python",
   "name": "python",
   "nbconvert_exporter": "python",
   "pygments_lexer": "ipython2",
   "version": "2.7.6"
  }
 },
 "nbformat": 4,
 "nbformat_minor": 5
}
